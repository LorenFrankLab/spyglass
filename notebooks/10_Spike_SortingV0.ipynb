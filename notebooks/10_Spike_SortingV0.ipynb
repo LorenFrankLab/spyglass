{
 "cells": [
  {
   "cell_type": "markdown",
   "metadata": {},
   "source": [
    "# Spike Sorting\n"
   ]
  },
  {
   "cell_type": "markdown",
   "metadata": {},
   "source": [
    "## Overview\n"
   ]
  },
  {
   "cell_type": "markdown",
   "metadata": {},
   "source": [
    "_Developer Note:_ if you may make a PR in the future, be sure to copy this\n",
    "notebook, and use the `gitignore` prefix `temp` to avoid future conflicts.\n",
    "\n",
    "This is one notebook in a multi-part series on Spyglass.\n",
    "\n",
    "- To set up your Spyglass environment and database, see\n",
    "  [the Setup notebook](./00_Setup.ipynb)\n",
    "- For additional info on DataJoint syntax, including table definitions and\n",
    "  inserts, see\n",
    "  [the Insert Data notebook](./01_Insert_Data.ipynb)\n"
   ]
  },
  {
   "cell_type": "markdown",
   "metadata": {},
   "source": [
    "### [Extract the recording](#section1)<br>\n",
    "\n",
    "1. Specifying your [NWB](#Specifying-your-NWB-filename) file.<br>\n",
    "2. Specifying which electrodes involved in the recording to sort data from. - [`SortGroup`](#SortGroup)<br>\n",
    "3. Specifying the time segment of the recording we want to sort. - [`IntervalList`](#IntervalList), [`SortInterval`](#SortInterval)<br>\n",
    "4. Specifying the parameters to use for filtering the recording. - [`SpikeSortingPreprocessingParameters`](#SpikeSortingPreprocessingParameters)<br>\n",
    "5. Combining these parameters. - [`SpikeSortingRecordingSelection`](#SpikeSortingRecordingSelection)<br>\n",
    "6. Extracting the recording. - [`SpikeSortingRecording`](#SpikeSortingRecording)<br>\n",
    "7. Specifying the parameters to apply for artifact detection/removal. -[`ArtifactDetectionParameters`](#ArtifactDetectionParameters)<br>\n",
    "\n",
    "### [Spike sorting the recording](#section2)<br>\n",
    "\n",
    "1. Specify the spike sorter and parameters to use. - [`SpikeSorterParameters`](#SpikeSorterParameters)<br>\n",
    "2. Combine these parameters. - [`SpikeSortingSelection`](#SpikeSortingSelection)<br>\n",
    "3. Spike sort the extracted recording according to chose parameter set. - [`SpikeSorting`](#SpikeSorting)<br>\n",
    "\n",
    "<a href='#section1'></a>\n",
    "<a href='#section2'></a>\n"
   ]
  },
  {
   "cell_type": "markdown",
   "metadata": {},
   "source": [
    "## Imports\n",
    "\n",
    "Let's start by importing tables from Spyglass and quieting warnings caused by\n",
    "some dependencies.\n",
    "\n",
    "_Note:_ It the imports below throw a `FileNotFoundError`, make a cell with `!env | grep X` where X is part of the problematic directory. This will show the variable causing issues. Make another cell that sets this variable elsewhere with `%env VAR=\"/your/path/\"`\n"
   ]
  },
  {
   "cell_type": "code",
   "execution_count": 10,
   "metadata": {
    "tags": []
   },
   "outputs": [],
   "source": [
    "import os\n",
    "import datajoint as dj\n",
    "import numpy as np\n",
    "\n",
    "# change to the upper level folder to detect dj_local_conf.json\n",
    "if os.path.basename(os.getcwd()) == \"notebooks\":\n",
    "    os.chdir(\"..\")\n",
    "dj.config.load(\"dj_local_conf.json\")  # load config for database connection info\n",
    "\n",
    "import spyglass.common as sgc\n",
    "import spyglass.spikesorting.v0 as sgs\n",
    "from spyglass.spikesorting.spikesorting_merge import SpikeSortingOutput\n",
    "\n",
    "# ignore datajoint+jupyter async warnings\n",
    "import warnings\n",
    "\n",
    "warnings.simplefilter(\"ignore\", category=DeprecationWarning)\n",
    "warnings.simplefilter(\"ignore\", category=ResourceWarning)"
   ]
  },
  {
   "cell_type": "markdown",
   "metadata": {},
   "source": [
    "## Fetch Exercise\n"
   ]
  },
  {
   "cell_type": "markdown",
   "metadata": {},
   "source": [
    "If you haven't already done so, add yourself to `LabTeam`\n"
   ]
  },
  {
   "cell_type": "code",
   "execution_count": 6,
   "metadata": {},
   "outputs": [
    {
     "data": {
      "text/html": [
       "\n",
       "    \n",
       "    <style type=\"text/css\">\n",
       "        .Table{\n",
       "            border-collapse:collapse;\n",
       "        }\n",
       "        .Table th{\n",
       "            background: #A0A0A0; color: #ffffff; padding:4px; border:#f0e0e0 1px solid;\n",
       "            font-weight: normal; font-family: monospace; font-size: 100%;\n",
       "        }\n",
       "        .Table td{\n",
       "            padding:4px; border:#f0e0e0 1px solid; font-size:100%;\n",
       "        }\n",
       "        .Table tr:nth-child(odd){\n",
       "            background: #ffffff;\n",
       "            color: #000000;\n",
       "        }\n",
       "        .Table tr:nth-child(even){\n",
       "            background: #f3f1ff;\n",
       "            color: #000000;\n",
       "        }\n",
       "        /* Tooltip container */\n",
       "        .djtooltip {\n",
       "        }\n",
       "        /* Tooltip text */\n",
       "        .djtooltip .djtooltiptext {\n",
       "            visibility: hidden;\n",
       "            width: 120px;\n",
       "            background-color: black;\n",
       "            color: #fff;\n",
       "            text-align: center;\n",
       "            padding: 5px 0;\n",
       "            border-radius: 6px;\n",
       "            /* Position the tooltip text - see examples below! */\n",
       "            position: absolute;\n",
       "            z-index: 1;\n",
       "        }\n",
       "        #primary {\n",
       "            font-weight: bold;\n",
       "            color: black;\n",
       "        }\n",
       "        #nonprimary {\n",
       "            font-weight: normal;\n",
       "            color: white;\n",
       "        }\n",
       "\n",
       "        /* Show the tooltip text when you mouse over the tooltip container */\n",
       "        .djtooltip:hover .djtooltiptext {\n",
       "            visibility: visible;\n",
       "        }\n",
       "    </style>\n",
       "    \n",
       "    <b>Information about lab member in the context of Frank lab network</b>\n",
       "        <div style=\"max-height:1000px;max-width:1500px;overflow:auto;\">\n",
       "        <table border=\"1\" class=\"Table\">\n",
       "            <thead> <tr style=\"text-align: right;\"> <th> <div class=\"djtooltip\">\n",
       "                            <p id=\"primary\">lab_member_name</p>\n",
       "                            <span class=\"djtooltiptext\"></span>\n",
       "                        </div></th><th><div class=\"djtooltip\">\n",
       "                            <p id=\"nonprimary\">google_user_name</p>\n",
       "                            <span class=\"djtooltiptext\">For permission to curate</span>\n",
       "                        </div></th><th><div class=\"djtooltip\">\n",
       "                            <p id=\"nonprimary\">datajoint_user_name</p>\n",
       "                            <span class=\"djtooltiptext\">For permission to delete</span>\n",
       "                        </div></th><th><div class=\"djtooltip\">\n",
       "                            <p id=\"nonprimary\">admin</p>\n",
       "                            <span class=\"djtooltiptext\">Ignore permission checks</span>\n",
       "                        </div> </th> </tr> </thead>\n",
       "            <tbody> <tr> <td>FirstName LastName</td>\n",
       "<td>gmail@gmail.com</td>\n",
       "<td>user</td>\n",
       "<td>0</td> </tr> </tbody>\n",
       "        </table>\n",
       "        \n",
       "        <p>Total: 1</p></div>\n",
       "        "
      ],
      "text/plain": [
       "*lab_member_na google_user_na datajoint_user admin    \n",
       "+------------+ +------------+ +------------+ +-------+\n",
       "FirstName Last gmail@gmail.co user           0        \n",
       " (Total: 1)"
      ]
     },
     "execution_count": 6,
     "metadata": {},
     "output_type": "execute_result"
    }
   ],
   "source": [
    "# Full name, Google email address, DataJoint username, admin\n",
    "name, email, dj_user, admin = (\n",
    "    \"Firstname_spikesv0 Lastname_spikesv0\",\n",
    "    \"example_spikesv0@gmail.com\",\n",
    "    dj.config[\"database.user\"],  # use the same username as the database\n",
    "    0,\n",
    ")\n",
    "sgc.LabMember.insert_from_name(name)\n",
    "sgc.LabMember.LabMemberInfo.insert1(\n",
    "    [\n",
    "        name,\n",
    "        email,\n",
    "        dj_user,\n",
    "        admin,\n",
    "    ],\n",
    "    skip_duplicates=True,\n",
    ")\n",
    "\n",
    "# Make a lab team if doesn't already exist, otherwise insert yourself into team\n",
    "team_name = \"My Team\"\n",
    "if not sgc.LabTeam() & {\"team_name\": team_name}:\n",
    "    sgc.LabTeam().create_new_team(\n",
    "        team_name=team_name,  # Should be unique\n",
    "        team_members=[name],\n",
    "        team_description=\"test\",  # Optional\n",
    "    )\n",
    "else:\n",
    "    sgc.LabTeam.LabTeamMember().insert1(\n",
    "        {\"team_name\": team_name, \"lab_member_name\": name}, skip_duplicates=True\n",
    "    )\n",
    "\n",
    "sgc.LabMember.LabMemberInfo() & {\n",
    "    \"team_name\": \"My Team\",\n",
    "    \"lab_member_name\": \"Firstname_spikesv0 Lastname_spikesv0\",\n",
    "}"
   ]
  },
  {
   "cell_type": "markdown",
   "metadata": {},
   "source": [
    "We can try `fetch` to confirm.\n",
    "\n",
    "_Exercise:_ Try to write a fer lines to generate a dictionary with team names as\n",
    "keys and lists of members as values. It may be helpful to add more data with the\n",
    "code above and use `fetch(as_dict=True)`.\n"
   ]
  },
  {
   "cell_type": "code",
   "execution_count": 7,
   "metadata": {},
   "outputs": [
    {
     "name": "stdout",
     "output_type": "stream",
     "text": [
      "You made it in!\n"
     ]
    }
   ],
   "source": [
    "my_team_members = (\n",
    "    (sgc.LabTeam.LabTeamMember & {\"team_name\": \"My Team\"})\n",
    "    .fetch(\"lab_member_name\")\n",
    "    .tolist()\n",
    ")\n",
    "if name in my_team_members:\n",
    "    print(\"You made it in!\")"
   ]
  },
  {
   "cell_type": "markdown",
   "metadata": {},
   "source": [
    "<details>\n",
    "<summary>Code hidden here</summary>\n",
    "\n",
    "```python\n",
    "members = sgc.LabTeam.LabTeamMember.fetch(as_dict=True)\n",
    "teams_dict = {member[\"team_name\"]: [] for member in members}\n",
    "for member in members:\n",
    "    teams_dict[member[\"team_name\"]].append(member[\"lab_member_name\"])\n",
    "print(teams_dict)\n",
    "```\n",
    "</details>"
   ]
  },
  {
   "cell_type": "markdown",
   "metadata": {},
   "source": [
    "## Adding an NWB file\n"
   ]
  },
  {
   "cell_type": "markdown",
   "metadata": {},
   "source": [
    "### Import Data\n"
   ]
  },
  {
   "cell_type": "markdown",
   "metadata": {},
   "source": [
    "If you haven't already, load an NWB file. For more details on downloading and\n",
    "importing data, see [this notebook](./01_Insert_Data.ipynb).\n"
   ]
  },
  {
   "cell_type": "code",
   "execution_count": 8,
   "metadata": {},
   "outputs": [
    {
     "name": "stderr",
     "output_type": "stream",
     "text": [
      "/home/sambray/Documents/spyglass/src/spyglass/data_import/insert_sessions.py:58: UserWarning: Cannot insert data from minirec20230622.nwb: minirec20230622_.nwb is already in Nwbfile table.\n",
      "  warnings.warn(\n"
     ]
    }
   ],
   "source": [
    "import spyglass.data_import as sdi\n",
    "\n",
    "sdi.insert_sessions(\"minirec20230622.nwb\")\n",
    "nwb_file_name = \"minirec20230622_.nwb\""
   ]
  },
  {
   "cell_type": "markdown",
   "metadata": {},
   "source": [
    "### Extracting the recording\n"
   ]
  },
  {
   "cell_type": "markdown",
   "metadata": {},
   "source": [
    "#### `SortGroup`\n"
   ]
  },
  {
   "cell_type": "markdown",
   "metadata": {},
   "source": [
    "Each NWB file will have multiple electrodes we can use for spike sorting. We\n",
    "commonly use multiple electrodes in a `SortGroup` selected by what tetrode or\n",
    "shank of a probe they were on.\n",
    "\n",
    "_Note:_ This will delete any existing entries. Answer 'yes' when prompted, or skip\n",
    "running this cell to leave data in place.\n"
   ]
  },
  {
   "cell_type": "code",
   "execution_count": 12,
   "metadata": {},
   "outputs": [],
   "source": [
    "sgs.SortGroup().set_group_by_shank(nwb_file_name)"
   ]
  },
  {
   "cell_type": "markdown",
   "metadata": {},
   "source": [
    "Each electrode has an `electrode_id` and is associated with an\n",
    "`electrode_group_name`, which corresponds with a `sort_group_id`.\n",
    "\n",
    "For example, data recorded from a 32 tetrode (128 channel) drive results in 128\n",
    "unique `electrode_id`. This could result in 32 unique `electrode_group_name` and\n",
    "32 unique `sort_group_id`.\n"
   ]
  },
  {
   "cell_type": "code",
   "execution_count": 13,
   "metadata": {},
   "outputs": [
    {
     "data": {
      "text/html": [
       "\n",
       "    \n",
       "    <style type=\"text/css\">\n",
       "        .Table{\n",
       "            border-collapse:collapse;\n",
       "        }\n",
       "        .Table th{\n",
       "            background: #A0A0A0; color: #ffffff; padding:4px; border:#f0e0e0 1px solid;\n",
       "            font-weight: normal; font-family: monospace; font-size: 100%;\n",
       "        }\n",
       "        .Table td{\n",
       "            padding:4px; border:#f0e0e0 1px solid; font-size:100%;\n",
       "        }\n",
       "        .Table tr:nth-child(odd){\n",
       "            background: #ffffff;\n",
       "            color: #000000;\n",
       "        }\n",
       "        .Table tr:nth-child(even){\n",
       "            background: #f3f1ff;\n",
       "            color: #000000;\n",
       "        }\n",
       "        /* Tooltip container */\n",
       "        .djtooltip {\n",
       "        }\n",
       "        /* Tooltip text */\n",
       "        .djtooltip .djtooltiptext {\n",
       "            visibility: hidden;\n",
       "            width: 120px;\n",
       "            background-color: black;\n",
       "            color: #fff;\n",
       "            text-align: center;\n",
       "            padding: 5px 0;\n",
       "            border-radius: 6px;\n",
       "            /* Position the tooltip text - see examples below! */\n",
       "            position: absolute;\n",
       "            z-index: 1;\n",
       "        }\n",
       "        #primary {\n",
       "            font-weight: bold;\n",
       "            color: black;\n",
       "        }\n",
       "        #nonprimary {\n",
       "            font-weight: normal;\n",
       "            color: white;\n",
       "        }\n",
       "\n",
       "        /* Show the tooltip text when you mouse over the tooltip container */\n",
       "        .djtooltip:hover .djtooltiptext {\n",
       "            visibility: visible;\n",
       "        }\n",
       "    </style>\n",
       "    \n",
       "    <b></b>\n",
       "        <div style=\"max-height:1000px;max-width:1500px;overflow:auto;\">\n",
       "        <table border=\"1\" class=\"Table\">\n",
       "            <thead> <tr style=\"text-align: right;\"> <th> <div class=\"djtooltip\">\n",
       "                            <p id=\"primary\">nwb_file_name</p>\n",
       "                            <span class=\"djtooltiptext\">name of the NWB file</span>\n",
       "                        </div></th><th><div class=\"djtooltip\">\n",
       "                            <p id=\"primary\">sort_group_id</p>\n",
       "                            <span class=\"djtooltiptext\">identifier for a group of electrodes</span>\n",
       "                        </div></th><th><div class=\"djtooltip\">\n",
       "                            <p id=\"primary\">electrode_group_name</p>\n",
       "                            <span class=\"djtooltiptext\">electrode group name from NWBFile</span>\n",
       "                        </div></th><th><div class=\"djtooltip\">\n",
       "                            <p id=\"primary\">electrode_id</p>\n",
       "                            <span class=\"djtooltiptext\">the unique number for this electrode</span>\n",
       "                        </div> </th> </tr> </thead>\n",
       "            <tbody> <tr> <td>minirec20230622_.nwb</td>\n",
       "<td>0</td>\n",
       "<td>0</td>\n",
       "<td>0</td></tr><tr><td>minirec20230622_.nwb</td>\n",
       "<td>0</td>\n",
       "<td>0</td>\n",
       "<td>1</td></tr><tr><td>minirec20230622_.nwb</td>\n",
       "<td>0</td>\n",
       "<td>0</td>\n",
       "<td>2</td></tr><tr><td>minirec20230622_.nwb</td>\n",
       "<td>0</td>\n",
       "<td>0</td>\n",
       "<td>3</td></tr><tr><td>minirec20230622_.nwb</td>\n",
       "<td>1</td>\n",
       "<td>1</td>\n",
       "<td>4</td></tr><tr><td>minirec20230622_.nwb</td>\n",
       "<td>1</td>\n",
       "<td>1</td>\n",
       "<td>5</td></tr><tr><td>minirec20230622_.nwb</td>\n",
       "<td>1</td>\n",
       "<td>1</td>\n",
       "<td>6</td></tr><tr><td>minirec20230622_.nwb</td>\n",
       "<td>1</td>\n",
       "<td>1</td>\n",
       "<td>7</td></tr><tr><td>minirec20230622_.nwb</td>\n",
       "<td>10</td>\n",
       "<td>10</td>\n",
       "<td>40</td></tr><tr><td>minirec20230622_.nwb</td>\n",
       "<td>10</td>\n",
       "<td>10</td>\n",
       "<td>41</td></tr><tr><td>minirec20230622_.nwb</td>\n",
       "<td>10</td>\n",
       "<td>10</td>\n",
       "<td>42</td></tr><tr><td>minirec20230622_.nwb</td>\n",
       "<td>10</td>\n",
       "<td>10</td>\n",
       "<td>43</td> </tr> </tbody>\n",
       "        </table>\n",
       "        <p>...</p>\n",
       "        <p>Total: 128</p></div>\n",
       "        "
      ],
      "text/plain": [
       "*nwb_file_name *sort_group_id *electrode_gro *electrode_id \n",
       "+------------+ +------------+ +------------+ +------------+\n",
       "minirec2023062 0              0              0             \n",
       "minirec2023062 0              0              1             \n",
       "minirec2023062 0              0              2             \n",
       "minirec2023062 0              0              3             \n",
       "minirec2023062 1              1              4             \n",
       "minirec2023062 1              1              5             \n",
       "minirec2023062 1              1              6             \n",
       "minirec2023062 1              1              7             \n",
       "minirec2023062 10             10             40            \n",
       "minirec2023062 10             10             41            \n",
       "minirec2023062 10             10             42            \n",
       "minirec2023062 10             10             43            \n",
       "   ...\n",
       " (Total: 128)"
      ]
     },
     "execution_count": 13,
     "metadata": {},
     "output_type": "execute_result"
    }
   ],
   "source": [
    "sgs.SortGroup.SortGroupElectrode & {\"nwb_file_name\": nwb_file_name}"
   ]
  },
  {
   "cell_type": "markdown",
   "metadata": {
    "tags": []
   },
   "source": [
    "#### `IntervalList`\n",
    "\n",
    "Next, we make a decision about the time interval for our spike sorting using\n",
    "`IntervalList`.\n"
   ]
  },
  {
   "cell_type": "code",
   "execution_count": 14,
   "metadata": {
    "tags": []
   },
   "outputs": [
    {
     "data": {
      "text/html": [
       "\n",
       "    \n",
       "    <style type=\"text/css\">\n",
       "        .Table{\n",
       "            border-collapse:collapse;\n",
       "        }\n",
       "        .Table th{\n",
       "            background: #A0A0A0; color: #ffffff; padding:4px; border:#f0e0e0 1px solid;\n",
       "            font-weight: normal; font-family: monospace; font-size: 100%;\n",
       "        }\n",
       "        .Table td{\n",
       "            padding:4px; border:#f0e0e0 1px solid; font-size:100%;\n",
       "        }\n",
       "        .Table tr:nth-child(odd){\n",
       "            background: #ffffff;\n",
       "            color: #000000;\n",
       "        }\n",
       "        .Table tr:nth-child(even){\n",
       "            background: #f3f1ff;\n",
       "            color: #000000;\n",
       "        }\n",
       "        /* Tooltip container */\n",
       "        .djtooltip {\n",
       "        }\n",
       "        /* Tooltip text */\n",
       "        .djtooltip .djtooltiptext {\n",
       "            visibility: hidden;\n",
       "            width: 120px;\n",
       "            background-color: black;\n",
       "            color: #fff;\n",
       "            text-align: center;\n",
       "            padding: 5px 0;\n",
       "            border-radius: 6px;\n",
       "            /* Position the tooltip text - see examples below! */\n",
       "            position: absolute;\n",
       "            z-index: 1;\n",
       "        }\n",
       "        #primary {\n",
       "            font-weight: bold;\n",
       "            color: black;\n",
       "        }\n",
       "        #nonprimary {\n",
       "            font-weight: normal;\n",
       "            color: white;\n",
       "        }\n",
       "\n",
       "        /* Show the tooltip text when you mouse over the tooltip container */\n",
       "        .djtooltip:hover .djtooltiptext {\n",
       "            visibility: visible;\n",
       "        }\n",
       "    </style>\n",
       "    \n",
       "    <b>Time intervals used for analysis</b>\n",
       "        <div style=\"max-height:1000px;max-width:1500px;overflow:auto;\">\n",
       "        <table border=\"1\" class=\"Table\">\n",
       "            <thead> <tr style=\"text-align: right;\"> <th> <div class=\"djtooltip\">\n",
       "                            <p id=\"primary\">nwb_file_name</p>\n",
       "                            <span class=\"djtooltiptext\">name of the NWB file</span>\n",
       "                        </div></th><th><div class=\"djtooltip\">\n",
       "                            <p id=\"primary\">interval_list_name</p>\n",
       "                            <span class=\"djtooltiptext\">descriptive name of this interval list</span>\n",
       "                        </div></th><th><div class=\"djtooltip\">\n",
       "                            <p id=\"nonprimary\">valid_times</p>\n",
       "                            <span class=\"djtooltiptext\">numpy array with start/end times for each interval</span>\n",
       "                        </div></th><th><div class=\"djtooltip\">\n",
       "                            <p id=\"nonprimary\">pipeline</p>\n",
       "                            <span class=\"djtooltiptext\">type of interval list (e.g. 'position', 'spikesorting_recording_v1')</span>\n",
       "                        </div> </th> </tr> </thead>\n",
       "            <tbody> <tr> <td>minirec20230622_.nwb</td>\n",
       "<td>01_s1</td>\n",
       "<td>=BLOB=</td>\n",
       "<td></td></tr><tr><td>minirec20230622_.nwb</td>\n",
       "<td>01_s1_first9</td>\n",
       "<td>=BLOB=</td>\n",
       "<td></td></tr><tr><td>minirec20230622_.nwb</td>\n",
       "<td>01_s1_first9 lfp band 100Hz</td>\n",
       "<td>=BLOB=</td>\n",
       "<td>lfp band</td></tr><tr><td>minirec20230622_.nwb</td>\n",
       "<td>02_s2</td>\n",
       "<td>=BLOB=</td>\n",
       "<td></td></tr><tr><td>minirec20230622_.nwb</td>\n",
       "<td>lfp_test_01_s1_first9_valid times</td>\n",
       "<td>=BLOB=</td>\n",
       "<td>lfp_v1</td></tr><tr><td>minirec20230622_.nwb</td>\n",
       "<td>lfp_test_01_s1_valid times</td>\n",
       "<td>=BLOB=</td>\n",
       "<td>lfp_v1</td></tr><tr><td>minirec20230622_.nwb</td>\n",
       "<td>minirec20230622_.nwb_01_s1_first9_0_default_hippocampus</td>\n",
       "<td>=BLOB=</td>\n",
       "<td>spikesorting_recording_v0</td></tr><tr><td>minirec20230622_.nwb</td>\n",
       "<td>minirec20230622_.nwb_01_s1_first9_0_default_hippocampus_none_artifact_removed_valid_times</td>\n",
       "<td>=BLOB=</td>\n",
       "<td>spikesorting_artifact_v0</td></tr><tr><td>minirec20230622_.nwb</td>\n",
       "<td>pos 0 valid times</td>\n",
       "<td>=BLOB=</td>\n",
       "<td></td></tr><tr><td>minirec20230622_.nwb</td>\n",
       "<td>pos 1 valid times</td>\n",
       "<td>=BLOB=</td>\n",
       "<td></td></tr><tr><td>minirec20230622_.nwb</td>\n",
       "<td>raw data valid times</td>\n",
       "<td>=BLOB=</td>\n",
       "<td></td> </tr> </tbody>\n",
       "        </table>\n",
       "        \n",
       "        <p>Total: 11</p></div>\n",
       "        "
      ],
      "text/plain": [
       "*nwb_file_name *interval_list valid_time pipeline      \n",
       "+------------+ +------------+ +--------+ +------------+\n",
       "minirec2023062 01_s1          =BLOB=                   \n",
       "minirec2023062 01_s1_first9   =BLOB=                   \n",
       "minirec2023062 01_s1_first9 l =BLOB=     lfp band      \n",
       "minirec2023062 02_s2          =BLOB=                   \n",
       "minirec2023062 lfp_test_01_s1 =BLOB=     lfp_v1        \n",
       "minirec2023062 lfp_test_01_s1 =BLOB=     lfp_v1        \n",
       "minirec2023062 minirec2023062 =BLOB=     spikesorting_r\n",
       "minirec2023062 minirec2023062 =BLOB=     spikesorting_a\n",
       "minirec2023062 pos 0 valid ti =BLOB=                   \n",
       "minirec2023062 pos 1 valid ti =BLOB=                   \n",
       "minirec2023062 raw data valid =BLOB=                   \n",
       " (Total: 11)"
      ]
     },
     "execution_count": 14,
     "metadata": {},
     "output_type": "execute_result"
    }
   ],
   "source": [
    "sgc.IntervalList & {\"nwb_file_name\": nwb_file_name}"
   ]
  },
  {
   "cell_type": "markdown",
   "metadata": {},
   "source": [
    "Let's start with the first run interval (`01_s1`) and fetch corresponding `valid_times`. For the `minirec` example, this is relatively short.\n"
   ]
  },
  {
   "cell_type": "code",
   "execution_count": 15,
   "metadata": {},
   "outputs": [
    {
     "name": "stdout",
     "output_type": "stream",
     "text": [
      "This interval list is 10 seconds long\n"
     ]
    }
   ],
   "source": [
    "interval_list_name = \"01_s1\"\n",
    "interval_list = (\n",
    "    sgc.IntervalList\n",
    "    & {\"nwb_file_name\": nwb_file_name, \"interval_list_name\": interval_list_name}\n",
    ").fetch1(\"valid_times\")[0]\n",
    "\n",
    "\n",
    "def print_interval_duration(interval_list: np.ndarray):\n",
    "    duration = np.round((interval_list[1] - interval_list[0]))\n",
    "    print(f\"This interval list is {duration:g} seconds long\")\n",
    "\n",
    "\n",
    "print_interval_duration(interval_list)"
   ]
  },
  {
   "cell_type": "markdown",
   "metadata": {},
   "source": [
    "#### `SortInterval`\n",
    "\n",
    "For longer recordings, Spyglass subsets this interval with `SortInterval`.\n",
    "Below, we select the first `n` seconds of this interval.\n"
   ]
  },
  {
   "cell_type": "code",
   "execution_count": 16,
   "metadata": {},
   "outputs": [],
   "source": [
    "n = 9\n",
    "sort_interval_name = interval_list_name + f\"_first{n}\"\n",
    "sort_interval = np.array([interval_list[0], interval_list[0] + n])"
   ]
  },
  {
   "cell_type": "markdown",
   "metadata": {},
   "source": [
    "With the above, we can insert into `SortInterval`\n"
   ]
  },
  {
   "cell_type": "code",
   "execution_count": 17,
   "metadata": {},
   "outputs": [],
   "source": [
    "sgs.SortInterval.insert1(\n",
    "    {\n",
    "        \"nwb_file_name\": nwb_file_name,\n",
    "        \"sort_interval_name\": sort_interval_name,\n",
    "        \"sort_interval\": sort_interval,\n",
    "    },\n",
    "    skip_duplicates=True,\n",
    ")"
   ]
  },
  {
   "cell_type": "markdown",
   "metadata": {},
   "source": [
    "And verify the entry\n"
   ]
  },
  {
   "cell_type": "code",
   "execution_count": 18,
   "metadata": {},
   "outputs": [
    {
     "name": "stdout",
     "output_type": "stream",
     "text": [
      "This interval list is 9 seconds long\n"
     ]
    }
   ],
   "source": [
    "print_interval_duration(\n",
    "    (\n",
    "        sgs.SortInterval\n",
    "        & {\n",
    "            \"nwb_file_name\": nwb_file_name,\n",
    "            \"sort_interval_name\": sort_interval_name,\n",
    "        }\n",
    "    ).fetch1(\"sort_interval\")\n",
    ")"
   ]
  },
  {
   "cell_type": "markdown",
   "metadata": {},
   "source": [
    "## Preprocessing Parameters\n"
   ]
  },
  {
   "cell_type": "markdown",
   "metadata": {},
   "source": [
    "`SpikeSortingPreprocessingParameters` contains the parameters used to filter the\n",
    "recorded data in the spike band prior to sorting.\n"
   ]
  },
  {
   "cell_type": "code",
   "execution_count": 19,
   "metadata": {},
   "outputs": [
    {
     "data": {
      "text/html": [
       "\n",
       "    \n",
       "    <style type=\"text/css\">\n",
       "        .Table{\n",
       "            border-collapse:collapse;\n",
       "        }\n",
       "        .Table th{\n",
       "            background: #A0A0A0; color: #ffffff; padding:4px; border:#f0e0e0 1px solid;\n",
       "            font-weight: normal; font-family: monospace; font-size: 100%;\n",
       "        }\n",
       "        .Table td{\n",
       "            padding:4px; border:#f0e0e0 1px solid; font-size:100%;\n",
       "        }\n",
       "        .Table tr:nth-child(odd){\n",
       "            background: #ffffff;\n",
       "            color: #000000;\n",
       "        }\n",
       "        .Table tr:nth-child(even){\n",
       "            background: #f3f1ff;\n",
       "            color: #000000;\n",
       "        }\n",
       "        /* Tooltip container */\n",
       "        .djtooltip {\n",
       "        }\n",
       "        /* Tooltip text */\n",
       "        .djtooltip .djtooltiptext {\n",
       "            visibility: hidden;\n",
       "            width: 120px;\n",
       "            background-color: black;\n",
       "            color: #fff;\n",
       "            text-align: center;\n",
       "            padding: 5px 0;\n",
       "            border-radius: 6px;\n",
       "            /* Position the tooltip text - see examples below! */\n",
       "            position: absolute;\n",
       "            z-index: 1;\n",
       "        }\n",
       "        #primary {\n",
       "            font-weight: bold;\n",
       "            color: black;\n",
       "        }\n",
       "        #nonprimary {\n",
       "            font-weight: normal;\n",
       "            color: white;\n",
       "        }\n",
       "\n",
       "        /* Show the tooltip text when you mouse over the tooltip container */\n",
       "        .djtooltip:hover .djtooltiptext {\n",
       "            visibility: visible;\n",
       "        }\n",
       "    </style>\n",
       "    \n",
       "    <b></b>\n",
       "        <div style=\"max-height:1000px;max-width:1500px;overflow:auto;\">\n",
       "        <table border=\"1\" class=\"Table\">\n",
       "            <thead> <tr style=\"text-align: right;\"> <th> <div class=\"djtooltip\">\n",
       "                            <p id=\"primary\">preproc_params_name</p>\n",
       "                            <span class=\"djtooltiptext\"></span>\n",
       "                        </div></th><th><div class=\"djtooltip\">\n",
       "                            <p id=\"nonprimary\">preproc_params</p>\n",
       "                            <span class=\"djtooltiptext\"></span>\n",
       "                        </div> </th> </tr> </thead>\n",
       "            <tbody> <tr> <td>default</td>\n",
       "<td>=BLOB=</td></tr><tr><td>default_hippocampus</td>\n",
       "<td>=BLOB=</td></tr><tr><td>default_min_seg</td>\n",
       "<td>=BLOB=</td></tr><tr><td>franklab_default_hippocampus</td>\n",
       "<td>=BLOB=</td></tr><tr><td>franklab_default_hippocampus_min_segment_length</td>\n",
       "<td>=BLOB=</td></tr><tr><td>franklab_tetrode_hippocampus</td>\n",
       "<td>=BLOB=</td></tr><tr><td>franklab_tetrode_hippocampus_min_seg</td>\n",
       "<td>=BLOB=</td></tr><tr><td>lf_test</td>\n",
       "<td>=BLOB=</td> </tr> </tbody>\n",
       "        </table>\n",
       "        \n",
       "        <p>Total: 8</p></div>\n",
       "        "
      ],
      "text/plain": [
       "*preproc_param preproc_pa\n",
       "+------------+ +--------+\n",
       "default        =BLOB=    \n",
       "default_hippoc =BLOB=    \n",
       "default_min_se =BLOB=    \n",
       "franklab_defau =BLOB=    \n",
       "franklab_defau =BLOB=    \n",
       "franklab_tetro =BLOB=    \n",
       "franklab_tetro =BLOB=    \n",
       "lf_test        =BLOB=    \n",
       " (Total: 8)"
      ]
     },
     "execution_count": 19,
     "metadata": {},
     "output_type": "execute_result"
    }
   ],
   "source": [
    "sgs.SpikeSortingPreprocessingParameters()"
   ]
  },
  {
   "cell_type": "markdown",
   "metadata": {},
   "source": [
    "Here, we insert the default parameters and then fetch them.\n"
   ]
  },
  {
   "cell_type": "code",
   "execution_count": 20,
   "metadata": {},
   "outputs": [
    {
     "name": "stdout",
     "output_type": "stream",
     "text": [
      "{'frequency_min': 300, 'frequency_max': 6000, 'margin_ms': 5, 'seed': 0}\n"
     ]
    }
   ],
   "source": [
    "sgs.SpikeSortingPreprocessingParameters().insert_default()\n",
    "preproc_params = (\n",
    "    sgs.SpikeSortingPreprocessingParameters()\n",
    "    & {\"preproc_params_name\": \"default\"}\n",
    ").fetch1(\"preproc_params\")\n",
    "print(preproc_params)"
   ]
  },
  {
   "cell_type": "markdown",
   "metadata": {},
   "source": [
    "Let's adjust the `frequency_min` to 600, the preference for hippocampal data,\n",
    "and insert that into the table as a new set of parameters for hippocampal data.\n"
   ]
  },
  {
   "cell_type": "code",
   "execution_count": 21,
   "metadata": {},
   "outputs": [],
   "source": [
    "preproc_params[\"frequency_min\"] = 600\n",
    "sgs.SpikeSortingPreprocessingParameters().insert1(\n",
    "    {\n",
    "        \"preproc_params_name\": \"default_hippocampus\",\n",
    "        \"preproc_params\": preproc_params,\n",
    "    },\n",
    "    skip_duplicates=True,\n",
    ")"
   ]
  },
  {
   "cell_type": "markdown",
   "metadata": {},
   "source": [
    "## Processing a key\n",
    "\n",
    "_key_ is often used to describe an entry we want to move through the pipeline,\n",
    "and keys are often managed as dictionaries. Here, we'll manage the spike sort\n",
    "recording key, `ssr_key`.\n"
   ]
  },
  {
   "cell_type": "code",
   "execution_count": 22,
   "metadata": {},
   "outputs": [
    {
     "data": {
      "text/plain": [
       "'01_s1'"
      ]
     },
     "execution_count": 22,
     "metadata": {},
     "output_type": "execute_result"
    }
   ],
   "source": [
    "interval_list_name"
   ]
  },
  {
   "cell_type": "code",
   "execution_count": 23,
   "metadata": {},
   "outputs": [],
   "source": [
    "ssr_key = dict(\n",
    "    nwb_file_name=nwb_file_name,\n",
    "    sort_group_id=0,  # See SortGroup\n",
    "    sort_interval_name=sort_interval_name,  # First N seconds above\n",
    "    preproc_params_name=\"default_hippocampus\",  # See preproc_params\n",
    "    interval_list_name=interval_list_name,\n",
    "    team_name=\"My Team\",\n",
    ")"
   ]
  },
  {
   "cell_type": "markdown",
   "metadata": {},
   "source": [
    "### Recording Selection\n",
    "\n",
    "We now insert this key `SpikeSortingRecordingSelection` table to specify what\n",
    "time/tetrode/etc. of the recording we want to extract.\n"
   ]
  },
  {
   "cell_type": "code",
   "execution_count": 24,
   "metadata": {},
   "outputs": [
    {
     "data": {
      "text/html": [
       "\n",
       "    \n",
       "    <style type=\"text/css\">\n",
       "        .Table{\n",
       "            border-collapse:collapse;\n",
       "        }\n",
       "        .Table th{\n",
       "            background: #A0A0A0; color: #ffffff; padding:4px; border:#f0e0e0 1px solid;\n",
       "            font-weight: normal; font-family: monospace; font-size: 100%;\n",
       "        }\n",
       "        .Table td{\n",
       "            padding:4px; border:#f0e0e0 1px solid; font-size:100%;\n",
       "        }\n",
       "        .Table tr:nth-child(odd){\n",
       "            background: #ffffff;\n",
       "            color: #000000;\n",
       "        }\n",
       "        .Table tr:nth-child(even){\n",
       "            background: #f3f1ff;\n",
       "            color: #000000;\n",
       "        }\n",
       "        /* Tooltip container */\n",
       "        .djtooltip {\n",
       "        }\n",
       "        /* Tooltip text */\n",
       "        .djtooltip .djtooltiptext {\n",
       "            visibility: hidden;\n",
       "            width: 120px;\n",
       "            background-color: black;\n",
       "            color: #fff;\n",
       "            text-align: center;\n",
       "            padding: 5px 0;\n",
       "            border-radius: 6px;\n",
       "            /* Position the tooltip text - see examples below! */\n",
       "            position: absolute;\n",
       "            z-index: 1;\n",
       "        }\n",
       "        #primary {\n",
       "            font-weight: bold;\n",
       "            color: black;\n",
       "        }\n",
       "        #nonprimary {\n",
       "            font-weight: normal;\n",
       "            color: white;\n",
       "        }\n",
       "\n",
       "        /* Show the tooltip text when you mouse over the tooltip container */\n",
       "        .djtooltip:hover .djtooltiptext {\n",
       "            visibility: visible;\n",
       "        }\n",
       "    </style>\n",
       "    \n",
       "    <b>Defines recordings to be sorted</b>\n",
       "        <div style=\"max-height:1000px;max-width:1500px;overflow:auto;\">\n",
       "        <table border=\"1\" class=\"Table\">\n",
       "            <thead> <tr style=\"text-align: right;\"> <th> <div class=\"djtooltip\">\n",
       "                            <p id=\"primary\">nwb_file_name</p>\n",
       "                            <span class=\"djtooltiptext\">name of the NWB file</span>\n",
       "                        </div></th><th><div class=\"djtooltip\">\n",
       "                            <p id=\"primary\">sort_group_id</p>\n",
       "                            <span class=\"djtooltiptext\">identifier for a group of electrodes</span>\n",
       "                        </div></th><th><div class=\"djtooltip\">\n",
       "                            <p id=\"primary\">sort_interval_name</p>\n",
       "                            <span class=\"djtooltiptext\">name for this interval</span>\n",
       "                        </div></th><th><div class=\"djtooltip\">\n",
       "                            <p id=\"primary\">preproc_params_name</p>\n",
       "                            <span class=\"djtooltiptext\"></span>\n",
       "                        </div></th><th><div class=\"djtooltip\">\n",
       "                            <p id=\"primary\">team_name</p>\n",
       "                            <span class=\"djtooltiptext\"></span>\n",
       "                        </div></th><th><div class=\"djtooltip\">\n",
       "                            <p id=\"nonprimary\">interval_list_name</p>\n",
       "                            <span class=\"djtooltiptext\">descriptive name of this interval list</span>\n",
       "                        </div> </th> </tr> </thead>\n",
       "            <tbody> <tr> <td>minirec20230622_.nwb</td>\n",
       "<td>0</td>\n",
       "<td>01_s1_first9</td>\n",
       "<td>default_hippocampus</td>\n",
       "<td>My Team</td>\n",
       "<td>01_s1</td> </tr> </tbody>\n",
       "        </table>\n",
       "        \n",
       "        <p>Total: 1</p></div>\n",
       "        "
      ],
      "text/plain": [
       "*nwb_file_name *sort_group_id *sort_interval *preproc_param *team_name    interval_list_\n",
       "+------------+ +------------+ +------------+ +------------+ +-----------+ +------------+\n",
       "minirec2023062 0              01_s1_first9   default_hippoc My Team       01_s1         \n",
       " (Total: 1)"
      ]
     },
     "execution_count": 24,
     "metadata": {},
     "output_type": "execute_result"
    }
   ],
   "source": [
    "sgs.SpikeSortingRecordingSelection.insert1(ssr_key, skip_duplicates=True)\n",
    "sgs.SpikeSortingRecordingSelection() & ssr_key"
   ]
  },
  {
   "cell_type": "markdown",
   "metadata": {},
   "source": [
    "### `SpikeSortingRecording`\n",
    "\n",
    "And now we're ready to extract the recording! The\n",
    "[`populate` command](https://datajoint.com/docs/core/datajoint-python/0.14/compute/populate/)\n",
    "will automatically process data in Computed or Imported\n",
    "[table tiers](https://datajoint.com/docs/core/datajoint-python/0.14/design/tables/tiers/).\n",
    "\n",
    "If we only want to process certain entries, we can grab their primary key with\n",
    "the [`.proj()` command](https://datajoint.com/docs/core/datajoint-python/0.14/query/project/)\n",
    "and use a list of primary keys when calling `populate`.\n"
   ]
  },
  {
   "cell_type": "code",
   "execution_count": 25,
   "metadata": {},
   "outputs": [],
   "source": [
    "ssr_pk = (sgs.SpikeSortingRecordingSelection & ssr_key).proj()\n",
    "sgs.SpikeSortingRecording.populate([ssr_pk])"
   ]
  },
  {
   "cell_type": "markdown",
   "metadata": {},
   "source": [
    "Now we can see our recording in the table. _E x c i t i n g !_\n"
   ]
  },
  {
   "cell_type": "code",
   "execution_count": 26,
   "metadata": {},
   "outputs": [
    {
     "data": {
      "text/html": [
       "\n",
       "    \n",
       "    <style type=\"text/css\">\n",
       "        .Table{\n",
       "            border-collapse:collapse;\n",
       "        }\n",
       "        .Table th{\n",
       "            background: #A0A0A0; color: #ffffff; padding:4px; border:#f0e0e0 1px solid;\n",
       "            font-weight: normal; font-family: monospace; font-size: 100%;\n",
       "        }\n",
       "        .Table td{\n",
       "            padding:4px; border:#f0e0e0 1px solid; font-size:100%;\n",
       "        }\n",
       "        .Table tr:nth-child(odd){\n",
       "            background: #ffffff;\n",
       "            color: #000000;\n",
       "        }\n",
       "        .Table tr:nth-child(even){\n",
       "            background: #f3f1ff;\n",
       "            color: #000000;\n",
       "        }\n",
       "        /* Tooltip container */\n",
       "        .djtooltip {\n",
       "        }\n",
       "        /* Tooltip text */\n",
       "        .djtooltip .djtooltiptext {\n",
       "            visibility: hidden;\n",
       "            width: 120px;\n",
       "            background-color: black;\n",
       "            color: #fff;\n",
       "            text-align: center;\n",
       "            padding: 5px 0;\n",
       "            border-radius: 6px;\n",
       "            /* Position the tooltip text - see examples below! */\n",
       "            position: absolute;\n",
       "            z-index: 1;\n",
       "        }\n",
       "        #primary {\n",
       "            font-weight: bold;\n",
       "            color: black;\n",
       "        }\n",
       "        #nonprimary {\n",
       "            font-weight: normal;\n",
       "            color: white;\n",
       "        }\n",
       "\n",
       "        /* Show the tooltip text when you mouse over the tooltip container */\n",
       "        .djtooltip:hover .djtooltiptext {\n",
       "            visibility: visible;\n",
       "        }\n",
       "    </style>\n",
       "    \n",
       "    <b></b>\n",
       "        <div style=\"max-height:1000px;max-width:1500px;overflow:auto;\">\n",
       "        <table border=\"1\" class=\"Table\">\n",
       "            <thead> <tr style=\"text-align: right;\"> <th> <div class=\"djtooltip\">\n",
       "                            <p id=\"primary\">nwb_file_name</p>\n",
       "                            <span class=\"djtooltiptext\">name of the NWB file</span>\n",
       "                        </div></th><th><div class=\"djtooltip\">\n",
       "                            <p id=\"primary\">sort_group_id</p>\n",
       "                            <span class=\"djtooltiptext\">identifier for a group of electrodes</span>\n",
       "                        </div></th><th><div class=\"djtooltip\">\n",
       "                            <p id=\"primary\">sort_interval_name</p>\n",
       "                            <span class=\"djtooltiptext\">name for this interval</span>\n",
       "                        </div></th><th><div class=\"djtooltip\">\n",
       "                            <p id=\"primary\">preproc_params_name</p>\n",
       "                            <span class=\"djtooltiptext\"></span>\n",
       "                        </div></th><th><div class=\"djtooltip\">\n",
       "                            <p id=\"primary\">team_name</p>\n",
       "                            <span class=\"djtooltiptext\"></span>\n",
       "                        </div></th><th><div class=\"djtooltip\">\n",
       "                            <p id=\"nonprimary\">recording_path</p>\n",
       "                            <span class=\"djtooltiptext\"></span>\n",
       "                        </div></th><th><div class=\"djtooltip\">\n",
       "                            <p id=\"nonprimary\">sort_interval_list_name</p>\n",
       "                            <span class=\"djtooltiptext\">descriptive name of this interval list</span>\n",
       "                        </div> </th> </tr> </thead>\n",
       "            <tbody> <tr> <td>minirec20230622_.nwb</td>\n",
       "<td>0</td>\n",
       "<td>01_s1_first9</td>\n",
       "<td>default_hippocampus</td>\n",
       "<td>My Team</td>\n",
       "<td>/stelmo/nwb/recording/minirec20230622_.nwb_01_s1_first9_0_default_hippocampus</td>\n",
       "<td>minirec20230622_.nwb_01_s1_first9_0_default_hippocampus</td> </tr> </tbody>\n",
       "        </table>\n",
       "        \n",
       "        <p>Total: 1</p></div>\n",
       "        "
      ],
      "text/plain": [
       "*nwb_file_name *sort_group_id *sort_interval *preproc_param *team_name    recording_path sort_interval_\n",
       "+------------+ +------------+ +------------+ +------------+ +-----------+ +------------+ +------------+\n",
       "minirec2023062 0              01_s1_first9   default_hippoc My Team       /stelmo/nwb/re minirec2023062\n",
       " (Total: 1)"
      ]
     },
     "execution_count": 26,
     "metadata": {},
     "output_type": "execute_result"
    }
   ],
   "source": [
    "sgs.SpikeSortingRecording() & ssr_key"
   ]
  },
  {
   "cell_type": "markdown",
   "metadata": {},
   "source": [
    "## Artifact Detection\n",
    "\n",
    "`ArtifactDetectionParameters` establishes the parameters for removing artifacts\n",
    "from the data. We may want to target artifact signal that is within the\n",
    "frequency band of our filter (600Hz-6KHz), and thus will not get removed by\n",
    "filtering.\n",
    "\n",
    "For this demo, we'll use a parameter set to skip this step.\n"
   ]
  },
  {
   "cell_type": "code",
   "execution_count": 27,
   "metadata": {},
   "outputs": [],
   "source": [
    "sgs.ArtifactDetectionParameters().insert_default()\n",
    "artifact_key = (sgs.SpikeSortingRecording() & ssr_key).fetch1(\"KEY\")\n",
    "artifact_key[\"artifact_params_name\"] = \"none\""
   ]
  },
  {
   "cell_type": "markdown",
   "metadata": {},
   "source": [
    "We then pair artifact detection parameters in `ArtifactParameters` with a\n",
    "recording extracted through population of `SpikeSortingRecording` and insert\n",
    "into `ArtifactDetectionSelection`.\n"
   ]
  },
  {
   "cell_type": "code",
   "execution_count": 29,
   "metadata": {},
   "outputs": [
    {
     "data": {
      "text/html": [
       "\n",
       "    \n",
       "    <style type=\"text/css\">\n",
       "        .Table{\n",
       "            border-collapse:collapse;\n",
       "        }\n",
       "        .Table th{\n",
       "            background: #A0A0A0; color: #ffffff; padding:4px; border:#f0e0e0 1px solid;\n",
       "            font-weight: normal; font-family: monospace; font-size: 100%;\n",
       "        }\n",
       "        .Table td{\n",
       "            padding:4px; border:#f0e0e0 1px solid; font-size:100%;\n",
       "        }\n",
       "        .Table tr:nth-child(odd){\n",
       "            background: #ffffff;\n",
       "            color: #000000;\n",
       "        }\n",
       "        .Table tr:nth-child(even){\n",
       "            background: #f3f1ff;\n",
       "            color: #000000;\n",
       "        }\n",
       "        /* Tooltip container */\n",
       "        .djtooltip {\n",
       "        }\n",
       "        /* Tooltip text */\n",
       "        .djtooltip .djtooltiptext {\n",
       "            visibility: hidden;\n",
       "            width: 120px;\n",
       "            background-color: black;\n",
       "            color: #fff;\n",
       "            text-align: center;\n",
       "            padding: 5px 0;\n",
       "            border-radius: 6px;\n",
       "            /* Position the tooltip text - see examples below! */\n",
       "            position: absolute;\n",
       "            z-index: 1;\n",
       "        }\n",
       "        #primary {\n",
       "            font-weight: bold;\n",
       "            color: black;\n",
       "        }\n",
       "        #nonprimary {\n",
       "            font-weight: normal;\n",
       "            color: white;\n",
       "        }\n",
       "\n",
       "        /* Show the tooltip text when you mouse over the tooltip container */\n",
       "        .djtooltip:hover .djtooltiptext {\n",
       "            visibility: visible;\n",
       "        }\n",
       "    </style>\n",
       "    \n",
       "    <b>Specifies artifact detection parameters to apply to a sort group's recording.</b>\n",
       "        <div style=\"max-height:1000px;max-width:1500px;overflow:auto;\">\n",
       "        <table border=\"1\" class=\"Table\">\n",
       "            <thead> <tr style=\"text-align: right;\"> <th> <div class=\"djtooltip\">\n",
       "                            <p id=\"primary\">nwb_file_name</p>\n",
       "                            <span class=\"djtooltiptext\">name of the NWB file</span>\n",
       "                        </div></th><th><div class=\"djtooltip\">\n",
       "                            <p id=\"primary\">sort_group_id</p>\n",
       "                            <span class=\"djtooltiptext\">identifier for a group of electrodes</span>\n",
       "                        </div></th><th><div class=\"djtooltip\">\n",
       "                            <p id=\"primary\">sort_interval_name</p>\n",
       "                            <span class=\"djtooltiptext\">name for this interval</span>\n",
       "                        </div></th><th><div class=\"djtooltip\">\n",
       "                            <p id=\"primary\">preproc_params_name</p>\n",
       "                            <span class=\"djtooltiptext\"></span>\n",
       "                        </div></th><th><div class=\"djtooltip\">\n",
       "                            <p id=\"primary\">team_name</p>\n",
       "                            <span class=\"djtooltiptext\"></span>\n",
       "                        </div></th><th><div class=\"djtooltip\">\n",
       "                            <p id=\"primary\">artifact_params_name</p>\n",
       "                            <span class=\"djtooltiptext\"></span>\n",
       "                        </div></th><th><div class=\"djtooltip\">\n",
       "                            <p id=\"nonprimary\">custom_artifact_detection</p>\n",
       "                            <span class=\"djtooltiptext\"></span>\n",
       "                        </div> </th> </tr> </thead>\n",
       "            <tbody> <tr> <td>minirec20230622_.nwb</td>\n",
       "<td>0</td>\n",
       "<td>01_s1_first9</td>\n",
       "<td>default_hippocampus</td>\n",
       "<td>My Team</td>\n",
       "<td>none</td>\n",
       "<td>0</td> </tr> </tbody>\n",
       "        </table>\n",
       "        \n",
       "        <p>Total: 1</p></div>\n",
       "        "
      ],
      "text/plain": [
       "*nwb_file_name *sort_group_id *sort_interval *preproc_param *team_name    *artifact_para custom_artifac\n",
       "+------------+ +------------+ +------------+ +------------+ +-----------+ +------------+ +------------+\n",
       "minirec2023062 0              01_s1_first9   default_hippoc My Team       none           0             \n",
       " (Total: 1)"
      ]
     },
     "execution_count": 29,
     "metadata": {},
     "output_type": "execute_result"
    }
   ],
   "source": [
    "sgs.ArtifactDetectionSelection().insert1(artifact_key, skip_duplicates=True)\n",
    "sgs.ArtifactDetectionSelection() & artifact_key"
   ]
  },
  {
   "cell_type": "markdown",
   "metadata": {},
   "source": [
    "Then, we can populate `ArtifactDetection`, which will find periods where there\n",
    "are artifacts, as specified by the parameters.\n"
   ]
  },
  {
   "cell_type": "code",
   "execution_count": 30,
   "metadata": {},
   "outputs": [],
   "source": [
    "sgs.ArtifactDetection.populate(artifact_key)"
   ]
  },
  {
   "cell_type": "markdown",
   "metadata": {},
   "source": [
    "Populating `ArtifactDetection` also inserts an entry into `ArtifactRemovedIntervalList`, which stores the interval without detected artifacts.\n"
   ]
  },
  {
   "cell_type": "code",
   "execution_count": 31,
   "metadata": {},
   "outputs": [
    {
     "data": {
      "text/html": [
       "\n",
       "    \n",
       "    <style type=\"text/css\">\n",
       "        .Table{\n",
       "            border-collapse:collapse;\n",
       "        }\n",
       "        .Table th{\n",
       "            background: #A0A0A0; color: #ffffff; padding:4px; border:#f0e0e0 1px solid;\n",
       "            font-weight: normal; font-family: monospace; font-size: 100%;\n",
       "        }\n",
       "        .Table td{\n",
       "            padding:4px; border:#f0e0e0 1px solid; font-size:100%;\n",
       "        }\n",
       "        .Table tr:nth-child(odd){\n",
       "            background: #ffffff;\n",
       "            color: #000000;\n",
       "        }\n",
       "        .Table tr:nth-child(even){\n",
       "            background: #f3f1ff;\n",
       "            color: #000000;\n",
       "        }\n",
       "        /* Tooltip container */\n",
       "        .djtooltip {\n",
       "        }\n",
       "        /* Tooltip text */\n",
       "        .djtooltip .djtooltiptext {\n",
       "            visibility: hidden;\n",
       "            width: 120px;\n",
       "            background-color: black;\n",
       "            color: #fff;\n",
       "            text-align: center;\n",
       "            padding: 5px 0;\n",
       "            border-radius: 6px;\n",
       "            /* Position the tooltip text - see examples below! */\n",
       "            position: absolute;\n",
       "            z-index: 1;\n",
       "        }\n",
       "        #primary {\n",
       "            font-weight: bold;\n",
       "            color: black;\n",
       "        }\n",
       "        #nonprimary {\n",
       "            font-weight: normal;\n",
       "            color: white;\n",
       "        }\n",
       "\n",
       "        /* Show the tooltip text when you mouse over the tooltip container */\n",
       "        .djtooltip:hover .djtooltiptext {\n",
       "            visibility: visible;\n",
       "        }\n",
       "    </style>\n",
       "    \n",
       "    <b>Stores intervals without detected artifacts.</b>\n",
       "        <div style=\"max-height:1000px;max-width:1500px;overflow:auto;\">\n",
       "        <table border=\"1\" class=\"Table\">\n",
       "            <thead> <tr style=\"text-align: right;\"> <th> <div class=\"djtooltip\">\n",
       "                            <p id=\"primary\">artifact_removed_interval_list_name</p>\n",
       "                            <span class=\"djtooltiptext\"></span>\n",
       "                        </div></th><th><div class=\"djtooltip\">\n",
       "                            <p id=\"nonprimary\">nwb_file_name</p>\n",
       "                            <span class=\"djtooltiptext\">name of the NWB file</span>\n",
       "                        </div></th><th><div class=\"djtooltip\">\n",
       "                            <p id=\"nonprimary\">sort_group_id</p>\n",
       "                            <span class=\"djtooltiptext\">identifier for a group of electrodes</span>\n",
       "                        </div></th><th><div class=\"djtooltip\">\n",
       "                            <p id=\"nonprimary\">sort_interval_name</p>\n",
       "                            <span class=\"djtooltiptext\">name for this interval</span>\n",
       "                        </div></th><th><div class=\"djtooltip\">\n",
       "                            <p id=\"nonprimary\">preproc_params_name</p>\n",
       "                            <span class=\"djtooltiptext\"></span>\n",
       "                        </div></th><th><div class=\"djtooltip\">\n",
       "                            <p id=\"nonprimary\">team_name</p>\n",
       "                            <span class=\"djtooltiptext\"></span>\n",
       "                        </div></th><th><div class=\"djtooltip\">\n",
       "                            <p id=\"nonprimary\">artifact_params_name</p>\n",
       "                            <span class=\"djtooltiptext\"></span>\n",
       "                        </div></th><th><div class=\"djtooltip\">\n",
       "                            <p id=\"nonprimary\">artifact_removed_valid_times</p>\n",
       "                            <span class=\"djtooltiptext\"></span>\n",
       "                        </div></th><th><div class=\"djtooltip\">\n",
       "                            <p id=\"nonprimary\">artifact_times</p>\n",
       "                            <span class=\"djtooltiptext\">np array of artifact intervals</span>\n",
       "                        </div> </th> </tr> </thead>\n",
       "            <tbody> <tr> <td>minirec20230622_.nwb_01_s1_first9_0_default_hippocampus_none_artifact_removed_valid_times</td>\n",
       "<td>minirec20230622_.nwb</td>\n",
       "<td>0</td>\n",
       "<td>01_s1_first9</td>\n",
       "<td>default_hippocampus</td>\n",
       "<td>My Team</td>\n",
       "<td>none</td>\n",
       "<td>=BLOB=</td>\n",
       "<td>=BLOB=</td> </tr> </tbody>\n",
       "        </table>\n",
       "        \n",
       "        <p>Total: 1</p></div>\n",
       "        "
      ],
      "text/plain": [
       "*artifact_remo nwb_file_name  sort_group_id  sort_interval_ preproc_params team_name     artifact_param artifact_r artifact_t\n",
       "+------------+ +------------+ +------------+ +------------+ +------------+ +-----------+ +------------+ +--------+ +--------+\n",
       "minirec2023062 minirec2023062 0              01_s1_first9   default_hippoc My Team       none           =BLOB=     =BLOB=    \n",
       " (Total: 1)"
      ]
     },
     "execution_count": 31,
     "metadata": {},
     "output_type": "execute_result"
    }
   ],
   "source": [
    "sgs.ArtifactRemovedIntervalList() & artifact_key"
   ]
  },
  {
   "cell_type": "markdown",
   "metadata": {},
   "source": [
    "## Spike sorting\n"
   ]
  },
  {
   "cell_type": "markdown",
   "metadata": {},
   "source": [
    "### `SpikeSorterParameters`\n",
    "\n",
    "For our example, we will be using `mountainsort4`. There are already some default parameters in the `SpikeSorterParameters` table we'll `fetch`.\n"
   ]
  },
  {
   "cell_type": "code",
   "execution_count": 32,
   "metadata": {},
   "outputs": [
    {
     "name": "stdout",
     "output_type": "stream",
     "text": [
      "{'sorter': 'mountainsort4', 'sorter_params_name': 'default', 'sorter_params': {'detect_sign': -1, 'adjacency_radius': -1, 'freq_min': 300, 'freq_max': 6000, 'filter': True, 'whiten': True, 'num_workers': 1, 'clip_size': 50, 'detect_threshold': 3, 'detect_interval': 10}}\n"
     ]
    }
   ],
   "source": [
    "sgs.SpikeSorterParameters().insert_default()\n",
    "\n",
    "# Let's look at the default params\n",
    "sorter_name = \"mountainsort4\"\n",
    "ms4_default_params = (\n",
    "    sgs.SpikeSorterParameters\n",
    "    & {\"sorter\": sorter_name, \"sorter_params_name\": \"default\"}\n",
    ").fetch1()\n",
    "print(ms4_default_params)"
   ]
  },
  {
   "cell_type": "markdown",
   "metadata": {},
   "source": [
    "Now we can change these default parameters to line up more closely with our preferences.\n"
   ]
  },
  {
   "cell_type": "code",
   "execution_count": 33,
   "metadata": {
    "tags": []
   },
   "outputs": [
    {
     "name": "stdout",
     "output_type": "stream",
     "text": [
      "{'adjacency_radius': 100,\n",
      " 'clip_size': 39,\n",
      " 'detect_interval': 10,\n",
      " 'detect_sign': -1,\n",
      " 'detect_threshold': 3,\n",
      " 'filter': False,\n",
      " 'freq_max': 0,\n",
      " 'freq_min': 0,\n",
      " 'num_workers': 4,\n",
      " 'verbose': True,\n",
      " 'whiten': False}\n"
     ]
    }
   ],
   "source": [
    "sorter_params = {\n",
    "    **ms4_default_params[\"sorter_params\"],  # start with defaults\n",
    "    \"detect_sign\": -1,  # downward going spikes (1 for upward, 0 for both)\n",
    "    \"adjacency_radius\": 100,  # Sort electrodes together within 100 microns\n",
    "    \"filter\": False,  # No filter, since we filter prior to starting sort\n",
    "    \"freq_min\": 0,\n",
    "    \"freq_max\": 0,\n",
    "    \"whiten\": False,  # Turn whiten, since we whiten it prior to starting sort\n",
    "    \"num_workers\": 4,  #  same number as number of electrodes\n",
    "    \"verbose\": True,\n",
    "    \"clip_size\": np.int64(\n",
    "        1.33e-3  # same as # of samples for 1.33 ms based on the sampling rate\n",
    "        * (sgc.Raw & {\"nwb_file_name\": nwb_file_name}).fetch1(\"sampling_rate\")\n",
    "    ),\n",
    "}\n",
    "from pprint import pprint\n",
    "\n",
    "pprint(sorter_params)"
   ]
  },
  {
   "cell_type": "markdown",
   "metadata": {},
   "source": [
    "We can give these `sorter_params` a `sorter_params_name` and insert into `SpikeSorterParameters`.\n"
   ]
  },
  {
   "cell_type": "code",
   "execution_count": 34,
   "metadata": {
    "tags": []
   },
   "outputs": [
    {
     "data": {
      "text/plain": [
       "{'sorter': 'mountainsort4',\n",
       " 'sorter_params_name': 'hippocampus_tutorial',\n",
       " 'sorter_params': {'detect_sign': -1,\n",
       "  'adjacency_radius': 100,\n",
       "  'freq_min': 0,\n",
       "  'freq_max': 0,\n",
       "  'filter': False,\n",
       "  'whiten': False,\n",
       "  'num_workers': 4,\n",
       "  'clip_size': 39,\n",
       "  'detect_threshold': 3,\n",
       "  'detect_interval': 10,\n",
       "  'verbose': True}}"
      ]
     },
     "execution_count": 34,
     "metadata": {},
     "output_type": "execute_result"
    }
   ],
   "source": [
    "sorter_params_name = \"hippocampus_tutorial\"\n",
    "sgs.SpikeSorterParameters.insert1(\n",
    "    {\n",
    "        \"sorter\": sorter_name,\n",
    "        \"sorter_params_name\": sorter_params_name,\n",
    "        \"sorter_params\": sorter_params,\n",
    "    },\n",
    "    skip_duplicates=True,\n",
    ")\n",
    "(\n",
    "    sgs.SpikeSorterParameters\n",
    "    & {\"sorter\": sorter_name, \"sorter_params_name\": sorter_params_name}\n",
    ").fetch1()"
   ]
  },
  {
   "cell_type": "markdown",
   "metadata": {},
   "source": [
    "### `SpikeSortingSelection`\n",
    "\n",
    "**Gearing up to Spike Sort!**\n",
    "\n",
    "We now collect our various keys to insert into `SpikeSortingSelection`, which is specific to this recording and eventual sorting segment.\n",
    "\n",
    "_Note:_ the spike _sorter_ parameters defined above are specific to\n",
    "`mountainsort4` and may not work for other sorters.\n"
   ]
  },
  {
   "cell_type": "code",
   "execution_count": 35,
   "metadata": {},
   "outputs": [
    {
     "data": {
      "text/plain": [
       "{'nwb_file_name': 'minirec20230622_.nwb',\n",
       " 'sort_group_id': 0,\n",
       " 'sort_interval_name': '01_s1_first9',\n",
       " 'preproc_params_name': 'default_hippocampus',\n",
       " 'team_name': 'My Team',\n",
       " 'artifact_removed_interval_list_name': 'minirec20230622_.nwb_01_s1_first9_0_default_hippocampus_none_artifact_removed_valid_times',\n",
       " 'sorter': 'mountainsort4',\n",
       " 'sorter_params_name': 'hippocampus_tutorial'}"
      ]
     },
     "execution_count": 35,
     "metadata": {},
     "output_type": "execute_result"
    }
   ],
   "source": [
    "ss_key = dict(\n",
    "    **(sgs.ArtifactDetection & ssr_key).fetch1(\"KEY\"),\n",
    "    **(sgs.ArtifactRemovedIntervalList() & ssr_key).fetch1(\"KEY\"),\n",
    "    sorter=sorter_name,\n",
    "    sorter_params_name=sorter_params_name,\n",
    ")\n",
    "ss_key.pop(\"artifact_params_name\")\n",
    "ss_key"
   ]
  },
  {
   "cell_type": "code",
   "execution_count": 36,
   "metadata": {},
   "outputs": [
    {
     "data": {
      "text/html": [
       "\n",
       "    \n",
       "    <style type=\"text/css\">\n",
       "        .Table{\n",
       "            border-collapse:collapse;\n",
       "        }\n",
       "        .Table th{\n",
       "            background: #A0A0A0; color: #ffffff; padding:4px; border:#f0e0e0 1px solid;\n",
       "            font-weight: normal; font-family: monospace; font-size: 100%;\n",
       "        }\n",
       "        .Table td{\n",
       "            padding:4px; border:#f0e0e0 1px solid; font-size:100%;\n",
       "        }\n",
       "        .Table tr:nth-child(odd){\n",
       "            background: #ffffff;\n",
       "            color: #000000;\n",
       "        }\n",
       "        .Table tr:nth-child(even){\n",
       "            background: #f3f1ff;\n",
       "            color: #000000;\n",
       "        }\n",
       "        /* Tooltip container */\n",
       "        .djtooltip {\n",
       "        }\n",
       "        /* Tooltip text */\n",
       "        .djtooltip .djtooltiptext {\n",
       "            visibility: hidden;\n",
       "            width: 120px;\n",
       "            background-color: black;\n",
       "            color: #fff;\n",
       "            text-align: center;\n",
       "            padding: 5px 0;\n",
       "            border-radius: 6px;\n",
       "            /* Position the tooltip text - see examples below! */\n",
       "            position: absolute;\n",
       "            z-index: 1;\n",
       "        }\n",
       "        #primary {\n",
       "            font-weight: bold;\n",
       "            color: black;\n",
       "        }\n",
       "        #nonprimary {\n",
       "            font-weight: normal;\n",
       "            color: white;\n",
       "        }\n",
       "\n",
       "        /* Show the tooltip text when you mouse over the tooltip container */\n",
       "        .djtooltip:hover .djtooltiptext {\n",
       "            visibility: visible;\n",
       "        }\n",
       "    </style>\n",
       "    \n",
       "    <b>Table for holding selection of recording and parameters for each spike sorting run</b>\n",
       "        <div style=\"max-height:1000px;max-width:1500px;overflow:auto;\">\n",
       "        <table border=\"1\" class=\"Table\">\n",
       "            <thead> <tr style=\"text-align: right;\"> <th> <div class=\"djtooltip\">\n",
       "                            <p id=\"primary\">nwb_file_name</p>\n",
       "                            <span class=\"djtooltiptext\">name of the NWB file</span>\n",
       "                        </div></th><th><div class=\"djtooltip\">\n",
       "                            <p id=\"primary\">sort_group_id</p>\n",
       "                            <span class=\"djtooltiptext\">identifier for a group of electrodes</span>\n",
       "                        </div></th><th><div class=\"djtooltip\">\n",
       "                            <p id=\"primary\">sort_interval_name</p>\n",
       "                            <span class=\"djtooltiptext\">name for this interval</span>\n",
       "                        </div></th><th><div class=\"djtooltip\">\n",
       "                            <p id=\"primary\">preproc_params_name</p>\n",
       "                            <span class=\"djtooltiptext\"></span>\n",
       "                        </div></th><th><div class=\"djtooltip\">\n",
       "                            <p id=\"primary\">team_name</p>\n",
       "                            <span class=\"djtooltiptext\"></span>\n",
       "                        </div></th><th><div class=\"djtooltip\">\n",
       "                            <p id=\"primary\">sorter</p>\n",
       "                            <span class=\"djtooltiptext\"></span>\n",
       "                        </div></th><th><div class=\"djtooltip\">\n",
       "                            <p id=\"primary\">sorter_params_name</p>\n",
       "                            <span class=\"djtooltiptext\"></span>\n",
       "                        </div></th><th><div class=\"djtooltip\">\n",
       "                            <p id=\"primary\">artifact_removed_interval_list_name</p>\n",
       "                            <span class=\"djtooltiptext\"></span>\n",
       "                        </div></th><th><div class=\"djtooltip\">\n",
       "                            <p id=\"nonprimary\">import_path</p>\n",
       "                            <span class=\"djtooltiptext\">optional path to previous curated sorting output</span>\n",
       "                        </div> </th> </tr> </thead>\n",
       "            <tbody> <tr> <td>minirec20230622_.nwb</td>\n",
       "<td>0</td>\n",
       "<td>01_s1_first9</td>\n",
       "<td>default_hippocampus</td>\n",
       "<td>My Team</td>\n",
       "<td>mountainsort4</td>\n",
       "<td>hippocampus_tutorial</td>\n",
       "<td>minirec20230622_.nwb_01_s1_first9_0_default_hippocampus_none_artifact_removed_valid_times</td>\n",
       "<td></td> </tr> </tbody>\n",
       "        </table>\n",
       "        \n",
       "        <p>Total: 1</p></div>\n",
       "        "
      ],
      "text/plain": [
       "*nwb_file_name *sort_group_id *sort_interval *preproc_param *team_name    *sorter        *sorter_params *artifact_remo import_path   \n",
       "+------------+ +------------+ +------------+ +------------+ +-----------+ +------------+ +------------+ +------------+ +------------+\n",
       "minirec2023062 0              01_s1_first9   default_hippoc My Team       mountainsort4  hippocampus_tu minirec2023062               \n",
       " (Total: 1)"
      ]
     },
     "execution_count": 36,
     "metadata": {},
     "output_type": "execute_result"
    }
   ],
   "source": [
    "sgs.SpikeSortingSelection.insert1(ss_key, skip_duplicates=True)\n",
    "(sgs.SpikeSortingSelection & ss_key)"
   ]
  },
  {
   "cell_type": "markdown",
   "metadata": {},
   "source": [
    "### `SpikeSorting`\n",
    "\n",
    "After adding to `SpikeSortingSelection`, we can simply populate `SpikeSorting`.\n",
    "\n",
    "_Note:_ This may take time with longer data sets. Be sure to `pip install mountainsort4` if this is your first time spike sorting.\n"
   ]
  },
  {
   "cell_type": "code",
   "execution_count": 39,
   "metadata": {
    "tags": []
   },
   "outputs": [
    {
     "name": "stderr",
     "output_type": "stream",
     "text": [
      "[11:33:09][INFO] Spyglass: Running spike sorting on {'nwb_file_name': 'minirec20230622_.nwb', 'sort_group_id': 0, 'sort_interval_name': '01_s1_first9', 'preproc_params_name': 'default_hippocampus', 'team_name': 'My Team', 'sorter': 'mountainsort4', 'sorter_params_name': 'hippocampus_tutorial', 'artifact_removed_interval_list_name': 'minirec20230622_.nwb_01_s1_first9_0_default_hippocampus_none_artifact_removed_valid_times'}...\n"
     ]
    },
    {
     "name": "stdout",
     "output_type": "stream",
     "text": [
      "Mountainsort4 use the OLD spikeextractors mapped with NewToOldRecording\n",
      "Using temporary directory /stelmo/nwb/tmp/tmpo38gkza9\n",
      "Using 4 workers.\n",
      "Using tempdir: /stelmo/nwb/tmp/tmpo38gkza9/tmp05afo_06\n",
      "Num. workers = 4\n",
      "Preparing /stelmo/nwb/tmp/tmpo38gkza9/tmp05afo_06/timeseries.hdf5...\n",
      "Preparing neighborhood sorters (M=3, N=269997)...\n",
      "Neighboorhood of channel 1 has 3 channels.\n",
      "Detecting events on channel 2 (phase1)...\n",
      "Elapsed time for detect on neighborhood: 0:00:00.035859\n",
      "Num events detected on channel 2 (phase1): 334\n",
      "Computing PCA features for channel 2 (phase1)...\n",
      "Clustering for channel 2 (phase1)...\n",
      "Found 1 clusters for channel 2 (phase1)...\n",
      "Computing templates for channel 2 (phase1)...\n",
      "Re-assigning events for channel 2 (phase1)...\n",
      "Neighboorhood of channel 2 has 3 channels.\n",
      "Detecting events on channel 3 (phase1)...\n",
      "Elapsed time for detect on neighborhood: 0:00:00.036157\n",
      "Num events detected on channel 3 (phase1): 463\n",
      "Computing PCA features for channel 3 (phase1)...\n",
      "Clustering for channel 3 (phase1)...\n",
      "Found 1 clusters for channel 3 (phase1)...\n",
      "Computing templates for channel 3 (phase1)...\n",
      "Re-assigning events for channel 3 (phase1)...\n",
      "Neighboorhood of channel 0 has 3 channels.\n",
      "Detecting events on channel 1 (phase1)...\n",
      "Elapsed time for detect on neighborhood: 0:00:00.033028\n",
      "Num events detected on channel 1 (phase1): 341\n",
      "Computing PCA features for channel 1 (phase1)...\n",
      "Clustering for channel 1 (phase1)...\n",
      "Found 2 clusters for channel 1 (phase1)...\n",
      "Computing templates for channel 1 (phase1)...\n",
      "Re-assigning events for channel 1 (phase1)...\n",
      "Neighboorhood of channel 1 has 3 channels.\n",
      "Computing PCA features for channel 2 (phase2)...\n",
      "No duplicate events found for channel 1 in phase2\n",
      "Clustering for channel 2 (phase2)...\n",
      "Found 1 clusters for channel 2 (phase2)...\n",
      "Neighboorhood of channel 2 has 3 channels.\n",
      "Computing PCA features for channel 3 (phase2)...\n",
      "No duplicate events found for channel 2 in phase2\n",
      "Clustering for channel 3 (phase2)...\n",
      "Found 1 clusters for channel 3 (phase2)...\n",
      "Neighboorhood of channel 0 has 3 channels.\n",
      "Computing PCA features for channel 1 (phase2)...\n",
      "No duplicate events found for channel 0 in phase2\n",
      "Clustering for channel 1 (phase2)...\n",
      "Found 1 clusters for channel 1 (phase2)...\n",
      "Preparing output...\n",
      "Done with ms4alg.\n"
     ]
    },
    {
     "name": "stderr",
     "output_type": "stream",
     "text": [
      "/home/sambray/mambaforge-pypy3/envs/spyglass/lib/python3.9/site-packages/spikeinterface/sorters/basesorter.py:234: ResourceWarning: unclosed file <_io.TextIOWrapper name='/stelmo/nwb/recording/minirec20230622_.nwb_01_s1_first9_0_default_hippocampus/traces_cached_seg0.raw' mode='r' encoding='UTF-8'>\n",
      "  SorterClass._run_from_folder(sorter_output_folder, sorter_params, verbose)\n",
      "ResourceWarning: Enable tracemalloc to get the object allocation traceback\n",
      "[11:33:24][INFO] Spyglass: Saving sorting results...\n"
     ]
    },
    {
     "name": "stdout",
     "output_type": "stream",
     "text": [
      "Cleaning tempdir::::: /stelmo/nwb/tmp/tmpo38gkza9/tmp05afo_06\n",
      "mountainsort4 run time 12.62s\n"
     ]
    },
    {
     "name": "stderr",
     "output_type": "stream",
     "text": [
      "/home/sambray/mambaforge-pypy3/envs/spyglass/lib/python3.9/site-packages/spikeinterface/core/basesorting.py:212: UserWarning: The registered recording will not be persistent on disk, but only available in memory\n",
      "  warnings.warn(\"The registered recording will not be persistent on disk, but only available in memory\")\n",
      "/home/sambray/mambaforge-pypy3/envs/spyglass/lib/python3.9/site-packages/datajoint/autopopulate.py:292: ResourceWarning: unclosed file <_io.TextIOWrapper name='/stelmo/nwb/recording/minirec20230622_.nwb_01_s1_first9_0_default_hippocampus/traces_cached_seg0.raw' mode='r' encoding='UTF-8'>\n",
      "  make(dict(key), **(make_kwargs or {}))\n",
      "ResourceWarning: Enable tracemalloc to get the object allocation traceback\n",
      "/home/sambray/mambaforge-pypy3/envs/spyglass/lib/python3.9/tempfile.py:821: ResourceWarning: Implicitly cleaning up <TemporaryDirectory '/stelmo/nwb/tmp/tmpo38gkza9'>\n",
      "  _warnings.warn(warn_message, ResourceWarning)\n"
     ]
    }
   ],
   "source": [
    "# [(sgs.SpikeSortingSelection & ss_key).proj()]\n",
    "sgs.SpikeSorting.populate(ss_key)"
   ]
  },
  {
   "cell_type": "markdown",
   "metadata": {},
   "source": [
    "#### Check to make sure the table populated\n"
   ]
  },
  {
   "cell_type": "code",
   "execution_count": 40,
   "metadata": {},
   "outputs": [
    {
     "data": {
      "text/html": [
       "\n",
       "    \n",
       "    <style type=\"text/css\">\n",
       "        .Table{\n",
       "            border-collapse:collapse;\n",
       "        }\n",
       "        .Table th{\n",
       "            background: #A0A0A0; color: #ffffff; padding:4px; border:#f0e0e0 1px solid;\n",
       "            font-weight: normal; font-family: monospace; font-size: 100%;\n",
       "        }\n",
       "        .Table td{\n",
       "            padding:4px; border:#f0e0e0 1px solid; font-size:100%;\n",
       "        }\n",
       "        .Table tr:nth-child(odd){\n",
       "            background: #ffffff;\n",
       "            color: #000000;\n",
       "        }\n",
       "        .Table tr:nth-child(even){\n",
       "            background: #f3f1ff;\n",
       "            color: #000000;\n",
       "        }\n",
       "        /* Tooltip container */\n",
       "        .djtooltip {\n",
       "        }\n",
       "        /* Tooltip text */\n",
       "        .djtooltip .djtooltiptext {\n",
       "            visibility: hidden;\n",
       "            width: 120px;\n",
       "            background-color: black;\n",
       "            color: #fff;\n",
       "            text-align: center;\n",
       "            padding: 5px 0;\n",
       "            border-radius: 6px;\n",
       "            /* Position the tooltip text - see examples below! */\n",
       "            position: absolute;\n",
       "            z-index: 1;\n",
       "        }\n",
       "        #primary {\n",
       "            font-weight: bold;\n",
       "            color: black;\n",
       "        }\n",
       "        #nonprimary {\n",
       "            font-weight: normal;\n",
       "            color: white;\n",
       "        }\n",
       "\n",
       "        /* Show the tooltip text when you mouse over the tooltip container */\n",
       "        .djtooltip:hover .djtooltiptext {\n",
       "            visibility: visible;\n",
       "        }\n",
       "    </style>\n",
       "    \n",
       "    <b></b>\n",
       "        <div style=\"max-height:1000px;max-width:1500px;overflow:auto;\">\n",
       "        <table border=\"1\" class=\"Table\">\n",
       "            <thead> <tr style=\"text-align: right;\"> <th> <div class=\"djtooltip\">\n",
       "                            <p id=\"primary\">nwb_file_name</p>\n",
       "                            <span class=\"djtooltiptext\">name of the NWB file</span>\n",
       "                        </div></th><th><div class=\"djtooltip\">\n",
       "                            <p id=\"primary\">sort_group_id</p>\n",
       "                            <span class=\"djtooltiptext\">identifier for a group of electrodes</span>\n",
       "                        </div></th><th><div class=\"djtooltip\">\n",
       "                            <p id=\"primary\">sort_interval_name</p>\n",
       "                            <span class=\"djtooltiptext\">name for this interval</span>\n",
       "                        </div></th><th><div class=\"djtooltip\">\n",
       "                            <p id=\"primary\">preproc_params_name</p>\n",
       "                            <span class=\"djtooltiptext\"></span>\n",
       "                        </div></th><th><div class=\"djtooltip\">\n",
       "                            <p id=\"primary\">team_name</p>\n",
       "                            <span class=\"djtooltiptext\"></span>\n",
       "                        </div></th><th><div class=\"djtooltip\">\n",
       "                            <p id=\"primary\">sorter</p>\n",
       "                            <span class=\"djtooltiptext\"></span>\n",
       "                        </div></th><th><div class=\"djtooltip\">\n",
       "                            <p id=\"primary\">sorter_params_name</p>\n",
       "                            <span class=\"djtooltiptext\"></span>\n",
       "                        </div></th><th><div class=\"djtooltip\">\n",
       "                            <p id=\"primary\">artifact_removed_interval_list_name</p>\n",
       "                            <span class=\"djtooltiptext\"></span>\n",
       "                        </div></th><th><div class=\"djtooltip\">\n",
       "                            <p id=\"nonprimary\">sorting_path</p>\n",
       "                            <span class=\"djtooltiptext\"></span>\n",
       "                        </div></th><th><div class=\"djtooltip\">\n",
       "                            <p id=\"nonprimary\">time_of_sort</p>\n",
       "                            <span class=\"djtooltiptext\">in Unix time, to the nearest second</span>\n",
       "                        </div> </th> </tr> </thead>\n",
       "            <tbody> <tr> <td>minirec20230622_.nwb</td>\n",
       "<td>0</td>\n",
       "<td>01_s1_first9</td>\n",
       "<td>default_hippocampus</td>\n",
       "<td>My Team</td>\n",
       "<td>mountainsort4</td>\n",
       "<td>hippocampus_tutorial</td>\n",
       "<td>minirec20230622_.nwb_01_s1_first9_0_default_hippocampus_none_artifact_removed_valid_times</td>\n",
       "<td>/stelmo/nwb/spikesorting/minirec20230622_.nwb_01_s1_first9_0_default_hippocampus_d318c3f1_spikesorting</td>\n",
       "<td>1710873204</td> </tr> </tbody>\n",
       "        </table>\n",
       "        \n",
       "        <p>Total: 1</p></div>\n",
       "        "
      ],
      "text/plain": [
       "*nwb_file_name *sort_group_id *sort_interval *preproc_param *team_name    *sorter        *sorter_params *artifact_remo sorting_path   time_of_sort  \n",
       "+------------+ +------------+ +------------+ +------------+ +-----------+ +------------+ +------------+ +------------+ +------------+ +------------+\n",
       "minirec2023062 0              01_s1_first9   default_hippoc My Team       mountainsort4  hippocampus_tu minirec2023062 /stelmo/nwb/sp 1710873204    \n",
       " (Total: 1)"
      ]
     },
     "execution_count": 40,
     "metadata": {},
     "output_type": "execute_result"
    }
   ],
   "source": [
    "sgs.SpikeSorting() & ss_key"
   ]
  },
  {
   "cell_type": "markdown",
   "metadata": {},
   "source": [
    "## Automatic Curation\n",
    "\n",
    "Spikesorting algorithms can sometimes identify noise or other undesired features as spiking units.\n",
    "Spyglass provides a curation pipeline to detect and label such features to exclude them\n",
    "from downstream analysis.\n",
    "\n"
   ]
  },
  {
   "cell_type": "markdown",
   "metadata": {},
   "source": [
    "### Initial Curation\n",
    "\n",
    "The `Curation` table keeps track of rounds of spikesorting curations in the spikesorting v0 pipeline.\n",
    "Before we begin, we first insert an initial curation entry with the spiking results."
   ]
  },
  {
   "cell_type": "code",
   "execution_count": 42,
   "metadata": {},
   "outputs": [
    {
     "data": {
      "text/html": [
       "\n",
       "    \n",
       "    <style type=\"text/css\">\n",
       "        .Table{\n",
       "            border-collapse:collapse;\n",
       "        }\n",
       "        .Table th{\n",
       "            background: #A0A0A0; color: #ffffff; padding:4px; border:#f0e0e0 1px solid;\n",
       "            font-weight: normal; font-family: monospace; font-size: 100%;\n",
       "        }\n",
       "        .Table td{\n",
       "            padding:4px; border:#f0e0e0 1px solid; font-size:100%;\n",
       "        }\n",
       "        .Table tr:nth-child(odd){\n",
       "            background: #ffffff;\n",
       "            color: #000000;\n",
       "        }\n",
       "        .Table tr:nth-child(even){\n",
       "            background: #f3f1ff;\n",
       "            color: #000000;\n",
       "        }\n",
       "        /* Tooltip container */\n",
       "        .djtooltip {\n",
       "        }\n",
       "        /* Tooltip text */\n",
       "        .djtooltip .djtooltiptext {\n",
       "            visibility: hidden;\n",
       "            width: 120px;\n",
       "            background-color: black;\n",
       "            color: #fff;\n",
       "            text-align: center;\n",
       "            padding: 5px 0;\n",
       "            border-radius: 6px;\n",
       "            /* Position the tooltip text - see examples below! */\n",
       "            position: absolute;\n",
       "            z-index: 1;\n",
       "        }\n",
       "        #primary {\n",
       "            font-weight: bold;\n",
       "            color: black;\n",
       "        }\n",
       "        #nonprimary {\n",
       "            font-weight: normal;\n",
       "            color: white;\n",
       "        }\n",
       "\n",
       "        /* Show the tooltip text when you mouse over the tooltip container */\n",
       "        .djtooltip:hover .djtooltiptext {\n",
       "            visibility: visible;\n",
       "        }\n",
       "    </style>\n",
       "    \n",
       "    <b>Stores each spike sorting; similar to IntervalList</b>\n",
       "        <div style=\"max-height:1000px;max-width:1500px;overflow:auto;\">\n",
       "        <table border=\"1\" class=\"Table\">\n",
       "            <thead> <tr style=\"text-align: right;\"> <th> <div class=\"djtooltip\">\n",
       "                            <p id=\"primary\">curation_id</p>\n",
       "                            <span class=\"djtooltiptext\">a number correponding to the index of this curation</span>\n",
       "                        </div></th><th><div class=\"djtooltip\">\n",
       "                            <p id=\"primary\">nwb_file_name</p>\n",
       "                            <span class=\"djtooltiptext\">name of the NWB file</span>\n",
       "                        </div></th><th><div class=\"djtooltip\">\n",
       "                            <p id=\"primary\">sort_group_id</p>\n",
       "                            <span class=\"djtooltiptext\">identifier for a group of electrodes</span>\n",
       "                        </div></th><th><div class=\"djtooltip\">\n",
       "                            <p id=\"primary\">sort_interval_name</p>\n",
       "                            <span class=\"djtooltiptext\">name for this interval</span>\n",
       "                        </div></th><th><div class=\"djtooltip\">\n",
       "                            <p id=\"primary\">preproc_params_name</p>\n",
       "                            <span class=\"djtooltiptext\"></span>\n",
       "                        </div></th><th><div class=\"djtooltip\">\n",
       "                            <p id=\"primary\">team_name</p>\n",
       "                            <span class=\"djtooltiptext\"></span>\n",
       "                        </div></th><th><div class=\"djtooltip\">\n",
       "                            <p id=\"primary\">sorter</p>\n",
       "                            <span class=\"djtooltiptext\"></span>\n",
       "                        </div></th><th><div class=\"djtooltip\">\n",
       "                            <p id=\"primary\">sorter_params_name</p>\n",
       "                            <span class=\"djtooltiptext\"></span>\n",
       "                        </div></th><th><div class=\"djtooltip\">\n",
       "                            <p id=\"primary\">artifact_removed_interval_list_name</p>\n",
       "                            <span class=\"djtooltiptext\"></span>\n",
       "                        </div></th><th><div class=\"djtooltip\">\n",
       "                            <p id=\"nonprimary\">parent_curation_id</p>\n",
       "                            <span class=\"djtooltiptext\"></span>\n",
       "                        </div></th><th><div class=\"djtooltip\">\n",
       "                            <p id=\"nonprimary\">curation_labels</p>\n",
       "                            <span class=\"djtooltiptext\">a dictionary of labels for the units</span>\n",
       "                        </div></th><th><div class=\"djtooltip\">\n",
       "                            <p id=\"nonprimary\">merge_groups</p>\n",
       "                            <span class=\"djtooltiptext\">a list of merge groups for the units</span>\n",
       "                        </div></th><th><div class=\"djtooltip\">\n",
       "                            <p id=\"nonprimary\">quality_metrics</p>\n",
       "                            <span class=\"djtooltiptext\">a list of quality metrics for the units (if available)</span>\n",
       "                        </div></th><th><div class=\"djtooltip\">\n",
       "                            <p id=\"nonprimary\">description</p>\n",
       "                            <span class=\"djtooltiptext\">optional description for this curated sort</span>\n",
       "                        </div></th><th><div class=\"djtooltip\">\n",
       "                            <p id=\"nonprimary\">time_of_creation</p>\n",
       "                            <span class=\"djtooltiptext\">in Unix time, to the nearest second</span>\n",
       "                        </div> </th> </tr> </thead>\n",
       "            <tbody> <tr> <td>0</td>\n",
       "<td>minirec20230622_.nwb</td>\n",
       "<td>0</td>\n",
       "<td>01_s1_first9</td>\n",
       "<td>default_hippocampus</td>\n",
       "<td>My Team</td>\n",
       "<td>mountainsort4</td>\n",
       "<td>hippocampus_tutorial</td>\n",
       "<td>minirec20230622_.nwb_01_s1_first9_0_default_hippocampus_none_artifact_removed_valid_times</td>\n",
       "<td>-1</td>\n",
       "<td>=BLOB=</td>\n",
       "<td>=BLOB=</td>\n",
       "<td>=BLOB=</td>\n",
       "<td></td>\n",
       "<td>1710873795</td> </tr> </tbody>\n",
       "        </table>\n",
       "        \n",
       "        <p>Total: 1</p></div>\n",
       "        "
      ],
      "text/plain": [
       "*curation_id   *nwb_file_name *sort_group_id *sort_interval *preproc_param *team_name    *sorter        *sorter_params *artifact_remo parent_curatio curation_l merge_grou quality_me description    time_of_creati\n",
       "+------------+ +------------+ +------------+ +------------+ +------------+ +-----------+ +------------+ +------------+ +------------+ +------------+ +--------+ +--------+ +--------+ +------------+ +------------+\n",
       "0              minirec2023062 0              01_s1_first9   default_hippoc My Team       mountainsort4  hippocampus_tu minirec2023062 -1             =BLOB=     =BLOB=     =BLOB=                    1710873795    \n",
       " (Total: 1)"
      ]
     },
     "execution_count": 42,
     "metadata": {},
     "output_type": "execute_result"
    }
   ],
   "source": [
    "for sorting_key in (sgs.SpikeSorting() & ss_key).fetch(\"KEY\"):\n",
    "    # insert_curation will make an entry with a new curation_id regardless of whether it already exists\n",
    "    # to avoid this, we check if the curation already exists\n",
    "    if not (sgs.Curation() & sorting_key):\n",
    "        sgs.Curation.insert_curation(sorting_key)\n",
    "\n",
    "sgs.Curation() & ss_key"
   ]
  },
  {
   "cell_type": "markdown",
   "metadata": {},
   "source": [
    "### Waveform Extraction\n",
    "\n",
    "Some metrics used for curating units are dependent on features of the spike waveform.\n",
    "We extract these for each unit's initial curation here"
   ]
  },
  {
   "cell_type": "code",
   "execution_count": 45,
   "metadata": {},
   "outputs": [
    {
     "data": {
      "text/plain": [
       "{'waveform_params_name': 'default_whitened',\n",
       " 'waveform_params': {'ms_before': 0.5,\n",
       "  'ms_after': 0.5,\n",
       "  'max_spikes_per_unit': 5000,\n",
       "  'n_jobs': 5,\n",
       "  'total_memory': '5G',\n",
       "  'whiten': True}}"
      ]
     },
     "execution_count": 45,
     "metadata": {},
     "output_type": "execute_result"
    }
   ],
   "source": [
    "# Parameters used for waveform extraction from the recording\n",
    "waveform_params_name = \"default_whitened\"\n",
    "sgs.WaveformParameters().insert_default()  # insert default parameter sets if not already in database\n",
    "(\n",
    "    sgs.WaveformParameters() & {\"waveform_params_name\": waveform_params_name}\n",
    ").fetch(as_dict=True)[0]"
   ]
  },
  {
   "cell_type": "code",
   "execution_count": 46,
   "metadata": {},
   "outputs": [
    {
     "name": "stderr",
     "output_type": "stream",
     "text": [
      "[11:48:56][INFO] Spyglass: Extracting waveforms...\n"
     ]
    },
    {
     "data": {
      "application/vnd.jupyter.widget-view+json": {
       "model_id": "2f908ec0ce9d47bc8c35d448d3fb2e79",
       "version_major": 2,
       "version_minor": 0
      },
      "text/plain": [
       "extract waveforms memmap:   0%|          | 0/1 [00:00<?, ?it/s]"
      ]
     },
     "metadata": {},
     "output_type": "display_data"
    },
    {
     "name": "stderr",
     "output_type": "stream",
     "text": [
      "/home/sambray/mambaforge-pypy3/envs/spyglass/lib/python3.9/multiprocessing/popen_fork.py:66: ResourceWarning: Unclosed socket <zmq.Socket(zmq.PUSH) at 0x7f76c8677d00>\n",
      "  self.pid = os.fork()\n",
      "ResourceWarning: Enable tracemalloc to get the object allocation traceback\n",
      "/home/sambray/mambaforge-pypy3/envs/spyglass/lib/python3.9/multiprocessing/popen_fork.py:66: ResourceWarning: Unclosed socket <zmq.Socket(zmq.PUSH) at 0x7f752b912d00>\n",
      "  self.pid = os.fork()\n",
      "ResourceWarning: Enable tracemalloc to get the object allocation traceback\n",
      "/home/sambray/mambaforge-pypy3/envs/spyglass/lib/python3.9/multiprocessing/popen_fork.py:66: ResourceWarning: Unclosed socket <zmq.Socket(zmq.PUSH) at 0x7f76c8677760>\n",
      "  self.pid = os.fork()\n",
      "ResourceWarning: Enable tracemalloc to get the object allocation traceback\n",
      "[11:48:57][INFO] Spyglass: Writing new NWB file minirec20230622_4ZZBN5G9DY.nwb\n",
      "/home/sambray/mambaforge-pypy3/envs/spyglass/lib/python3.9/site-packages/hdmf/build/objectmapper.py:260: DtypeConversionWarning: Spec 'Units/spike_times': Value with data type int64 is being converted to data type float64 as specified.\n",
      "  warnings.warn(full_warning_msg, DtypeConversionWarning)\n",
      "/home/sambray/mambaforge-pypy3/envs/spyglass/lib/python3.9/site-packages/datajoint/hash.py:39: ResourceWarning: unclosed file <_io.BufferedReader name='/stelmo/nwb/analysis/minirec20230622/minirec20230622_4ZZBN5G9DY.nwb'>\n",
      "  return uuid_from_stream(Path(filepath).open(\"rb\"), init_string=init_string)\n",
      "ResourceWarning: Enable tracemalloc to get the object allocation traceback\n",
      "/home/sambray/mambaforge-pypy3/envs/spyglass/lib/python3.9/site-packages/datajoint/external.py:276: DeprecationWarning: The truth value of an empty array is ambiguous. Returning False, but in future this will result in an error. Use `array.size > 0` to check that an array is not empty.\n",
      "  if check_hash:\n",
      "/home/sambray/mambaforge-pypy3/envs/spyglass/lib/python3.9/site-packages/datajoint/autopopulate.py:292: ResourceWarning: unclosed file <_io.TextIOWrapper name='/stelmo/nwb/recording/minirec20230622_.nwb_01_s1_first9_0_default_hippocampus/traces_cached_seg0.raw' mode='r' encoding='UTF-8'>\n",
      "  make(dict(key), **(make_kwargs or {}))\n",
      "ResourceWarning: Enable tracemalloc to get the object allocation traceback\n"
     ]
    }
   ],
   "source": [
    "# extract waveforms\n",
    "curation_keys = [\n",
    "    {**k, \"waveform_params_name\": waveform_params_name}\n",
    "    for k in (sgs.Curation() & ss_key & {\"curation_id\": 0}).fetch(\"KEY\")\n",
    "]\n",
    "sgs.WaveformSelection.insert(curation_keys, skip_duplicates=True)\n",
    "sgs.Waveforms.populate(ss_key)"
   ]
  },
  {
   "cell_type": "markdown",
   "metadata": {},
   "source": [
    "### Quality Metrics\n",
    "\n",
    "With these waveforms, we can calculate the metrics used to determine the quality of each unit."
   ]
  },
  {
   "cell_type": "code",
   "execution_count": 58,
   "metadata": {},
   "outputs": [
    {
     "data": {
      "text/plain": [
       "{'snr': {'peak_sign': 'neg',\n",
       "  'random_chunk_kwargs_dict': {'num_chunks_per_segment': 20,\n",
       "   'chunk_size': 10000,\n",
       "   'seed': 0}},\n",
       " 'isi_violation': {'isi_threshold_ms': 1.5, 'min_isi_ms': 0.0},\n",
       " 'nn_isolation': {'max_spikes': 1000,\n",
       "  'min_spikes': 10,\n",
       "  'n_neighbors': 5,\n",
       "  'n_components': 7,\n",
       "  'radius_um': 100,\n",
       "  'seed': 0},\n",
       " 'nn_noise_overlap': {'max_spikes': 1000,\n",
       "  'min_spikes': 10,\n",
       "  'n_neighbors': 5,\n",
       "  'n_components': 7,\n",
       "  'radius_um': 100,\n",
       "  'seed': 0},\n",
       " 'peak_channel': {'peak_sign': 'neg'},\n",
       " 'num_spikes': {}}"
      ]
     },
     "execution_count": 58,
     "metadata": {},
     "output_type": "execute_result"
    }
   ],
   "source": [
    "# parameters which define what quality metrics are calculated and how\n",
    "metric_params_name = \"franklab_default3\"\n",
    "sgs.MetricParameters().insert_default()  # insert default parameter sets if not already in database\n",
    "(sgs.MetricParameters() & {\"metric_params_name\": metric_params_name}).fetch(\n",
    "    \"metric_params\"\n",
    ")[0]"
   ]
  },
  {
   "cell_type": "code",
   "execution_count": 59,
   "metadata": {},
   "outputs": [
    {
     "name": "stderr",
     "output_type": "stream",
     "text": [
      "/home/sambray/mambaforge-pypy3/envs/spyglass/lib/python3.9/site-packages/spikeinterface/postprocessing/template_tools.py:23: DeprecationWarning: The spikeinterface.postprocessing.template_tools is submodule is deprecated.Use spikeinterface.core.template_tools instead\n",
      "  _warn()\n",
      "[12:17:37][INFO] Spyglass: Computed all metrics: {'snr': {1: 3.627503, 2: 3.598743, 3: 3.6419973}, 'isi_violation': {'1': 0.03896103896103896, '2': 0.036065573770491806, '3': 0.03488372093023256}, 'nn_isolation': {'1': 0.9591503267973855, '2': 0.9594771241830065, '3': 0.9872549019607844}, 'nn_noise_overlap': {'1': 0.49642857142857144, '2': 0.44738562091503264, '3': 0.4}, 'peak_channel': {1: 1, 2: 2, 3: 3}, 'num_spikes': {'1': 309, '2': 306, '3': 431}}\n",
      "[12:17:37][INFO] Spyglass: Writing new NWB file minirec20230622_L3O536PHYB.nwb\n",
      "[12:17:38][INFO] Spyglass: Adding metric snr : {1: 3.627503, 2: 3.598743, 3: 3.6419973}\n",
      "[12:17:38][INFO] Spyglass: Adding metric isi_violation : {'1': 0.03896103896103896, '2': 0.036065573770491806, '3': 0.03488372093023256}\n",
      "[12:17:38][INFO] Spyglass: Adding metric nn_isolation : {'1': 0.9591503267973855, '2': 0.9594771241830065, '3': 0.9872549019607844}\n",
      "[12:17:38][INFO] Spyglass: Adding metric nn_noise_overlap : {'1': 0.49642857142857144, '2': 0.44738562091503264, '3': 0.4}\n",
      "[12:17:38][INFO] Spyglass: Adding metric peak_channel : {1: 1, 2: 2, 3: 3}\n",
      "[12:17:38][INFO] Spyglass: Adding metric num_spikes : {'1': 309, '2': 306, '3': 431}\n",
      "/home/sambray/mambaforge-pypy3/envs/spyglass/lib/python3.9/site-packages/datajoint/hash.py:39: ResourceWarning: unclosed file <_io.BufferedReader name='/stelmo/nwb/analysis/minirec20230622/minirec20230622_L3O536PHYB.nwb'>\n",
      "  return uuid_from_stream(Path(filepath).open(\"rb\"), init_string=init_string)\n",
      "ResourceWarning: Enable tracemalloc to get the object allocation traceback\n",
      "/home/sambray/mambaforge-pypy3/envs/spyglass/lib/python3.9/site-packages/datajoint/external.py:276: DeprecationWarning: The truth value of an empty array is ambiguous. Returning False, but in future this will result in an error. Use `array.size > 0` to check that an array is not empty.\n",
      "  if check_hash:\n",
      "/home/sambray/mambaforge-pypy3/envs/spyglass/lib/python3.9/site-packages/datajoint/autopopulate.py:292: ResourceWarning: unclosed file <_io.TextIOWrapper name='/stelmo/nwb/recording/minirec20230622_.nwb_01_s1_first9_0_default_hippocampus/traces_cached_seg0.raw' mode='r' encoding='UTF-8'>\n",
      "  make(dict(key), **(make_kwargs or {}))\n",
      "ResourceWarning: Enable tracemalloc to get the object allocation traceback\n"
     ]
    },
    {
     "data": {
      "text/html": [
       "\n",
       "    \n",
       "    <style type=\"text/css\">\n",
       "        .Table{\n",
       "            border-collapse:collapse;\n",
       "        }\n",
       "        .Table th{\n",
       "            background: #A0A0A0; color: #ffffff; padding:4px; border:#f0e0e0 1px solid;\n",
       "            font-weight: normal; font-family: monospace; font-size: 100%;\n",
       "        }\n",
       "        .Table td{\n",
       "            padding:4px; border:#f0e0e0 1px solid; font-size:100%;\n",
       "        }\n",
       "        .Table tr:nth-child(odd){\n",
       "            background: #ffffff;\n",
       "            color: #000000;\n",
       "        }\n",
       "        .Table tr:nth-child(even){\n",
       "            background: #f3f1ff;\n",
       "            color: #000000;\n",
       "        }\n",
       "        /* Tooltip container */\n",
       "        .djtooltip {\n",
       "        }\n",
       "        /* Tooltip text */\n",
       "        .djtooltip .djtooltiptext {\n",
       "            visibility: hidden;\n",
       "            width: 120px;\n",
       "            background-color: black;\n",
       "            color: #fff;\n",
       "            text-align: center;\n",
       "            padding: 5px 0;\n",
       "            border-radius: 6px;\n",
       "            /* Position the tooltip text - see examples below! */\n",
       "            position: absolute;\n",
       "            z-index: 1;\n",
       "        }\n",
       "        #primary {\n",
       "            font-weight: bold;\n",
       "            color: black;\n",
       "        }\n",
       "        #nonprimary {\n",
       "            font-weight: normal;\n",
       "            color: white;\n",
       "        }\n",
       "\n",
       "        /* Show the tooltip text when you mouse over the tooltip container */\n",
       "        .djtooltip:hover .djtooltiptext {\n",
       "            visibility: visible;\n",
       "        }\n",
       "    </style>\n",
       "    \n",
       "    <b></b>\n",
       "        <div style=\"max-height:1000px;max-width:1500px;overflow:auto;\">\n",
       "        <table border=\"1\" class=\"Table\">\n",
       "            <thead> <tr style=\"text-align: right;\"> <th> <div class=\"djtooltip\">\n",
       "                            <p id=\"primary\">curation_id</p>\n",
       "                            <span class=\"djtooltiptext\">a number correponding to the index of this curation</span>\n",
       "                        </div></th><th><div class=\"djtooltip\">\n",
       "                            <p id=\"primary\">nwb_file_name</p>\n",
       "                            <span class=\"djtooltiptext\">name of the NWB file</span>\n",
       "                        </div></th><th><div class=\"djtooltip\">\n",
       "                            <p id=\"primary\">sort_group_id</p>\n",
       "                            <span class=\"djtooltiptext\">identifier for a group of electrodes</span>\n",
       "                        </div></th><th><div class=\"djtooltip\">\n",
       "                            <p id=\"primary\">sort_interval_name</p>\n",
       "                            <span class=\"djtooltiptext\">name for this interval</span>\n",
       "                        </div></th><th><div class=\"djtooltip\">\n",
       "                            <p id=\"primary\">preproc_params_name</p>\n",
       "                            <span class=\"djtooltiptext\"></span>\n",
       "                        </div></th><th><div class=\"djtooltip\">\n",
       "                            <p id=\"primary\">team_name</p>\n",
       "                            <span class=\"djtooltiptext\"></span>\n",
       "                        </div></th><th><div class=\"djtooltip\">\n",
       "                            <p id=\"primary\">sorter</p>\n",
       "                            <span class=\"djtooltiptext\"></span>\n",
       "                        </div></th><th><div class=\"djtooltip\">\n",
       "                            <p id=\"primary\">sorter_params_name</p>\n",
       "                            <span class=\"djtooltiptext\"></span>\n",
       "                        </div></th><th><div class=\"djtooltip\">\n",
       "                            <p id=\"primary\">artifact_removed_interval_list_name</p>\n",
       "                            <span class=\"djtooltiptext\"></span>\n",
       "                        </div></th><th><div class=\"djtooltip\">\n",
       "                            <p id=\"primary\">waveform_params_name</p>\n",
       "                            <span class=\"djtooltiptext\">name of waveform extraction parameters</span>\n",
       "                        </div></th><th><div class=\"djtooltip\">\n",
       "                            <p id=\"primary\">metric_params_name</p>\n",
       "                            <span class=\"djtooltiptext\"></span>\n",
       "                        </div></th><th><div class=\"djtooltip\">\n",
       "                            <p id=\"nonprimary\">quality_metrics_path</p>\n",
       "                            <span class=\"djtooltiptext\"></span>\n",
       "                        </div></th><th><div class=\"djtooltip\">\n",
       "                            <p id=\"nonprimary\">analysis_file_name</p>\n",
       "                            <span class=\"djtooltiptext\">name of the file</span>\n",
       "                        </div></th><th><div class=\"djtooltip\">\n",
       "                            <p id=\"nonprimary\">object_id</p>\n",
       "                            <span class=\"djtooltiptext\">Object ID for the metrics in NWB file</span>\n",
       "                        </div> </th> </tr> </thead>\n",
       "            <tbody> <tr> <td>0</td>\n",
       "<td>minirec20230622_.nwb</td>\n",
       "<td>0</td>\n",
       "<td>01_s1_first9</td>\n",
       "<td>default_hippocampus</td>\n",
       "<td>My Team</td>\n",
       "<td>mountainsort4</td>\n",
       "<td>hippocampus_tutorial</td>\n",
       "<td>minirec20230622_.nwb_01_s1_first9_0_default_hippocampus_none_artifact_removed_valid_times</td>\n",
       "<td>default_whitened</td>\n",
       "<td>franklab_default3</td>\n",
       "<td>/stelmo/nwb/waveforms/minirec20230622_.nwb_0105557c_0_default_whitened_waveforms_qm.json</td>\n",
       "<td>minirec20230622_L3O536PHYB.nwb</td>\n",
       "<td>4b1512bc-861f-4710-8fff-55aad7fbb6ba</td> </tr> </tbody>\n",
       "        </table>\n",
       "        \n",
       "        <p>Total: 1</p></div>\n",
       "        "
      ],
      "text/plain": [
       "*curation_id   *nwb_file_name *sort_group_id *sort_interval *preproc_param *team_name    *sorter        *sorter_params *artifact_remo *waveform_para *metric_params quality_metric analysis_file_ object_id     \n",
       "+------------+ +------------+ +------------+ +------------+ +------------+ +-----------+ +------------+ +------------+ +------------+ +------------+ +------------+ +------------+ +------------+ +------------+\n",
       "0              minirec2023062 0              01_s1_first9   default_hippoc My Team       mountainsort4  hippocampus_tu minirec2023062 default_whiten franklab_defau /stelmo/nwb/wa minirec2023062 4b1512bc-861f-\n",
       " (Total: 1)"
      ]
     },
     "execution_count": 59,
     "metadata": {},
     "output_type": "execute_result"
    }
   ],
   "source": [
    "waveform_keys = [\n",
    "    {**k, \"metric_params_name\": metric_params_name}\n",
    "    for k in (sgs.Waveforms() & ss_key).fetch(\"KEY\")\n",
    "]\n",
    "sgs.MetricSelection.insert(waveform_keys, skip_duplicates=True)\n",
    "sgs.QualityMetrics().populate(ss_key)\n",
    "sgs.QualityMetrics() & ss_key"
   ]
  },
  {
   "cell_type": "code",
   "execution_count": 64,
   "metadata": {},
   "outputs": [
    {
     "name": "stderr",
     "output_type": "stream",
     "text": [
      "/home/sambray/mambaforge-pypy3/envs/spyglass/lib/python3.9/site-packages/datajoint/hash.py:39: ResourceWarning: unclosed file <_io.BufferedReader name='/stelmo/nwb/analysis/minirec20230622/minirec20230622_L3O536PHYB.nwb'>\n",
      "  return uuid_from_stream(Path(filepath).open(\"rb\"), init_string=init_string)\n",
      "ResourceWarning: Enable tracemalloc to get the object allocation traceback\n"
     ]
    },
    {
     "data": {
      "text/html": [
       "<div>\n",
       "<style scoped>\n",
       "    .dataframe tbody tr th:only-of-type {\n",
       "        vertical-align: middle;\n",
       "    }\n",
       "\n",
       "    .dataframe tbody tr th {\n",
       "        vertical-align: top;\n",
       "    }\n",
       "\n",
       "    .dataframe thead th {\n",
       "        text-align: right;\n",
       "    }\n",
       "</style>\n",
       "<table border=\"1\" class=\"dataframe\">\n",
       "  <thead>\n",
       "    <tr style=\"text-align: right;\">\n",
       "      <th></th>\n",
       "      <th>snr</th>\n",
       "      <th>isi_violation</th>\n",
       "      <th>nn_isolation</th>\n",
       "      <th>nn_noise_overlap</th>\n",
       "      <th>peak_channel</th>\n",
       "      <th>num_spikes</th>\n",
       "    </tr>\n",
       "    <tr>\n",
       "      <th>id</th>\n",
       "      <th></th>\n",
       "      <th></th>\n",
       "      <th></th>\n",
       "      <th></th>\n",
       "      <th></th>\n",
       "      <th></th>\n",
       "    </tr>\n",
       "  </thead>\n",
       "  <tbody>\n",
       "    <tr>\n",
       "      <th>1</th>\n",
       "      <td>3.627503</td>\n",
       "      <td>0.038961</td>\n",
       "      <td>0.959150</td>\n",
       "      <td>0.496429</td>\n",
       "      <td>1</td>\n",
       "      <td>309</td>\n",
       "    </tr>\n",
       "    <tr>\n",
       "      <th>2</th>\n",
       "      <td>3.598743</td>\n",
       "      <td>0.036066</td>\n",
       "      <td>0.959477</td>\n",
       "      <td>0.447386</td>\n",
       "      <td>2</td>\n",
       "      <td>306</td>\n",
       "    </tr>\n",
       "    <tr>\n",
       "      <th>3</th>\n",
       "      <td>3.641997</td>\n",
       "      <td>0.034884</td>\n",
       "      <td>0.987255</td>\n",
       "      <td>0.400000</td>\n",
       "      <td>3</td>\n",
       "      <td>431</td>\n",
       "    </tr>\n",
       "  </tbody>\n",
       "</table>\n",
       "</div>"
      ],
      "text/plain": [
       "         snr  isi_violation  nn_isolation  nn_noise_overlap  peak_channel  \\\n",
       "id                                                                          \n",
       "1   3.627503       0.038961      0.959150          0.496429             1   \n",
       "2   3.598743       0.036066      0.959477          0.447386             2   \n",
       "3   3.641997       0.034884      0.987255          0.400000             3   \n",
       "\n",
       "    num_spikes  \n",
       "id              \n",
       "1          309  \n",
       "2          306  \n",
       "3          431  "
      ]
     },
     "execution_count": 64,
     "metadata": {},
     "output_type": "execute_result"
    }
   ],
   "source": [
    "# Look at the quality metrics for the first curation\n",
    "(sgs.QualityMetrics() & ss_key).fetch_nwb()[0][\"object_id\"]"
   ]
  },
  {
   "cell_type": "markdown",
   "metadata": {},
   "source": [
    "### Automatic Curation Labeling\n",
    "\n",
    "With these metrics, we can assign labels to the sorted units using the `AutomaticCuration` table"
   ]
  },
  {
   "cell_type": "code",
   "execution_count": 67,
   "metadata": {},
   "outputs": [
    {
     "data": {
      "text/plain": [
       "{'auto_curation_params_name': 'default',\n",
       " 'merge_params': {},\n",
       " 'label_params': {'nn_noise_overlap': ['>', 0.1, ['noise', 'reject']]}}"
      ]
     },
     "execution_count": 67,
     "metadata": {},
     "output_type": "execute_result"
    }
   ],
   "source": [
    "# We can select our criteria for unit labeling here\n",
    "auto_curation_params_name = \"default\"\n",
    "sgs.AutomaticCurationParameters().insert_default()\n",
    "(\n",
    "    sgs.AutomaticCurationParameters()\n",
    "    & {\"auto_curation_params_name\": auto_curation_params_name}\n",
    ").fetch1()"
   ]
  },
  {
   "cell_type": "code",
   "execution_count": 72,
   "metadata": {},
   "outputs": [
    {
     "data": {
      "text/html": [
       "\n",
       "    \n",
       "    <style type=\"text/css\">\n",
       "        .Table{\n",
       "            border-collapse:collapse;\n",
       "        }\n",
       "        .Table th{\n",
       "            background: #A0A0A0; color: #ffffff; padding:4px; border:#f0e0e0 1px solid;\n",
       "            font-weight: normal; font-family: monospace; font-size: 100%;\n",
       "        }\n",
       "        .Table td{\n",
       "            padding:4px; border:#f0e0e0 1px solid; font-size:100%;\n",
       "        }\n",
       "        .Table tr:nth-child(odd){\n",
       "            background: #ffffff;\n",
       "            color: #000000;\n",
       "        }\n",
       "        .Table tr:nth-child(even){\n",
       "            background: #f3f1ff;\n",
       "            color: #000000;\n",
       "        }\n",
       "        /* Tooltip container */\n",
       "        .djtooltip {\n",
       "        }\n",
       "        /* Tooltip text */\n",
       "        .djtooltip .djtooltiptext {\n",
       "            visibility: hidden;\n",
       "            width: 120px;\n",
       "            background-color: black;\n",
       "            color: #fff;\n",
       "            text-align: center;\n",
       "            padding: 5px 0;\n",
       "            border-radius: 6px;\n",
       "            /* Position the tooltip text - see examples below! */\n",
       "            position: absolute;\n",
       "            z-index: 1;\n",
       "        }\n",
       "        #primary {\n",
       "            font-weight: bold;\n",
       "            color: black;\n",
       "        }\n",
       "        #nonprimary {\n",
       "            font-weight: normal;\n",
       "            color: white;\n",
       "        }\n",
       "\n",
       "        /* Show the tooltip text when you mouse over the tooltip container */\n",
       "        .djtooltip:hover .djtooltiptext {\n",
       "            visibility: visible;\n",
       "        }\n",
       "    </style>\n",
       "    \n",
       "    <b>Stores each spike sorting; similar to IntervalList</b>\n",
       "        <div style=\"max-height:1000px;max-width:1500px;overflow:auto;\">\n",
       "        <table border=\"1\" class=\"Table\">\n",
       "            <thead> <tr style=\"text-align: right;\"> <th> <div class=\"djtooltip\">\n",
       "                            <p id=\"primary\">curation_id</p>\n",
       "                            <span class=\"djtooltiptext\">a number correponding to the index of this curation</span>\n",
       "                        </div></th><th><div class=\"djtooltip\">\n",
       "                            <p id=\"primary\">nwb_file_name</p>\n",
       "                            <span class=\"djtooltiptext\">name of the NWB file</span>\n",
       "                        </div></th><th><div class=\"djtooltip\">\n",
       "                            <p id=\"primary\">sort_group_id</p>\n",
       "                            <span class=\"djtooltiptext\">identifier for a group of electrodes</span>\n",
       "                        </div></th><th><div class=\"djtooltip\">\n",
       "                            <p id=\"primary\">sort_interval_name</p>\n",
       "                            <span class=\"djtooltiptext\">name for this interval</span>\n",
       "                        </div></th><th><div class=\"djtooltip\">\n",
       "                            <p id=\"primary\">preproc_params_name</p>\n",
       "                            <span class=\"djtooltiptext\"></span>\n",
       "                        </div></th><th><div class=\"djtooltip\">\n",
       "                            <p id=\"primary\">team_name</p>\n",
       "                            <span class=\"djtooltiptext\"></span>\n",
       "                        </div></th><th><div class=\"djtooltip\">\n",
       "                            <p id=\"primary\">sorter</p>\n",
       "                            <span class=\"djtooltiptext\"></span>\n",
       "                        </div></th><th><div class=\"djtooltip\">\n",
       "                            <p id=\"primary\">sorter_params_name</p>\n",
       "                            <span class=\"djtooltiptext\"></span>\n",
       "                        </div></th><th><div class=\"djtooltip\">\n",
       "                            <p id=\"primary\">artifact_removed_interval_list_name</p>\n",
       "                            <span class=\"djtooltiptext\"></span>\n",
       "                        </div></th><th><div class=\"djtooltip\">\n",
       "                            <p id=\"nonprimary\">parent_curation_id</p>\n",
       "                            <span class=\"djtooltiptext\"></span>\n",
       "                        </div></th><th><div class=\"djtooltip\">\n",
       "                            <p id=\"nonprimary\">curation_labels</p>\n",
       "                            <span class=\"djtooltiptext\">a dictionary of labels for the units</span>\n",
       "                        </div></th><th><div class=\"djtooltip\">\n",
       "                            <p id=\"nonprimary\">merge_groups</p>\n",
       "                            <span class=\"djtooltiptext\">a list of merge groups for the units</span>\n",
       "                        </div></th><th><div class=\"djtooltip\">\n",
       "                            <p id=\"nonprimary\">quality_metrics</p>\n",
       "                            <span class=\"djtooltiptext\">a list of quality metrics for the units (if available)</span>\n",
       "                        </div></th><th><div class=\"djtooltip\">\n",
       "                            <p id=\"nonprimary\">description</p>\n",
       "                            <span class=\"djtooltiptext\">optional description for this curated sort</span>\n",
       "                        </div></th><th><div class=\"djtooltip\">\n",
       "                            <p id=\"nonprimary\">time_of_creation</p>\n",
       "                            <span class=\"djtooltiptext\">in Unix time, to the nearest second</span>\n",
       "                        </div> </th> </tr> </thead>\n",
       "            <tbody> <tr> <td>0</td>\n",
       "<td>minirec20230622_.nwb</td>\n",
       "<td>0</td>\n",
       "<td>01_s1_first9</td>\n",
       "<td>default_hippocampus</td>\n",
       "<td>My Team</td>\n",
       "<td>mountainsort4</td>\n",
       "<td>hippocampus_tutorial</td>\n",
       "<td>minirec20230622_.nwb_01_s1_first9_0_default_hippocampus_none_artifact_removed_valid_times</td>\n",
       "<td>-1</td>\n",
       "<td>=BLOB=</td>\n",
       "<td>=BLOB=</td>\n",
       "<td>=BLOB=</td>\n",
       "<td></td>\n",
       "<td>1710873795</td></tr><tr><td>1</td>\n",
       "<td>minirec20230622_.nwb</td>\n",
       "<td>0</td>\n",
       "<td>01_s1_first9</td>\n",
       "<td>default_hippocampus</td>\n",
       "<td>My Team</td>\n",
       "<td>mountainsort4</td>\n",
       "<td>hippocampus_tutorial</td>\n",
       "<td>minirec20230622_.nwb_01_s1_first9_0_default_hippocampus_none_artifact_removed_valid_times</td>\n",
       "<td>0</td>\n",
       "<td>=BLOB=</td>\n",
       "<td>=BLOB=</td>\n",
       "<td>=BLOB=</td>\n",
       "<td>auto curated</td>\n",
       "<td>1710876397</td> </tr> </tbody>\n",
       "        </table>\n",
       "        \n",
       "        <p>Total: 2</p></div>\n",
       "        "
      ],
      "text/plain": [
       "*curation_id   *nwb_file_name *sort_group_id *sort_interval *preproc_param *team_name    *sorter        *sorter_params *artifact_remo parent_curatio curation_l merge_grou quality_me description    time_of_creati\n",
       "+------------+ +------------+ +------------+ +------------+ +------------+ +-----------+ +------------+ +------------+ +------------+ +------------+ +--------+ +--------+ +--------+ +------------+ +------------+\n",
       "0              minirec2023062 0              01_s1_first9   default_hippoc My Team       mountainsort4  hippocampus_tu minirec2023062 -1             =BLOB=     =BLOB=     =BLOB=                    1710873795    \n",
       "1              minirec2023062 0              01_s1_first9   default_hippoc My Team       mountainsort4  hippocampus_tu minirec2023062 0              =BLOB=     =BLOB=     =BLOB=     auto curated   1710876397    \n",
       " (Total: 2)"
      ]
     },
     "execution_count": 72,
     "metadata": {},
     "output_type": "execute_result"
    }
   ],
   "source": [
    "# We can now apply the automatic curation criteria to the quality metrics\n",
    "metric_keys = [\n",
    "    {**k, \"auto_curation_params_name\": auto_curation_params_name}\n",
    "    for k in (sgs.QualityMetrics() & ss_key).fetch(\"KEY\")\n",
    "]\n",
    "sgs.AutomaticCurationSelection.insert(metric_keys, skip_duplicates=True)\n",
    "# populating this table will make a new entry in the curation table\n",
    "sgs.AutomaticCuration().populate(ss_key)\n",
    "sgs.Curation() & ss_key"
   ]
  },
  {
   "cell_type": "markdown",
   "metadata": {},
   "source": [
    "### Insert desired curation into downstream and merge tables for future analysis\n",
    "\n",
    "Now that we've performed auto-curation, we can insert the results of our chosen curation into \n",
    "`CuratedSpikeSorting` (the final table of this pipeline), and the merge table `SpikeSortingOutput`.\n",
    "Downstream analyses such as decoding will access the spiking data from there"
   ]
  },
  {
   "cell_type": "code",
   "execution_count": 82,
   "metadata": {},
   "outputs": [
    {
     "data": {
      "text/html": [
       "\n",
       "    \n",
       "    <style type=\"text/css\">\n",
       "        .Table{\n",
       "            border-collapse:collapse;\n",
       "        }\n",
       "        .Table th{\n",
       "            background: #A0A0A0; color: #ffffff; padding:4px; border:#f0e0e0 1px solid;\n",
       "            font-weight: normal; font-family: monospace; font-size: 100%;\n",
       "        }\n",
       "        .Table td{\n",
       "            padding:4px; border:#f0e0e0 1px solid; font-size:100%;\n",
       "        }\n",
       "        .Table tr:nth-child(odd){\n",
       "            background: #ffffff;\n",
       "            color: #000000;\n",
       "        }\n",
       "        .Table tr:nth-child(even){\n",
       "            background: #f3f1ff;\n",
       "            color: #000000;\n",
       "        }\n",
       "        /* Tooltip container */\n",
       "        .djtooltip {\n",
       "        }\n",
       "        /* Tooltip text */\n",
       "        .djtooltip .djtooltiptext {\n",
       "            visibility: hidden;\n",
       "            width: 120px;\n",
       "            background-color: black;\n",
       "            color: #fff;\n",
       "            text-align: center;\n",
       "            padding: 5px 0;\n",
       "            border-radius: 6px;\n",
       "            /* Position the tooltip text - see examples below! */\n",
       "            position: absolute;\n",
       "            z-index: 1;\n",
       "        }\n",
       "        #primary {\n",
       "            font-weight: bold;\n",
       "            color: black;\n",
       "        }\n",
       "        #nonprimary {\n",
       "            font-weight: normal;\n",
       "            color: white;\n",
       "        }\n",
       "\n",
       "        /* Show the tooltip text when you mouse over the tooltip container */\n",
       "        .djtooltip:hover .djtooltiptext {\n",
       "            visibility: visible;\n",
       "        }\n",
       "    </style>\n",
       "    \n",
       "    <b></b>\n",
       "        <div style=\"max-height:1000px;max-width:1500px;overflow:auto;\">\n",
       "        <table border=\"1\" class=\"Table\">\n",
       "            <thead> <tr style=\"text-align: right;\"> <th> <div class=\"djtooltip\">\n",
       "                            <p id=\"primary\">merge_id</p>\n",
       "                            <span class=\"djtooltiptext\"></span>\n",
       "                        </div></th><th><div class=\"djtooltip\">\n",
       "                            <p id=\"nonprimary\">curation_id</p>\n",
       "                            <span class=\"djtooltiptext\">a number correponding to the index of this curation</span>\n",
       "                        </div></th><th><div class=\"djtooltip\">\n",
       "                            <p id=\"nonprimary\">nwb_file_name</p>\n",
       "                            <span class=\"djtooltiptext\">name of the NWB file</span>\n",
       "                        </div></th><th><div class=\"djtooltip\">\n",
       "                            <p id=\"nonprimary\">sort_group_id</p>\n",
       "                            <span class=\"djtooltiptext\">identifier for a group of electrodes</span>\n",
       "                        </div></th><th><div class=\"djtooltip\">\n",
       "                            <p id=\"nonprimary\">sort_interval_name</p>\n",
       "                            <span class=\"djtooltiptext\">name for this interval</span>\n",
       "                        </div></th><th><div class=\"djtooltip\">\n",
       "                            <p id=\"nonprimary\">preproc_params_name</p>\n",
       "                            <span class=\"djtooltiptext\"></span>\n",
       "                        </div></th><th><div class=\"djtooltip\">\n",
       "                            <p id=\"nonprimary\">team_name</p>\n",
       "                            <span class=\"djtooltiptext\"></span>\n",
       "                        </div></th><th><div class=\"djtooltip\">\n",
       "                            <p id=\"nonprimary\">sorter</p>\n",
       "                            <span class=\"djtooltiptext\"></span>\n",
       "                        </div></th><th><div class=\"djtooltip\">\n",
       "                            <p id=\"nonprimary\">sorter_params_name</p>\n",
       "                            <span class=\"djtooltiptext\"></span>\n",
       "                        </div></th><th><div class=\"djtooltip\">\n",
       "                            <p id=\"nonprimary\">artifact_removed_interval_list_name</p>\n",
       "                            <span class=\"djtooltiptext\"></span>\n",
       "                        </div> </th> </tr> </thead>\n",
       "            <tbody> <tr> <td>662f3e35-c81e-546c-69c3-b3a2f5ed2776</td>\n",
       "<td>1</td>\n",
       "<td>minirec20230622_.nwb</td>\n",
       "<td>0</td>\n",
       "<td>01_s1_first9</td>\n",
       "<td>default_hippocampus</td>\n",
       "<td>My Team</td>\n",
       "<td>mountainsort4</td>\n",
       "<td>hippocampus_tutorial</td>\n",
       "<td>minirec20230622_.nwb_01_s1_first9_0_default_hippocampus_none_artifact_removed_valid_times</td> </tr> </tbody>\n",
       "        </table>\n",
       "        \n",
       "        <p>Total: 1</p></div>\n",
       "        "
      ],
      "text/plain": [
       "*merge_id      curation_id    nwb_file_name  sort_group_id  sort_interval_ preproc_params team_name     sorter         sorter_params_ artifact_remov\n",
       "+------------+ +------------+ +------------+ +------------+ +------------+ +------------+ +-----------+ +------------+ +------------+ +------------+\n",
       "662f3e35-c81e- 1              minirec2023062 0              01_s1_first9   default_hippoc My Team       mountainsort4  hippocampus_tu minirec2023062\n",
       " (Total: 1)"
      ]
     },
     "execution_count": 82,
     "metadata": {},
     "output_type": "execute_result"
    }
   ],
   "source": [
    "# get the curation keys corresponding to the automatic curation\n",
    "auto_curation_key_list = (sgs.AutomaticCuration() & ss_key).fetch(\n",
    "    \"auto_curation_key\"\n",
    ")\n",
    "\n",
    "# insert into CuratedSpikeSorting\n",
    "for auto_key in auto_curation_key_list:\n",
    "    # get the full key information needed\n",
    "    curation_auto_key = (sgs.Curation() & auto_key).fetch1(\"KEY\")\n",
    "    sgs.CuratedSpikeSortingSelection.insert1(\n",
    "        curation_auto_key, skip_duplicates=True\n",
    "    )\n",
    "sgs.CuratedSpikeSorting.populate(ss_key)\n",
    "\n",
    "# Add the curated spike sorting to the SpikeSortingOutput merge table\n",
    "keys_for_merge_tables = (\n",
    "    sgs.CuratedSpikeSorting & auto_curation_key_list\n",
    ").fetch(\"KEY\")\n",
    "SpikeSortingOutput.insert(\n",
    "    keys_for_merge_tables,\n",
    "    skip_duplicates=True,\n",
    "    part_name=\"CuratedSpikeSorting\",\n",
    ")\n",
    "# Here's our result!\n",
    "SpikeSortingOutput.CuratedSpikeSorting() & ss_key"
   ]
  },
  {
   "cell_type": "markdown",
   "metadata": {},
   "source": [
    "## Manual Curation with figurl"
   ]
  },
  {
   "cell_type": "markdown",
   "metadata": {},
   "source": [
    "As of June 2021, members of the Frank Lab can use the `sortingview` web app for\n",
    "manual curation. To make use of this, we need to populate the `CurationFigurl` table.\n",
    "\n",
    "We begin by selecting a starting point from the curation entries. In this case we will use\n",
    "the AutomaticCuration populated above as a starting point for manual curation, though you could also \n",
    "start from the opriginal curation entry by selecting the proper key from the `Curation` table\n",
    "\n",
    "_Note_: This step requires setting up your kachery sharing through the [sharing notebook](02_Data_Sync.ipynb)\n",
    "\n"
   ]
  },
  {
   "cell_type": "code",
   "execution_count": 107,
   "metadata": {},
   "outputs": [
    {
     "name": "stderr",
     "output_type": "stream",
     "text": [
      "[16:04:49][INFO] Spyglass: Preparing spikesortingview data\n"
     ]
    },
    {
     "name": "stdout",
     "output_type": "stream",
     "text": [
      "Initial pass: segment 0\n",
      "Segment 0 of 1\n",
      "/stelmo/nwb/kachery-cloud/sha1/de/41/7a/de417af585eda5dc274c1389ad1b28ef1a0580ab\n"
     ]
    },
    {
     "name": "stderr",
     "output_type": "stream",
     "text": [
      "/home/sambray/mambaforge-pypy3/envs/spyglass/lib/python3.9/site-packages/datajoint/autopopulate.py:292: ResourceWarning: unclosed file <_io.TextIOWrapper name='/stelmo/nwb/recording/minirec20230622_.nwb_01_s1_first9_0_default_hippocampus/traces_cached_seg0.raw' mode='r' encoding='UTF-8'>\n",
      "  make(dict(key), **(make_kwargs or {}))\n",
      "ResourceWarning: Enable tracemalloc to get the object allocation traceback\n"
     ]
    }
   ],
   "source": [
    "starting_curations = (sgs.AutomaticCuration() & ss_key).fetch(\n",
    "    \"auto_curation_key\"\n",
    ")  # you could also select any key from the sgs.Curation table here\n",
    "\n",
    "username = \"username\"\n",
    "fig_url_repo = f\"gh://LorenFrankLab/sorting-curations/main/{username}/\"  # settings for franklab members\n",
    "\n",
    "sort_interval_name = interval_list_name\n",
    "gh_url = (\n",
    "    fig_url_repo\n",
    "    + str(nwb_file_name + \"_\" + sort_interval_name)  # session id\n",
    "    + \"/{}\"  # tetrode using auto_id['sort_group_id']\n",
    "    + \"/curation.json\"\n",
    ")  # url where the curation is stored\n",
    "\n",
    "for auto_id in starting_curations:\n",
    "    auto_curation_out_key = dict(\n",
    "        **(sgs.Curation() & auto_id).fetch1(\"KEY\"),\n",
    "        new_curation_uri=gh_url.format(str(auto_id[\"sort_group_id\"])),\n",
    "    )\n",
    "    sgs.CurationFigurlSelection.insert1(\n",
    "        auto_curation_out_key, skip_duplicates=True\n",
    "    )\n",
    "    sgs.CurationFigurl.populate(auto_curation_out_key)"
   ]
  },
  {
   "cell_type": "markdown",
   "metadata": {},
   "source": [
    "We can then access the url for the curation figurl like so:"
   ]
  },
  {
   "cell_type": "code",
   "execution_count": 108,
   "metadata": {},
   "outputs": [
    {
     "name": "stdout",
     "output_type": "stream",
     "text": [
      "https://figurl.org/f?v=npm://@fi-sci/figurl-sortingview@12/dist&d=sha1://b0d9355ba302bcbcb7005822796fc850c06b6d3d&s={\"initialSortingCuration\":\"sha1://2800ea072728fd141d8e5bc88525ac0c6c137d04\",\"sortingCuration\":\"gh://LorenFrankLab/sorting-curations/main/sambray/minirec20230622_.nwb_01_s1/0/curation.json\"}&label=minirec20230622_.nwb_01_s1_first9_0_default_hippocampus%20minirec20230622_.nwb_01_s1_first9_0_default_hippocampus_42be1215_spikesorting&zone=franklab.collaborators\n"
     ]
    }
   ],
   "source": [
    "print((sgs.CurationFigurl & ss_key).fetch(\"url\")[0])"
   ]
  },
  {
   "cell_type": "markdown",
   "metadata": {},
   "source": [
    "This will take you to a workspace on the `sortingview` app. The workspace, which\n",
    "you can think of as a list of recording and associated sorting objects, was\n",
    "created at the end of spike sorting. On the workspace view, you will see a set\n",
    "of recordings that have been added to the workspace.\n",
    "\n",
    "![Workspace view](./../notebook-images/workspace.png)\n",
    "\n",
    "Clicking on a recording then takes you to a page that gives you information\n",
    "about the recording as well as the associated sorting objects.\n",
    "\n",
    "![Recording view](./../notebook-images/recording.png)\n",
    "\n",
    "Click on a sorting to see the curation view. Try exploring the many\n",
    "visualization widgets.\n",
    "\n",
    "![Unit table](./../notebook-images/unittable.png)\n",
    "\n",
    "The most important is the `Units Table` and the `Curation` menu, which allows\n",
    "you to give labels to the units. The curation labels will persist even if you\n",
    "suddenly lose connection to the app; this is because the curation actions are\n",
    "appended to the workspace as soon as they are created. Note that if you are not\n",
    "logged in with your Google account, `Curation` menu may not be visible. Log in\n",
    "and refresh the page to access this feature.\n",
    "\n",
    "![Curation](./../notebook-images/curation.png)\n"
   ]
  }
 ],
 "metadata": {
  "kernelspec": {
   "display_name": "Python 3.10.5 64-bit",
   "language": "python",
   "name": "python3"
  },
  "language_info": {
   "codemirror_mode": {
    "name": "ipython",
    "version": 3
   },
   "file_extension": ".py",
   "mimetype": "text/x-python",
   "name": "python",
   "nbconvert_exporter": "python",
   "pygments_lexer": "ipython3",
   "version": "3.9.16"
  },
  "vscode": {
   "interpreter": {
    "hash": "8a94588eda9d64d9e9a351ab8144e55b1fabf5113b54e67dd26a8c27df0381b3"
   }
  }
 },
 "nbformat": 4,
 "nbformat_minor": 4
}

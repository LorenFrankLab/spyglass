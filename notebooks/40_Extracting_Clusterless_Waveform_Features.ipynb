{
 "cells": [
  {
   "cell_type": "markdown",
   "metadata": {},
   "source": [
    "_Developer Note:_ if you may make a PR in the future, be sure to copy this\n",
    "notebook, and use the `gitignore` prefix `temp` to avoid future conflicts.\n",
    "\n",
    "This is one notebook in a multi-part series on clusterless decoding in Spyglass\n",
    "\n",
    "- To set up your Spyglass environment and database, see\n",
    "  [the Setup notebook](./00_Setup.ipynb)\n",
    "- For additional info on DataJoint syntax, including table definitions and\n",
    "  inserts, see\n",
    "  [the Insert Data notebook](./01_Insert_Data.ipynb)\n",
    "- Prior to running, please familiarize yourself with the [spike sorting\n",
    "  pipeline](./02_Spike_Sorting.ipynb) and generate input position data with\n",
    "  either the [Trodes](./20_Position_Trodes.ipynb) or DLC notebooks\n",
    "  ([1](./21_Position_DLC_1.ipynb), [2](./22_Position_DLC_2.ipynb),\n",
    "  [3](./23_Position_DLC_3.ipynb)).\n",
    "\n",
    "The goal of this notebook is to populate the `UnitWaveformFeatures` table, which depends `SpikeSortingOutput`. This table contains the features of the waveforms of each unit.\n",
    "\n",
    "While clusterless decoding avoids actual spike sorting, we need to pass through these tables to maintain (relative) pipeline simplicity. Pass-through tables keep spike sorting and clusterless waveform extraction as similar as possible, by using shared steps. Here, \"spike sorting\" involves simple thresholding (sorter: clusterless_thresholder).\n"
   ]
  },
  {
   "cell_type": "code",
   "execution_count": 1,
   "metadata": {},
   "outputs": [],
   "source": [
    "from pathlib import Path\n",
    "import datajoint as dj\n",
    "\n",
    "dj.config.load(\n",
    "    Path(\"../dj_local_conf.json\").absolute()\n",
    ")  # load config for database connection info"
   ]
  },
  {
   "cell_type": "markdown",
   "metadata": {},
   "source": [
    "First, if you haven't inserted the the `mediumnwb20230802.wnb` file into the database, you should do so now. This is the file that we will use for the decoding tutorials.\n",
    "\n",
    "It is a truncated version of the full NWB file, so it will run faster, but bigger than the minirec file we used in the previous tutorials so that decoding makes sense.\n"
   ]
  },
  {
   "cell_type": "code",
   "execution_count": 2,
   "metadata": {},
   "outputs": [
    {
     "name": "stderr",
     "output_type": "stream",
     "text": [
      "[2024-01-17 22:14:51,194][INFO]: Connecting root@localhost:3306\n",
      "[2024-01-17 22:14:51,274][INFO]: Connected root@localhost:3306\n",
      "/Users/edeno/Documents/GitHub/spyglass/src/spyglass/data_import/insert_sessions.py:58: UserWarning: Cannot insert data from mediumnwb20230802.nwb: mediumnwb20230802_.nwb is already in Nwbfile table.\n",
      "  warnings.warn(\n"
     ]
    }
   ],
   "source": [
    "from spyglass.utils.nwb_helper_fn import get_nwb_copy_filename\n",
    "import spyglass.data_import as sgi\n",
    "import spyglass.position as sgp\n",
    "\n",
    "# Insert the nwb file\n",
    "nwb_file_name = \"mediumnwb20230802.nwb\"\n",
    "nwb_copy_file_name = get_nwb_copy_filename(nwb_file_name)\n",
    "sgi.insert_sessions(nwb_file_name)\n",
    "\n",
    "# Position\n",
    "sgp.v1.TrodesPosParams.insert_default()\n",
    "\n",
    "interval_list_name = \"pos 0 valid times\"\n",
    "\n",
    "trodes_s_key = {\n",
    "    \"nwb_file_name\": nwb_copy_file_name,\n",
    "    \"interval_list_name\": interval_list_name,\n",
    "    \"trodes_pos_params_name\": \"default\",\n",
    "}\n",
    "sgp.v1.TrodesPosSelection.insert1(\n",
    "    trodes_s_key,\n",
    "    skip_duplicates=True,\n",
    ")\n",
    "sgp.v1.TrodesPosV1.populate(trodes_s_key)"
   ]
  },
  {
   "cell_type": "markdown",
   "metadata": {},
   "source": [
    "These next steps are the same as in the [Spike Sorting notebook](./10_Spike_SortingV1.ipynb), but we'll repeat them here for clarity. These are pre-processing steps that are shared between spike sorting and clusterless decoding.\n",
    "\n",
    "We first set the `SortGroup` to define which contacts are sorted together.\n",
    "\n",
    "We then setup for spike sorting by bandpass filtering and whitening the data via the `SpikeSortingRecording` table.\n"
   ]
  },
  {
   "cell_type": "code",
   "execution_count": 3,
   "metadata": {},
   "outputs": [
    {
     "name": "stderr",
     "output_type": "stream",
     "text": [
      "[22:14:55][WARNING] Spyglass: Similar row(s) already inserted.\n",
      "[22:14:55][WARNING] Spyglass: Similar row(s) already inserted.\n",
      "[22:14:55][WARNING] Spyglass: Similar row(s) already inserted.\n",
      "[22:14:55][WARNING] Spyglass: Similar row(s) already inserted.\n",
      "[22:14:55][WARNING] Spyglass: Similar row(s) already inserted.\n",
      "[22:14:55][WARNING] Spyglass: Similar row(s) already inserted.\n",
      "[22:14:55][WARNING] Spyglass: Similar row(s) already inserted.\n",
      "[22:14:55][WARNING] Spyglass: Similar row(s) already inserted.\n",
      "[22:14:55][WARNING] Spyglass: Similar row(s) already inserted.\n",
      "[22:14:55][WARNING] Spyglass: Similar row(s) already inserted.\n",
      "[22:14:55][WARNING] Spyglass: Similar row(s) already inserted.\n",
      "[22:14:55][WARNING] Spyglass: Similar row(s) already inserted.\n",
      "[22:14:55][WARNING] Spyglass: Similar row(s) already inserted.\n",
      "[22:14:55][WARNING] Spyglass: Similar row(s) already inserted.\n",
      "[22:14:55][WARNING] Spyglass: Similar row(s) already inserted.\n",
      "[22:14:55][WARNING] Spyglass: Similar row(s) already inserted.\n",
      "[22:14:55][WARNING] Spyglass: Similar row(s) already inserted.\n",
      "[22:14:55][WARNING] Spyglass: Similar row(s) already inserted.\n",
      "[22:14:55][WARNING] Spyglass: Similar row(s) already inserted.\n",
      "[22:14:55][WARNING] Spyglass: Similar row(s) already inserted.\n",
      "[22:14:55][WARNING] Spyglass: Similar row(s) already inserted.\n",
      "[22:14:55][WARNING] Spyglass: Similar row(s) already inserted.\n",
      "[22:14:55][WARNING] Spyglass: Similar row(s) already inserted.\n",
      "[22:14:55][WARNING] Spyglass: Similar row(s) already inserted.\n"
     ]
    }
   ],
   "source": [
    "import spyglass.spikesorting.v1 as sgs\n",
    "\n",
    "sgs.SortGroup.set_group_by_shank(nwb_file_name=nwb_copy_file_name)\n",
    "\n",
    "sort_group_ids = (sgs.SortGroup & {\"nwb_file_name\": nwb_copy_file_name}).fetch(\n",
    "    \"sort_group_id\"\n",
    ")\n",
    "\n",
    "group_keys = []\n",
    "for sort_group_id in sort_group_ids:\n",
    "    key = {\n",
    "        \"nwb_file_name\": nwb_copy_file_name,\n",
    "        \"sort_group_id\": sort_group_id,\n",
    "        \"interval_list_name\": interval_list_name,\n",
    "        \"preproc_param_name\": \"default\",\n",
    "        \"team_name\": \"Alison Comrie\",\n",
    "    }\n",
    "    group_keys.append(key)\n",
    "    sgs.SpikeSortingRecordingSelection.insert_selection(key)\n",
    "\n",
    "sgs.SpikeSortingRecording.populate(group_keys)"
   ]
  },
  {
   "cell_type": "markdown",
   "metadata": {},
   "source": [
    "Next we do artifact detection. Here we skip it by setting the `artifact_param_name` to `None`, but in practice you should detect artifacts as it will affect the decoding.\n"
   ]
  },
  {
   "cell_type": "code",
   "execution_count": 4,
   "metadata": {},
   "outputs": [
    {
     "name": "stderr",
     "output_type": "stream",
     "text": [
      "[22:14:56][WARNING] Spyglass: Similar row(s) already inserted.\n",
      "[22:14:56][WARNING] Spyglass: Similar row(s) already inserted.\n",
      "[22:14:56][WARNING] Spyglass: Similar row(s) already inserted.\n",
      "[22:14:56][WARNING] Spyglass: Similar row(s) already inserted.\n",
      "[22:14:56][WARNING] Spyglass: Similar row(s) already inserted.\n",
      "[22:14:56][WARNING] Spyglass: Similar row(s) already inserted.\n",
      "[22:14:56][WARNING] Spyglass: Similar row(s) already inserted.\n",
      "[22:14:56][WARNING] Spyglass: Similar row(s) already inserted.\n",
      "[22:14:56][WARNING] Spyglass: Similar row(s) already inserted.\n",
      "[22:14:56][WARNING] Spyglass: Similar row(s) already inserted.\n",
      "[22:14:56][WARNING] Spyglass: Similar row(s) already inserted.\n",
      "[22:14:56][WARNING] Spyglass: Similar row(s) already inserted.\n",
      "[22:14:56][WARNING] Spyglass: Similar row(s) already inserted.\n",
      "[22:14:56][WARNING] Spyglass: Similar row(s) already inserted.\n",
      "[22:14:56][WARNING] Spyglass: Similar row(s) already inserted.\n",
      "[22:14:56][WARNING] Spyglass: Similar row(s) already inserted.\n",
      "[22:14:56][WARNING] Spyglass: Similar row(s) already inserted.\n",
      "[22:14:56][WARNING] Spyglass: Similar row(s) already inserted.\n",
      "[22:14:56][WARNING] Spyglass: Similar row(s) already inserted.\n",
      "[22:14:56][WARNING] Spyglass: Similar row(s) already inserted.\n",
      "[22:14:56][WARNING] Spyglass: Similar row(s) already inserted.\n",
      "[22:14:56][WARNING] Spyglass: Similar row(s) already inserted.\n",
      "[22:14:56][WARNING] Spyglass: Similar row(s) already inserted.\n",
      "[22:14:56][WARNING] Spyglass: Similar row(s) already inserted.\n"
     ]
    }
   ],
   "source": [
    "recording_ids = (\n",
    "    sgs.SpikeSortingRecordingSelection & {\"nwb_file_name\": nwb_copy_file_name}\n",
    ").fetch(\"recording_id\")\n",
    "\n",
    "group_keys = []\n",
    "for recording_id in recording_ids:\n",
    "    key = {\n",
    "        \"recording_id\": recording_id,\n",
    "        \"artifact_param_name\": \"none\",\n",
    "    }\n",
    "    group_keys.append(key)\n",
    "    sgs.ArtifactDetectionSelection.insert_selection(key)\n",
    "\n",
    "sgs.ArtifactDetection.populate(group_keys)"
   ]
  },
  {
   "cell_type": "markdown",
   "metadata": {},
   "source": [
    "Now we run the \"spike sorting\", which in our case is simply thresholding the signal to find spikes. We use the `SpikeSorting` table to store the results. Note that `sorter_param_name` defines the parameters for thresholding the signal.\n"
   ]
  },
  {
   "cell_type": "code",
   "execution_count": 5,
   "metadata": {},
   "outputs": [
    {
     "name": "stderr",
     "output_type": "stream",
     "text": [
      "[22:14:56][INFO] Spyglass: Similar row(s) already inserted.\n",
      "[22:14:56][INFO] Spyglass: Similar row(s) already inserted.\n",
      "[22:14:56][INFO] Spyglass: Similar row(s) already inserted.\n",
      "[22:14:56][INFO] Spyglass: Similar row(s) already inserted.\n",
      "[22:14:56][INFO] Spyglass: Similar row(s) already inserted.\n",
      "[22:14:56][INFO] Spyglass: Similar row(s) already inserted.\n",
      "[22:14:56][INFO] Spyglass: Similar row(s) already inserted.\n",
      "[22:14:56][INFO] Spyglass: Similar row(s) already inserted.\n",
      "[22:14:56][INFO] Spyglass: Similar row(s) already inserted.\n",
      "[22:14:56][INFO] Spyglass: Similar row(s) already inserted.\n",
      "[22:14:56][INFO] Spyglass: Similar row(s) already inserted.\n",
      "[22:14:56][INFO] Spyglass: Similar row(s) already inserted.\n",
      "[22:14:56][INFO] Spyglass: Similar row(s) already inserted.\n",
      "[22:14:56][INFO] Spyglass: Similar row(s) already inserted.\n",
      "[22:14:56][INFO] Spyglass: Similar row(s) already inserted.\n",
      "[22:14:56][INFO] Spyglass: Similar row(s) already inserted.\n",
      "[22:14:56][INFO] Spyglass: Similar row(s) already inserted.\n",
      "[22:14:56][INFO] Spyglass: Similar row(s) already inserted.\n",
      "[22:14:56][INFO] Spyglass: Similar row(s) already inserted.\n",
      "[22:14:56][INFO] Spyglass: Similar row(s) already inserted.\n",
      "[22:14:56][INFO] Spyglass: Similar row(s) already inserted.\n",
      "[22:14:56][INFO] Spyglass: Similar row(s) already inserted.\n",
      "[22:14:56][INFO] Spyglass: Similar row(s) already inserted.\n",
      "[22:14:56][INFO] Spyglass: Similar row(s) already inserted.\n"
     ]
    }
   ],
   "source": [
    "group_keys = []\n",
    "for recording_id in recording_ids:\n",
    "    key = {\n",
    "        \"recording_id\": recording_id,\n",
    "        \"sorter\": \"clusterless_thresholder\",\n",
    "        \"sorter_param_name\": \"default_clusterless\",\n",
    "        \"nwb_file_name\": nwb_copy_file_name,\n",
    "        \"interval_list_name\": str(\n",
    "            (\n",
    "                sgs.ArtifactDetectionSelection & {\"recording_id\": recording_id}\n",
    "            ).fetch1(\"artifact_id\")\n",
    "        ),\n",
    "    }\n",
    "    group_keys.append(key)\n",
    "    sgs.SpikeSortingSelection.insert_selection(key)\n",
    "\n",
    "sgs.SpikeSorting.populate(group_keys)"
   ]
  },
  {
   "cell_type": "markdown",
   "metadata": {},
   "source": [
    "For clusterless decoding we do not need any manual curation, but for the sake of the pipeline, we need to store the output of the thresholding in the `CurationV1` table and insert this into the `SpikeSortingOutput` table.\n"
   ]
  },
  {
   "cell_type": "code",
   "execution_count": 6,
   "metadata": {},
   "outputs": [],
   "source": [
    "from spyglass.spikesorting.spikesorting_merge import SpikeSortingOutput\n",
    "\n",
    "sorting_ids = (\n",
    "    sgs.SpikeSortingSelection & {\"nwb_file_name\": nwb_copy_file_name}\n",
    ").fetch(\"sorting_id\")\n",
    "\n",
    "for sorting_id in sorting_ids:\n",
    "    try:\n",
    "        sgs.CurationV1.insert_curation(sorting_id=sorting_id)\n",
    "    except KeyError as e:\n",
    "        pass\n",
    "\n",
    "SpikeSortingOutput.insert(\n",
    "    sgs.CurationV1().fetch(\"KEY\"),\n",
    "    part_name=\"CurationV1\",\n",
    "    skip_duplicates=True,\n",
    ")"
   ]
  },
  {
   "cell_type": "markdown",
   "metadata": {},
   "source": [
    "Finally, we extract the waveform features of each SortGroup. This is done by the `UnitWaveformFeatures` table.\n",
    "\n",
    "To set this up, we use the `WaveformFeaturesParams` to define the time around the spike that we want to use for feature extraction, and which features to extract. Here is an example of the parameters used for extraction the amplitude of the negative peak of the waveform:\n",
    "\n",
    "```python\n",
    "\n",
    "waveform_extraction_params = {\n",
    "    \"ms_before\": 0.5,\n",
    "    \"ms_after\": 0.5,\n",
    "    \"max_spikes_per_unit\": None,\n",
    "    \"n_jobs\": 5,\n",
    "    \"total_memory\": \"5G\",\n",
    "}\n",
    "waveform_feature_params = {\n",
    "    \"amplitude\": {\n",
    "        \"peak_sign\": \"neg\",\n",
    "        \"estimate_peak_time\": False,\n",
    "    }\n",
    "}\n",
    "```\n",
    "\n",
    "We see that we want 0.5 ms of time before and after the peak of the negative spike. We also see that we want to extract the amplitude of the negative peak, and that we do not want to estimate the peak time (since we know it is at 0 ms).\n",
    "\n",
    "You can define other features to extract such as spatial location of the spike:\n",
    "\n",
    "```python\n",
    "waveform_extraction_params = {\n",
    "    \"ms_before\": 0.5,\n",
    "    \"ms_after\": 0.5,\n",
    "    \"max_spikes_per_unit\": None,\n",
    "    \"n_jobs\": 5,\n",
    "    \"total_memory\": \"5G\",\n",
    "}\n",
    "waveform_feature_params = {\n",
    "    \"amplitude\": {\n",
    "        \"peak_sign\": \"neg\",\n",
    "        \"estimate_peak_time\": False,\n",
    "    },\n",
    "    \"spike location\": {}\n",
    "}\n",
    "\n",
    "```\n",
    "\n",
    "_Note_: Members of the Frank Lab can use \"ampl_10_jobs_v2\" instead of \"amplitude\"\n",
    "for significant speed improvements.\n"
   ]
  },
  {
   "cell_type": "code",
   "execution_count": 7,
   "metadata": {},
   "outputs": [
    {
     "data": {
      "text/html": [
       "\n",
       "    \n",
       "    <style type=\"text/css\">\n",
       "        .Table{\n",
       "            border-collapse:collapse;\n",
       "        }\n",
       "        .Table th{\n",
       "            background: #A0A0A0; color: #ffffff; padding:4px; border:#f0e0e0 1px solid;\n",
       "            font-weight: normal; font-family: monospace; font-size: 100%;\n",
       "        }\n",
       "        .Table td{\n",
       "            padding:4px; border:#f0e0e0 1px solid; font-size:100%;\n",
       "        }\n",
       "        .Table tr:nth-child(odd){\n",
       "            background: #ffffff;\n",
       "            color: #000000;\n",
       "        }\n",
       "        .Table tr:nth-child(even){\n",
       "            background: #f3f1ff;\n",
       "            color: #000000;\n",
       "        }\n",
       "        /* Tooltip container */\n",
       "        .djtooltip {\n",
       "        }\n",
       "        /* Tooltip text */\n",
       "        .djtooltip .djtooltiptext {\n",
       "            visibility: hidden;\n",
       "            width: 120px;\n",
       "            background-color: black;\n",
       "            color: #fff;\n",
       "            text-align: center;\n",
       "            padding: 5px 0;\n",
       "            border-radius: 6px;\n",
       "            /* Position the tooltip text - see examples below! */\n",
       "            position: absolute;\n",
       "            z-index: 1;\n",
       "        }\n",
       "        #primary {\n",
       "            font-weight: bold;\n",
       "            color: black;\n",
       "        }\n",
       "        #nonprimary {\n",
       "            font-weight: normal;\n",
       "            color: white;\n",
       "        }\n",
       "\n",
       "        /* Show the tooltip text when you mouse over the tooltip container */\n",
       "        .djtooltip:hover .djtooltiptext {\n",
       "            visibility: visible;\n",
       "        }\n",
       "    </style>\n",
       "    \n",
       "    <b></b>\n",
       "        <div style=\"max-height:1000px;max-width:1500px;overflow:auto;\">\n",
       "        <table border=\"1\" class=\"Table\">\n",
       "            <thead> <tr style=\"text-align: right;\"> <th> <div class=\"djtooltip\">\n",
       "                            <p id=\"primary\">features_param_name</p>\n",
       "                            <span class=\"djtooltiptext\">a name for this set of parameters</span>\n",
       "                        </div></th><th><div class=\"djtooltip\">\n",
       "                            <p id=\"nonprimary\">params</p>\n",
       "                            <span class=\"djtooltiptext\">the parameters for the waveform features</span>\n",
       "                        </div> </th> </tr> </thead>\n",
       "            <tbody> <tr> <td>amplitude</td>\n",
       "<td>=BLOB=</td></tr><tr><td>amplitude, spike_location</td>\n",
       "<td>=BLOB=</td> </tr> </tbody>\n",
       "        </table>\n",
       "        \n",
       "        <p>Total: 2</p></div>\n",
       "        "
      ],
      "text/plain": [
       "*features_para params    \n",
       "+------------+ +--------+\n",
       "amplitude      =BLOB=    \n",
       "amplitude, spi =BLOB=    \n",
       " (Total: 2)"
      ]
     },
     "execution_count": 7,
     "metadata": {},
     "output_type": "execute_result"
    }
   ],
   "source": [
    "from spyglass.decoding.v1.waveform_features import WaveformFeaturesParams\n",
    "\n",
    "waveform_extraction_params = {\n",
    "    \"ms_before\": 0.5,\n",
    "    \"ms_after\": 0.5,\n",
    "    \"max_spikes_per_unit\": None,\n",
    "    \"n_jobs\": 5,\n",
    "    \"total_memory\": \"5G\",\n",
    "}\n",
    "waveform_feature_params = {\n",
    "    \"amplitude\": {\n",
    "        \"peak_sign\": \"neg\",\n",
    "        \"estimate_peak_time\": False,\n",
    "    }\n",
    "}\n",
    "\n",
    "WaveformFeaturesParams.insert1(\n",
    "    {\n",
    "        \"features_param_name\": \"amplitude\",\n",
    "        \"params\": {\n",
    "            \"waveform_extraction_params\": waveform_extraction_params,\n",
    "            \"waveform_feature_params\": waveform_feature_params,\n",
    "        },\n",
    "    },\n",
    "    skip_duplicates=True,\n",
    ")\n",
    "\n",
    "WaveformFeaturesParams()"
   ]
  },
  {
   "cell_type": "markdown",
   "metadata": {},
   "source": [
    "Now that we've inserted the waveform features parameters, we need to define which parameters to use for each SortGroup. This is done by the `UnitWaveformFeaturesSelection` table. We need to link the primary key `merge_id` from the `SpikeSortingOutput` table to a features parameter set.\n"
   ]
  },
  {
   "cell_type": "code",
   "execution_count": 8,
   "metadata": {},
   "outputs": [
    {
     "data": {
      "text/html": [
       "\n",
       "    \n",
       "    <style type=\"text/css\">\n",
       "        .Table{\n",
       "            border-collapse:collapse;\n",
       "        }\n",
       "        .Table th{\n",
       "            background: #A0A0A0; color: #ffffff; padding:4px; border:#f0e0e0 1px solid;\n",
       "            font-weight: normal; font-family: monospace; font-size: 100%;\n",
       "        }\n",
       "        .Table td{\n",
       "            padding:4px; border:#f0e0e0 1px solid; font-size:100%;\n",
       "        }\n",
       "        .Table tr:nth-child(odd){\n",
       "            background: #ffffff;\n",
       "            color: #000000;\n",
       "        }\n",
       "        .Table tr:nth-child(even){\n",
       "            background: #f3f1ff;\n",
       "            color: #000000;\n",
       "        }\n",
       "        /* Tooltip container */\n",
       "        .djtooltip {\n",
       "        }\n",
       "        /* Tooltip text */\n",
       "        .djtooltip .djtooltiptext {\n",
       "            visibility: hidden;\n",
       "            width: 120px;\n",
       "            background-color: black;\n",
       "            color: #fff;\n",
       "            text-align: center;\n",
       "            padding: 5px 0;\n",
       "            border-radius: 6px;\n",
       "            /* Position the tooltip text - see examples below! */\n",
       "            position: absolute;\n",
       "            z-index: 1;\n",
       "        }\n",
       "        #primary {\n",
       "            font-weight: bold;\n",
       "            color: black;\n",
       "        }\n",
       "        #nonprimary {\n",
       "            font-weight: normal;\n",
       "            color: white;\n",
       "        }\n",
       "\n",
       "        /* Show the tooltip text when you mouse over the tooltip container */\n",
       "        .djtooltip:hover .djtooltiptext {\n",
       "            visibility: visible;\n",
       "        }\n",
       "    </style>\n",
       "    \n",
       "    <b></b>\n",
       "        <div style=\"max-height:1000px;max-width:1500px;overflow:auto;\">\n",
       "        <table border=\"1\" class=\"Table\">\n",
       "            <thead> <tr style=\"text-align: right;\"> <th> <div class=\"djtooltip\">\n",
       "                            <p id=\"primary\">spikesorting_merge_id</p>\n",
       "                            <span class=\"djtooltiptext\"></span>\n",
       "                        </div></th><th><div class=\"djtooltip\">\n",
       "                            <p id=\"primary\">features_param_name</p>\n",
       "                            <span class=\"djtooltiptext\">a name for this set of parameters</span>\n",
       "                        </div> </th> </tr> </thead>\n",
       "            <tbody> <tr> <td>0751a1e1-a406-7f87-ae6f-ce4ffc60621c</td>\n",
       "<td>amplitude</td></tr><tr><td>485a4ddf-332d-35b5-3ad4-0561736c1844</td>\n",
       "<td>amplitude</td></tr><tr><td>4a712103-c223-864f-82e0-6c23de79cc14</td>\n",
       "<td>amplitude</td></tr><tr><td>4a72c253-b3ca-8c13-e615-736a7ebff35c</td>\n",
       "<td>amplitude</td></tr><tr><td>5c53bd33-d57c-fbba-e0fb-55e0bcb85d03</td>\n",
       "<td>amplitude</td></tr><tr><td>614d796c-0b95-6364-aaa0-b6cb1e7bbb83</td>\n",
       "<td>amplitude</td></tr><tr><td>6acb99b8-6a0c-eb83-1141-5f603c5895e0</td>\n",
       "<td>amplitude</td></tr><tr><td>6d039a63-17ad-0b78-4b1e-f02d5f3dbbc5</td>\n",
       "<td>amplitude</td></tr><tr><td>74e10781-1228-4075-0870-af224024ffdc</td>\n",
       "<td>amplitude</td></tr><tr><td>7e3fa66e-727e-1541-819a-b01309bb30ae</td>\n",
       "<td>amplitude</td></tr><tr><td>86897349-ff68-ac72-02eb-739dd88936e6</td>\n",
       "<td>amplitude</td></tr><tr><td>8bbddc0f-d6ae-6260-9400-f884a6e25ae8</td>\n",
       "<td>amplitude</td> </tr> </tbody>\n",
       "        </table>\n",
       "        <p>...</p>\n",
       "        <p>Total: 23</p></div>\n",
       "        "
      ],
      "text/plain": [
       "*spikesorting_ *features_para\n",
       "+------------+ +------------+\n",
       "0751a1e1-a406- amplitude     \n",
       "485a4ddf-332d- amplitude     \n",
       "4a712103-c223- amplitude     \n",
       "4a72c253-b3ca- amplitude     \n",
       "5c53bd33-d57c- amplitude     \n",
       "614d796c-0b95- amplitude     \n",
       "6acb99b8-6a0c- amplitude     \n",
       "6d039a63-17ad- amplitude     \n",
       "74e10781-1228- amplitude     \n",
       "7e3fa66e-727e- amplitude     \n",
       "86897349-ff68- amplitude     \n",
       "8bbddc0f-d6ae- amplitude     \n",
       "   ...\n",
       " (Total: 23)"
      ]
     },
     "execution_count": 8,
     "metadata": {},
     "output_type": "execute_result"
    }
   ],
   "source": [
    "from spyglass.decoding.v1.waveform_features import UnitWaveformFeaturesSelection\n",
    "\n",
    "UnitWaveformFeaturesSelection()"
   ]
  },
  {
   "cell_type": "markdown",
   "metadata": {},
   "source": [
    "First we find the units we need:\n"
   ]
  },
  {
   "cell_type": "code",
   "execution_count": 9,
   "metadata": {},
   "outputs": [
    {
     "data": {
      "text/plain": [
       "array([UUID('485a4ddf-332d-35b5-3ad4-0561736c1844'),\n",
       "       UUID('6acb99b8-6a0c-eb83-1141-5f603c5895e0'),\n",
       "       UUID('f7237e18-4e73-4aee-805b-90735e9147de'),\n",
       "       UUID('7e3fa66e-727e-1541-819a-b01309bb30ae'),\n",
       "       UUID('6d039a63-17ad-0b78-4b1e-f02d5f3dbbc5'),\n",
       "       UUID('e0e9133a-7a4e-1321-a43a-e8afcb2f25da'),\n",
       "       UUID('9959b614-2318-f597-6651-a3a82124d28a'),\n",
       "       UUID('c0eb6455-fc41-c200-b62e-e3ca81b9a3f7'),\n",
       "       UUID('912e250e-56d8-ee33-4525-c844d810971b'),\n",
       "       UUID('d7d2c97a-0e6e-d1b8-735c-d55dc66a30e1'),\n",
       "       UUID('abb92dce-4410-8f17-a501-a4104bda0dcf'),\n",
       "       UUID('74e10781-1228-4075-0870-af224024ffdc'),\n",
       "       UUID('8bbddc0f-d6ae-6260-9400-f884a6e25ae8'),\n",
       "       UUID('614d796c-0b95-6364-aaa0-b6cb1e7bbb83'),\n",
       "       UUID('b332482b-e430-169d-8ac0-0a73ce968ed7'),\n",
       "       UUID('86897349-ff68-ac72-02eb-739dd88936e6'),\n",
       "       UUID('4a712103-c223-864f-82e0-6c23de79cc14'),\n",
       "       UUID('cf858380-e8a3-49de-c2a9-1a277e307a68'),\n",
       "       UUID('cc4ee561-f974-f8e5-0ea4-83185263ac67'),\n",
       "       UUID('4a72c253-b3ca-8c13-e615-736a7ebff35c'),\n",
       "       UUID('b92a94d8-ee1e-2097-a81f-5c1e1556ed24'),\n",
       "       UUID('5c53bd33-d57c-fbba-e0fb-55e0bcb85d03'),\n",
       "       UUID('0751a1e1-a406-7f87-ae6f-ce4ffc60621c')], dtype=object)"
      ]
     },
     "execution_count": 9,
     "metadata": {},
     "output_type": "execute_result"
    }
   ],
   "source": [
    "from spyglass.spikesorting.spikesorting_merge import SpikeSortingOutput\n",
    "\n",
    "merge_ids = (\n",
    "    (SpikeSortingOutput.CurationV1 * sgs.SpikeSortingSelection)\n",
    "    & {\n",
    "        \"nwb_file_name\": nwb_copy_file_name,\n",
    "        \"sorter\": \"clusterless_thresholder\",\n",
    "        \"sorter_param_name\": \"default_clusterless\",\n",
    "    }\n",
    ").fetch(\"merge_id\")\n",
    "merge_ids"
   ]
  },
  {
   "cell_type": "markdown",
   "metadata": {},
   "source": [
    "Then we link them with the features parameters:\n"
   ]
  },
  {
   "cell_type": "code",
   "execution_count": 10,
   "metadata": {},
   "outputs": [
    {
     "data": {
      "text/html": [
       "\n",
       "    \n",
       "    <style type=\"text/css\">\n",
       "        .Table{\n",
       "            border-collapse:collapse;\n",
       "        }\n",
       "        .Table th{\n",
       "            background: #A0A0A0; color: #ffffff; padding:4px; border:#f0e0e0 1px solid;\n",
       "            font-weight: normal; font-family: monospace; font-size: 100%;\n",
       "        }\n",
       "        .Table td{\n",
       "            padding:4px; border:#f0e0e0 1px solid; font-size:100%;\n",
       "        }\n",
       "        .Table tr:nth-child(odd){\n",
       "            background: #ffffff;\n",
       "            color: #000000;\n",
       "        }\n",
       "        .Table tr:nth-child(even){\n",
       "            background: #f3f1ff;\n",
       "            color: #000000;\n",
       "        }\n",
       "        /* Tooltip container */\n",
       "        .djtooltip {\n",
       "        }\n",
       "        /* Tooltip text */\n",
       "        .djtooltip .djtooltiptext {\n",
       "            visibility: hidden;\n",
       "            width: 120px;\n",
       "            background-color: black;\n",
       "            color: #fff;\n",
       "            text-align: center;\n",
       "            padding: 5px 0;\n",
       "            border-radius: 6px;\n",
       "            /* Position the tooltip text - see examples below! */\n",
       "            position: absolute;\n",
       "            z-index: 1;\n",
       "        }\n",
       "        #primary {\n",
       "            font-weight: bold;\n",
       "            color: black;\n",
       "        }\n",
       "        #nonprimary {\n",
       "            font-weight: normal;\n",
       "            color: white;\n",
       "        }\n",
       "\n",
       "        /* Show the tooltip text when you mouse over the tooltip container */\n",
       "        .djtooltip:hover .djtooltiptext {\n",
       "            visibility: visible;\n",
       "        }\n",
       "    </style>\n",
       "    \n",
       "    <b></b>\n",
       "        <div style=\"max-height:1000px;max-width:1500px;overflow:auto;\">\n",
       "        <table border=\"1\" class=\"Table\">\n",
       "            <thead> <tr style=\"text-align: right;\"> <th> <div class=\"djtooltip\">\n",
       "                            <p id=\"primary\">spikesorting_merge_id</p>\n",
       "                            <span class=\"djtooltiptext\"></span>\n",
       "                        </div></th><th><div class=\"djtooltip\">\n",
       "                            <p id=\"primary\">features_param_name</p>\n",
       "                            <span class=\"djtooltiptext\">a name for this set of parameters</span>\n",
       "                        </div> </th> </tr> </thead>\n",
       "            <tbody> <tr> <td>0751a1e1-a406-7f87-ae6f-ce4ffc60621c</td>\n",
       "<td>amplitude</td></tr><tr><td>485a4ddf-332d-35b5-3ad4-0561736c1844</td>\n",
       "<td>amplitude</td></tr><tr><td>4a712103-c223-864f-82e0-6c23de79cc14</td>\n",
       "<td>amplitude</td></tr><tr><td>4a72c253-b3ca-8c13-e615-736a7ebff35c</td>\n",
       "<td>amplitude</td></tr><tr><td>5c53bd33-d57c-fbba-e0fb-55e0bcb85d03</td>\n",
       "<td>amplitude</td></tr><tr><td>614d796c-0b95-6364-aaa0-b6cb1e7bbb83</td>\n",
       "<td>amplitude</td></tr><tr><td>6acb99b8-6a0c-eb83-1141-5f603c5895e0</td>\n",
       "<td>amplitude</td></tr><tr><td>6d039a63-17ad-0b78-4b1e-f02d5f3dbbc5</td>\n",
       "<td>amplitude</td></tr><tr><td>74e10781-1228-4075-0870-af224024ffdc</td>\n",
       "<td>amplitude</td></tr><tr><td>7e3fa66e-727e-1541-819a-b01309bb30ae</td>\n",
       "<td>amplitude</td></tr><tr><td>86897349-ff68-ac72-02eb-739dd88936e6</td>\n",
       "<td>amplitude</td></tr><tr><td>8bbddc0f-d6ae-6260-9400-f884a6e25ae8</td>\n",
       "<td>amplitude</td> </tr> </tbody>\n",
       "        </table>\n",
       "        <p>...</p>\n",
       "        <p>Total: 23</p></div>\n",
       "        "
      ],
      "text/plain": [
       "*spikesorting_ *features_para\n",
       "+------------+ +------------+\n",
       "0751a1e1-a406- amplitude     \n",
       "485a4ddf-332d- amplitude     \n",
       "4a712103-c223- amplitude     \n",
       "4a72c253-b3ca- amplitude     \n",
       "5c53bd33-d57c- amplitude     \n",
       "614d796c-0b95- amplitude     \n",
       "6acb99b8-6a0c- amplitude     \n",
       "6d039a63-17ad- amplitude     \n",
       "74e10781-1228- amplitude     \n",
       "7e3fa66e-727e- amplitude     \n",
       "86897349-ff68- amplitude     \n",
       "8bbddc0f-d6ae- amplitude     \n",
       "   ...\n",
       " (Total: 23)"
      ]
     },
     "execution_count": 10,
     "metadata": {},
     "output_type": "execute_result"
    }
   ],
   "source": [
    "selection_keys = [\n",
    "    {\n",
    "        \"spikesorting_merge_id\": merge_id,\n",
    "        \"features_param_name\": \"amplitude\",\n",
    "    }\n",
    "    for merge_id in merge_ids\n",
    "]\n",
    "UnitWaveformFeaturesSelection.insert(selection_keys, skip_duplicates=True)\n",
    "\n",
    "UnitWaveformFeaturesSelection & selection_keys"
   ]
  },
  {
   "cell_type": "markdown",
   "metadata": {},
   "source": [
    "Finally, we extract the waveform features, by populating the `UnitWaveformFeatures` table:\n"
   ]
  },
  {
   "cell_type": "code",
   "execution_count": 11,
   "metadata": {},
   "outputs": [
    {
     "name": "stderr",
     "output_type": "stream",
     "text": [
      "/Users/edeno/miniconda3/envs/spyglass/lib/python3.9/site-packages/spikeinterface/core/waveform_extractor.py:275: UserWarning: Sorting object is not dumpable, which might result in downstream errors for parallel processing. To make the sorting dumpable, use the `sorting.save()` function.\n",
      "  warn(\n"
     ]
    },
    {
     "data": {
      "application/vnd.jupyter.widget-view+json": {
       "model_id": "c4f79735339147cf93143b0d329f7b0c",
       "version_major": 2,
       "version_minor": 0
      },
      "text/plain": [
       "extract waveforms memmap:   0%|          | 0/2 [00:00<?, ?it/s]"
      ]
     },
     "metadata": {},
     "output_type": "display_data"
    },
    {
     "name": "stderr",
     "output_type": "stream",
     "text": [
      "[2024-01-17 22:15:08,494][WARNING]: Skipped checksum for file with hash: 6629fd95-636a-4ad4-c9af-cee507de2130, and path: /Users/edeno/Documents/GitHub/spyglass/DATA/analysis/mediumnwb20230802/mediumnwb20230802_AMBBKQ9RIY.nwb\n",
      "/Users/edeno/miniconda3/envs/spyglass/lib/python3.9/site-packages/pynwb/ecephys.py:90: UserWarning: ElectricalSeries 'e-series': The second dimension of data does not match the length of electrodes. Your data may be transposed.\n",
      "  warnings.warn(\"%s '%s': The second dimension of data does not match the length of electrodes. \"\n",
      "/Users/edeno/miniconda3/envs/spyglass/lib/python3.9/site-packages/pynwb/base.py:193: UserWarning: TimeSeries 'analog': Length of data does not match length of timestamps. Your data may be transposed. Time should be on the 0th dimension\n",
      "  warn(\"%s '%s': Length of data does not match length of timestamps. Your data may be transposed. \"\n",
      "[22:15:08][INFO] Spyglass: Writing new NWB file mediumnwb20230802_NQEPSMKPK0.nwb\n",
      "/Users/edeno/miniconda3/envs/spyglass/lib/python3.9/site-packages/spikeinterface/core/waveform_extractor.py:275: UserWarning: Sorting object is not dumpable, which might result in downstream errors for parallel processing. To make the sorting dumpable, use the `sorting.save()` function.\n",
      "  warn(\n"
     ]
    },
    {
     "data": {
      "application/vnd.jupyter.widget-view+json": {
       "model_id": "71ac6cac75cd4ddcb21e16dc9432b655",
       "version_major": 2,
       "version_minor": 0
      },
      "text/plain": [
       "extract waveforms memmap:   0%|          | 0/2 [00:00<?, ?it/s]"
      ]
     },
     "metadata": {},
     "output_type": "display_data"
    },
    {
     "name": "stderr",
     "output_type": "stream",
     "text": [
      "[2024-01-17 22:15:19,450][WARNING]: Skipped checksum for file with hash: 6d04cbdb-e1e4-f44f-7274-0e1ab0356d75, and path: /Users/edeno/Documents/GitHub/spyglass/DATA/analysis/mediumnwb20230802/mediumnwb20230802_W1MLF0Q86S.nwb\n",
      "/Users/edeno/miniconda3/envs/spyglass/lib/python3.9/site-packages/pynwb/ecephys.py:90: UserWarning: ElectricalSeries 'e-series': The second dimension of data does not match the length of electrodes. Your data may be transposed.\n",
      "  warnings.warn(\"%s '%s': The second dimension of data does not match the length of electrodes. \"\n",
      "/Users/edeno/miniconda3/envs/spyglass/lib/python3.9/site-packages/pynwb/base.py:193: UserWarning: TimeSeries 'analog': Length of data does not match length of timestamps. Your data may be transposed. Time should be on the 0th dimension\n",
      "  warn(\"%s '%s': Length of data does not match length of timestamps. Your data may be transposed. \"\n",
      "[22:15:19][INFO] Spyglass: Writing new NWB file mediumnwb20230802_F02UG5Z5FR.nwb\n",
      "/Users/edeno/miniconda3/envs/spyglass/lib/python3.9/site-packages/spikeinterface/core/waveform_extractor.py:275: UserWarning: Sorting object is not dumpable, which might result in downstream errors for parallel processing. To make the sorting dumpable, use the `sorting.save()` function.\n",
      "  warn(\n"
     ]
    },
    {
     "data": {
      "application/vnd.jupyter.widget-view+json": {
       "model_id": "a90dc146fa6548a8a2b2af7495d4be29",
       "version_major": 2,
       "version_minor": 0
      },
      "text/plain": [
       "extract waveforms memmap:   0%|          | 0/2 [00:00<?, ?it/s]"
      ]
     },
     "metadata": {},
     "output_type": "display_data"
    },
    {
     "name": "stderr",
     "output_type": "stream",
     "text": [
      "[2024-01-17 22:15:30,787][WARNING]: Skipped checksum for file with hash: 8993754e-7dbe-94a1-403d-8c55aa9c6c42, and path: /Users/edeno/Documents/GitHub/spyglass/DATA/analysis/mediumnwb20230802/mediumnwb20230802_JN4A4GSLZB.nwb\n",
      "/Users/edeno/miniconda3/envs/spyglass/lib/python3.9/site-packages/pynwb/ecephys.py:90: UserWarning: ElectricalSeries 'e-series': The second dimension of data does not match the length of electrodes. Your data may be transposed.\n",
      "  warnings.warn(\"%s '%s': The second dimension of data does not match the length of electrodes. \"\n",
      "/Users/edeno/miniconda3/envs/spyglass/lib/python3.9/site-packages/pynwb/base.py:193: UserWarning: TimeSeries 'analog': Length of data does not match length of timestamps. Your data may be transposed. Time should be on the 0th dimension\n",
      "  warn(\"%s '%s': Length of data does not match length of timestamps. Your data may be transposed. \"\n",
      "[22:15:31][INFO] Spyglass: Writing new NWB file mediumnwb20230802_OTV91MLKDT.nwb\n",
      "/Users/edeno/miniconda3/envs/spyglass/lib/python3.9/site-packages/spikeinterface/core/waveform_extractor.py:275: UserWarning: Sorting object is not dumpable, which might result in downstream errors for parallel processing. To make the sorting dumpable, use the `sorting.save()` function.\n",
      "  warn(\n"
     ]
    },
    {
     "data": {
      "application/vnd.jupyter.widget-view+json": {
       "model_id": "3d8380674f7246c3ac47438cb638ec48",
       "version_major": 2,
       "version_minor": 0
      },
      "text/plain": [
       "extract waveforms memmap:   0%|          | 0/2 [00:00<?, ?it/s]"
      ]
     },
     "metadata": {},
     "output_type": "display_data"
    },
    {
     "name": "stderr",
     "output_type": "stream",
     "text": [
      "[2024-01-17 22:15:41,633][WARNING]: Skipped checksum for file with hash: 9e24661c-b021-6ad4-f224-89e331334f18, and path: /Users/edeno/Documents/GitHub/spyglass/DATA/analysis/mediumnwb20230802/mediumnwb20230802_T2DBO3EMZ8.nwb\n",
      "/Users/edeno/miniconda3/envs/spyglass/lib/python3.9/site-packages/pynwb/ecephys.py:90: UserWarning: ElectricalSeries 'e-series': The second dimension of data does not match the length of electrodes. Your data may be transposed.\n",
      "  warnings.warn(\"%s '%s': The second dimension of data does not match the length of electrodes. \"\n",
      "/Users/edeno/miniconda3/envs/spyglass/lib/python3.9/site-packages/pynwb/base.py:193: UserWarning: TimeSeries 'analog': Length of data does not match length of timestamps. Your data may be transposed. Time should be on the 0th dimension\n",
      "  warn(\"%s '%s': Length of data does not match length of timestamps. Your data may be transposed. \"\n",
      "[22:15:41][INFO] Spyglass: Writing new NWB file mediumnwb20230802_TSPNTCGNN1.nwb\n",
      "/Users/edeno/miniconda3/envs/spyglass/lib/python3.9/site-packages/spikeinterface/core/waveform_extractor.py:275: UserWarning: Sorting object is not dumpable, which might result in downstream errors for parallel processing. To make the sorting dumpable, use the `sorting.save()` function.\n",
      "  warn(\n"
     ]
    },
    {
     "data": {
      "application/vnd.jupyter.widget-view+json": {
       "model_id": "a5bd42b4afcd445894660a3601248554",
       "version_major": 2,
       "version_minor": 0
      },
      "text/plain": [
       "extract waveforms memmap:   0%|          | 0/2 [00:00<?, ?it/s]"
      ]
     },
     "metadata": {},
     "output_type": "display_data"
    },
    {
     "name": "stderr",
     "output_type": "stream",
     "text": [
      "[2024-01-17 22:15:52,561][WARNING]: Skipped checksum for file with hash: f64f34ee-e72d-e566-a048-65f2ea31708a, and path: /Users/edeno/Documents/GitHub/spyglass/DATA/analysis/mediumnwb20230802/mediumnwb20230802_USMRXAAV8I.nwb\n",
      "/Users/edeno/miniconda3/envs/spyglass/lib/python3.9/site-packages/pynwb/ecephys.py:90: UserWarning: ElectricalSeries 'e-series': The second dimension of data does not match the length of electrodes. Your data may be transposed.\n",
      "  warnings.warn(\"%s '%s': The second dimension of data does not match the length of electrodes. \"\n",
      "/Users/edeno/miniconda3/envs/spyglass/lib/python3.9/site-packages/pynwb/base.py:193: UserWarning: TimeSeries 'analog': Length of data does not match length of timestamps. Your data may be transposed. Time should be on the 0th dimension\n",
      "  warn(\"%s '%s': Length of data does not match length of timestamps. Your data may be transposed. \"\n",
      "[22:15:52][INFO] Spyglass: Writing new NWB file mediumnwb20230802_QSK70WFDJH.nwb\n",
      "/Users/edeno/miniconda3/envs/spyglass/lib/python3.9/site-packages/spikeinterface/core/waveform_extractor.py:275: UserWarning: Sorting object is not dumpable, which might result in downstream errors for parallel processing. To make the sorting dumpable, use the `sorting.save()` function.\n",
      "  warn(\n"
     ]
    },
    {
     "data": {
      "application/vnd.jupyter.widget-view+json": {
       "model_id": "ecfd8f43660a41278fbc6826f4517fc7",
       "version_major": 2,
       "version_minor": 0
      },
      "text/plain": [
       "extract waveforms memmap:   0%|          | 0/2 [00:00<?, ?it/s]"
      ]
     },
     "metadata": {},
     "output_type": "display_data"
    },
    {
     "name": "stderr",
     "output_type": "stream",
     "text": [
      "[2024-01-17 22:16:03,559][WARNING]: Skipped checksum for file with hash: 6d13e338-41bd-b011-beb5-4de53d9d467b, and path: /Users/edeno/Documents/GitHub/spyglass/DATA/analysis/mediumnwb20230802/mediumnwb20230802_JA2OA12RPN.nwb\n",
      "/Users/edeno/miniconda3/envs/spyglass/lib/python3.9/site-packages/pynwb/ecephys.py:90: UserWarning: ElectricalSeries 'e-series': The second dimension of data does not match the length of electrodes. Your data may be transposed.\n",
      "  warnings.warn(\"%s '%s': The second dimension of data does not match the length of electrodes. \"\n",
      "/Users/edeno/miniconda3/envs/spyglass/lib/python3.9/site-packages/pynwb/base.py:193: UserWarning: TimeSeries 'analog': Length of data does not match length of timestamps. Your data may be transposed. Time should be on the 0th dimension\n",
      "  warn(\"%s '%s': Length of data does not match length of timestamps. Your data may be transposed. \"\n",
      "[22:16:03][INFO] Spyglass: Writing new NWB file mediumnwb20230802_DO45HKXYTB.nwb\n",
      "/Users/edeno/miniconda3/envs/spyglass/lib/python3.9/site-packages/spikeinterface/core/waveform_extractor.py:275: UserWarning: Sorting object is not dumpable, which might result in downstream errors for parallel processing. To make the sorting dumpable, use the `sorting.save()` function.\n",
      "  warn(\n"
     ]
    },
    {
     "data": {
      "application/vnd.jupyter.widget-view+json": {
       "model_id": "ccb7eec245734ddaab37d65a48db80b2",
       "version_major": 2,
       "version_minor": 0
      },
      "text/plain": [
       "extract waveforms memmap:   0%|          | 0/2 [00:00<?, ?it/s]"
      ]
     },
     "metadata": {},
     "output_type": "display_data"
    },
    {
     "name": "stderr",
     "output_type": "stream",
     "text": [
      "[2024-01-17 22:16:14,288][WARNING]: Skipped checksum for file with hash: d740eb7d-ce29-e140-06a2-c56655e0842a, and path: /Users/edeno/Documents/GitHub/spyglass/DATA/analysis/mediumnwb20230802/mediumnwb20230802_L92EE1VRPB.nwb\n",
      "/Users/edeno/miniconda3/envs/spyglass/lib/python3.9/site-packages/pynwb/ecephys.py:90: UserWarning: ElectricalSeries 'e-series': The second dimension of data does not match the length of electrodes. Your data may be transposed.\n",
      "  warnings.warn(\"%s '%s': The second dimension of data does not match the length of electrodes. \"\n",
      "/Users/edeno/miniconda3/envs/spyglass/lib/python3.9/site-packages/pynwb/base.py:193: UserWarning: TimeSeries 'analog': Length of data does not match length of timestamps. Your data may be transposed. Time should be on the 0th dimension\n",
      "  warn(\"%s '%s': Length of data does not match length of timestamps. Your data may be transposed. \"\n",
      "[22:16:14][INFO] Spyglass: Writing new NWB file mediumnwb20230802_KFIYRJ4HFO.nwb\n",
      "/Users/edeno/miniconda3/envs/spyglass/lib/python3.9/site-packages/spikeinterface/core/waveform_extractor.py:275: UserWarning: Sorting object is not dumpable, which might result in downstream errors for parallel processing. To make the sorting dumpable, use the `sorting.save()` function.\n",
      "  warn(\n"
     ]
    },
    {
     "data": {
      "application/vnd.jupyter.widget-view+json": {
       "model_id": "8f4db4312708442d9d9baee7361e2d18",
       "version_major": 2,
       "version_minor": 0
      },
      "text/plain": [
       "extract waveforms memmap:   0%|          | 0/2 [00:00<?, ?it/s]"
      ]
     },
     "metadata": {},
     "output_type": "display_data"
    },
    {
     "name": "stderr",
     "output_type": "stream",
     "text": [
      "[2024-01-17 22:16:24,130][WARNING]: Skipped checksum for file with hash: 1f386cd3-89da-0233-03ff-76ba94e91a3a, and path: /Users/edeno/Documents/GitHub/spyglass/DATA/analysis/mediumnwb20230802/mediumnwb20230802_TX2ZX3DAP4.nwb\n",
      "/Users/edeno/miniconda3/envs/spyglass/lib/python3.9/site-packages/pynwb/ecephys.py:90: UserWarning: ElectricalSeries 'e-series': The second dimension of data does not match the length of electrodes. Your data may be transposed.\n",
      "  warnings.warn(\"%s '%s': The second dimension of data does not match the length of electrodes. \"\n",
      "/Users/edeno/miniconda3/envs/spyglass/lib/python3.9/site-packages/pynwb/base.py:193: UserWarning: TimeSeries 'analog': Length of data does not match length of timestamps. Your data may be transposed. Time should be on the 0th dimension\n",
      "  warn(\"%s '%s': Length of data does not match length of timestamps. Your data may be transposed. \"\n",
      "[22:16:24][INFO] Spyglass: Writing new NWB file mediumnwb20230802_0YIM5K3H47.nwb\n",
      "/Users/edeno/miniconda3/envs/spyglass/lib/python3.9/site-packages/spikeinterface/core/waveform_extractor.py:275: UserWarning: Sorting object is not dumpable, which might result in downstream errors for parallel processing. To make the sorting dumpable, use the `sorting.save()` function.\n",
      "  warn(\n"
     ]
    },
    {
     "data": {
      "application/vnd.jupyter.widget-view+json": {
       "model_id": "52f1bb4db348413390887bab91a4eb05",
       "version_major": 2,
       "version_minor": 0
      },
      "text/plain": [
       "extract waveforms memmap:   0%|          | 0/2 [00:00<?, ?it/s]"
      ]
     },
     "metadata": {},
     "output_type": "display_data"
    },
    {
     "name": "stderr",
     "output_type": "stream",
     "text": [
      "[2024-01-17 22:16:35,048][WARNING]: Skipped checksum for file with hash: fa76d419-77a4-697a-325d-5c2ddbe517f9, and path: /Users/edeno/Documents/GitHub/spyglass/DATA/analysis/mediumnwb20230802/mediumnwb20230802_0R6AWXMC6G.nwb\n",
      "/Users/edeno/miniconda3/envs/spyglass/lib/python3.9/site-packages/pynwb/ecephys.py:90: UserWarning: ElectricalSeries 'e-series': The second dimension of data does not match the length of electrodes. Your data may be transposed.\n",
      "  warnings.warn(\"%s '%s': The second dimension of data does not match the length of electrodes. \"\n",
      "/Users/edeno/miniconda3/envs/spyglass/lib/python3.9/site-packages/pynwb/base.py:193: UserWarning: TimeSeries 'analog': Length of data does not match length of timestamps. Your data may be transposed. Time should be on the 0th dimension\n",
      "  warn(\"%s '%s': Length of data does not match length of timestamps. Your data may be transposed. \"\n",
      "[22:16:35][INFO] Spyglass: Writing new NWB file mediumnwb20230802_CTLEGE2TWZ.nwb\n",
      "/Users/edeno/miniconda3/envs/spyglass/lib/python3.9/site-packages/spikeinterface/core/waveform_extractor.py:275: UserWarning: Sorting object is not dumpable, which might result in downstream errors for parallel processing. To make the sorting dumpable, use the `sorting.save()` function.\n",
      "  warn(\n"
     ]
    },
    {
     "data": {
      "application/vnd.jupyter.widget-view+json": {
       "model_id": "49b70c6fdc0c4d82b707b0f64c746992",
       "version_major": 2,
       "version_minor": 0
      },
      "text/plain": [
       "extract waveforms memmap:   0%|          | 0/2 [00:00<?, ?it/s]"
      ]
     },
     "metadata": {},
     "output_type": "display_data"
    },
    {
     "name": "stderr",
     "output_type": "stream",
     "text": [
      "[2024-01-17 22:16:46,009][WARNING]: Skipped checksum for file with hash: ce4cb0c3-3dd0-70fd-8ea0-98a8b84592d9, and path: /Users/edeno/Documents/GitHub/spyglass/DATA/analysis/mediumnwb20230802/mediumnwb20230802_7UIA2ILMG6.nwb\n",
      "/Users/edeno/miniconda3/envs/spyglass/lib/python3.9/site-packages/pynwb/ecephys.py:90: UserWarning: ElectricalSeries 'e-series': The second dimension of data does not match the length of electrodes. Your data may be transposed.\n",
      "  warnings.warn(\"%s '%s': The second dimension of data does not match the length of electrodes. \"\n",
      "/Users/edeno/miniconda3/envs/spyglass/lib/python3.9/site-packages/pynwb/base.py:193: UserWarning: TimeSeries 'analog': Length of data does not match length of timestamps. Your data may be transposed. Time should be on the 0th dimension\n",
      "  warn(\"%s '%s': Length of data does not match length of timestamps. Your data may be transposed. \"\n",
      "[22:16:46][INFO] Spyglass: Writing new NWB file mediumnwb20230802_7EN0N1U4U1.nwb\n",
      "/Users/edeno/miniconda3/envs/spyglass/lib/python3.9/site-packages/spikeinterface/core/waveform_extractor.py:275: UserWarning: Sorting object is not dumpable, which might result in downstream errors for parallel processing. To make the sorting dumpable, use the `sorting.save()` function.\n",
      "  warn(\n"
     ]
    },
    {
     "data": {
      "application/vnd.jupyter.widget-view+json": {
       "model_id": "83e34dff95084145a5d1a2eceb29f091",
       "version_major": 2,
       "version_minor": 0
      },
      "text/plain": [
       "extract waveforms memmap:   0%|          | 0/2 [00:00<?, ?it/s]"
      ]
     },
     "metadata": {},
     "output_type": "display_data"
    },
    {
     "name": "stderr",
     "output_type": "stream",
     "text": [
      "[2024-01-17 22:16:56,814][WARNING]: Skipped checksum for file with hash: e43f95ff-9779-b980-00a3-99e104864462, and path: /Users/edeno/Documents/GitHub/spyglass/DATA/analysis/mediumnwb20230802/mediumnwb20230802_AKOI7OTASI.nwb\n",
      "/Users/edeno/miniconda3/envs/spyglass/lib/python3.9/site-packages/pynwb/ecephys.py:90: UserWarning: ElectricalSeries 'e-series': The second dimension of data does not match the length of electrodes. Your data may be transposed.\n",
      "  warnings.warn(\"%s '%s': The second dimension of data does not match the length of electrodes. \"\n",
      "/Users/edeno/miniconda3/envs/spyglass/lib/python3.9/site-packages/pynwb/base.py:193: UserWarning: TimeSeries 'analog': Length of data does not match length of timestamps. Your data may be transposed. Time should be on the 0th dimension\n",
      "  warn(\"%s '%s': Length of data does not match length of timestamps. Your data may be transposed. \"\n",
      "[22:16:57][INFO] Spyglass: Writing new NWB file mediumnwb20230802_DHKWBWWAMC.nwb\n",
      "/Users/edeno/miniconda3/envs/spyglass/lib/python3.9/site-packages/spikeinterface/core/waveform_extractor.py:275: UserWarning: Sorting object is not dumpable, which might result in downstream errors for parallel processing. To make the sorting dumpable, use the `sorting.save()` function.\n",
      "  warn(\n"
     ]
    },
    {
     "data": {
      "application/vnd.jupyter.widget-view+json": {
       "model_id": "497faa2d251246abb45174b1aac4f327",
       "version_major": 2,
       "version_minor": 0
      },
      "text/plain": [
       "extract waveforms memmap:   0%|          | 0/2 [00:00<?, ?it/s]"
      ]
     },
     "metadata": {},
     "output_type": "display_data"
    },
    {
     "name": "stderr",
     "output_type": "stream",
     "text": [
      "[2024-01-17 22:17:05,013][WARNING]: Skipped checksum for file with hash: ff81d274-17f7-702d-a2b4-92ac43c29316, and path: /Users/edeno/Documents/GitHub/spyglass/DATA/analysis/mediumnwb20230802/mediumnwb20230802_Y2YF504C5D.nwb\n",
      "/Users/edeno/miniconda3/envs/spyglass/lib/python3.9/site-packages/pynwb/ecephys.py:90: UserWarning: ElectricalSeries 'e-series': The second dimension of data does not match the length of electrodes. Your data may be transposed.\n",
      "  warnings.warn(\"%s '%s': The second dimension of data does not match the length of electrodes. \"\n",
      "/Users/edeno/miniconda3/envs/spyglass/lib/python3.9/site-packages/pynwb/base.py:193: UserWarning: TimeSeries 'analog': Length of data does not match length of timestamps. Your data may be transposed. Time should be on the 0th dimension\n",
      "  warn(\"%s '%s': Length of data does not match length of timestamps. Your data may be transposed. \"\n",
      "[22:17:05][INFO] Spyglass: Writing new NWB file mediumnwb20230802_PEN0D79Q0B.nwb\n",
      "/Users/edeno/miniconda3/envs/spyglass/lib/python3.9/site-packages/spikeinterface/core/waveform_extractor.py:275: UserWarning: Sorting object is not dumpable, which might result in downstream errors for parallel processing. To make the sorting dumpable, use the `sorting.save()` function.\n",
      "  warn(\n"
     ]
    },
    {
     "data": {
      "application/vnd.jupyter.widget-view+json": {
       "model_id": "f8c583bb202347f0bb8678c3c249cb4b",
       "version_major": 2,
       "version_minor": 0
      },
      "text/plain": [
       "extract waveforms memmap:   0%|          | 0/2 [00:00<?, ?it/s]"
      ]
     },
     "metadata": {},
     "output_type": "display_data"
    },
    {
     "name": "stderr",
     "output_type": "stream",
     "text": [
      "[2024-01-17 22:17:15,903][WARNING]: Skipped checksum for file with hash: e282a8e5-844b-20f6-345c-cded12e761a9, and path: /Users/edeno/Documents/GitHub/spyglass/DATA/analysis/mediumnwb20230802/mediumnwb20230802_DUNM1TZUGR.nwb\n",
      "/Users/edeno/miniconda3/envs/spyglass/lib/python3.9/site-packages/pynwb/ecephys.py:90: UserWarning: ElectricalSeries 'e-series': The second dimension of data does not match the length of electrodes. Your data may be transposed.\n",
      "  warnings.warn(\"%s '%s': The second dimension of data does not match the length of electrodes. \"\n",
      "/Users/edeno/miniconda3/envs/spyglass/lib/python3.9/site-packages/pynwb/base.py:193: UserWarning: TimeSeries 'analog': Length of data does not match length of timestamps. Your data may be transposed. Time should be on the 0th dimension\n",
      "  warn(\"%s '%s': Length of data does not match length of timestamps. Your data may be transposed. \"\n",
      "[22:17:16][INFO] Spyglass: Writing new NWB file mediumnwb20230802_WP7SIXDJ2A.nwb\n",
      "/Users/edeno/miniconda3/envs/spyglass/lib/python3.9/site-packages/spikeinterface/core/waveform_extractor.py:275: UserWarning: Sorting object is not dumpable, which might result in downstream errors for parallel processing. To make the sorting dumpable, use the `sorting.save()` function.\n",
      "  warn(\n"
     ]
    },
    {
     "data": {
      "application/vnd.jupyter.widget-view+json": {
       "model_id": "fd115ce374c043feac8f7e3ec4cb887c",
       "version_major": 2,
       "version_minor": 0
      },
      "text/plain": [
       "extract waveforms memmap:   0%|          | 0/2 [00:00<?, ?it/s]"
      ]
     },
     "metadata": {},
     "output_type": "display_data"
    },
    {
     "name": "stderr",
     "output_type": "stream",
     "text": [
      "[2024-01-17 22:17:26,609][WARNING]: Skipped checksum for file with hash: 7d05460d-7366-27c9-2ba7-de2ad5d402f2, and path: /Users/edeno/Documents/GitHub/spyglass/DATA/analysis/mediumnwb20230802/mediumnwb20230802_4JXWFJ3JRI.nwb\n",
      "/Users/edeno/miniconda3/envs/spyglass/lib/python3.9/site-packages/pynwb/ecephys.py:90: UserWarning: ElectricalSeries 'e-series': The second dimension of data does not match the length of electrodes. Your data may be transposed.\n",
      "  warnings.warn(\"%s '%s': The second dimension of data does not match the length of electrodes. \"\n",
      "/Users/edeno/miniconda3/envs/spyglass/lib/python3.9/site-packages/pynwb/base.py:193: UserWarning: TimeSeries 'analog': Length of data does not match length of timestamps. Your data may be transposed. Time should be on the 0th dimension\n",
      "  warn(\"%s '%s': Length of data does not match length of timestamps. Your data may be transposed. \"\n",
      "[22:17:26][INFO] Spyglass: Writing new NWB file mediumnwb20230802_B82OS6W1QA.nwb\n",
      "/Users/edeno/miniconda3/envs/spyglass/lib/python3.9/site-packages/spikeinterface/core/waveform_extractor.py:275: UserWarning: Sorting object is not dumpable, which might result in downstream errors for parallel processing. To make the sorting dumpable, use the `sorting.save()` function.\n",
      "  warn(\n"
     ]
    },
    {
     "data": {
      "application/vnd.jupyter.widget-view+json": {
       "model_id": "d48a5f3da4394f2dbdb4c7281caba2ed",
       "version_major": 2,
       "version_minor": 0
      },
      "text/plain": [
       "extract waveforms memmap:   0%|          | 0/2 [00:00<?, ?it/s]"
      ]
     },
     "metadata": {},
     "output_type": "display_data"
    },
    {
     "name": "stderr",
     "output_type": "stream",
     "text": [
      "[2024-01-17 22:17:37,652][WARNING]: Skipped checksum for file with hash: c202eb9e-ca43-0a72-4086-57a5bb6eb937, and path: /Users/edeno/Documents/GitHub/spyglass/DATA/analysis/mediumnwb20230802/mediumnwb20230802_5TY04H3B5T.nwb\n",
      "/Users/edeno/miniconda3/envs/spyglass/lib/python3.9/site-packages/pynwb/ecephys.py:90: UserWarning: ElectricalSeries 'e-series': The second dimension of data does not match the length of electrodes. Your data may be transposed.\n",
      "  warnings.warn(\"%s '%s': The second dimension of data does not match the length of electrodes. \"\n",
      "/Users/edeno/miniconda3/envs/spyglass/lib/python3.9/site-packages/pynwb/base.py:193: UserWarning: TimeSeries 'analog': Length of data does not match length of timestamps. Your data may be transposed. Time should be on the 0th dimension\n",
      "  warn(\"%s '%s': Length of data does not match length of timestamps. Your data may be transposed. \"\n",
      "[22:17:37][INFO] Spyglass: Writing new NWB file mediumnwb20230802_XO17FQLN6T.nwb\n",
      "/Users/edeno/miniconda3/envs/spyglass/lib/python3.9/site-packages/spikeinterface/core/waveform_extractor.py:275: UserWarning: Sorting object is not dumpable, which might result in downstream errors for parallel processing. To make the sorting dumpable, use the `sorting.save()` function.\n",
      "  warn(\n"
     ]
    },
    {
     "data": {
      "application/vnd.jupyter.widget-view+json": {
       "model_id": "872ea3e1911745ce9ee2626bda69d164",
       "version_major": 2,
       "version_minor": 0
      },
      "text/plain": [
       "extract waveforms memmap:   0%|          | 0/2 [00:00<?, ?it/s]"
      ]
     },
     "metadata": {},
     "output_type": "display_data"
    },
    {
     "name": "stderr",
     "output_type": "stream",
     "text": [
      "[2024-01-17 22:17:47,269][WARNING]: Skipped checksum for file with hash: 4357905c-c6b9-3990-4d62-740a54cfc667, and path: /Users/edeno/Documents/GitHub/spyglass/DATA/analysis/mediumnwb20230802/mediumnwb20230802_X84BYVM2B0.nwb\n",
      "/Users/edeno/miniconda3/envs/spyglass/lib/python3.9/site-packages/pynwb/ecephys.py:90: UserWarning: ElectricalSeries 'e-series': The second dimension of data does not match the length of electrodes. Your data may be transposed.\n",
      "  warnings.warn(\"%s '%s': The second dimension of data does not match the length of electrodes. \"\n",
      "/Users/edeno/miniconda3/envs/spyglass/lib/python3.9/site-packages/pynwb/base.py:193: UserWarning: TimeSeries 'analog': Length of data does not match length of timestamps. Your data may be transposed. Time should be on the 0th dimension\n",
      "  warn(\"%s '%s': Length of data does not match length of timestamps. Your data may be transposed. \"\n",
      "[22:17:47][INFO] Spyglass: Writing new NWB file mediumnwb20230802_OCFI0GFLZ9.nwb\n",
      "/Users/edeno/miniconda3/envs/spyglass/lib/python3.9/site-packages/spikeinterface/core/waveform_extractor.py:275: UserWarning: Sorting object is not dumpable, which might result in downstream errors for parallel processing. To make the sorting dumpable, use the `sorting.save()` function.\n",
      "  warn(\n"
     ]
    },
    {
     "data": {
      "application/vnd.jupyter.widget-view+json": {
       "model_id": "3bb4a5c8097d451896b9552caf862676",
       "version_major": 2,
       "version_minor": 0
      },
      "text/plain": [
       "extract waveforms memmap:   0%|          | 0/2 [00:00<?, ?it/s]"
      ]
     },
     "metadata": {},
     "output_type": "display_data"
    },
    {
     "name": "stderr",
     "output_type": "stream",
     "text": [
      "[2024-01-17 22:17:58,240][WARNING]: Skipped checksum for file with hash: 4c1103ac-eaca-b282-e5ff-aa2194e65a43, and path: /Users/edeno/Documents/GitHub/spyglass/DATA/analysis/mediumnwb20230802/mediumnwb20230802_2R6VQ8EDL4.nwb\n",
      "/Users/edeno/miniconda3/envs/spyglass/lib/python3.9/site-packages/pynwb/ecephys.py:90: UserWarning: ElectricalSeries 'e-series': The second dimension of data does not match the length of electrodes. Your data may be transposed.\n",
      "  warnings.warn(\"%s '%s': The second dimension of data does not match the length of electrodes. \"\n",
      "/Users/edeno/miniconda3/envs/spyglass/lib/python3.9/site-packages/pynwb/base.py:193: UserWarning: TimeSeries 'analog': Length of data does not match length of timestamps. Your data may be transposed. Time should be on the 0th dimension\n",
      "  warn(\"%s '%s': Length of data does not match length of timestamps. Your data may be transposed. \"\n",
      "[22:17:58][INFO] Spyglass: Writing new NWB file mediumnwb20230802_60M9VSZX0W.nwb\n",
      "/Users/edeno/miniconda3/envs/spyglass/lib/python3.9/site-packages/spikeinterface/core/waveform_extractor.py:275: UserWarning: Sorting object is not dumpable, which might result in downstream errors for parallel processing. To make the sorting dumpable, use the `sorting.save()` function.\n",
      "  warn(\n"
     ]
    },
    {
     "data": {
      "application/vnd.jupyter.widget-view+json": {
       "model_id": "a30f15ba40cf4c9cb0050f0e1ddb1396",
       "version_major": 2,
       "version_minor": 0
      },
      "text/plain": [
       "extract waveforms memmap:   0%|          | 0/2 [00:00<?, ?it/s]"
      ]
     },
     "metadata": {},
     "output_type": "display_data"
    },
    {
     "name": "stderr",
     "output_type": "stream",
     "text": [
      "[2024-01-17 22:18:09,119][WARNING]: Skipped checksum for file with hash: 023c874f-8114-3ef6-7fcf-813844787d5f, and path: /Users/edeno/Documents/GitHub/spyglass/DATA/analysis/mediumnwb20230802/mediumnwb20230802_L7HDY9IDHO.nwb\n",
      "/Users/edeno/miniconda3/envs/spyglass/lib/python3.9/site-packages/pynwb/ecephys.py:90: UserWarning: ElectricalSeries 'e-series': The second dimension of data does not match the length of electrodes. Your data may be transposed.\n",
      "  warnings.warn(\"%s '%s': The second dimension of data does not match the length of electrodes. \"\n",
      "/Users/edeno/miniconda3/envs/spyglass/lib/python3.9/site-packages/pynwb/base.py:193: UserWarning: TimeSeries 'analog': Length of data does not match length of timestamps. Your data may be transposed. Time should be on the 0th dimension\n",
      "  warn(\"%s '%s': Length of data does not match length of timestamps. Your data may be transposed. \"\n",
      "[22:18:09][INFO] Spyglass: Writing new NWB file mediumnwb20230802_Z5HJ68LHYW.nwb\n",
      "/Users/edeno/miniconda3/envs/spyglass/lib/python3.9/site-packages/spikeinterface/core/waveform_extractor.py:275: UserWarning: Sorting object is not dumpable, which might result in downstream errors for parallel processing. To make the sorting dumpable, use the `sorting.save()` function.\n",
      "  warn(\n"
     ]
    },
    {
     "data": {
      "application/vnd.jupyter.widget-view+json": {
       "model_id": "b0109646253a42c19df9dafc465548a6",
       "version_major": 2,
       "version_minor": 0
      },
      "text/plain": [
       "extract waveforms memmap:   0%|          | 0/2 [00:00<?, ?it/s]"
      ]
     },
     "metadata": {},
     "output_type": "display_data"
    },
    {
     "name": "stderr",
     "output_type": "stream",
     "text": [
      "[2024-01-17 22:18:20,605][WARNING]: Skipped checksum for file with hash: fde8b240-6adc-86f0-6391-f3f6fad72ee9, and path: /Users/edeno/Documents/GitHub/spyglass/DATA/analysis/mediumnwb20230802/mediumnwb20230802_HWU3E4EKP4.nwb\n",
      "/Users/edeno/miniconda3/envs/spyglass/lib/python3.9/site-packages/pynwb/ecephys.py:90: UserWarning: ElectricalSeries 'e-series': The second dimension of data does not match the length of electrodes. Your data may be transposed.\n",
      "  warnings.warn(\"%s '%s': The second dimension of data does not match the length of electrodes. \"\n",
      "/Users/edeno/miniconda3/envs/spyglass/lib/python3.9/site-packages/pynwb/base.py:193: UserWarning: TimeSeries 'analog': Length of data does not match length of timestamps. Your data may be transposed. Time should be on the 0th dimension\n",
      "  warn(\"%s '%s': Length of data does not match length of timestamps. Your data may be transposed. \"\n",
      "[22:18:20][INFO] Spyglass: Writing new NWB file mediumnwb20230802_U5U5JVGY4F.nwb\n",
      "/Users/edeno/miniconda3/envs/spyglass/lib/python3.9/site-packages/spikeinterface/core/waveform_extractor.py:275: UserWarning: Sorting object is not dumpable, which might result in downstream errors for parallel processing. To make the sorting dumpable, use the `sorting.save()` function.\n",
      "  warn(\n"
     ]
    },
    {
     "data": {
      "application/vnd.jupyter.widget-view+json": {
       "model_id": "cf5715c3dee74d71ac325fc77c0eec93",
       "version_major": 2,
       "version_minor": 0
      },
      "text/plain": [
       "extract waveforms memmap:   0%|          | 0/2 [00:00<?, ?it/s]"
      ]
     },
     "metadata": {},
     "output_type": "display_data"
    },
    {
     "name": "stderr",
     "output_type": "stream",
     "text": [
      "[2024-01-17 22:18:31,780][WARNING]: Skipped checksum for file with hash: c592e63b-4db1-40be-632e-0180e6fa02d7, and path: /Users/edeno/Documents/GitHub/spyglass/DATA/analysis/mediumnwb20230802/mediumnwb20230802_SGAU9PX7US.nwb\n",
      "/Users/edeno/miniconda3/envs/spyglass/lib/python3.9/site-packages/pynwb/ecephys.py:90: UserWarning: ElectricalSeries 'e-series': The second dimension of data does not match the length of electrodes. Your data may be transposed.\n",
      "  warnings.warn(\"%s '%s': The second dimension of data does not match the length of electrodes. \"\n",
      "/Users/edeno/miniconda3/envs/spyglass/lib/python3.9/site-packages/pynwb/base.py:193: UserWarning: TimeSeries 'analog': Length of data does not match length of timestamps. Your data may be transposed. Time should be on the 0th dimension\n",
      "  warn(\"%s '%s': Length of data does not match length of timestamps. Your data may be transposed. \"\n",
      "[22:18:32][INFO] Spyglass: Writing new NWB file mediumnwb20230802_0D5Z0NSIP8.nwb\n",
      "/Users/edeno/miniconda3/envs/spyglass/lib/python3.9/site-packages/spikeinterface/core/waveform_extractor.py:275: UserWarning: Sorting object is not dumpable, which might result in downstream errors for parallel processing. To make the sorting dumpable, use the `sorting.save()` function.\n",
      "  warn(\n"
     ]
    },
    {
     "data": {
      "application/vnd.jupyter.widget-view+json": {
       "model_id": "e0ea746638354277bd96180aac672309",
       "version_major": 2,
       "version_minor": 0
      },
      "text/plain": [
       "extract waveforms memmap:   0%|          | 0/2 [00:00<?, ?it/s]"
      ]
     },
     "metadata": {},
     "output_type": "display_data"
    },
    {
     "name": "stderr",
     "output_type": "stream",
     "text": [
      "[2024-01-17 22:18:42,644][WARNING]: Skipped checksum for file with hash: 148d9058-e6dc-e959-4c4d-75db9aa0b6e4, and path: /Users/edeno/Documents/GitHub/spyglass/DATA/analysis/mediumnwb20230802/mediumnwb20230802_EF6N6XI3AH.nwb\n",
      "/Users/edeno/miniconda3/envs/spyglass/lib/python3.9/site-packages/pynwb/ecephys.py:90: UserWarning: ElectricalSeries 'e-series': The second dimension of data does not match the length of electrodes. Your data may be transposed.\n",
      "  warnings.warn(\"%s '%s': The second dimension of data does not match the length of electrodes. \"\n",
      "/Users/edeno/miniconda3/envs/spyglass/lib/python3.9/site-packages/pynwb/base.py:193: UserWarning: TimeSeries 'analog': Length of data does not match length of timestamps. Your data may be transposed. Time should be on the 0th dimension\n",
      "  warn(\"%s '%s': Length of data does not match length of timestamps. Your data may be transposed. \"\n",
      "[22:18:42][INFO] Spyglass: Writing new NWB file mediumnwb20230802_EYV2NARUKU.nwb\n",
      "/Users/edeno/miniconda3/envs/spyglass/lib/python3.9/site-packages/spikeinterface/core/waveform_extractor.py:275: UserWarning: Sorting object is not dumpable, which might result in downstream errors for parallel processing. To make the sorting dumpable, use the `sorting.save()` function.\n",
      "  warn(\n"
     ]
    },
    {
     "data": {
      "application/vnd.jupyter.widget-view+json": {
       "model_id": "a0f6340431f84fe98d2bcfdbedbde443",
       "version_major": 2,
       "version_minor": 0
      },
      "text/plain": [
       "extract waveforms memmap:   0%|          | 0/2 [00:00<?, ?it/s]"
      ]
     },
     "metadata": {},
     "output_type": "display_data"
    },
    {
     "name": "stderr",
     "output_type": "stream",
     "text": [
      "[2024-01-17 22:18:54,570][WARNING]: Skipped checksum for file with hash: b4b6404f-aaf8-c4cc-9abe-ceea56e103f3, and path: /Users/edeno/Documents/GitHub/spyglass/DATA/analysis/mediumnwb20230802/mediumnwb20230802_O7ZZ0F1XN7.nwb\n",
      "/Users/edeno/miniconda3/envs/spyglass/lib/python3.9/site-packages/pynwb/ecephys.py:90: UserWarning: ElectricalSeries 'e-series': The second dimension of data does not match the length of electrodes. Your data may be transposed.\n",
      "  warnings.warn(\"%s '%s': The second dimension of data does not match the length of electrodes. \"\n",
      "/Users/edeno/miniconda3/envs/spyglass/lib/python3.9/site-packages/pynwb/base.py:193: UserWarning: TimeSeries 'analog': Length of data does not match length of timestamps. Your data may be transposed. Time should be on the 0th dimension\n",
      "  warn(\"%s '%s': Length of data does not match length of timestamps. Your data may be transposed. \"\n",
      "[22:18:54][INFO] Spyglass: Writing new NWB file mediumnwb20230802_T4XBCIW44T.nwb\n",
      "/Users/edeno/miniconda3/envs/spyglass/lib/python3.9/site-packages/spikeinterface/core/waveform_extractor.py:275: UserWarning: Sorting object is not dumpable, which might result in downstream errors for parallel processing. To make the sorting dumpable, use the `sorting.save()` function.\n",
      "  warn(\n"
     ]
    },
    {
     "data": {
      "application/vnd.jupyter.widget-view+json": {
       "model_id": "d95a33c36dcb4b52923648866fef862d",
       "version_major": 2,
       "version_minor": 0
      },
      "text/plain": [
       "extract waveforms memmap:   0%|          | 0/2 [00:00<?, ?it/s]"
      ]
     },
     "metadata": {},
     "output_type": "display_data"
    },
    {
     "name": "stderr",
     "output_type": "stream",
     "text": [
      "[2024-01-17 22:19:05,568][WARNING]: Skipped checksum for file with hash: 26f7bdc7-da8d-6ad5-3f4a-554ceb48755e, and path: /Users/edeno/Documents/GitHub/spyglass/DATA/analysis/mediumnwb20230802/mediumnwb20230802_0TKF5589B7.nwb\n",
      "/Users/edeno/miniconda3/envs/spyglass/lib/python3.9/site-packages/pynwb/ecephys.py:90: UserWarning: ElectricalSeries 'e-series': The second dimension of data does not match the length of electrodes. Your data may be transposed.\n",
      "  warnings.warn(\"%s '%s': The second dimension of data does not match the length of electrodes. \"\n",
      "/Users/edeno/miniconda3/envs/spyglass/lib/python3.9/site-packages/pynwb/base.py:193: UserWarning: TimeSeries 'analog': Length of data does not match length of timestamps. Your data may be transposed. Time should be on the 0th dimension\n",
      "  warn(\"%s '%s': Length of data does not match length of timestamps. Your data may be transposed. \"\n",
      "[22:19:05][INFO] Spyglass: Writing new NWB file mediumnwb20230802_UD55CR8LZK.nwb\n"
     ]
    }
   ],
   "source": [
    "from spyglass.decoding.v1.waveform_features import UnitWaveformFeatures\n",
    "\n",
    "UnitWaveformFeatures.populate(selection_keys)"
   ]
  },
  {
   "cell_type": "code",
   "execution_count": 12,
   "metadata": {},
   "outputs": [
    {
     "data": {
      "text/html": [
       "\n",
       "    \n",
       "    <style type=\"text/css\">\n",
       "        .Table{\n",
       "            border-collapse:collapse;\n",
       "        }\n",
       "        .Table th{\n",
       "            background: #A0A0A0; color: #ffffff; padding:4px; border:#f0e0e0 1px solid;\n",
       "            font-weight: normal; font-family: monospace; font-size: 100%;\n",
       "        }\n",
       "        .Table td{\n",
       "            padding:4px; border:#f0e0e0 1px solid; font-size:100%;\n",
       "        }\n",
       "        .Table tr:nth-child(odd){\n",
       "            background: #ffffff;\n",
       "            color: #000000;\n",
       "        }\n",
       "        .Table tr:nth-child(even){\n",
       "            background: #f3f1ff;\n",
       "            color: #000000;\n",
       "        }\n",
       "        /* Tooltip container */\n",
       "        .djtooltip {\n",
       "        }\n",
       "        /* Tooltip text */\n",
       "        .djtooltip .djtooltiptext {\n",
       "            visibility: hidden;\n",
       "            width: 120px;\n",
       "            background-color: black;\n",
       "            color: #fff;\n",
       "            text-align: center;\n",
       "            padding: 5px 0;\n",
       "            border-radius: 6px;\n",
       "            /* Position the tooltip text - see examples below! */\n",
       "            position: absolute;\n",
       "            z-index: 1;\n",
       "        }\n",
       "        #primary {\n",
       "            font-weight: bold;\n",
       "            color: black;\n",
       "        }\n",
       "        #nonprimary {\n",
       "            font-weight: normal;\n",
       "            color: white;\n",
       "        }\n",
       "\n",
       "        /* Show the tooltip text when you mouse over the tooltip container */\n",
       "        .djtooltip:hover .djtooltiptext {\n",
       "            visibility: visible;\n",
       "        }\n",
       "    </style>\n",
       "    \n",
       "    <b></b>\n",
       "        <div style=\"max-height:1000px;max-width:1500px;overflow:auto;\">\n",
       "        <table border=\"1\" class=\"Table\">\n",
       "            <thead> <tr style=\"text-align: right;\"> <th> <div class=\"djtooltip\">\n",
       "                            <p id=\"primary\">spikesorting_merge_id</p>\n",
       "                            <span class=\"djtooltiptext\"></span>\n",
       "                        </div></th><th><div class=\"djtooltip\">\n",
       "                            <p id=\"primary\">features_param_name</p>\n",
       "                            <span class=\"djtooltiptext\">a name for this set of parameters</span>\n",
       "                        </div></th><th><div class=\"djtooltip\">\n",
       "                            <p id=\"nonprimary\">analysis_file_name</p>\n",
       "                            <span class=\"djtooltiptext\">name of the file</span>\n",
       "                        </div></th><th><div class=\"djtooltip\">\n",
       "                            <p id=\"nonprimary\">object_id</p>\n",
       "                            <span class=\"djtooltiptext\">the NWB object that stores the waveforms</span>\n",
       "                        </div> </th> </tr> </thead>\n",
       "            <tbody> <tr> <td>0751a1e1-a406-7f87-ae6f-ce4ffc60621c</td>\n",
       "<td>amplitude</td>\n",
       "<td>mediumnwb20230802_NQEPSMKPK0.nwb</td>\n",
       "<td>8607d6a6-213c-431d-ab99-70196b6cf0bf</td></tr><tr><td>485a4ddf-332d-35b5-3ad4-0561736c1844</td>\n",
       "<td>amplitude</td>\n",
       "<td>mediumnwb20230802_F02UG5Z5FR.nwb</td>\n",
       "<td>9f693a74-a203-4628-b3ec-50a32b3549d8</td></tr><tr><td>4a712103-c223-864f-82e0-6c23de79cc14</td>\n",
       "<td>amplitude</td>\n",
       "<td>mediumnwb20230802_OTV91MLKDT.nwb</td>\n",
       "<td>648953e8-1891-4c90-9756-d6b7cc2b7c3d</td></tr><tr><td>4a72c253-b3ca-8c13-e615-736a7ebff35c</td>\n",
       "<td>amplitude</td>\n",
       "<td>mediumnwb20230802_TSPNTCGNN1.nwb</td>\n",
       "<td>6d0af664-f811-4781-9a23-cac437fb2d15</td></tr><tr><td>5c53bd33-d57c-fbba-e0fb-55e0bcb85d03</td>\n",
       "<td>amplitude</td>\n",
       "<td>mediumnwb20230802_QSK70WFDJH.nwb</td>\n",
       "<td>a67ed5bb-3edd-465e-8737-ee08f3e7d7d5</td></tr><tr><td>614d796c-0b95-6364-aaa0-b6cb1e7bbb83</td>\n",
       "<td>amplitude</td>\n",
       "<td>mediumnwb20230802_DO45HKXYTB.nwb</td>\n",
       "<td>13218b00-bf34-455c-9c38-c3b3174d4009</td></tr><tr><td>6acb99b8-6a0c-eb83-1141-5f603c5895e0</td>\n",
       "<td>amplitude</td>\n",
       "<td>mediumnwb20230802_KFIYRJ4HFO.nwb</td>\n",
       "<td>d892bb47-94fc-4c29-acab-d5b3d9565c97</td></tr><tr><td>6d039a63-17ad-0b78-4b1e-f02d5f3dbbc5</td>\n",
       "<td>amplitude</td>\n",
       "<td>mediumnwb20230802_0YIM5K3H47.nwb</td>\n",
       "<td>60f4d280-a42a-4a77-9c35-9bd4d2c76991</td></tr><tr><td>74e10781-1228-4075-0870-af224024ffdc</td>\n",
       "<td>amplitude</td>\n",
       "<td>mediumnwb20230802_CTLEGE2TWZ.nwb</td>\n",
       "<td>99f51e3d-54b5-41d7-a61e-7013b22fb066</td></tr><tr><td>7e3fa66e-727e-1541-819a-b01309bb30ae</td>\n",
       "<td>amplitude</td>\n",
       "<td>mediumnwb20230802_7EN0N1U4U1.nwb</td>\n",
       "<td>535b28d1-c9b5-4d7d-a4f5-4d80508542b4</td></tr><tr><td>86897349-ff68-ac72-02eb-739dd88936e6</td>\n",
       "<td>amplitude</td>\n",
       "<td>mediumnwb20230802_DHKWBWWAMC.nwb</td>\n",
       "<td>67ee1547-c570-4746-b886-748d96075b54</td></tr><tr><td>8bbddc0f-d6ae-6260-9400-f884a6e25ae8</td>\n",
       "<td>amplitude</td>\n",
       "<td>mediumnwb20230802_PEN0D79Q0B.nwb</td>\n",
       "<td>5dd7b87f-4cf0-4a91-a281-15c6f6c86d61</td> </tr> </tbody>\n",
       "        </table>\n",
       "        <p>...</p>\n",
       "        <p>Total: 23</p></div>\n",
       "        "
      ],
      "text/plain": [
       "*spikesorting_ *features_para analysis_file_ object_id     \n",
       "+------------+ +------------+ +------------+ +------------+\n",
       "0751a1e1-a406- amplitude      mediumnwb20230 8607d6a6-213c-\n",
       "485a4ddf-332d- amplitude      mediumnwb20230 9f693a74-a203-\n",
       "4a712103-c223- amplitude      mediumnwb20230 648953e8-1891-\n",
       "4a72c253-b3ca- amplitude      mediumnwb20230 6d0af664-f811-\n",
       "5c53bd33-d57c- amplitude      mediumnwb20230 a67ed5bb-3edd-\n",
       "614d796c-0b95- amplitude      mediumnwb20230 13218b00-bf34-\n",
       "6acb99b8-6a0c- amplitude      mediumnwb20230 d892bb47-94fc-\n",
       "6d039a63-17ad- amplitude      mediumnwb20230 60f4d280-a42a-\n",
       "74e10781-1228- amplitude      mediumnwb20230 99f51e3d-54b5-\n",
       "7e3fa66e-727e- amplitude      mediumnwb20230 535b28d1-c9b5-\n",
       "86897349-ff68- amplitude      mediumnwb20230 67ee1547-c570-\n",
       "8bbddc0f-d6ae- amplitude      mediumnwb20230 5dd7b87f-4cf0-\n",
       "   ...\n",
       " (Total: 23)"
      ]
     },
     "execution_count": 12,
     "metadata": {},
     "output_type": "execute_result"
    }
   ],
   "source": [
    "UnitWaveformFeatures & selection_keys"
   ]
  },
  {
   "cell_type": "markdown",
   "metadata": {},
   "source": [
    "Now that we've extracted the data, we can inspect the results. Let's fetch the data:\n"
   ]
  },
  {
   "cell_type": "code",
   "execution_count": 13,
   "metadata": {},
   "outputs": [
    {
     "name": "stderr",
     "output_type": "stream",
     "text": [
      "[2024-01-17 22:19:07,354][WARNING]: Skipped checksum for file with hash: a7c9b1d9-d1a2-7f40-9127-206e83a87006, and path: /Users/edeno/Documents/GitHub/spyglass/DATA/analysis/mediumnwb20230802/mediumnwb20230802_NQEPSMKPK0.nwb\n",
      "[2024-01-17 22:19:07,359][WARNING]: Skipped checksum for file with hash: ec7faa5b-3847-6649-1a93-74ebd50dcfb9, and path: /Users/edeno/Documents/GitHub/spyglass/DATA/analysis/mediumnwb20230802/mediumnwb20230802_F02UG5Z5FR.nwb\n",
      "[2024-01-17 22:19:07,369][WARNING]: Skipped checksum for file with hash: 8e964932-96ab-e1c9-2133-edce8eacab5f, and path: /Users/edeno/Documents/GitHub/spyglass/DATA/analysis/mediumnwb20230802/mediumnwb20230802_OTV91MLKDT.nwb\n",
      "[2024-01-17 22:19:07,379][WARNING]: Skipped checksum for file with hash: 895bac7b-bfd6-b4f2-b2ad-460362aaafa8, and path: /Users/edeno/Documents/GitHub/spyglass/DATA/analysis/mediumnwb20230802/mediumnwb20230802_TSPNTCGNN1.nwb\n",
      "[2024-01-17 22:19:07,382][WARNING]: Skipped checksum for file with hash: 58713583-cf49-4527-7707-105f9c9ee477, and path: /Users/edeno/Documents/GitHub/spyglass/DATA/analysis/mediumnwb20230802/mediumnwb20230802_QSK70WFDJH.nwb\n",
      "[2024-01-17 22:19:07,385][WARNING]: Skipped checksum for file with hash: a64829f8-ab12-fecc-eda9-a22b90b20d43, and path: /Users/edeno/Documents/GitHub/spyglass/DATA/analysis/mediumnwb20230802/mediumnwb20230802_DO45HKXYTB.nwb\n",
      "[2024-01-17 22:19:07,391][WARNING]: Skipped checksum for file with hash: 3a580271-9126-8e57-048e-a7bbb3f917b9, and path: /Users/edeno/Documents/GitHub/spyglass/DATA/analysis/mediumnwb20230802/mediumnwb20230802_KFIYRJ4HFO.nwb\n",
      "[2024-01-17 22:19:07,395][WARNING]: Skipped checksum for file with hash: 13cf8ad9-023c-c9b7-05c3-eaa3330304f2, and path: /Users/edeno/Documents/GitHub/spyglass/DATA/analysis/mediumnwb20230802/mediumnwb20230802_0YIM5K3H47.nwb\n",
      "[2024-01-17 22:19:07,397][WARNING]: Skipped checksum for file with hash: 7ce8a640-0a25-4866-6d5a-aa2c65f0aca5, and path: /Users/edeno/Documents/GitHub/spyglass/DATA/analysis/mediumnwb20230802/mediumnwb20230802_CTLEGE2TWZ.nwb\n",
      "[2024-01-17 22:19:07,399][WARNING]: Skipped checksum for file with hash: aa657f4f-f409-d444-8b32-31d37abe0797, and path: /Users/edeno/Documents/GitHub/spyglass/DATA/analysis/mediumnwb20230802/mediumnwb20230802_7EN0N1U4U1.nwb\n",
      "[2024-01-17 22:19:07,401][WARNING]: Skipped checksum for file with hash: f3b4bd22-1439-e6d2-4e15-aa3650143fdf, and path: /Users/edeno/Documents/GitHub/spyglass/DATA/analysis/mediumnwb20230802/mediumnwb20230802_DHKWBWWAMC.nwb\n",
      "[2024-01-17 22:19:07,404][WARNING]: Skipped checksum for file with hash: 68eac0b2-e5be-e0c5-9eae-cd8dbe6676a8, and path: /Users/edeno/Documents/GitHub/spyglass/DATA/analysis/mediumnwb20230802/mediumnwb20230802_PEN0D79Q0B.nwb\n",
      "[2024-01-17 22:19:07,407][WARNING]: Skipped checksum for file with hash: c8b95099-2cb3-df0b-5ab1-7a5e120a8e2f, and path: /Users/edeno/Documents/GitHub/spyglass/DATA/analysis/mediumnwb20230802/mediumnwb20230802_WP7SIXDJ2A.nwb\n",
      "[2024-01-17 22:19:07,409][WARNING]: Skipped checksum for file with hash: 8fae8089-f683-5f0a-4e59-c71d6ee14f38, and path: /Users/edeno/Documents/GitHub/spyglass/DATA/analysis/mediumnwb20230802/mediumnwb20230802_B82OS6W1QA.nwb\n",
      "[2024-01-17 22:19:07,412][WARNING]: Skipped checksum for file with hash: dd9d0f51-6445-b368-32bd-b1f142bf6ed3, and path: /Users/edeno/Documents/GitHub/spyglass/DATA/analysis/mediumnwb20230802/mediumnwb20230802_XO17FQLN6T.nwb\n",
      "[2024-01-17 22:19:07,414][WARNING]: Skipped checksum for file with hash: 4e2cf5f5-ff7c-1a2b-db85-2d1c4f036fbd, and path: /Users/edeno/Documents/GitHub/spyglass/DATA/analysis/mediumnwb20230802/mediumnwb20230802_OCFI0GFLZ9.nwb\n",
      "[2024-01-17 22:19:07,416][WARNING]: Skipped checksum for file with hash: 8691c252-0bd1-122b-8cf3-b89c4d0fdee0, and path: /Users/edeno/Documents/GitHub/spyglass/DATA/analysis/mediumnwb20230802/mediumnwb20230802_60M9VSZX0W.nwb\n",
      "[2024-01-17 22:19:07,419][WARNING]: Skipped checksum for file with hash: 57b89835-8edb-e91d-0798-09d22fb4fbc9, and path: /Users/edeno/Documents/GitHub/spyglass/DATA/analysis/mediumnwb20230802/mediumnwb20230802_Z5HJ68LHYW.nwb\n",
      "[2024-01-17 22:19:07,422][WARNING]: Skipped checksum for file with hash: 54401121-4426-86c9-72f7-e056bc16e99d, and path: /Users/edeno/Documents/GitHub/spyglass/DATA/analysis/mediumnwb20230802/mediumnwb20230802_U5U5JVGY4F.nwb\n",
      "[2024-01-17 22:19:07,424][WARNING]: Skipped checksum for file with hash: 0ff21e84-2214-6911-2575-a9c92a541407, and path: /Users/edeno/Documents/GitHub/spyglass/DATA/analysis/mediumnwb20230802/mediumnwb20230802_0D5Z0NSIP8.nwb\n",
      "[2024-01-17 22:19:07,426][WARNING]: Skipped checksum for file with hash: 0949b006-5309-93c8-fd8b-1308e8130869, and path: /Users/edeno/Documents/GitHub/spyglass/DATA/analysis/mediumnwb20230802/mediumnwb20230802_EYV2NARUKU.nwb\n",
      "[2024-01-17 22:19:07,428][WARNING]: Skipped checksum for file with hash: b4b31e50-dfa2-0d02-514a-525782a81255, and path: /Users/edeno/Documents/GitHub/spyglass/DATA/analysis/mediumnwb20230802/mediumnwb20230802_T4XBCIW44T.nwb\n",
      "[2024-01-17 22:19:07,430][WARNING]: Skipped checksum for file with hash: c18a9ac4-06bc-4249-2bad-439d4f618421, and path: /Users/edeno/Documents/GitHub/spyglass/DATA/analysis/mediumnwb20230802/mediumnwb20230802_UD55CR8LZK.nwb\n"
     ]
    }
   ],
   "source": [
    "spike_times, spike_waveform_features = (\n",
    "    UnitWaveformFeatures & selection_keys\n",
    ").fetch_data()"
   ]
  },
  {
   "cell_type": "markdown",
   "metadata": {},
   "source": [
    "Let's look at the features shape. This is a list corresponding to tetrodes, with each element being a numpy array of shape (n_spikes, n_features). The features in this case are the amplitude of each tetrode wire at the negative peak of the waveform.\n"
   ]
  },
  {
   "cell_type": "code",
   "execution_count": 14,
   "metadata": {},
   "outputs": [
    {
     "name": "stdout",
     "output_type": "stream",
     "text": [
      "(49808, 4)\n",
      "(21675, 4)\n",
      "(21024, 4)\n",
      "(51330, 4)\n",
      "(43804, 4)\n",
      "(6348, 4)\n",
      "(12188, 4)\n",
      "(2654, 4)\n",
      "(99400, 4)\n",
      "(8952, 4)\n",
      "(39886, 4)\n",
      "(18, 4)\n",
      "(44284, 4)\n",
      "(8283, 4)\n",
      "(36687, 4)\n",
      "(803, 4)\n",
      "(76353, 4)\n",
      "(11367, 4)\n",
      "(41622, 4)\n",
      "(106549, 4)\n",
      "(57394, 4)\n",
      "(30772, 4)\n",
      "(4198, 4)\n"
     ]
    }
   ],
   "source": [
    "for features in spike_waveform_features:\n",
    "    print(features.shape)"
   ]
  },
  {
   "cell_type": "markdown",
   "metadata": {},
   "source": [
    "We can plot the amplitudes to see if there is anything that looks neural and to look for outliers:\n"
   ]
  },
  {
   "cell_type": "code",
   "execution_count": 15,
   "metadata": {},
   "outputs": [
    {
     "data": {
      "text/plain": [
       "<matplotlib.collections.PathCollection at 0x1c61bf940>"
      ]
     },
     "execution_count": 15,
     "metadata": {},
     "output_type": "execute_result"
    },
    {
     "data": {
      "image/png": "[encoded data removed]",
      "text/plain": [
       "<Figure size 640x480 with 1 Axes>"
      ]
     },
     "metadata": {},
     "output_type": "display_data"
    }
   ],
   "source": [
    "import matplotlib.pyplot as plt\n",
    "\n",
    "tetrode_ind = 1\n",
    "plt.scatter(\n",
    "    spike_waveform_features[tetrode_ind][:, 0],\n",
    "    spike_waveform_features[tetrode_ind][:, 1],\n",
    "    s=1,\n",
    ")"
   ]
  },
  {
   "cell_type": "code",
   "execution_count": null,
   "metadata": {},
   "outputs": [],
   "source": []
  }
 ],
 "metadata": {
  "kernelspec": {
   "display_name": "spyglass",
   "language": "python",
   "name": "python3"
  },
  "language_info": {
   "codemirror_mode": {
    "name": "ipython",
    "version": 3
   },
   "file_extension": ".py",
   "mimetype": "text/x-python",
   "name": "python",
   "nbconvert_exporter": "python",
   "pygments_lexer": "ipython3",
   "version": "3.9.18"
  }
 },
 "nbformat": 4,
 "nbformat_minor": 2
}

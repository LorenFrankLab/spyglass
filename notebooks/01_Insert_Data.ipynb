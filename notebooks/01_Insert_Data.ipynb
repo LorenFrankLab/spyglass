{
 "cells": [
  {
   "cell_type": "markdown",
   "metadata": {
    "tags": []
   },
   "source": [
    "# Insert Data\n"
   ]
  },
  {
   "cell_type": "markdown",
   "metadata": {},
   "source": [
    "## Intro\n"
   ]
  },
  {
   "cell_type": "markdown",
   "metadata": {},
   "source": [
    "_Developer Note:_ if you may make a PR in the future, be sure to copy this\n",
    "notebook, and use the `gitignore` prefix `temp` to avoid future conflicts.\n",
    "\n",
    "This is one notebook in a multi-part series on Spyglass.\n",
    "\n",
    "- To set up your Spyglass environment and database, see\n",
    "  [the Setup notebook](./00_Setup.ipynb)\n",
    "- For additional info on DataJoint syntax, including table definitions and\n",
    "  inserts, see\n",
    "  [these additional tutorials](https://github.com/datajoint/datajoint-tutorials)\n",
    "\n",
    "Let's start by importing the `spyglass` package, along with a few others.\n"
   ]
  },
  {
   "cell_type": "code",
   "execution_count": 1,
   "metadata": {
    "tags": []
   },
   "outputs": [
    {
     "name": "stderr",
     "output_type": "stream",
     "text": [
      "[2024-01-29 16:24:30,933][INFO]: Connecting root@localhost:3309\n",
      "[2024-01-29 16:24:30,942][INFO]: Connected root@localhost:3309\n"
     ]
    }
   ],
   "source": [
    "import os\n",
    "import datajoint as dj\n",
    "\n",
    "# change to the upper level folder to detect dj_local_conf.json\n",
    "if os.path.basename(os.getcwd()) == \"notebooks\":\n",
    "    os.chdir(\"..\")\n",
    "dj.config.load(\"dj_local_conf.json\")  # load config for database connection info\n",
    "\n",
    "# ignore datajoint+jupyter async warnings\n",
    "import warnings\n",
    "\n",
    "warnings.simplefilter(\"ignore\", category=DeprecationWarning)\n",
    "warnings.simplefilter(\"ignore\", category=ResourceWarning)\n",
    "warnings.simplefilter(\"ignore\", category=UserWarning)\n",
    "\n",
    "# spyglass.common has the most frequently used tables\n",
    "import spyglass.common as sgc\n",
    "\n",
    "# spyglass.data_import has tools for inserting NWB files into the database\n",
    "import spyglass.data_import as sgi"
   ]
  },
  {
   "cell_type": "markdown",
   "metadata": {
    "tags": []
   },
   "source": [
    "## Visualizing the database\n"
   ]
  },
  {
   "cell_type": "markdown",
   "metadata": {},
   "source": [
    "Datajoint enables users to use Python to build and interact with a _Relational Database_. In a [Relational Data Model](https://www.smartsheet.com/relational-database-modeling), each table is an object that can reference\n",
    "information in other tables to avoid redundancy.\n",
    "\n",
    "DataJoint has built-in tools for generating/saving a _Diagram_ of the\n",
    "relationships between tables.\n",
    "[This page](https://datajoint.com/docs/core/datajoint-python/0.14/design/diagrams/) describes the notation used.\n",
    "\n",
    "Polygons are tables, colors reference\n",
    "[table type](https://datajoint.com/docs/core/datajoint-python/0.14/design/tables/tiers/):\n",
    "\n",
    "- Green rectangle: tables whose entries are entered _manually_.\n",
    "- Blue oval: tables whose entries are _imported_ from external files\n",
    "  (e.g. NWB file).\n",
    "- Red circle: tables whose entries are _computed_ from entries of other tables.\n",
    "- No shape (only text): tables whose entries are _part_ of the table upstream\n",
    "\n",
    "Lines are _dependencies_ between tables. An _upstream_ table is connected to a\n",
    "_downstream_ table via _inheritance_ of the\n",
    "[_primary key_](https://docs.datajoint.org/python/definition/07-Primary-Key.html).\n",
    "This is the set of attributes (i.e., column names) used to uniquely define an\n",
    "entry (i.e., a row)\n",
    "\n",
    "- Bold lines: the upstream primary key is the sole downstream primary key\n",
    "- Solid lines: the upstream table as part of the downstream primary key\n",
    "- Dashed lines: the primary key of upstream table as non-primary key\n"
   ]
  },
  {
   "cell_type": "code",
   "execution_count": 2,
   "metadata": {},
   "outputs": [
    {
     "data": {
      "image/svg+xml": [
       "<svg xmlns=\"http://www.w3.org/2000/svg\" xmlns:xlink=\"http://www.w3.org/1999/xlink\" width=\"1906pt\" height=\"460pt\" viewBox=\"0.00 0.00 1905.75 460.00\">\n",
       "<g id=\"graph0\" class=\"graph\" transform=\"scale(1 1) rotate(0) translate(4 456)\">\n",
       "<polygon fill=\"white\" stroke=\"transparent\" points=\"-4,4 -4,-456 1901.75,-456 1901.75,4 -4,4\"/>\n",
       "<!-- 0 -->\n",
       "<g id=\"node1\" class=\"node\">\n",
       "<title>0</title>\n",
       "<ellipse fill=\"#ff8800\" fill-opacity=\"0.501961\" stroke=\"#ff8800\" stroke-opacity=\"0.501961\" cx=\"908\" cy=\"-221.5\" rx=\"2\" ry=\"2\"/>\n",
       "<text text-anchor=\"middle\" x=\"908\" y=\"-221.2\" font-family=\"arial\" font-size=\"1.00\" fill=\"#ff8800\" fill-opacity=\"0.501961\">0</text>\n",
       "</g>\n",
       "<!-- sgc.LFPBandSelection -->\n",
       "<g id=\"node22\" class=\"node\">\n",
       "<title>sgc.LFPBandSelection</title>\n",
       "<g id=\"a_node22\"><a xlink:title=\"→ sgc.LFP\r→ sgc.FirFilterParameters\r→ sgc.IntervalList.proj(target_interval_list_name=&quot;interval_list_name&quot;)\rlfp_band_sampling_rate \r------------------------------\rmin_interval_len=1   \r\">\n",
       "<polygon fill=\"#00ff00\" fill-opacity=\"0.188235\" stroke=\"#00ff00\" stroke-opacity=\"0.188235\" points=\"689.5,-168 542.5,-168 542.5,-133 689.5,-133 689.5,-168\"/>\n",
       "<text text-anchor=\"start\" x=\"550.5\" y=\"-148.4\" font-family=\"arial\" text-decoration=\"underline\" font-size=\"12.00\" fill=\"darkgreen\">sgc.LFPBandSelection</text>\n",
       "</a>\n",
       "</g>\n",
       "</g>\n",
       "<!-- 0&#45;&gt;sgc.LFPBandSelection -->\n",
       "<g id=\"edge1\" class=\"edge\">\n",
       "<title>0-&gt;sgc.LFPBandSelection</title>\n",
       "<path fill=\"none\" stroke=\"#000000\" stroke-width=\"0.75\" stroke-opacity=\"0.250980\" d=\"M907.23,-219.39C905.07,-216.37 898.59,-207.95 891,-204 827.93,-171.2 747.17,-158.74 689.52,-154.09\"/>\n",
       "</g>\n",
       "<!-- sgc.TaskEpoch -->\n",
       "<g id=\"node2\" class=\"node\">\n",
       "<title>sgc.TaskEpoch</title>\n",
       "<g id=\"a_node2\"><a xlink:title=\"→ sgc.Session\repoch                \r------------------------------\r→ sgc.Task\r→ [nullable] sgc.CameraDevice\r→ sgc.IntervalList\rtask_environment=null \rcamera_names         \r\">\n",
       "<ellipse fill=\"#00007f\" fill-opacity=\"0.250980\" stroke=\"#00007f\" stroke-opacity=\"0.250980\" cx=\"1664\" cy=\"-221.5\" rx=\"64.25\" ry=\"17.5\"/>\n",
       "<text text-anchor=\"start\" x=\"1620.5\" y=\"-219.4\" font-family=\"arial\" text-decoration=\"underline\" font-size=\"12.00\" fill=\"#00007f\" fill-opacity=\"0.627451\">sgc.TaskEpoch</text>\n",
       "</a>\n",
       "</g>\n",
       "</g>\n",
       "<!-- sgc.VideoFile -->\n",
       "<g id=\"node32\" class=\"node\">\n",
       "<title>sgc.VideoFile</title>\n",
       "<g id=\"a_node32\"><a xlink:title=\"→ sgc.TaskEpoch\rvideo_file_num=0     \r------------------------------\rcamera_name          \rvideo_file_object_id \r\">\n",
       "<ellipse fill=\"#00007f\" fill-opacity=\"0.250980\" stroke=\"#00007f\" stroke-opacity=\"0.250980\" cx=\"1839\" cy=\"-150.5\" rx=\"58.5\" ry=\"17.5\"/>\n",
       "<text text-anchor=\"start\" x=\"1800\" y=\"-148.4\" font-family=\"arial\" text-decoration=\"underline\" font-size=\"12.00\" fill=\"#00007f\" fill-opacity=\"0.627451\">sgc.VideoFile</text>\n",
       "</a>\n",
       "</g>\n",
       "</g>\n",
       "<!-- sgc.TaskEpoch&#45;&gt;sgc.VideoFile -->\n",
       "<g id=\"edge2\" class=\"edge\">\n",
       "<title>sgc.TaskEpoch-&gt;sgc.VideoFile</title>\n",
       "<path fill=\"none\" stroke=\"#000000\" stroke-width=\"0.75\" stroke-opacity=\"0.250980\" d=\"M1698.99,-206.7C1729.81,-194.55 1774.43,-176.96 1804.96,-164.92\"/>\n",
       "</g>\n",
       "<!-- sgc.StateScriptFile -->\n",
       "<g id=\"node33\" class=\"node\">\n",
       "<title>sgc.StateScriptFile</title>\n",
       "<g id=\"a_node33\"><a xlink:title=\"→ sgc.TaskEpoch\r------------------------------\rfile_object_id       \r\">\n",
       "<ellipse fill=\"#00007f\" fill-opacity=\"0.250980\" stroke=\"#00007f\" stroke-opacity=\"0.250980\" cx=\"1683\" cy=\"-150.5\" rx=\"78.5\" ry=\"17.5\"/>\n",
       "<text text-anchor=\"middle\" x=\"1683\" y=\"-147.4\" font-family=\"arial\" font-size=\"12.00\" fill=\"#00007f\" fill-opacity=\"0.627451\">sgc.StateScriptFile</text>\n",
       "</a>\n",
       "</g>\n",
       "</g>\n",
       "<!-- sgc.TaskEpoch&#45;&gt;sgc.StateScriptFile -->\n",
       "<g id=\"edge3\" class=\"edge\">\n",
       "<title>sgc.TaskEpoch-&gt;sgc.StateScriptFile</title>\n",
       "<path fill=\"none\" stroke=\"#000000\" stroke-width=\"2\" stroke-opacity=\"0.250980\" d=\"M1668.6,-203.8C1671.59,-192.95 1675.46,-178.87 1678.44,-168.05\"/>\n",
       "</g>\n",
       "<!-- sgc.Subject -->\n",
       "<g id=\"node3\" class=\"node\">\n",
       "<title>sgc.Subject</title>\n",
       "<g id=\"a_node3\"><a xlink:title=\"subject_id           \r------------------------------\rage=null             \rdescription=null     \rgenotype=null        \rsex=&quot;U&quot;              \rspecies=null         \r\">\n",
       "<polygon fill=\"#00ff00\" fill-opacity=\"0.188235\" stroke=\"#00ff00\" stroke-opacity=\"0.188235\" points=\"987.5,-452 902.5,-452 902.5,-417 987.5,-417 987.5,-452\"/>\n",
       "<text text-anchor=\"start\" x=\"910.5\" y=\"-432.4\" font-family=\"arial\" text-decoration=\"underline\" font-size=\"12.00\" fill=\"darkgreen\">sgc.Subject</text>\n",
       "</a>\n",
       "</g>\n",
       "</g>\n",
       "<!-- sgc.Session -->\n",
       "<g id=\"node7\" class=\"node\">\n",
       "<title>sgc.Session</title>\n",
       "<g id=\"a_node7\"><a xlink:title=\"→ sgc.Nwbfile\r------------------------------\r→ [nullable] sgc.Subject\r→ [nullable] sgc.Institution\r→ [nullable] sgc.Lab\rsession_id=null      \rsession_description  \rsession_start_time   \rtimestamps_reference_time \rexperiment_description=null \r\">\n",
       "<ellipse fill=\"#00007f\" fill-opacity=\"0.250980\" stroke=\"#00007f\" stroke-opacity=\"0.250980\" cx=\"945\" cy=\"-363.5\" rx=\"53.5\" ry=\"17.5\"/>\n",
       "<text text-anchor=\"middle\" x=\"945\" y=\"-360.4\" font-family=\"arial\" font-size=\"12.00\" fill=\"#00007f\" fill-opacity=\"0.627451\">sgc.Session</text>\n",
       "</a>\n",
       "</g>\n",
       "</g>\n",
       "<!-- sgc.Subject&#45;&gt;sgc.Session -->\n",
       "<g id=\"edge4\" class=\"edge\">\n",
       "<title>sgc.Subject-&gt;sgc.Session</title>\n",
       "<path fill=\"none\" stroke=\"#000000\" stroke-width=\"0.75\" stroke-dasharray=\"5,2\" stroke-opacity=\"0.250980\" d=\"M945,-416.8C945,-405.95 945,-391.87 945,-381.05\"/>\n",
       "</g>\n",
       "<!-- sgc.common_session.SessionGroupSession -->\n",
       "<g id=\"node4\" class=\"node\">\n",
       "<title>sgc.common_session.SessionGroupSession</title>\n",
       "<g id=\"a_node4\"><a xlink:title=\"→ sgc.SessionGroup\r→ sgc.Session\r\">\n",
       "<polygon fill=\"#00ff00\" fill-opacity=\"0.188235\" stroke=\"#00ff00\" stroke-opacity=\"0.188235\" points=\"1588.5,-310 1315.5,-310 1315.5,-275 1588.5,-275 1588.5,-310\"/>\n",
       "<text text-anchor=\"middle\" x=\"1452\" y=\"-289.4\" font-family=\"arial\" font-size=\"12.00\" fill=\"darkgreen\">sgc.common_session.SessionGroupSession</text>\n",
       "</a>\n",
       "</g>\n",
       "</g>\n",
       "<!-- sgc.Session.Experimenter -->\n",
       "<g id=\"node5\" class=\"node\">\n",
       "<title>sgc.Session.Experimenter</title>\n",
       "<g id=\"a_node5\"><a xlink:title=\"→ sgc.Session\r→ sgc.LabMember\r\">\n",
       "<polygon fill=\"transparent\" stroke=\"transparent\" points=\"1749.5,-302 1606.5,-302 1606.5,-283 1749.5,-283 1749.5,-302\"/>\n",
       "<text text-anchor=\"middle\" x=\"1678\" y=\"-290\" font-family=\"arial\" font-size=\"10.00\">sgc.Session.Experimenter</text>\n",
       "</a>\n",
       "</g>\n",
       "</g>\n",
       "<!-- sgc.Session.DataAcquisitionDevice -->\n",
       "<g id=\"node6\" class=\"node\">\n",
       "<title>sgc.Session.DataAcquisitionDevice</title>\n",
       "<g id=\"a_node6\"><a xlink:title=\"→ sgc.Session\r→ sgc.DataAcquisitionDevice\r\">\n",
       "<polygon fill=\"transparent\" stroke=\"transparent\" points=\"493,-302 305,-302 305,-283 493,-283 493,-302\"/>\n",
       "<text text-anchor=\"middle\" x=\"399\" y=\"-290\" font-family=\"arial\" font-size=\"10.00\">sgc.Session.DataAcquisitionDevice</text>\n",
       "</a>\n",
       "</g>\n",
       "</g>\n",
       "<!-- sgc.Session&#45;&gt;sgc.TaskEpoch -->\n",
       "<g id=\"edge5\" class=\"edge\">\n",
       "<title>sgc.Session-&gt;sgc.TaskEpoch</title>\n",
       "<path fill=\"none\" stroke=\"#000000\" stroke-width=\"0.75\" stroke-opacity=\"0.250980\" d=\"M998.74,-362.2C1064.41,-359.97 1177.57,-349.96 1265,-310 1287.1,-299.9 1284.76,-284.79 1307,-275 1415.78,-227.09 1454.59,-257.5 1572,-239 1585.14,-236.93 1599.31,-234.49 1612.49,-232.14\"/>\n",
       "</g>\n",
       "<!-- sgc.Session&#45;&gt;sgc.common_session.SessionGroupSession -->\n",
       "<g id=\"edge6\" class=\"edge\">\n",
       "<title>sgc.Session-&gt;sgc.common_session.SessionGroupSession</title>\n",
       "<path fill=\"none\" stroke=\"#000000\" stroke-width=\"0.75\" stroke-opacity=\"0.250980\" d=\"M993.61,-355.88C1070.57,-345.41 1222.77,-324.7 1330.65,-310.02\"/>\n",
       "</g>\n",
       "<!-- sgc.Session&#45;&gt;sgc.Session.Experimenter -->\n",
       "<g id=\"edge7\" class=\"edge\">\n",
       "<title>sgc.Session-&gt;sgc.Session.Experimenter</title>\n",
       "<path fill=\"none\" stroke=\"#000000\" stroke-width=\"0.75\" stroke-opacity=\"0.250980\" d=\"M998.15,-360.45C1109.75,-355.65 1376.47,-341.63 1598,-310 1612.32,-307.96 1627.93,-304.92 1641.53,-302.01\"/>\n",
       "</g>\n",
       "<!-- sgc.Session&#45;&gt;sgc.Session.DataAcquisitionDevice -->\n",
       "<g id=\"edge8\" class=\"edge\">\n",
       "<title>sgc.Session-&gt;sgc.Session.DataAcquisitionDevice</title>\n",
       "<path fill=\"none\" stroke=\"#000000\" stroke-width=\"0.75\" stroke-opacity=\"0.250980\" d=\"M895.01,-357.04C813.61,-348.03 647.39,-329.13 507,-310 489.24,-307.58 469.88,-304.7 452.51,-302.02\"/>\n",
       "</g>\n",
       "<!-- sgc.SensorData -->\n",
       "<g id=\"node8\" class=\"node\">\n",
       "<title>sgc.SensorData</title>\n",
       "<g id=\"a_node8\"><a xlink:title=\"→ sgc.Session\r------------------------------\rsensor_data_object_id \r→ sgc.IntervalList\r\">\n",
       "<ellipse fill=\"#00007f\" fill-opacity=\"0.250980\" stroke=\"#00007f\" stroke-opacity=\"0.250980\" cx=\"481\" cy=\"-221.5\" rx=\"68.5\" ry=\"17.5\"/>\n",
       "<text text-anchor=\"middle\" x=\"481\" y=\"-218.4\" font-family=\"arial\" font-size=\"12.00\" fill=\"#00007f\" fill-opacity=\"0.627451\">sgc.SensorData</text>\n",
       "</a>\n",
       "</g>\n",
       "</g>\n",
       "<!-- sgc.Session&#45;&gt;sgc.SensorData -->\n",
       "<g id=\"edge9\" class=\"edge\">\n",
       "<title>sgc.Session-&gt;sgc.SensorData</title>\n",
       "<path fill=\"none\" stroke=\"#000000\" stroke-width=\"2\" stroke-opacity=\"0.250980\" d=\"M892.53,-359.33C802.73,-353.22 623.86,-337.91 568,-310 534.85,-293.44 506.77,-259.3 492.05,-238.91\"/>\n",
       "</g>\n",
       "<!-- sgc.IntervalList -->\n",
       "<g id=\"node19\" class=\"node\">\n",
       "<title>sgc.IntervalList</title>\n",
       "<g id=\"a_node19\"><a xlink:title=\"→ sgc.Session\rinterval_list_name   \r------------------------------\rvalid_times          \r\">\n",
       "<polygon fill=\"#00ff00\" fill-opacity=\"0.188235\" stroke=\"#00ff00\" stroke-opacity=\"0.188235\" points=\"998.5,-310 891.5,-310 891.5,-275 998.5,-275 998.5,-310\"/>\n",
       "<text text-anchor=\"start\" x=\"899.5\" y=\"-290.4\" font-family=\"arial\" text-decoration=\"underline\" font-size=\"12.00\" fill=\"darkgreen\">sgc.IntervalList</text>\n",
       "</a>\n",
       "</g>\n",
       "</g>\n",
       "<!-- sgc.Session&#45;&gt;sgc.IntervalList -->\n",
       "<g id=\"edge10\" class=\"edge\">\n",
       "<title>sgc.Session-&gt;sgc.IntervalList</title>\n",
       "<path fill=\"none\" stroke=\"#000000\" stroke-width=\"0.75\" stroke-opacity=\"0.250980\" d=\"M945,-345.8C945,-334.95 945,-320.87 945,-310.05\"/>\n",
       "</g>\n",
       "<!-- sgc.LFPSelection -->\n",
       "<g id=\"node21\" class=\"node\">\n",
       "<title>sgc.LFPSelection</title>\n",
       "<g id=\"a_node21\"><a xlink:title=\"→ sgc.Session\r\">\n",
       "<polygon fill=\"#00ff00\" fill-opacity=\"0.188235\" stroke=\"#00ff00\" stroke-opacity=\"0.188235\" points=\"873,-310 757,-310 757,-275 873,-275 873,-310\"/>\n",
       "<text text-anchor=\"middle\" x=\"815\" y=\"-289.4\" font-family=\"arial\" font-size=\"12.00\" fill=\"darkgreen\">sgc.LFPSelection</text>\n",
       "</a>\n",
       "</g>\n",
       "</g>\n",
       "<!-- sgc.Session&#45;&gt;sgc.LFPSelection -->\n",
       "<g id=\"edge11\" class=\"edge\">\n",
       "<title>sgc.Session-&gt;sgc.LFPSelection</title>\n",
       "<path fill=\"none\" stroke=\"#000000\" stroke-width=\"2\" stroke-opacity=\"0.250980\" d=\"M918.06,-348.2C897.24,-337.15 868.37,-321.83 846.48,-310.21\"/>\n",
       "</g>\n",
       "<!-- sgc.SampleCount -->\n",
       "<g id=\"node23\" class=\"node\">\n",
       "<title>sgc.SampleCount</title>\n",
       "<g id=\"a_node23\"><a xlink:title=\"→ sgc.Session\r------------------------------\rsample_count_object_id \r\">\n",
       "<ellipse fill=\"#00007f\" fill-opacity=\"0.250980\" stroke=\"#00007f\" stroke-opacity=\"0.250980\" cx=\"663\" cy=\"-292.5\" rx=\"75.75\" ry=\"17.5\"/>\n",
       "<text text-anchor=\"middle\" x=\"663\" y=\"-289.4\" font-family=\"arial\" font-size=\"12.00\" fill=\"#00007f\" fill-opacity=\"0.627451\">sgc.SampleCount</text>\n",
       "</a>\n",
       "</g>\n",
       "</g>\n",
       "<!-- sgc.Session&#45;&gt;sgc.SampleCount -->\n",
       "<g id=\"edge12\" class=\"edge\">\n",
       "<title>sgc.Session-&gt;sgc.SampleCount</title>\n",
       "<path fill=\"none\" stroke=\"#000000\" stroke-width=\"2\" stroke-opacity=\"0.250980\" d=\"M903.39,-352.32C852.68,-339.91 767.07,-318.96 712.87,-305.7\"/>\n",
       "</g>\n",
       "<!-- sgc.Raw -->\n",
       "<g id=\"node24\" class=\"node\">\n",
       "<title>sgc.Raw</title>\n",
       "<g id=\"a_node24\"><a xlink:title=\"→ sgc.Session\r------------------------------\r→ sgc.IntervalList\rraw_object_id        \rsampling_rate        \rcomments             \rdescription          \r\">\n",
       "<ellipse fill=\"#00007f\" fill-opacity=\"0.250980\" stroke=\"#00007f\" stroke-opacity=\"0.250980\" cx=\"647\" cy=\"-221.5\" rx=\"41\" ry=\"17.5\"/>\n",
       "<text text-anchor=\"middle\" x=\"647\" y=\"-218.4\" font-family=\"arial\" font-size=\"12.00\" fill=\"#00007f\" fill-opacity=\"0.627451\">sgc.Raw</text>\n",
       "</a>\n",
       "</g>\n",
       "</g>\n",
       "<!-- sgc.Session&#45;&gt;sgc.Raw -->\n",
       "<g id=\"edge13\" class=\"edge\">\n",
       "<title>sgc.Session-&gt;sgc.Raw</title>\n",
       "<path fill=\"none\" stroke=\"#000000\" stroke-width=\"2\" stroke-opacity=\"0.250980\" d=\"M890.93,-363.04C798.89,-362.67 617.85,-355.95 578,-310 567.81,-298.25 571.09,-288.94 578,-275 586.82,-257.2 604.89,-243.8 620.33,-234.99\"/>\n",
       "</g>\n",
       "<!-- sgc.ElectrodeGroup -->\n",
       "<g id=\"node26\" class=\"node\">\n",
       "<title>sgc.ElectrodeGroup</title>\n",
       "<g id=\"a_node26\"><a xlink:title=\"→ sgc.Session\relectrode_group_name \r------------------------------\r→ sgc.BrainRegion\r→ [nullable] sgc.Probe\rdescription          \rtarget_hemisphere=&quot;Unknown&quot; \r\">\n",
       "<ellipse fill=\"#00007f\" fill-opacity=\"0.250980\" stroke=\"#00007f\" stroke-opacity=\"0.250980\" cx=\"1138\" cy=\"-292.5\" rx=\"83.25\" ry=\"17.5\"/>\n",
       "<text text-anchor=\"start\" x=\"1079.5\" y=\"-290.4\" font-family=\"arial\" text-decoration=\"underline\" font-size=\"12.00\" fill=\"#00007f\" fill-opacity=\"0.627451\">sgc.ElectrodeGroup</text>\n",
       "</a>\n",
       "</g>\n",
       "</g>\n",
       "<!-- sgc.Session&#45;&gt;sgc.ElectrodeGroup -->\n",
       "<g id=\"edge14\" class=\"edge\">\n",
       "<title>sgc.Session-&gt;sgc.ElectrodeGroup</title>\n",
       "<path fill=\"none\" stroke=\"#000000\" stroke-width=\"0.75\" stroke-opacity=\"0.250980\" d=\"M979.95,-350C1013.08,-338.16 1062.83,-320.38 1097.63,-307.93\"/>\n",
       "</g>\n",
       "<!-- sgc.DIOEvents -->\n",
       "<g id=\"node29\" class=\"node\">\n",
       "<title>sgc.DIOEvents</title>\n",
       "<g id=\"a_node29\"><a xlink:title=\"→ sgc.Session\rdio_event_name       \r------------------------------\rdio_object_id        \r→ sgc.IntervalList\r\">\n",
       "<ellipse fill=\"#00007f\" fill-opacity=\"0.250980\" stroke=\"#00007f\" stroke-opacity=\"0.250980\" cx=\"1213\" cy=\"-221.5\" rx=\"64.25\" ry=\"17.5\"/>\n",
       "<text text-anchor=\"start\" x=\"1169.5\" y=\"-219.4\" font-family=\"arial\" text-decoration=\"underline\" font-size=\"12.00\" fill=\"#00007f\" fill-opacity=\"0.627451\">sgc.DIOEvents</text>\n",
       "</a>\n",
       "</g>\n",
       "</g>\n",
       "<!-- sgc.Session&#45;&gt;sgc.DIOEvents -->\n",
       "<g id=\"edge15\" class=\"edge\">\n",
       "<title>sgc.Session-&gt;sgc.DIOEvents</title>\n",
       "<path fill=\"none\" stroke=\"#000000\" stroke-width=\"0.75\" stroke-opacity=\"0.250980\" d=\"M963.95,-347.12C976.57,-336.78 993.44,-322.76 1008,-310 1025.27,-294.87 1026.13,-286.5 1046,-275 1066.91,-262.9 1126.27,-245.58 1168.25,-234.19\"/>\n",
       "</g>\n",
       "<!-- sgc.PositionSource -->\n",
       "<g id=\"node31\" class=\"node\">\n",
       "<title>sgc.PositionSource</title>\n",
       "<g id=\"a_node31\"><a xlink:title=\"→ sgc.Session\r→ sgc.IntervalList\r------------------------------\rsource               \rimport_file_name     \r\">\n",
       "<polygon fill=\"#00ff00\" fill-opacity=\"0.188235\" stroke=\"#00ff00\" stroke-opacity=\"0.188235\" points=\"1563,-239 1435,-239 1435,-204 1563,-204 1563,-239\"/>\n",
       "<text text-anchor=\"middle\" x=\"1499\" y=\"-218.4\" font-family=\"arial\" font-size=\"12.00\" fill=\"darkgreen\">sgc.PositionSource</text>\n",
       "</a>\n",
       "</g>\n",
       "</g>\n",
       "<!-- sgc.Session&#45;&gt;sgc.PositionSource -->\n",
       "<g id=\"edge16\" class=\"edge\">\n",
       "<title>sgc.Session-&gt;sgc.PositionSource</title>\n",
       "<path fill=\"none\" stroke=\"#000000\" stroke-width=\"0.75\" stroke-opacity=\"0.250980\" d=\"M998.06,-360.56C1057.15,-356.66 1154.29,-344.97 1230,-310 1252.37,-299.67 1250.87,-285.85 1273,-275 1276.72,-273.17 1369.26,-251.96 1434.75,-237.06\"/>\n",
       "</g>\n",
       "<!-- sgc.IntervalPositionInfo -->\n",
       "<g id=\"node9\" class=\"node\">\n",
       "<title>sgc.IntervalPositionInfo</title>\n",
       "<g id=\"a_node9\"><a xlink:title=\"→ sgc.IntervalPositionInfoSelection\r------------------------------\r→ sgc.AnalysisNwbfile\rhead_position_object_id \rhead_orientation_object_id \rhead_velocity_object_id \r\">\n",
       "<ellipse fill=\"#ff0000\" fill-opacity=\"0.125490\" stroke=\"#ff0000\" stroke-opacity=\"0.125490\" cx=\"182\" cy=\"-150.5\" rx=\"13\" ry=\"13\"/>\n",
       "<text text-anchor=\"middle\" x=\"182\" y=\"-147.4\" font-family=\"arial\" font-size=\"12.00\" fill=\"#7f0000\" fill-opacity=\"0.627451\">sgc.IntervalPositionInfo</text>\n",
       "</a>\n",
       "</g>\n",
       "</g>\n",
       "<!-- sgc.IntervalLinearizationSelection -->\n",
       "<g id=\"node12\" class=\"node\">\n",
       "<title>sgc.IntervalLinearizationSelection</title>\n",
       "<g id=\"a_node12\"><a xlink:title=\"→ sgc.IntervalPositionInfo\r→ sgc.TrackGraph\r→ sgc.LinearizationParameters\r\">\n",
       "<polygon fill=\"#000000\" fill-opacity=\"0.125490\" stroke=\"transparent\" points=\"248,-97 66,-97 66,-62 248,-62 248,-97\"/>\n",
       "<text text-anchor=\"middle\" x=\"157\" y=\"-77\" font-family=\"arial\" font-size=\"10.00\">sgc.IntervalLinearizationSelection</text>\n",
       "</a>\n",
       "</g>\n",
       "</g>\n",
       "<!-- sgc.IntervalPositionInfo&#45;&gt;sgc.IntervalLinearizationSelection -->\n",
       "<g id=\"edge17\" class=\"edge\">\n",
       "<title>sgc.IntervalPositionInfo-&gt;sgc.IntervalLinearizationSelection</title>\n",
       "<path fill=\"none\" stroke=\"#000000\" stroke-width=\"0.75\" stroke-opacity=\"0.250980\" d=\"M177.87,-138.11C173.82,-126.93 167.6,-109.76 163.01,-97.08\"/>\n",
       "</g>\n",
       "<!-- sgc.IntervalLinearizedPosition -->\n",
       "<g id=\"node10\" class=\"node\">\n",
       "<title>sgc.IntervalLinearizedPosition</title>\n",
       "<g id=\"a_node10\"><a xlink:title=\"→ sgc.IntervalLinearizationSelection\r------------------------------\r→ sgc.AnalysisNwbfile\rlinearized_position_object_id \r\">\n",
       "<ellipse fill=\"#ff0000\" fill-opacity=\"0.125490\" stroke=\"#ff0000\" stroke-opacity=\"0.125490\" cx=\"97\" cy=\"-13\" rx=\"13\" ry=\"13\"/>\n",
       "<text text-anchor=\"middle\" x=\"97\" y=\"-9.9\" font-family=\"arial\" font-size=\"12.00\" fill=\"#7f0000\" fill-opacity=\"0.627451\">sgc.IntervalLinearizedPosition</text>\n",
       "</a>\n",
       "</g>\n",
       "</g>\n",
       "<!-- sgc.IntervalPositionInfoSelection -->\n",
       "<g id=\"node11\" class=\"node\">\n",
       "<title>sgc.IntervalPositionInfoSelection</title>\n",
       "<g id=\"a_node11\"><a xlink:title=\"→ sgc.PositionInfoParameters\r→ sgc.IntervalList\r\">\n",
       "<polygon fill=\"#000000\" fill-opacity=\"0.125490\" stroke=\"transparent\" points=\"882,-239 706,-239 706,-204 882,-204 882,-239\"/>\n",
       "<text text-anchor=\"middle\" x=\"794\" y=\"-219\" font-family=\"arial\" font-size=\"10.00\">sgc.IntervalPositionInfoSelection</text>\n",
       "</a>\n",
       "</g>\n",
       "</g>\n",
       "<!-- sgc.IntervalPositionInfoSelection&#45;&gt;sgc.IntervalPositionInfo -->\n",
       "<g id=\"edge18\" class=\"edge\">\n",
       "<title>sgc.IntervalPositionInfoSelection-&gt;sgc.IntervalPositionInfo</title>\n",
       "<path fill=\"none\" stroke=\"#000000\" stroke-width=\"2\" stroke-opacity=\"0.250980\" d=\"M705.75,-205.23C702.8,-204.8 699.88,-204.39 697,-204 497.96,-176.96 253.92,-157.12 195.17,-152.52\"/>\n",
       "</g>\n",
       "<!-- sgc.IntervalLinearizationSelection&#45;&gt;sgc.IntervalLinearizedPosition -->\n",
       "<g id=\"edge19\" class=\"edge\">\n",
       "<title>sgc.IntervalLinearizationSelection-&gt;sgc.IntervalLinearizedPosition</title>\n",
       "<path fill=\"none\" stroke=\"#000000\" stroke-width=\"2\" stroke-opacity=\"0.250980\" d=\"M141.55,-61.89C130.02,-49.5 114.71,-33.04 105.37,-23\"/>\n",
       "</g>\n",
       "<!-- sgc.Nwbfile -->\n",
       "<g id=\"node13\" class=\"node\">\n",
       "<title>sgc.Nwbfile</title>\n",
       "<g id=\"a_node13\"><a xlink:title=\"nwb_file_name        \r------------------------------\rnwb_file_abs_path    \rINDEX (nwb_file_abs_path)\r\">\n",
       "<polygon fill=\"#00ff00\" fill-opacity=\"0.188235\" stroke=\"#00ff00\" stroke-opacity=\"0.188235\" points=\"514.5,-452 429.5,-452 429.5,-417 514.5,-417 514.5,-452\"/>\n",
       "<text text-anchor=\"start\" x=\"437.5\" y=\"-432.4\" font-family=\"arial\" text-decoration=\"underline\" font-size=\"12.00\" fill=\"darkgreen\">sgc.Nwbfile</text>\n",
       "</a>\n",
       "</g>\n",
       "</g>\n",
       "<!-- sgc.Nwbfile&#45;&gt;sgc.Session -->\n",
       "<g id=\"edge20\" class=\"edge\">\n",
       "<title>sgc.Nwbfile-&gt;sgc.Session</title>\n",
       "<path fill=\"none\" stroke=\"#000000\" stroke-width=\"2\" stroke-opacity=\"0.250980\" d=\"M514.81,-427.26C603.04,-414.38 804.6,-384.98 897.05,-371.49\"/>\n",
       "</g>\n",
       "<!-- sgc.AnalysisNwbfile -->\n",
       "<g id=\"node14\" class=\"node\">\n",
       "<title>sgc.AnalysisNwbfile</title>\n",
       "<g id=\"a_node14\"><a xlink:title=\"analysis_file_name   \r------------------------------\r→ sgc.Nwbfile\ranalysis_file_abs_path \ranalysis_file_description=&quot;&quot; \ranalysis_parameters=null \rINDEX (analysis_file_abs_path)\r\">\n",
       "<polygon fill=\"#00ff00\" fill-opacity=\"0.188235\" stroke=\"#00ff00\" stroke-opacity=\"0.188235\" points=\"286.5,-310 153.5,-310 153.5,-275 286.5,-275 286.5,-310\"/>\n",
       "<text text-anchor=\"start\" x=\"161.5\" y=\"-290.4\" font-family=\"arial\" text-decoration=\"underline\" font-size=\"12.00\" fill=\"darkgreen\">sgc.AnalysisNwbfile</text>\n",
       "</a>\n",
       "</g>\n",
       "</g>\n",
       "<!-- sgc.Nwbfile&#45;&gt;sgc.AnalysisNwbfile -->\n",
       "<g id=\"edge21\" class=\"edge\">\n",
       "<title>sgc.Nwbfile-&gt;sgc.AnalysisNwbfile</title>\n",
       "<path fill=\"none\" stroke=\"#000000\" stroke-width=\"0.75\" stroke-dasharray=\"5,2\" stroke-opacity=\"0.250980\" d=\"M473.31,-416.86C473.88,-397.19 471.61,-364.76 453,-346 451.49,-344.48 354.84,-323.05 286.51,-308.04\"/>\n",
       "</g>\n",
       "<!-- sgc.NwbfileKachery -->\n",
       "<g id=\"node15\" class=\"node\">\n",
       "<title>sgc.NwbfileKachery</title>\n",
       "<g id=\"a_node15\"><a xlink:title=\"→ sgc.Nwbfile\r------------------------------\rnwb_file_uri         \r\">\n",
       "<ellipse fill=\"#ff0000\" fill-opacity=\"0.125490\" stroke=\"#ff0000\" stroke-opacity=\"0.125490\" cx=\"377\" cy=\"-363.5\" rx=\"13\" ry=\"13\"/>\n",
       "<text text-anchor=\"middle\" x=\"377\" y=\"-360.4\" font-family=\"arial\" font-size=\"12.00\" fill=\"#7f0000\" fill-opacity=\"0.627451\">sgc.NwbfileKachery</text>\n",
       "</a>\n",
       "</g>\n",
       "</g>\n",
       "<!-- sgc.Nwbfile&#45;&gt;sgc.NwbfileKachery -->\n",
       "<g id=\"edge22\" class=\"edge\">\n",
       "<title>sgc.Nwbfile-&gt;sgc.NwbfileKachery</title>\n",
       "<path fill=\"none\" stroke=\"#000000\" stroke-width=\"2\" stroke-opacity=\"0.250980\" d=\"M449,-416.8C429.23,-402.44 401.67,-382.42 387.04,-371.79\"/>\n",
       "</g>\n",
       "<!-- sgc.AnalysisNwbfile&#45;&gt;sgc.IntervalPositionInfo -->\n",
       "<g id=\"edge23\" class=\"edge\">\n",
       "<title>sgc.AnalysisNwbfile-&gt;sgc.IntervalPositionInfo</title>\n",
       "<path fill=\"none\" stroke=\"#000000\" stroke-width=\"0.75\" stroke-dasharray=\"5,2\" stroke-opacity=\"0.250980\" d=\"M226.81,-274.77C233.1,-256.7 240.21,-227.36 231,-204 223.23,-184.28 204.17,-167.6 192.24,-158.62\"/>\n",
       "</g>\n",
       "<!-- sgc.AnalysisNwbfile&#45;&gt;sgc.IntervalLinearizedPosition -->\n",
       "<g id=\"edge24\" class=\"edge\">\n",
       "<title>sgc.AnalysisNwbfile-&gt;sgc.IntervalLinearizedPosition</title>\n",
       "<path fill=\"none\" stroke=\"#000000\" stroke-width=\"0.75\" stroke-dasharray=\"5,2\" stroke-opacity=\"0.250980\" d=\"M153.14,-281.62C105,-272.99 45.99,-258.72 31,-239 7.64,-208.27 -1.87,-187.73 57,-62 64.45,-46.09 78.49,-31.09 87.8,-22.23\"/>\n",
       "</g>\n",
       "<!-- sgc.AnalysisNwbfileKachery -->\n",
       "<g id=\"node16\" class=\"node\">\n",
       "<title>sgc.AnalysisNwbfileKachery</title>\n",
       "<g id=\"a_node16\"><a xlink:title=\"→ sgc.AnalysisNwbfile\r------------------------------\ranalysis_file_uri    \r\">\n",
       "<ellipse fill=\"#ff0000\" fill-opacity=\"0.125490\" stroke=\"#ff0000\" stroke-opacity=\"0.125490\" cx=\"131\" cy=\"-221.5\" rx=\"13\" ry=\"13\"/>\n",
       "<text text-anchor=\"middle\" x=\"131\" y=\"-218.4\" font-family=\"arial\" font-size=\"12.00\" fill=\"#7f0000\" fill-opacity=\"0.627451\">sgc.AnalysisNwbfileKachery</text>\n",
       "</a>\n",
       "</g>\n",
       "</g>\n",
       "<!-- sgc.AnalysisNwbfile&#45;&gt;sgc.AnalysisNwbfileKachery -->\n",
       "<g id=\"edge25\" class=\"edge\">\n",
       "<title>sgc.AnalysisNwbfile-&gt;sgc.AnalysisNwbfileKachery</title>\n",
       "<path fill=\"none\" stroke=\"#000000\" stroke-width=\"2\" stroke-opacity=\"0.250980\" d=\"M198.46,-274.8C180.14,-260.6 154.68,-240.86 140.87,-230.15\"/>\n",
       "</g>\n",
       "<!-- sgc.LFP -->\n",
       "<g id=\"node25\" class=\"node\">\n",
       "<title>sgc.LFP</title>\n",
       "<g id=\"a_node25\"><a xlink:title=\"→ sgc.LFPSelection\r------------------------------\r→ sgc.IntervalList\r→ sgc.FirFilterParameters\r→ sgc.AnalysisNwbfile\rlfp_object_id        \rlfp_sampling_rate    \r\">\n",
       "<ellipse fill=\"#00007f\" fill-opacity=\"0.250980\" stroke=\"#00007f\" stroke-opacity=\"0.250980\" cx=\"355\" cy=\"-221.5\" rx=\"38.5\" ry=\"17.5\"/>\n",
       "<text text-anchor=\"middle\" x=\"355\" y=\"-218.4\" font-family=\"arial\" font-size=\"12.00\" fill=\"#00007f\" fill-opacity=\"0.627451\">sgc.LFP</text>\n",
       "</a>\n",
       "</g>\n",
       "</g>\n",
       "<!-- sgc.AnalysisNwbfile&#45;&gt;sgc.LFP -->\n",
       "<g id=\"edge26\" class=\"edge\">\n",
       "<title>sgc.AnalysisNwbfile-&gt;sgc.LFP</title>\n",
       "<path fill=\"none\" stroke=\"#000000\" stroke-width=\"0.75\" stroke-dasharray=\"5,2\" stroke-opacity=\"0.250980\" d=\"M252.34,-274.97C276.21,-262.77 308.21,-246.41 330.11,-235.22\"/>\n",
       "</g>\n",
       "<!-- sgc.LFPBand -->\n",
       "<g id=\"node28\" class=\"node\">\n",
       "<title>sgc.LFPBand</title>\n",
       "<g id=\"a_node28\"><a xlink:title=\"→ sgc.LFPBandSelection\r------------------------------\r→ sgc.AnalysisNwbfile\r→ sgc.IntervalList\rfiltered_data_object_id \r\">\n",
       "<ellipse fill=\"#ff0000\" fill-opacity=\"0.125490\" stroke=\"#ff0000\" stroke-opacity=\"0.125490\" cx=\"616\" cy=\"-79.5\" rx=\"13\" ry=\"13\"/>\n",
       "<text text-anchor=\"middle\" x=\"616\" y=\"-76.4\" font-family=\"arial\" font-size=\"12.00\" fill=\"#7f0000\" fill-opacity=\"0.627451\">sgc.LFPBand</text>\n",
       "</a>\n",
       "</g>\n",
       "</g>\n",
       "<!-- sgc.AnalysisNwbfile&#45;&gt;sgc.LFPBand -->\n",
       "<g id=\"edge27\" class=\"edge\">\n",
       "<title>sgc.AnalysisNwbfile-&gt;sgc.LFPBand</title>\n",
       "<path fill=\"none\" stroke=\"#000000\" stroke-width=\"0.75\" stroke-dasharray=\"5,2\" stroke-opacity=\"0.250980\" d=\"M232.85,-274.97C248.56,-255.71 276.8,-223.97 307,-204 411.09,-135.17 559.51,-94.57 603.35,-83.56\"/>\n",
       "</g>\n",
       "<!-- sgc.Lab -->\n",
       "<g id=\"node17\" class=\"node\">\n",
       "<title>sgc.Lab</title>\n",
       "<g id=\"a_node17\"><a xlink:title=\"lab_name             \r\">\n",
       "<polygon fill=\"#00ff00\" fill-opacity=\"0.188235\" stroke=\"#00ff00\" stroke-opacity=\"0.188235\" points=\"1068,-452 1006,-452 1006,-417 1068,-417 1068,-452\"/>\n",
       "<text text-anchor=\"start\" x=\"1014\" y=\"-432.4\" font-family=\"arial\" text-decoration=\"underline\" font-size=\"12.00\" fill=\"darkgreen\">sgc.Lab</text>\n",
       "</a>\n",
       "</g>\n",
       "</g>\n",
       "<!-- sgc.Lab&#45;&gt;sgc.Session -->\n",
       "<g id=\"edge28\" class=\"edge\">\n",
       "<title>sgc.Lab-&gt;sgc.Session</title>\n",
       "<path fill=\"none\" stroke=\"#000000\" stroke-width=\"0.75\" stroke-dasharray=\"5,2\" stroke-opacity=\"0.250980\" d=\"M1014.73,-416.8C999.73,-405.55 980.1,-390.83 965.49,-379.87\"/>\n",
       "</g>\n",
       "<!-- sgc.Institution -->\n",
       "<g id=\"node18\" class=\"node\">\n",
       "<title>sgc.Institution</title>\n",
       "<g id=\"a_node18\"><a xlink:title=\"institution_name     \r\">\n",
       "<polygon fill=\"#00ff00\" fill-opacity=\"0.188235\" stroke=\"#00ff00\" stroke-opacity=\"0.188235\" points=\"884,-452 784,-452 784,-417 884,-417 884,-452\"/>\n",
       "<text text-anchor=\"start\" x=\"792\" y=\"-432.4\" font-family=\"arial\" text-decoration=\"underline\" font-size=\"12.00\" fill=\"darkgreen\">sgc.Institution</text>\n",
       "</a>\n",
       "</g>\n",
       "</g>\n",
       "<!-- sgc.Institution&#45;&gt;sgc.Session -->\n",
       "<g id=\"edge29\" class=\"edge\">\n",
       "<title>sgc.Institution-&gt;sgc.Session</title>\n",
       "<path fill=\"none\" stroke=\"#000000\" stroke-width=\"0.75\" stroke-dasharray=\"5,2\" stroke-opacity=\"0.250980\" d=\"M860.59,-416.97C879.06,-405.49 903.46,-390.32 921.27,-379.25\"/>\n",
       "</g>\n",
       "<!-- sgc.IntervalList&#45;&gt;0 -->\n",
       "<g id=\"edge30\" class=\"edge\">\n",
       "<title>sgc.IntervalList-&gt;0</title>\n",
       "<path fill=\"none\" stroke=\"#000000\" stroke-width=\"0.75\" stroke-opacity=\"0.250980\" d=\"M936.04,-274.8C926.46,-256.93 912.18,-230.29 908.76,-223.91\"/>\n",
       "</g>\n",
       "<!-- sgc.IntervalList&#45;&gt;sgc.TaskEpoch -->\n",
       "<g id=\"edge31\" class=\"edge\">\n",
       "<title>sgc.IntervalList-&gt;sgc.TaskEpoch</title>\n",
       "<path fill=\"none\" stroke=\"#000000\" stroke-width=\"0.75\" stroke-dasharray=\"5,2\" stroke-opacity=\"0.250980\" d=\"M998.6,-281.79C1013.87,-279.28 1030.56,-276.79 1046,-275 1278.77,-248.08 1339.44,-267.73 1572,-239 1585.53,-237.33 1600.08,-234.98 1613.54,-232.57\"/>\n",
       "</g>\n",
       "<!-- sgc.IntervalList&#45;&gt;sgc.SensorData -->\n",
       "<g id=\"edge32\" class=\"edge\">\n",
       "<title>sgc.IntervalList-&gt;sgc.SensorData</title>\n",
       "<path fill=\"none\" stroke=\"#000000\" stroke-width=\"0.75\" stroke-dasharray=\"5,2\" stroke-opacity=\"0.250980\" d=\"M891.49,-276.98C888.29,-276.27 885.11,-275.6 882,-275 756.65,-250.77 723.54,-255.99 597,-239 578.15,-236.47 557.6,-233.59 539.1,-230.95\"/>\n",
       "</g>\n",
       "<!-- sgc.IntervalList&#45;&gt;sgc.IntervalPositionInfoSelection -->\n",
       "<g id=\"edge33\" class=\"edge\">\n",
       "<title>sgc.IntervalList-&gt;sgc.IntervalPositionInfoSelection</title>\n",
       "<path fill=\"none\" stroke=\"#000000\" stroke-width=\"0.75\" stroke-opacity=\"0.250980\" d=\"M908.83,-274.97C885.01,-264.09 853.95,-249.89 830.13,-239.01\"/>\n",
       "</g>\n",
       "<!-- sgc.IntervalList&#45;&gt;sgc.Raw -->\n",
       "<g id=\"edge34\" class=\"edge\">\n",
       "<title>sgc.IntervalList-&gt;sgc.Raw</title>\n",
       "<path fill=\"none\" stroke=\"#000000\" stroke-width=\"0.75\" stroke-dasharray=\"5,2\" stroke-opacity=\"0.250980\" d=\"M891.44,-277.22C888.25,-276.45 885.09,-275.7 882,-275 800.33,-256.38 778.05,-260.17 697,-239 690.72,-237.36 684.08,-235.36 677.76,-233.33\"/>\n",
       "</g>\n",
       "<!-- sgc.IntervalList&#45;&gt;sgc.LFP -->\n",
       "<g id=\"edge35\" class=\"edge\">\n",
       "<title>sgc.IntervalList-&gt;sgc.LFP</title>\n",
       "<path fill=\"none\" stroke=\"#000000\" stroke-width=\"0.75\" stroke-dasharray=\"5,2\" stroke-opacity=\"0.250980\" d=\"M891.18,-276.72C888.09,-276.08 885.01,-275.5 882,-275 671.43,-239.81 612.1,-282.05 403,-239 396.53,-237.67 389.73,-235.7 383.35,-233.58\"/>\n",
       "</g>\n",
       "<!-- sgc.IntervalList&#45;&gt;sgc.LFPBand -->\n",
       "<g id=\"edge36\" class=\"edge\">\n",
       "<title>sgc.IntervalList-&gt;sgc.LFPBand</title>\n",
       "<path fill=\"none\" stroke=\"#000000\" stroke-width=\"0.75\" stroke-dasharray=\"5,2\" stroke-opacity=\"0.250980\" d=\"M945.79,-275C945.82,-255.76 942.98,-224.05 926,-204 844.37,-107.63 676.97,-85.83 629.07,-81.49\"/>\n",
       "</g>\n",
       "<!-- sgc.IntervalList&#45;&gt;sgc.DIOEvents -->\n",
       "<g id=\"edge37\" class=\"edge\">\n",
       "<title>sgc.IntervalList-&gt;sgc.DIOEvents</title>\n",
       "<path fill=\"none\" stroke=\"#000000\" stroke-width=\"0.75\" stroke-dasharray=\"5,2\" stroke-opacity=\"0.250980\" d=\"M998.59,-277.7C1048.23,-264.92 1121.25,-246.12 1167.96,-234.1\"/>\n",
       "</g>\n",
       "<!-- sgc.IntervalList&#45;&gt;sgc.PositionSource -->\n",
       "<g id=\"edge38\" class=\"edge\">\n",
       "<title>sgc.IntervalList-&gt;sgc.PositionSource</title>\n",
       "<path fill=\"none\" stroke=\"#000000\" stroke-width=\"2\" stroke-opacity=\"0.250980\" d=\"M998.63,-282.05C1013.9,-279.54 1030.58,-276.99 1046,-275 1214.25,-253.31 1258.48,-265.76 1426,-239 1428.95,-238.53 1431.96,-238.01 1435,-237.45\"/>\n",
       "</g>\n",
       "<!-- sgc.PositionIntervalMap -->\n",
       "<g id=\"node35\" class=\"node\">\n",
       "<title>sgc.PositionIntervalMap</title>\n",
       "<g id=\"a_node35\"><a xlink:title=\"→ sgc.IntervalList\r------------------------------\rposition_interval_name \r\">\n",
       "<ellipse fill=\"#ff0000\" fill-opacity=\"0.125490\" stroke=\"#ff0000\" stroke-opacity=\"0.125490\" cx=\"1052\" cy=\"-221.5\" rx=\"13\" ry=\"13\"/>\n",
       "<text text-anchor=\"middle\" x=\"1052\" y=\"-218.4\" font-family=\"arial\" font-size=\"12.00\" fill=\"#7f0000\" fill-opacity=\"0.627451\">sgc.PositionIntervalMap</text>\n",
       "</a>\n",
       "</g>\n",
       "</g>\n",
       "<!-- sgc.IntervalList&#45;&gt;sgc.PositionIntervalMap -->\n",
       "<g id=\"edge39\" class=\"edge\">\n",
       "<title>sgc.IntervalList-&gt;sgc.PositionIntervalMap</title>\n",
       "<path fill=\"none\" stroke=\"#000000\" stroke-width=\"2\" stroke-opacity=\"0.250980\" d=\"M970.63,-274.97C993.26,-260.38 1025.12,-239.84 1041.44,-229.31\"/>\n",
       "</g>\n",
       "<!-- sgc.LFPSelection.LFPElectrode -->\n",
       "<g id=\"node20\" class=\"node\">\n",
       "<title>sgc.LFPSelection.LFPElectrode</title>\n",
       "<g id=\"a_node20\"><a xlink:title=\"→ sgc.LFPSelection\r→ sgc.Electrode\r\">\n",
       "<polygon fill=\"transparent\" stroke=\"transparent\" points=\"1137,-160 973,-160 973,-141 1137,-141 1137,-160\"/>\n",
       "<text text-anchor=\"middle\" x=\"1055\" y=\"-148\" font-family=\"arial\" font-size=\"10.00\">sgc.LFPSelection.LFPElectrode</text>\n",
       "</a>\n",
       "</g>\n",
       "</g>\n",
       "<!-- sgc.LFPSelection&#45;&gt;sgc.LFPSelection.LFPElectrode -->\n",
       "<g id=\"edge40\" class=\"edge\">\n",
       "<title>sgc.LFPSelection-&gt;sgc.LFPSelection.LFPElectrode</title>\n",
       "<path fill=\"none\" stroke=\"#000000\" stroke-width=\"0.75\" stroke-opacity=\"0.250980\" d=\"M756.9,-277.16C753.89,-276.43 750.91,-275.71 748,-275 675.93,-257.53 547.64,-259.34 597,-204 621.52,-176.51 847.69,-161.4 972.76,-155.09\"/>\n",
       "</g>\n",
       "<!-- sgc.LFPSelection&#45;&gt;sgc.LFP -->\n",
       "<g id=\"edge41\" class=\"edge\">\n",
       "<title>sgc.LFPSelection-&gt;sgc.LFP</title>\n",
       "<path fill=\"none\" stroke=\"#000000\" stroke-width=\"2\" stroke-opacity=\"0.250980\" d=\"M757,-276.7C753.96,-276.09 750.95,-275.51 748,-275 596.13,-248.51 553.53,-272.27 403,-239 396.55,-237.57 389.75,-235.57 383.38,-233.44\"/>\n",
       "</g>\n",
       "<!-- sgc.LFPBandSelection&#45;&gt;sgc.LFPBand -->\n",
       "<g id=\"edge42\" class=\"edge\">\n",
       "<title>sgc.LFPBandSelection-&gt;sgc.LFPBand</title>\n",
       "<path fill=\"none\" stroke=\"#000000\" stroke-width=\"2\" stroke-opacity=\"0.250980\" d=\"M616,-132.8C616,-120.35 616,-103.66 616,-92.51\"/>\n",
       "</g>\n",
       "<!-- sgc.LFP&#45;&gt;sgc.LFPBandSelection -->\n",
       "<g id=\"edge43\" class=\"edge\">\n",
       "<title>sgc.LFP-&gt;sgc.LFPBandSelection</title>\n",
       "<path fill=\"none\" stroke=\"#000000\" stroke-width=\"0.75\" stroke-opacity=\"0.250980\" d=\"M384.31,-209.96C390.45,-207.88 396.91,-205.79 403,-204 448.85,-190.5 500.94,-177.62 542.13,-167.99\"/>\n",
       "</g>\n",
       "<!-- sgc.Electrode -->\n",
       "<g id=\"node27\" class=\"node\">\n",
       "<title>sgc.Electrode</title>\n",
       "<g id=\"a_node27\"><a xlink:title=\"→ sgc.ElectrodeGroup\relectrode_id         \r------------------------------\r→ [nullable] sgc.Probe.Electrode\r→ sgc.BrainRegion\rname=&quot;&quot;              \roriginal_reference_electrode=-1 \rx=null               \ry=null               \rz=null               \rfiltering            \rimpedance=null       \rbad_channel=&quot;False&quot;  \rx_warped=null        \ry_warped=null        \rz_warped=null        \rcontacts             \r\">\n",
       "<ellipse fill=\"#00007f\" fill-opacity=\"0.250980\" stroke=\"#00007f\" stroke-opacity=\"0.250980\" cx=\"1356\" cy=\"-221.5\" rx=\"60.75\" ry=\"17.5\"/>\n",
       "<text text-anchor=\"start\" x=\"1315.5\" y=\"-219.4\" font-family=\"arial\" text-decoration=\"underline\" font-size=\"12.00\" fill=\"#00007f\" fill-opacity=\"0.627451\">sgc.Electrode</text>\n",
       "</a>\n",
       "</g>\n",
       "</g>\n",
       "<!-- sgc.ElectrodeGroup&#45;&gt;sgc.Electrode -->\n",
       "<g id=\"edge44\" class=\"edge\">\n",
       "<title>sgc.ElectrodeGroup-&gt;sgc.Electrode</title>\n",
       "<path fill=\"none\" stroke=\"#000000\" stroke-width=\"0.75\" stroke-opacity=\"0.250980\" d=\"M1181.85,-277.62C1221.27,-265.14 1278.63,-246.99 1316.61,-234.97\"/>\n",
       "</g>\n",
       "<!-- sgc.Electrode&#45;&gt;sgc.LFPSelection.LFPElectrode -->\n",
       "<g id=\"edge45\" class=\"edge\">\n",
       "<title>sgc.Electrode-&gt;sgc.LFPSelection.LFPElectrode</title>\n",
       "<path fill=\"none\" stroke=\"#000000\" stroke-width=\"2\" stroke-opacity=\"0.250980\" d=\"M1310.83,-209.8C1302.57,-207.86 1294.03,-205.86 1286,-204 1218.09,-188.28 1138.84,-170.36 1093.04,-160.05\"/>\n",
       "</g>\n",
       "<!-- sgc.PositionSource.SpatialSeries -->\n",
       "<g id=\"node30\" class=\"node\">\n",
       "<title>sgc.PositionSource.SpatialSeries</title>\n",
       "<g id=\"a_node30\"><a xlink:title=\"→ sgc.PositionSource\rid                   \r------------------------------\rname=null            \r\">\n",
       "<polygon fill=\"transparent\" stroke=\"transparent\" points=\"1586.5,-160 1411.5,-160 1411.5,-141 1586.5,-141 1586.5,-160\"/>\n",
       "<text text-anchor=\"start\" x=\"1419.5\" y=\"-149\" font-family=\"arial\" text-decoration=\"underline\" font-size=\"10.00\">sgc.PositionSource.SpatialSeries</text>\n",
       "</a>\n",
       "</g>\n",
       "</g>\n",
       "<!-- sgc.PositionSource&#45;&gt;sgc.PositionSource.SpatialSeries -->\n",
       "<g id=\"edge46\" class=\"edge\">\n",
       "<title>sgc.PositionSource-&gt;sgc.PositionSource.SpatialSeries</title>\n",
       "<path fill=\"none\" stroke=\"#000000\" stroke-width=\"0.75\" stroke-opacity=\"0.250980\" d=\"M1499,-203.8C1499,-190.08 1499,-171.19 1499,-160.27\"/>\n",
       "</g>\n",
       "<!-- sgc.RawPosition -->\n",
       "<g id=\"node34\" class=\"node\">\n",
       "<title>sgc.RawPosition</title>\n",
       "<g id=\"a_node34\"><a xlink:title=\"→ sgc.PositionSource\r\">\n",
       "<ellipse fill=\"#00007f\" fill-opacity=\"0.250980\" stroke=\"#00007f\" stroke-opacity=\"0.250980\" cx=\"1323\" cy=\"-150.5\" rx=\"70\" ry=\"17.5\"/>\n",
       "<text text-anchor=\"middle\" x=\"1323\" y=\"-147.4\" font-family=\"arial\" font-size=\"12.00\" fill=\"#00007f\" fill-opacity=\"0.627451\">sgc.RawPosition</text>\n",
       "</a>\n",
       "</g>\n",
       "</g>\n",
       "<!-- sgc.PositionSource&#45;&gt;sgc.RawPosition -->\n",
       "<g id=\"edge47\" class=\"edge\">\n",
       "<title>sgc.PositionSource-&gt;sgc.RawPosition</title>\n",
       "<path fill=\"none\" stroke=\"#000000\" stroke-width=\"2\" stroke-opacity=\"0.250980\" d=\"M1456.84,-203.97C1426.95,-192.25 1387.25,-176.69 1358.87,-165.56\"/>\n",
       "</g>\n",
       "</g>\n",
       "</svg>"
      ],
      "text/plain": [
       "<datajoint.diagram.Diagram at 0x7f8f1821ed00>"
      ]
     },
     "execution_count": 2,
     "metadata": {},
     "output_type": "execute_result"
    }
   ],
   "source": [
    "# Draw tables that are two levels below and one level above Session\n",
    "dj.Diagram(sgc.Session) - 1 + 2"
   ]
  },
  {
   "cell_type": "markdown",
   "metadata": {},
   "source": [
    "By adding diagrams together, of adding and subtracting levels, we can visualize\n",
    "key parts of Spyglass.\n",
    "\n",
    "_Note:_ Notice the _Selection_ tables. This is a design pattern that selects a\n",
    "subset of upstream items for further processing. In some cases, these also pair\n",
    "the selected data with processing parameters.\n"
   ]
  },
  {
   "cell_type": "markdown",
   "metadata": {},
   "source": [
    "## Example data\n"
   ]
  },
  {
   "cell_type": "markdown",
   "metadata": {},
   "source": [
    "After exploring the pipeline's structure, we'll now grab some example data.\n",
    "Spyglass will assume that the data is a neural recording with relevant auxiliary\n",
    "in NWB.\n",
    "\n",
    "We offer a few examples:\n",
    "\n",
    "- `minirec20230622.nwb`, .3 GB: minimal recording,\n",
    "  [Link](https://ucsf.box.com/s/k3sgql6z475oia848q1rgms4zdh4rkjn)\n",
    "- `mediumnwb20230802.nwb`, 32 GB: full-featured dataset,\n",
    "  [Link](https://ucsf.box.com/s/2qbhxghzpttfam4b7q7j8eg0qkut0opa)\n",
    "- `montague20200802.nwb`, 8 GB: full experimental recording,\n",
    "  [Link](https://ucsf.box.com/s/26je2eytjpqepyznwpm92020ztjuaomb)\n",
    "- For those in the UCSF network, these and many others on `/stelmo/nwb/raw`\n",
    "\n",
    "If you are connected to the Frank lab database, please rename any downloaded\n",
    "files (e.g., `example20200101_yourname.nwb`) to avoid naming collisions, as the\n",
    "file name acts as the primary key across key tables.\n"
   ]
  },
  {
   "cell_type": "code",
   "execution_count": 2,
   "metadata": {},
   "outputs": [],
   "source": [
    "from spyglass.utils.nwb_helper_fn import get_nwb_copy_filename\n",
    "\n",
    "# Define the name of the file that you copied and renamed\n",
    "nwb_file_name = \"minirec20230622.nwb\"\n",
    "nwb_copy_file_name = get_nwb_copy_filename(nwb_file_name)"
   ]
  },
  {
   "cell_type": "markdown",
   "metadata": {},
   "source": [
    "Spyglass will create a copy with this name.\n"
   ]
  },
  {
   "cell_type": "code",
   "execution_count": 4,
   "metadata": {},
   "outputs": [
    {
     "data": {
      "text/plain": [
       "'minirec20230622_.nwb'"
      ]
     },
     "execution_count": 4,
     "metadata": {},
     "output_type": "execute_result"
    }
   ],
   "source": [
    "nwb_copy_file_name"
   ]
  },
  {
   "cell_type": "markdown",
   "metadata": {},
   "source": [
    "## Basic Inserts: Lab Team\n"
   ]
  },
  {
   "cell_type": "markdown",
   "metadata": {},
   "source": [
    "Let's start small by inserting personnel information.\n",
    "\n",
    "The `LabMember` table lists all lab members, with an additional part table for\n",
    "`LabMemberInfo`. This holds Google account and DataJoint username info for each\n",
    "member, for authentication purposes.\n",
    "\n",
    "We can insert lab member information using the NWB file `experimenter` field\n",
    "as follows...\n"
   ]
  },
  {
   "cell_type": "code",
   "execution_count": 5,
   "metadata": {},
   "outputs": [
    {
     "name": "stdout",
     "output_type": "stream",
     "text": [
      "Please add the Google user ID for Firstname Lastname in the LabMember.LabMemberInfo table to help manage permissions.\n",
      "Please add the Google user ID for Firstname2 Lastname2 in the LabMember.LabMemberInfo table to help manage permissions.\n"
     ]
    }
   ],
   "source": [
    "# take a look at the lab members\n",
    "sgc.LabMember.insert_from_nwbfile(nwb_file_name)"
   ]
  },
  {
   "cell_type": "markdown",
   "metadata": {},
   "source": [
    "We can [insert](https://datajoint.com/docs/core/datajoint-python/0.14/manipulation/insert/)\n",
    "into `LabMemberInfo` directly with a list of lists that reflect the order of\n",
    "the fields present in the table. See\n",
    "[this notebook](https://github.com/datajoint/datajoint-tutorials/blob/main/00-Getting_Started/01-DataJoint%20Basics%20-%20Interactive.ipynb)\n",
    "for examples of inserting with `dicts`.\n"
   ]
  },
  {
   "cell_type": "code",
   "execution_count": 6,
   "metadata": {},
   "outputs": [
    {
     "data": {
      "text/html": [
       "\n",
       "    \n",
       "    <style type=\"text/css\">\n",
       "        .Table{\n",
       "            border-collapse:collapse;\n",
       "        }\n",
       "        .Table th{\n",
       "            background: #A0A0A0; color: #ffffff; padding:4px; border:#f0e0e0 1px solid;\n",
       "            font-weight: normal; font-family: monospace; font-size: 100%;\n",
       "        }\n",
       "        .Table td{\n",
       "            padding:4px; border:#f0e0e0 1px solid; font-size:100%;\n",
       "        }\n",
       "        .Table tr:nth-child(odd){\n",
       "            background: #ffffff;\n",
       "            color: #000000;\n",
       "        }\n",
       "        .Table tr:nth-child(even){\n",
       "            background: #f3f1ff;\n",
       "            color: #000000;\n",
       "        }\n",
       "        /* Tooltip container */\n",
       "        .djtooltip {\n",
       "        }\n",
       "        /* Tooltip text */\n",
       "        .djtooltip .djtooltiptext {\n",
       "            visibility: hidden;\n",
       "            width: 120px;\n",
       "            background-color: black;\n",
       "            color: #fff;\n",
       "            text-align: center;\n",
       "            padding: 5px 0;\n",
       "            border-radius: 6px;\n",
       "            /* Position the tooltip text - see examples below! */\n",
       "            position: absolute;\n",
       "            z-index: 1;\n",
       "        }\n",
       "        #primary {\n",
       "            font-weight: bold;\n",
       "            color: black;\n",
       "        }\n",
       "        #nonprimary {\n",
       "            font-weight: normal;\n",
       "            color: white;\n",
       "        }\n",
       "\n",
       "        /* Show the tooltip text when you mouse over the tooltip container */\n",
       "        .djtooltip:hover .djtooltiptext {\n",
       "            visibility: visible;\n",
       "        }\n",
       "    </style>\n",
       "    \n",
       "    <b>Information about lab member in the context of Frank lab network</b>\n",
       "        <div style=\"max-height:1000px;max-width:1500px;overflow:auto;\">\n",
       "        <table border=\"1\" class=\"Table\">\n",
       "            <thead> <tr style=\"text-align: right;\"> <th> <div class=\"djtooltip\">\n",
       "                            <p id=\"primary\">lab_member_name</p>\n",
       "                            <span class=\"djtooltiptext\"></span>\n",
       "                        </div></th><th><div class=\"djtooltip\">\n",
       "                            <p id=\"nonprimary\">google_user_name</p>\n",
       "                            <span class=\"djtooltiptext\">used for permission to curate</span>\n",
       "                        </div></th><th><div class=\"djtooltip\">\n",
       "                            <p id=\"nonprimary\">datajoint_user_name</p>\n",
       "                            <span class=\"djtooltiptext\">used for permission to delete entries</span>\n",
       "                        </div> </th> </tr> </thead>\n",
       "            <tbody> <tr> <td>Firstname Lastname</td>\n",
       "<td>example1@gmail.com</td>\n",
       "<td>example1</td></tr><tr><td>Firstname2 Lastname2</td>\n",
       "<td>example2@gmail.com</td>\n",
       "<td>example2</td> </tr> </tbody>\n",
       "        </table>\n",
       "        \n",
       "        <p>Total: 2</p></div>\n",
       "        "
      ],
      "text/plain": [
       "*lab_member_na google_user_na datajoint_user\n",
       "+------------+ +------------+ +------------+\n",
       "Firstname Last example1@gmail example1      \n",
       "Firstname2 Las example2@gmail example2      \n",
       " (Total: 2)"
      ]
     },
     "execution_count": 6,
     "metadata": {},
     "output_type": "execute_result"
    }
   ],
   "source": [
    "sgc.LabMember.LabMemberInfo.insert(\n",
    "    [  # Full name, Google email address, DataJoint username, admin\n",
    "        [\"Firstname Lastname\", \"example1@gmail.com\", \"example1\", 0],\n",
    "        [\"Firstname2 Lastname2\", \"example2@gmail.com\", \"example2\", 0],\n",
    "    ],\n",
    "    skip_duplicates=True,\n",
    ")\n",
    "sgc.LabMember.LabMemberInfo()"
   ]
  },
  {
   "cell_type": "markdown",
   "metadata": {},
   "source": [
    "A `LabTeam` is a set of lab members who own a set of NWB files and the\n",
    "associated information in the database. This is often a subgroup that\n",
    "collaborates on the same projects. Data is associated with a given team,\n",
    "granting members analysis (e.g., curation) and deletion (coming soon)\n",
    "privileges.\n"
   ]
  },
  {
   "cell_type": "code",
   "execution_count": 7,
   "metadata": {},
   "outputs": [],
   "source": [
    "team_name = \"My Team\"\n",
    "sgc.LabTeam().create_new_team(\n",
    "    team_name=team_name,  # Should be unique\n",
    "    team_members=[\"Firstname Lastname\", \"Firstname2 Lastname2\"],\n",
    "    team_description=\"test\",  # Optional\n",
    ")"
   ]
  },
  {
   "cell_type": "markdown",
   "metadata": {},
   "source": [
    "By default, each member is part of their own team. We can see all teams and\n",
    "members by looking at the\n",
    "[part table](https://datajoint.com/docs/core/datajoint-python/0.14/design/tables/master-part/)\n",
    "`LabTeam.LabTeamMember`.\n"
   ]
  },
  {
   "cell_type": "code",
   "execution_count": 8,
   "metadata": {},
   "outputs": [
    {
     "data": {
      "text/html": [
       "\n",
       "    \n",
       "    <style type=\"text/css\">\n",
       "        .Table{\n",
       "            border-collapse:collapse;\n",
       "        }\n",
       "        .Table th{\n",
       "            background: #A0A0A0; color: #ffffff; padding:4px; border:#f0e0e0 1px solid;\n",
       "            font-weight: normal; font-family: monospace; font-size: 100%;\n",
       "        }\n",
       "        .Table td{\n",
       "            padding:4px; border:#f0e0e0 1px solid; font-size:100%;\n",
       "        }\n",
       "        .Table tr:nth-child(odd){\n",
       "            background: #ffffff;\n",
       "            color: #000000;\n",
       "        }\n",
       "        .Table tr:nth-child(even){\n",
       "            background: #f3f1ff;\n",
       "            color: #000000;\n",
       "        }\n",
       "        /* Tooltip container */\n",
       "        .djtooltip {\n",
       "        }\n",
       "        /* Tooltip text */\n",
       "        .djtooltip .djtooltiptext {\n",
       "            visibility: hidden;\n",
       "            width: 120px;\n",
       "            background-color: black;\n",
       "            color: #fff;\n",
       "            text-align: center;\n",
       "            padding: 5px 0;\n",
       "            border-radius: 6px;\n",
       "            /* Position the tooltip text - see examples below! */\n",
       "            position: absolute;\n",
       "            z-index: 1;\n",
       "        }\n",
       "        #primary {\n",
       "            font-weight: bold;\n",
       "            color: black;\n",
       "        }\n",
       "        #nonprimary {\n",
       "            font-weight: normal;\n",
       "            color: white;\n",
       "        }\n",
       "\n",
       "        /* Show the tooltip text when you mouse over the tooltip container */\n",
       "        .djtooltip:hover .djtooltiptext {\n",
       "            visibility: visible;\n",
       "        }\n",
       "    </style>\n",
       "    \n",
       "    <b></b>\n",
       "        <div style=\"max-height:1000px;max-width:1500px;overflow:auto;\">\n",
       "        <table border=\"1\" class=\"Table\">\n",
       "            <thead> <tr style=\"text-align: right;\"> <th> <div class=\"djtooltip\">\n",
       "                            <p id=\"primary\">team_name</p>\n",
       "                            <span class=\"djtooltiptext\"></span>\n",
       "                        </div></th><th><div class=\"djtooltip\">\n",
       "                            <p id=\"primary\">lab_member_name</p>\n",
       "                            <span class=\"djtooltiptext\"></span>\n",
       "                        </div> </th> </tr> </thead>\n",
       "            <tbody> <tr> <td>Firstname Lastname</td>\n",
       "<td>Firstname Lastname</td></tr><tr><td>My Team</td>\n",
       "<td>Firstname Lastname</td></tr><tr><td>Firstname2 Lastname2</td>\n",
       "<td>Firstname2 Lastname2</td></tr><tr><td>My Team</td>\n",
       "<td>Firstname2 Lastname2</td> </tr> </tbody>\n",
       "        </table>\n",
       "        \n",
       "        <p>Total: 4</p></div>\n",
       "        "
      ],
      "text/plain": [
       "*team_name     *lab_member_na\n",
       "+------------+ +------------+\n",
       "Firstname Last Firstname Last\n",
       "My Team        Firstname Last\n",
       "Firstname2 Las Firstname2 Las\n",
       "My Team        Firstname2 Las\n",
       " (Total: 4)"
      ]
     },
     "execution_count": 8,
     "metadata": {},
     "output_type": "execute_result"
    }
   ],
   "source": [
    "sgc.LabTeam.LabTeamMember()"
   ]
  },
  {
   "cell_type": "markdown",
   "metadata": {},
   "source": [
    "## Inserting from NWB\n"
   ]
  },
  {
   "cell_type": "markdown",
   "metadata": {},
   "source": [
    "`spyglass.data_import.insert_sessions` helps take the many fields of data\n",
    "present in an NWB file and insert them into various tables across Spyglass. If\n",
    "the NWB file is properly composed, this includes...\n",
    "\n",
    "- the experimenter (replicating part of the process above)\n",
    "- animal behavior (e.g. video recording of position)\n",
    "- neural activity (extracellular recording of multiple brain areas)\n",
    "- etc.\n",
    "\n",
    "_Note:_ this may take time as Spyglass creates the copy. You may see a prompt\n",
    "about inserting device information.\n"
   ]
  },
  {
   "cell_type": "code",
   "execution_count": 3,
   "metadata": {
    "tags": []
   },
   "outputs": [
    {
     "name": "stdout",
     "output_type": "stream",
     "text": [
      "Creating a copy of NWB file minirec20230622.nwb with link to raw ephys data: minirec20230622_.nwb\n",
      "Populate Session...\n",
      "No config found at file path /home/cb/wrk/data/raw/minirec20230622_spyglass_config.yaml\n",
      "Institution...\n",
      "Lab...\n",
      "LabMember...\n",
      "Please add the Google user ID for Firstname2 Lastname2 in the LabMember.LabMemberInfo table to help manage permissions.\n",
      "Subject...\n",
      "Populate CameraDevice...\n",
      "Inserted camera devices ['test camera 1']\n",
      "\n",
      "Populate Probe...\n",
      "Probe ID '128c-4s6mm6cm-15um-26um-sl' already exists in the database. Spyglass will use that and not create a new Probe, Shanks, or Electrodes.\n",
      "Inserted probes {'128c-4s6mm6cm-15um-26um-sl'}\n",
      "\n",
      "Skipping Apparatus for now...\n",
      "IntervalList...\n",
      "LabMember with name lastname, firstname does not exist. Cannot link Session with LabMember in Session.Experimenter.\n",
      "LabMember with name lastname2, firstname2 does not exist. Cannot link Session with LabMember in Session.Experimenter.\n",
      "Populate ElectrodeGroup...\n",
      "Populate Electrode...\n",
      "No config found at file path /home/cb/wrk/data/raw/minirec20230622_spyglass_config.yaml\n",
      "Populate Raw...\n",
      "Estimating sampling rate...\n",
      "Estimated sampling rate for file: 30000.0 Hz\n",
      "Importing raw data: Sampling rate:\t30000.0 Hz\n",
      "Number of valid intervals:\t2\n",
      "Populate SampleCount...\n",
      "Populate DIOEvents...\n",
      "Populate TaskEpochs\n",
      "Populate StateScriptFile\n",
      "Populate VideoFile\n",
      "No video found corresponding to file minirec20230622_.nwb, epoch 01_s1\n",
      "No video found corresponding to file minirec20230622_.nwb, epoch 02_s2\n",
      "RawPosition...\n",
      "Estimated sampling rate for 12345: 30.0 Hz\n",
      "WARNING: Setting minimum valid interval to 5.1912336349487305\n",
      "Estimated sampling rate for 12345: 30.0 Hz\n",
      "WARNING: Setting minimum valid interval to 5.1912336349487305\n",
      "Estimated sampling rate for 12345: 30.0 Hz\n",
      "WARNING: Setting minimum valid interval to 5.339195609092712\n",
      "Estimated sampling rate for 12345: 30.0 Hz\n",
      "WARNING: Setting minimum valid interval to 5.339195609092712\n",
      "Populated PosIntervalMap for minirec20230622_.nwb, 01_s1\n",
      "Populated PosIntervalMap for minirec20230622_.nwb, 02_s2\n"
     ]
    }
   ],
   "source": [
    "sgi.insert_sessions(nwb_file_name)"
   ]
  },
  {
   "cell_type": "markdown",
   "metadata": {
    "tags": []
   },
   "source": [
    "## Inspecting the data\n"
   ]
  },
  {
   "cell_type": "markdown",
   "metadata": {},
   "source": [
    "To look at data, we can\n",
    "[query](https://datajoint.com/docs/core/datajoint-python/0.14/query/principles/)\n",
    "a table with `Table()` syntax.\n"
   ]
  },
  {
   "cell_type": "code",
   "execution_count": 11,
   "metadata": {},
   "outputs": [
    {
     "data": {
      "text/html": [
       "\n",
       "    \n",
       "    <style type=\"text/css\">\n",
       "        .Table{\n",
       "            border-collapse:collapse;\n",
       "        }\n",
       "        .Table th{\n",
       "            background: #A0A0A0; color: #ffffff; padding:4px; border:#f0e0e0 1px solid;\n",
       "            font-weight: normal; font-family: monospace; font-size: 100%;\n",
       "        }\n",
       "        .Table td{\n",
       "            padding:4px; border:#f0e0e0 1px solid; font-size:100%;\n",
       "        }\n",
       "        .Table tr:nth-child(odd){\n",
       "            background: #ffffff;\n",
       "            color: #000000;\n",
       "        }\n",
       "        .Table tr:nth-child(even){\n",
       "            background: #f3f1ff;\n",
       "            color: #000000;\n",
       "        }\n",
       "        /* Tooltip container */\n",
       "        .djtooltip {\n",
       "        }\n",
       "        /* Tooltip text */\n",
       "        .djtooltip .djtooltiptext {\n",
       "            visibility: hidden;\n",
       "            width: 120px;\n",
       "            background-color: black;\n",
       "            color: #fff;\n",
       "            text-align: center;\n",
       "            padding: 5px 0;\n",
       "            border-radius: 6px;\n",
       "            /* Position the tooltip text - see examples below! */\n",
       "            position: absolute;\n",
       "            z-index: 1;\n",
       "        }\n",
       "        #primary {\n",
       "            font-weight: bold;\n",
       "            color: black;\n",
       "        }\n",
       "        #nonprimary {\n",
       "            font-weight: normal;\n",
       "            color: white;\n",
       "        }\n",
       "\n",
       "        /* Show the tooltip text when you mouse over the tooltip container */\n",
       "        .djtooltip:hover .djtooltiptext {\n",
       "            visibility: visible;\n",
       "        }\n",
       "    </style>\n",
       "    \n",
       "    <b></b>\n",
       "        <div style=\"max-height:1000px;max-width:1500px;overflow:auto;\">\n",
       "        <table border=\"1\" class=\"Table\">\n",
       "            <thead> <tr style=\"text-align: right;\"> <th> <div class=\"djtooltip\">\n",
       "                            <p id=\"primary\">lab_name</p>\n",
       "                            <span class=\"djtooltiptext\"></span>\n",
       "                        </div> </th> </tr> </thead>\n",
       "            <tbody> <tr> <td>Loren Frank Lab</td> </tr> </tbody>\n",
       "        </table>\n",
       "        \n",
       "        <p>Total: 1</p></div>\n",
       "        "
      ],
      "text/plain": [
       "*lab_name     \n",
       "+------------+\n",
       "Loren Frank La\n",
       " (Total: 1)"
      ]
     },
     "execution_count": 11,
     "metadata": {},
     "output_type": "execute_result"
    }
   ],
   "source": [
    "sgc.Lab()"
   ]
  },
  {
   "cell_type": "markdown",
   "metadata": {},
   "source": [
    "The `Session` table has considerably more fields\n"
   ]
  },
  {
   "cell_type": "code",
   "execution_count": 12,
   "metadata": {},
   "outputs": [
    {
     "data": {
      "text/plain": [
       "['nwb_file_name',\n",
       " 'subject_id',\n",
       " 'institution_name',\n",
       " 'lab_name',\n",
       " 'session_id',\n",
       " 'session_description',\n",
       " 'session_start_time',\n",
       " 'timestamps_reference_time',\n",
       " 'experiment_description']"
      ]
     },
     "execution_count": 12,
     "metadata": {},
     "output_type": "execute_result"
    }
   ],
   "source": [
    "sgc.Session.heading.names"
   ]
  },
  {
   "cell_type": "markdown",
   "metadata": {},
   "source": [
    "But a short primary key\n"
   ]
  },
  {
   "cell_type": "code",
   "execution_count": 13,
   "metadata": {},
   "outputs": [
    {
     "data": {
      "text/plain": [
       "['nwb_file_name']"
      ]
     },
     "execution_count": 13,
     "metadata": {},
     "output_type": "execute_result"
    }
   ],
   "source": [
    "sgc.Session.heading.primary_key"
   ]
  },
  {
   "cell_type": "markdown",
   "metadata": {},
   "source": [
    "The primary key is shown in bold in the html\n"
   ]
  },
  {
   "cell_type": "code",
   "execution_count": 14,
   "metadata": {},
   "outputs": [
    {
     "data": {
      "text/html": [
       "\n",
       "    \n",
       "    <style type=\"text/css\">\n",
       "        .Table{\n",
       "            border-collapse:collapse;\n",
       "        }\n",
       "        .Table th{\n",
       "            background: #A0A0A0; color: #ffffff; padding:4px; border:#f0e0e0 1px solid;\n",
       "            font-weight: normal; font-family: monospace; font-size: 100%;\n",
       "        }\n",
       "        .Table td{\n",
       "            padding:4px; border:#f0e0e0 1px solid; font-size:100%;\n",
       "        }\n",
       "        .Table tr:nth-child(odd){\n",
       "            background: #ffffff;\n",
       "            color: #000000;\n",
       "        }\n",
       "        .Table tr:nth-child(even){\n",
       "            background: #f3f1ff;\n",
       "            color: #000000;\n",
       "        }\n",
       "        /* Tooltip container */\n",
       "        .djtooltip {\n",
       "        }\n",
       "        /* Tooltip text */\n",
       "        .djtooltip .djtooltiptext {\n",
       "            visibility: hidden;\n",
       "            width: 120px;\n",
       "            background-color: black;\n",
       "            color: #fff;\n",
       "            text-align: center;\n",
       "            padding: 5px 0;\n",
       "            border-radius: 6px;\n",
       "            /* Position the tooltip text - see examples below! */\n",
       "            position: absolute;\n",
       "            z-index: 1;\n",
       "        }\n",
       "        #primary {\n",
       "            font-weight: bold;\n",
       "            color: black;\n",
       "        }\n",
       "        #nonprimary {\n",
       "            font-weight: normal;\n",
       "            color: white;\n",
       "        }\n",
       "\n",
       "        /* Show the tooltip text when you mouse over the tooltip container */\n",
       "        .djtooltip:hover .djtooltiptext {\n",
       "            visibility: visible;\n",
       "        }\n",
       "    </style>\n",
       "    \n",
       "    <b>Table for holding experimental sessions.</b>\n",
       "        <div style=\"max-height:1000px;max-width:1500px;overflow:auto;\">\n",
       "        <table border=\"1\" class=\"Table\">\n",
       "            <thead> <tr style=\"text-align: right;\"> <th> <div class=\"djtooltip\">\n",
       "                            <p id=\"primary\">nwb_file_name</p>\n",
       "                            <span class=\"djtooltiptext\">name of the NWB file</span>\n",
       "                        </div></th><th><div class=\"djtooltip\">\n",
       "                            <p id=\"nonprimary\">subject_id</p>\n",
       "                            <span class=\"djtooltiptext\"></span>\n",
       "                        </div></th><th><div class=\"djtooltip\">\n",
       "                            <p id=\"nonprimary\">institution_name</p>\n",
       "                            <span class=\"djtooltiptext\"></span>\n",
       "                        </div></th><th><div class=\"djtooltip\">\n",
       "                            <p id=\"nonprimary\">lab_name</p>\n",
       "                            <span class=\"djtooltiptext\"></span>\n",
       "                        </div></th><th><div class=\"djtooltip\">\n",
       "                            <p id=\"nonprimary\">session_id</p>\n",
       "                            <span class=\"djtooltiptext\"></span>\n",
       "                        </div></th><th><div class=\"djtooltip\">\n",
       "                            <p id=\"nonprimary\">session_description</p>\n",
       "                            <span class=\"djtooltiptext\"></span>\n",
       "                        </div></th><th><div class=\"djtooltip\">\n",
       "                            <p id=\"nonprimary\">session_start_time</p>\n",
       "                            <span class=\"djtooltiptext\"></span>\n",
       "                        </div></th><th><div class=\"djtooltip\">\n",
       "                            <p id=\"nonprimary\">timestamps_reference_time</p>\n",
       "                            <span class=\"djtooltiptext\"></span>\n",
       "                        </div></th><th><div class=\"djtooltip\">\n",
       "                            <p id=\"nonprimary\">experiment_description</p>\n",
       "                            <span class=\"djtooltiptext\"></span>\n",
       "                        </div> </th> </tr> </thead>\n",
       "            <tbody> <tr> <td>minirec20230622_.nwb</td>\n",
       "<td>54321</td>\n",
       "<td>UCSF</td>\n",
       "<td>Loren Frank Lab</td>\n",
       "<td>12345</td>\n",
       "<td>test yaml insertion</td>\n",
       "<td>2023-06-22 15:59:58</td>\n",
       "<td>1970-01-01 00:00:00</td>\n",
       "<td>Test Conversion</td> </tr> </tbody>\n",
       "        </table>\n",
       "        \n",
       "        <p>Total: 1</p></div>\n",
       "        "
      ],
      "text/plain": [
       "*nwb_file_name subject_id     institution_na lab_name       session_id     session_descri session_start_ timestamps_ref experiment_des\n",
       "+------------+ +------------+ +------------+ +------------+ +------------+ +------------+ +------------+ +------------+ +------------+\n",
       "minirec2023062 54321          UCSF           Loren Frank La 12345          test yaml inse 2023-06-22 15: 1970-01-01 00: Test Conversio\n",
       " (Total: 1)"
      ]
     },
     "execution_count": 14,
     "metadata": {},
     "output_type": "execute_result"
    }
   ],
   "source": [
    "sgc.Session()"
   ]
  },
  {
   "cell_type": "markdown",
   "metadata": {},
   "source": [
    "Text only interfaces designate the primary key fields with `*`\n"
   ]
  },
  {
   "cell_type": "code",
   "execution_count": 15,
   "metadata": {},
   "outputs": [
    {
     "name": "stdout",
     "output_type": "stream",
     "text": [
      "*nwb_file_name subject_id     institution_na lab_name       session_id     session_descri session_start_ timestamps_ref experiment_des\n",
      "+------------+ +------------+ +------------+ +------------+ +------------+ +------------+ +------------+ +------------+ +------------+\n",
      "minirec2023062 54321          UCSF           Loren Frank La 12345          test yaml inse 2023-06-22 15: 1970-01-01 00: Test Conversio\n",
      " (Total: 1)\n",
      "\n"
     ]
    }
   ],
   "source": [
    "print(sgc.Session())"
   ]
  },
  {
   "cell_type": "markdown",
   "metadata": {},
   "source": [
    "To see a the\n",
    "[table definition](https://datajoint.com/docs/core/datajoint-python/0.14/design/tables/declare/),\n",
    "including\n",
    "[data types](https://datajoint.com/docs/core/datajoint-python/0.14/design/tables/attributes/),\n",
    "use `describe`.\n",
    "\n",
    "- `---` separates the primary key\n",
    "- `:` are used to separate field name from data type\n",
    "- `#` can be used to add comments to a field\n"
   ]
  },
  {
   "cell_type": "code",
   "execution_count": 16,
   "metadata": {},
   "outputs": [
    {
     "name": "stdout",
     "output_type": "stream",
     "text": [
      "('# Table for holding experimental sessions.\\n'\n",
      " '-> sgc.Nwbfile\\n'\n",
      " '---\\n'\n",
      " '-> [nullable] sgc.Subject\\n'\n",
      " '-> [nullable] sgc.Institution\\n'\n",
      " '-> [nullable] sgc.Lab\\n'\n",
      " 'session_id=null      : varchar(200)                 \\n'\n",
      " 'session_description  : varchar(2000)                \\n'\n",
      " 'session_start_time   : datetime                     \\n'\n",
      " 'timestamps_reference_time : datetime                     \\n'\n",
      " 'experiment_description=null : varchar(2000)                \\n')\n"
     ]
    }
   ],
   "source": [
    "from pprint import pprint  # adds line breaks\n",
    "\n",
    "pprint(sgc.Session.describe())"
   ]
  },
  {
   "cell_type": "markdown",
   "metadata": {},
   "source": [
    "To look at specific entries in a table, we can use the `&`\n",
    "[operator](https://datajoint.com/docs/core/datajoint-python/0.14/query/operators/).\n",
    "Below, we _restrict_ based on a `dict`, but you can also use a\n",
    "[string](https://datajoint.com/docs/core/datajoint-python/0.14/query/restrict/#restriction-by-a-string).\n"
   ]
  },
  {
   "cell_type": "code",
   "execution_count": 17,
   "metadata": {},
   "outputs": [
    {
     "data": {
      "text/html": [
       "\n",
       "    \n",
       "    <style type=\"text/css\">\n",
       "        .Table{\n",
       "            border-collapse:collapse;\n",
       "        }\n",
       "        .Table th{\n",
       "            background: #A0A0A0; color: #ffffff; padding:4px; border:#f0e0e0 1px solid;\n",
       "            font-weight: normal; font-family: monospace; font-size: 100%;\n",
       "        }\n",
       "        .Table td{\n",
       "            padding:4px; border:#f0e0e0 1px solid; font-size:100%;\n",
       "        }\n",
       "        .Table tr:nth-child(odd){\n",
       "            background: #ffffff;\n",
       "            color: #000000;\n",
       "        }\n",
       "        .Table tr:nth-child(even){\n",
       "            background: #f3f1ff;\n",
       "            color: #000000;\n",
       "        }\n",
       "        /* Tooltip container */\n",
       "        .djtooltip {\n",
       "        }\n",
       "        /* Tooltip text */\n",
       "        .djtooltip .djtooltiptext {\n",
       "            visibility: hidden;\n",
       "            width: 120px;\n",
       "            background-color: black;\n",
       "            color: #fff;\n",
       "            text-align: center;\n",
       "            padding: 5px 0;\n",
       "            border-radius: 6px;\n",
       "            /* Position the tooltip text - see examples below! */\n",
       "            position: absolute;\n",
       "            z-index: 1;\n",
       "        }\n",
       "        #primary {\n",
       "            font-weight: bold;\n",
       "            color: black;\n",
       "        }\n",
       "        #nonprimary {\n",
       "            font-weight: normal;\n",
       "            color: white;\n",
       "        }\n",
       "\n",
       "        /* Show the tooltip text when you mouse over the tooltip container */\n",
       "        .djtooltip:hover .djtooltiptext {\n",
       "            visibility: visible;\n",
       "        }\n",
       "    </style>\n",
       "    \n",
       "    <b>Table for holding experimental sessions.</b>\n",
       "        <div style=\"max-height:1000px;max-width:1500px;overflow:auto;\">\n",
       "        <table border=\"1\" class=\"Table\">\n",
       "            <thead> <tr style=\"text-align: right;\"> <th> <div class=\"djtooltip\">\n",
       "                            <p id=\"primary\">nwb_file_name</p>\n",
       "                            <span class=\"djtooltiptext\">name of the NWB file</span>\n",
       "                        </div></th><th><div class=\"djtooltip\">\n",
       "                            <p id=\"nonprimary\">subject_id</p>\n",
       "                            <span class=\"djtooltiptext\"></span>\n",
       "                        </div></th><th><div class=\"djtooltip\">\n",
       "                            <p id=\"nonprimary\">institution_name</p>\n",
       "                            <span class=\"djtooltiptext\"></span>\n",
       "                        </div></th><th><div class=\"djtooltip\">\n",
       "                            <p id=\"nonprimary\">lab_name</p>\n",
       "                            <span class=\"djtooltiptext\"></span>\n",
       "                        </div></th><th><div class=\"djtooltip\">\n",
       "                            <p id=\"nonprimary\">session_id</p>\n",
       "                            <span class=\"djtooltiptext\"></span>\n",
       "                        </div></th><th><div class=\"djtooltip\">\n",
       "                            <p id=\"nonprimary\">session_description</p>\n",
       "                            <span class=\"djtooltiptext\"></span>\n",
       "                        </div></th><th><div class=\"djtooltip\">\n",
       "                            <p id=\"nonprimary\">session_start_time</p>\n",
       "                            <span class=\"djtooltiptext\"></span>\n",
       "                        </div></th><th><div class=\"djtooltip\">\n",
       "                            <p id=\"nonprimary\">timestamps_reference_time</p>\n",
       "                            <span class=\"djtooltiptext\"></span>\n",
       "                        </div></th><th><div class=\"djtooltip\">\n",
       "                            <p id=\"nonprimary\">experiment_description</p>\n",
       "                            <span class=\"djtooltiptext\"></span>\n",
       "                        </div> </th> </tr> </thead>\n",
       "            <tbody> <tr> <td>minirec20230622_.nwb</td>\n",
       "<td>54321</td>\n",
       "<td>UCSF</td>\n",
       "<td>Loren Frank Lab</td>\n",
       "<td>12345</td>\n",
       "<td>test yaml insertion</td>\n",
       "<td>2023-06-22 15:59:58</td>\n",
       "<td>1970-01-01 00:00:00</td>\n",
       "<td>Test Conversion</td> </tr> </tbody>\n",
       "        </table>\n",
       "        \n",
       "        <p>Total: 1</p></div>\n",
       "        "
      ],
      "text/plain": [
       "*nwb_file_name subject_id     institution_na lab_name       session_id     session_descri session_start_ timestamps_ref experiment_des\n",
       "+------------+ +------------+ +------------+ +------------+ +------------+ +------------+ +------------+ +------------+ +------------+\n",
       "minirec2023062 54321          UCSF           Loren Frank La 12345          test yaml inse 2023-06-22 15: 1970-01-01 00: Test Conversio\n",
       " (Total: 1)"
      ]
     },
     "execution_count": 17,
     "metadata": {},
     "output_type": "execute_result"
    }
   ],
   "source": [
    "sgc.Session & {\"nwb_file_name\": nwb_copy_file_name}"
   ]
  },
  {
   "cell_type": "markdown",
   "metadata": {},
   "source": [
    "`Raw` is connected to `Session` with a bold line, so it has the same primary key.\n"
   ]
  },
  {
   "cell_type": "code",
   "execution_count": 18,
   "metadata": {},
   "outputs": [
    {
     "data": {
      "image/svg+xml": [
       "<svg xmlns=\"http://www.w3.org/2000/svg\" xmlns:xlink=\"http://www.w3.org/1999/xlink\" width=\"156pt\" height=\"185pt\" viewBox=\"0.00 0.00 156.25 185.00\">\n",
       "<g id=\"graph0\" class=\"graph\" transform=\"scale(1 1) rotate(0) translate(4 181)\">\n",
       "<polygon fill=\"white\" stroke=\"transparent\" points=\"-4,4 -4,-181 152.25,-181 152.25,4 -4,4\"/>\n",
       "<!-- sgc.Raw -->\n",
       "<g id=\"node1\" class=\"node\">\n",
       "<title>sgc.Raw</title>\n",
       "<g id=\"a_node1\"><a xlink:title=\"→ sgc.Session\r------------------------------\r→ sgc.IntervalList\rraw_object_id        \rsampling_rate        \rcomments             \rdescription          \r\">\n",
       "<ellipse fill=\"#00007f\" fill-opacity=\"0.250980\" stroke=\"#00007f\" stroke-opacity=\"0.250980\" cx=\"53.75\" cy=\"-17.5\" rx=\"41\" ry=\"17.5\"/>\n",
       "<text text-anchor=\"middle\" x=\"53.75\" y=\"-14.4\" font-family=\"arial\" font-size=\"12.00\" fill=\"#00007f\" fill-opacity=\"0.627451\">sgc.Raw</text>\n",
       "</a>\n",
       "</g>\n",
       "</g>\n",
       "<!-- sgc.Session -->\n",
       "<g id=\"node2\" class=\"node\">\n",
       "<title>sgc.Session</title>\n",
       "<g id=\"a_node2\"><a xlink:title=\"→ sgc.Nwbfile\r------------------------------\r→ [nullable] sgc.Subject\r→ [nullable] sgc.Institution\r→ [nullable] sgc.Lab\rsession_id=null      \rsession_description  \rsession_start_time   \rtimestamps_reference_time \rexperiment_description=null \r\">\n",
       "<ellipse fill=\"#00007f\" fill-opacity=\"0.250980\" stroke=\"#00007f\" stroke-opacity=\"0.250980\" cx=\"53.75\" cy=\"-159.5\" rx=\"53.5\" ry=\"17.5\"/>\n",
       "<text text-anchor=\"middle\" x=\"53.75\" y=\"-156.4\" font-family=\"arial\" font-size=\"12.00\" fill=\"#00007f\" fill-opacity=\"0.627451\">sgc.Session</text>\n",
       "</a>\n",
       "</g>\n",
       "</g>\n",
       "<!-- sgc.Session&#45;&gt;sgc.Raw -->\n",
       "<g id=\"edge1\" class=\"edge\">\n",
       "<title>sgc.Session-&gt;sgc.Raw</title>\n",
       "<path fill=\"none\" stroke=\"#000000\" stroke-width=\"2\" stroke-opacity=\"0.250980\" d=\"M45.25,-141.97C40.54,-131.87 35.16,-118.53 32.75,-106 29.81,-90.73 29.81,-86.27 32.75,-71 35.16,-58.47 40.54,-45.13 45.25,-35.03\"/>\n",
       "</g>\n",
       "<!-- sgc.IntervalList -->\n",
       "<g id=\"node3\" class=\"node\">\n",
       "<title>sgc.IntervalList</title>\n",
       "<g id=\"a_node3\"><a xlink:title=\"→ sgc.Session\rinterval_list_name   \r------------------------------\rvalid_times          \r\">\n",
       "<polygon fill=\"#00ff00\" fill-opacity=\"0.188235\" stroke=\"#00ff00\" stroke-opacity=\"0.188235\" points=\"148.25,-106 41.25,-106 41.25,-71 148.25,-71 148.25,-106\"/>\n",
       "<text text-anchor=\"middle\" x=\"94.75\" y=\"-85.4\" font-family=\"arial\" font-size=\"12.00\" fill=\"darkgreen\">sgc.IntervalList</text>\n",
       "</a>\n",
       "</g>\n",
       "</g>\n",
       "<!-- sgc.Session&#45;&gt;sgc.IntervalList -->\n",
       "<g id=\"edge2\" class=\"edge\">\n",
       "<title>sgc.Session-&gt;sgc.IntervalList</title>\n",
       "<path fill=\"none\" stroke=\"#000000\" stroke-width=\"0.75\" stroke-opacity=\"0.250980\" d=\"M63.47,-142.15C69.91,-131.31 78.33,-117.13 84.82,-106.21\"/>\n",
       "</g>\n",
       "<!-- sgc.IntervalList&#45;&gt;sgc.Raw -->\n",
       "<g id=\"edge3\" class=\"edge\">\n",
       "<title>sgc.IntervalList-&gt;sgc.Raw</title>\n",
       "<path fill=\"none\" stroke=\"#000000\" stroke-width=\"0.75\" stroke-dasharray=\"5,2\" stroke-opacity=\"0.250980\" d=\"M84.83,-70.8C78.28,-59.79 69.76,-45.45 63.3,-34.57\"/>\n",
       "</g>\n",
       "</g>\n",
       "</svg>"
      ],
      "text/plain": [
       "<datajoint.diagram.Diagram at 0x7f912fe9fc40>"
      ]
     },
     "execution_count": 18,
     "metadata": {},
     "output_type": "execute_result"
    }
   ],
   "source": [
    "dj.Diagram(sgc.Session) + dj.Diagram(sgc.Raw)"
   ]
  },
  {
   "cell_type": "code",
   "execution_count": 19,
   "metadata": {},
   "outputs": [
    {
     "data": {
      "text/html": [
       "\n",
       "    \n",
       "    <style type=\"text/css\">\n",
       "        .Table{\n",
       "            border-collapse:collapse;\n",
       "        }\n",
       "        .Table th{\n",
       "            background: #A0A0A0; color: #ffffff; padding:4px; border:#f0e0e0 1px solid;\n",
       "            font-weight: normal; font-family: monospace; font-size: 100%;\n",
       "        }\n",
       "        .Table td{\n",
       "            padding:4px; border:#f0e0e0 1px solid; font-size:100%;\n",
       "        }\n",
       "        .Table tr:nth-child(odd){\n",
       "            background: #ffffff;\n",
       "            color: #000000;\n",
       "        }\n",
       "        .Table tr:nth-child(even){\n",
       "            background: #f3f1ff;\n",
       "            color: #000000;\n",
       "        }\n",
       "        /* Tooltip container */\n",
       "        .djtooltip {\n",
       "        }\n",
       "        /* Tooltip text */\n",
       "        .djtooltip .djtooltiptext {\n",
       "            visibility: hidden;\n",
       "            width: 120px;\n",
       "            background-color: black;\n",
       "            color: #fff;\n",
       "            text-align: center;\n",
       "            padding: 5px 0;\n",
       "            border-radius: 6px;\n",
       "            /* Position the tooltip text - see examples below! */\n",
       "            position: absolute;\n",
       "            z-index: 1;\n",
       "        }\n",
       "        #primary {\n",
       "            font-weight: bold;\n",
       "            color: black;\n",
       "        }\n",
       "        #nonprimary {\n",
       "            font-weight: normal;\n",
       "            color: white;\n",
       "        }\n",
       "\n",
       "        /* Show the tooltip text when you mouse over the tooltip container */\n",
       "        .djtooltip:hover .djtooltiptext {\n",
       "            visibility: visible;\n",
       "        }\n",
       "    </style>\n",
       "    \n",
       "    <b>Raw voltage timeseries data, ElectricalSeries in NWB.</b>\n",
       "        <div style=\"max-height:1000px;max-width:1500px;overflow:auto;\">\n",
       "        <table border=\"1\" class=\"Table\">\n",
       "            <thead> <tr style=\"text-align: right;\"> <th> <div class=\"djtooltip\">\n",
       "                            <p id=\"primary\">nwb_file_name</p>\n",
       "                            <span class=\"djtooltiptext\">name of the NWB file</span>\n",
       "                        </div></th><th><div class=\"djtooltip\">\n",
       "                            <p id=\"nonprimary\">interval_list_name</p>\n",
       "                            <span class=\"djtooltiptext\">descriptive name of this interval list</span>\n",
       "                        </div></th><th><div class=\"djtooltip\">\n",
       "                            <p id=\"nonprimary\">raw_object_id</p>\n",
       "                            <span class=\"djtooltiptext\">the NWB object ID for loading this object from the file</span>\n",
       "                        </div></th><th><div class=\"djtooltip\">\n",
       "                            <p id=\"nonprimary\">sampling_rate</p>\n",
       "                            <span class=\"djtooltiptext\">Sampling rate calculated from data, in Hz</span>\n",
       "                        </div></th><th><div class=\"djtooltip\">\n",
       "                            <p id=\"nonprimary\">comments</p>\n",
       "                            <span class=\"djtooltiptext\"></span>\n",
       "                        </div></th><th><div class=\"djtooltip\">\n",
       "                            <p id=\"nonprimary\">description</p>\n",
       "                            <span class=\"djtooltiptext\"></span>\n",
       "                        </div> </th> </tr> </thead>\n",
       "            <tbody> <tr> <td>minirec20230622_.nwb</td>\n",
       "<td>raw data valid times</td>\n",
       "<td>4e756642-9203-4f00-b9d0-0e9747c14493</td>\n",
       "<td>30000.0</td>\n",
       "<td>No comment</td>\n",
       "<td>Recording of extracellular voltage</td> </tr> </tbody>\n",
       "        </table>\n",
       "        \n",
       "        <p>Total: 1</p></div>\n",
       "        "
      ],
      "text/plain": [
       "*nwb_file_name interval_list_ raw_object_id  sampling_rate  comments       description   \n",
       "+------------+ +------------+ +------------+ +------------+ +------------+ +------------+\n",
       "minirec2023062 raw data valid 4e756642-9203- 30000.0        No comment     Recording of e\n",
       " (Total: 1)"
      ]
     },
     "execution_count": 19,
     "metadata": {},
     "output_type": "execute_result"
    }
   ],
   "source": [
    "sgc.Raw & {\"nwb_file_name\": nwb_copy_file_name}"
   ]
  },
  {
   "cell_type": "markdown",
   "metadata": {},
   "source": [
    "`IntervalList` is connected to `Session` with a solid line because it has\n",
    "additional primary key attributes. Here, you need to know both `nwb_file_name`\n",
    "and `interval_list_name` to uniquely identify an entry.\n"
   ]
  },
  {
   "cell_type": "code",
   "execution_count": 20,
   "metadata": {},
   "outputs": [
    {
     "name": "stdout",
     "output_type": "stream",
     "text": [
      "('# Time intervals used for analysis\\n'\n",
      " '-> sgc.Session\\n'\n",
      " 'interval_list_name : varchar(200) # descriptive name of this interval list\\n'\n",
      " '---\\n'\n",
      " 'valid_times: longblob # numpy array with start and end times for each '\n",
      " 'interval\\n')\n"
     ]
    }
   ],
   "source": [
    "# join/split condenses long spaces before field comments\n",
    "pprint(\"\".join(sgc.IntervalList.describe().split(\"  \")))"
   ]
  },
  {
   "cell_type": "code",
   "execution_count": 21,
   "metadata": {},
   "outputs": [
    {
     "data": {
      "text/html": [
       "\n",
       "    \n",
       "    <style type=\"text/css\">\n",
       "        .Table{\n",
       "            border-collapse:collapse;\n",
       "        }\n",
       "        .Table th{\n",
       "            background: #A0A0A0; color: #ffffff; padding:4px; border:#f0e0e0 1px solid;\n",
       "            font-weight: normal; font-family: monospace; font-size: 100%;\n",
       "        }\n",
       "        .Table td{\n",
       "            padding:4px; border:#f0e0e0 1px solid; font-size:100%;\n",
       "        }\n",
       "        .Table tr:nth-child(odd){\n",
       "            background: #ffffff;\n",
       "            color: #000000;\n",
       "        }\n",
       "        .Table tr:nth-child(even){\n",
       "            background: #f3f1ff;\n",
       "            color: #000000;\n",
       "        }\n",
       "        /* Tooltip container */\n",
       "        .djtooltip {\n",
       "        }\n",
       "        /* Tooltip text */\n",
       "        .djtooltip .djtooltiptext {\n",
       "            visibility: hidden;\n",
       "            width: 120px;\n",
       "            background-color: black;\n",
       "            color: #fff;\n",
       "            text-align: center;\n",
       "            padding: 5px 0;\n",
       "            border-radius: 6px;\n",
       "            /* Position the tooltip text - see examples below! */\n",
       "            position: absolute;\n",
       "            z-index: 1;\n",
       "        }\n",
       "        #primary {\n",
       "            font-weight: bold;\n",
       "            color: black;\n",
       "        }\n",
       "        #nonprimary {\n",
       "            font-weight: normal;\n",
       "            color: white;\n",
       "        }\n",
       "\n",
       "        /* Show the tooltip text when you mouse over the tooltip container */\n",
       "        .djtooltip:hover .djtooltiptext {\n",
       "            visibility: visible;\n",
       "        }\n",
       "    </style>\n",
       "    \n",
       "    <b>Time intervals used for analysis</b>\n",
       "        <div style=\"max-height:1000px;max-width:1500px;overflow:auto;\">\n",
       "        <table border=\"1\" class=\"Table\">\n",
       "            <thead> <tr style=\"text-align: right;\"> <th> <div class=\"djtooltip\">\n",
       "                            <p id=\"primary\">nwb_file_name</p>\n",
       "                            <span class=\"djtooltiptext\">name of the NWB file</span>\n",
       "                        </div></th><th><div class=\"djtooltip\">\n",
       "                            <p id=\"primary\">interval_list_name</p>\n",
       "                            <span class=\"djtooltiptext\">descriptive name of this interval list</span>\n",
       "                        </div></th><th><div class=\"djtooltip\">\n",
       "                            <p id=\"nonprimary\">valid_times</p>\n",
       "                            <span class=\"djtooltiptext\">numpy array with start and end times for each interval</span>\n",
       "                        </div> </th> </tr> </thead>\n",
       "            <tbody> <tr> <td>minirec20230622_.nwb</td>\n",
       "<td>01_s1</td>\n",
       "<td>=BLOB=</td></tr><tr><td>minirec20230622_.nwb</td>\n",
       "<td>02_s2</td>\n",
       "<td>=BLOB=</td></tr><tr><td>minirec20230622_.nwb</td>\n",
       "<td>pos 0 valid times</td>\n",
       "<td>=BLOB=</td></tr><tr><td>minirec20230622_.nwb</td>\n",
       "<td>pos 1 valid times</td>\n",
       "<td>=BLOB=</td></tr><tr><td>minirec20230622_.nwb</td>\n",
       "<td>raw data valid times</td>\n",
       "<td>=BLOB=</td> </tr> </tbody>\n",
       "        </table>\n",
       "        \n",
       "        <p>Total: 5</p></div>\n",
       "        "
      ],
      "text/plain": [
       "*nwb_file_name *interval_list valid_time\n",
       "+------------+ +------------+ +--------+\n",
       "minirec2023062 01_s1          =BLOB=    \n",
       "minirec2023062 02_s2          =BLOB=    \n",
       "minirec2023062 pos 0 valid ti =BLOB=    \n",
       "minirec2023062 pos 1 valid ti =BLOB=    \n",
       "minirec2023062 raw data valid =BLOB=    \n",
       " (Total: 5)"
      ]
     },
     "execution_count": 21,
     "metadata": {},
     "output_type": "execute_result"
    }
   ],
   "source": [
    "sgc.IntervalList & {\"nwb_file_name\": nwb_copy_file_name}"
   ]
  },
  {
   "cell_type": "markdown",
   "metadata": {},
   "source": [
    "Raw [data types](https://datajoint.com/docs/core/datajoint-python/0.14/design/tables/attributes/) like `valid_times` are shown as `=BLOB=`. We can inspect\n",
    "these with [`fetch`](https://datajoint.com/docs/core/datajoint-python/0.14/query/fetch/)\n",
    "\n",
    "_Note:_ like `insert`/`insert1`, `fetch` can be uses as `fetch1` to raise an\n",
    "error when many (or no) entries are retrieved. To limit to one entry when there\n",
    "may be many, use `query.fetch(limit=1)[0]`\n"
   ]
  },
  {
   "cell_type": "code",
   "execution_count": 22,
   "metadata": {},
   "outputs": [
    {
     "data": {
      "text/plain": [
       "array([[1.68747483e+09, 1.68747484e+09]])"
      ]
     },
     "execution_count": 22,
     "metadata": {},
     "output_type": "execute_result"
    }
   ],
   "source": [
    "(\n",
    "    sgc.IntervalList\n",
    "    & {\n",
    "        \"nwb_file_name\": nwb_copy_file_name,\n",
    "        \"interval_list_name\": \"pos 1 valid times\",\n",
    "    }\n",
    ").fetch1(\"valid_times\")"
   ]
  },
  {
   "cell_type": "markdown",
   "metadata": {},
   "source": [
    "In DataJoint [operators](https://datajoint.com/docs/core/datajoint-python/0.14/query/restrict/#restriction-by-a-string),\n",
    "`&` selects by a condition and `-` removes a condition.\n"
   ]
  },
  {
   "cell_type": "code",
   "execution_count": 23,
   "metadata": {},
   "outputs": [
    {
     "data": {
      "text/plain": [
       "array(['01_s1', '02_s2', 'pos 0 valid times', 'raw data valid times'],\n",
       "      dtype=object)"
      ]
     },
     "execution_count": 23,
     "metadata": {},
     "output_type": "execute_result"
    }
   ],
   "source": [
    "(\n",
    "    (\n",
    "        (sgc.IntervalList & {\"nwb_file_name\": nwb_copy_file_name})\n",
    "        - {\"interval_list_name\": \"pos 1 valid times\"}\n",
    "    )\n",
    "    - {\"interval_list_name\": \"pos 2 valid times\"}\n",
    ").fetch(\"interval_list_name\")"
   ]
  },
  {
   "cell_type": "markdown",
   "metadata": {},
   "source": [
    "`IntervalList` has an additional secondary key `pipeline` which can describe the origin of the data.\n",
    "Because it is a _secondary_ key, it is not required to uniquely identify an entry.\n",
    "Current values for this key from spyglass pipelines are:\n",
    "\n",
    "| pipeline                  | Source                                              |\n",
    "| ------------------------- | --------------------------------------------------- |\n",
    "| position                  | sg.common.PositionSource                            |\n",
    "| lfp_v0                    | sg.common.LFP                                       |\n",
    "| lfp_v1                    | sg.lfp.v1.LFPV1                                     |\n",
    "| lfp_band                  | sg.common.LFPBand,<br> sg.lfp.analysis.v1.LFPBandV1 |\n",
    "| lfp_artifact              | sg.lfp.v1.LFPArtifactDetection                      |\n",
    "| spikesorting_artifact_v0  | sg.spikesorting.ArtifactDetection                   |\n",
    "| spikesorting_artifact_v1  | sg.spikesorting.v1.ArtifactDetection                |\n",
    "| spikesorting_recording_v0 | sg.spikesorting.SpikeSortingRecording               |\n",
    "| spikesorting_recording_v1 | sg.spikesorting.v1.SpikeSortingRecording            |\n"
   ]
  },
  {
   "cell_type": "markdown",
   "metadata": {},
   "source": [
    "## Deleting data\n"
   ]
  },
  {
   "cell_type": "markdown",
   "metadata": {},
   "source": [
    "Another neat feature of DataJoint is that it automatically maintains\n",
    "[data integrity](https://datajoint.com/docs/core/datajoint-python/0.14/design/integrity/)\n",
    "with _cascading deletes_. For example, if we delete our `Session` entry, all\n",
    "associated downstream entries are also deleted (e.g. `Raw`, `IntervalList`).\n",
    "\n",
    "_Note_: The deletion process can be complicated by\n",
    "[Merge Tables](https://lorenfranklab.github.io/spyglass/0.4/misc/merge_tables/)\n",
    "when the entry is referenced by a part table. To demo deletion in these cases,\n",
    "run the hidden code below.\n",
    "\n",
    "<details>\n",
    "<summary>Quick Merge Insert</summary>\n",
    "\n",
    "```python\n",
    "import spyglass.lfp as lfp\n",
    "\n",
    "sgc.FirFilterParameters().create_standard_filters()\n",
    "lfp.lfp_electrode.LFPElectrodeGroup.create_lfp_electrode_group(\n",
    "    nwb_file_name=nwb_copy_file_name,\n",
    "    group_name=\"test\",\n",
    "    electrode_list=[0],\n",
    ")\n",
    "lfp_key = {\n",
    "    \"nwb_file_name\": nwb_copy_file_name,\n",
    "    \"lfp_electrode_group_name\": \"test\",\n",
    "    \"target_interval_list_name\": \"01_s1\",\n",
    "    \"filter_name\": \"LFP 0-400 Hz\",\n",
    "    \"filter_sampling_rate\": 30_000,\n",
    "}\n",
    "lfp.v1.LFPSelection.insert1(lfp_key, skip_duplicates=True)\n",
    "lfp.v1.LFPV1().populate(lfp_key)\n",
    "```\n",
    "\n",
    "</details>\n",
    "<details>\n",
    "<summary>Deleting Merge Entries</summary>\n",
    "\n",
    "```python\n",
    "nwbfile = sgc.Nwbfile()\n",
    "\n",
    "(nwbfile & {\"nwb_file_name\": nwb_copy_file_name}).delete_downstream_merge(\n",
    "    dry_run=False, # True will show Merge Table entries that would be deleted\n",
    ")\n",
    "```\n",
    "\n",
    "Please see the [next notebook](./03_Merge_Tables.ipynb) for a more detailed\n",
    "explanation.\n",
    "\n",
    "</details>\n"
   ]
  },
  {
   "cell_type": "code",
   "execution_count": 24,
   "metadata": {},
   "outputs": [
    {
     "data": {
      "text/html": [
       "\n",
       "    \n",
       "    <style type=\"text/css\">\n",
       "        .Table{\n",
       "            border-collapse:collapse;\n",
       "        }\n",
       "        .Table th{\n",
       "            background: #A0A0A0; color: #ffffff; padding:4px; border:#f0e0e0 1px solid;\n",
       "            font-weight: normal; font-family: monospace; font-size: 100%;\n",
       "        }\n",
       "        .Table td{\n",
       "            padding:4px; border:#f0e0e0 1px solid; font-size:100%;\n",
       "        }\n",
       "        .Table tr:nth-child(odd){\n",
       "            background: #ffffff;\n",
       "            color: #000000;\n",
       "        }\n",
       "        .Table tr:nth-child(even){\n",
       "            background: #f3f1ff;\n",
       "            color: #000000;\n",
       "        }\n",
       "        /* Tooltip container */\n",
       "        .djtooltip {\n",
       "        }\n",
       "        /* Tooltip text */\n",
       "        .djtooltip .djtooltiptext {\n",
       "            visibility: hidden;\n",
       "            width: 120px;\n",
       "            background-color: black;\n",
       "            color: #fff;\n",
       "            text-align: center;\n",
       "            padding: 5px 0;\n",
       "            border-radius: 6px;\n",
       "            /* Position the tooltip text - see examples below! */\n",
       "            position: absolute;\n",
       "            z-index: 1;\n",
       "        }\n",
       "        #primary {\n",
       "            font-weight: bold;\n",
       "            color: black;\n",
       "        }\n",
       "        #nonprimary {\n",
       "            font-weight: normal;\n",
       "            color: white;\n",
       "        }\n",
       "\n",
       "        /* Show the tooltip text when you mouse over the tooltip container */\n",
       "        .djtooltip:hover .djtooltiptext {\n",
       "            visibility: visible;\n",
       "        }\n",
       "    </style>\n",
       "    \n",
       "    <b>Table for holding experimental sessions.</b>\n",
       "        <div style=\"max-height:1000px;max-width:1500px;overflow:auto;\">\n",
       "        <table border=\"1\" class=\"Table\">\n",
       "            <thead> <tr style=\"text-align: right;\"> <th> <div class=\"djtooltip\">\n",
       "                            <p id=\"primary\">nwb_file_name</p>\n",
       "                            <span class=\"djtooltiptext\">name of the NWB file</span>\n",
       "                        </div></th><th><div class=\"djtooltip\">\n",
       "                            <p id=\"nonprimary\">subject_id</p>\n",
       "                            <span class=\"djtooltiptext\"></span>\n",
       "                        </div></th><th><div class=\"djtooltip\">\n",
       "                            <p id=\"nonprimary\">institution_name</p>\n",
       "                            <span class=\"djtooltiptext\"></span>\n",
       "                        </div></th><th><div class=\"djtooltip\">\n",
       "                            <p id=\"nonprimary\">lab_name</p>\n",
       "                            <span class=\"djtooltiptext\"></span>\n",
       "                        </div></th><th><div class=\"djtooltip\">\n",
       "                            <p id=\"nonprimary\">session_id</p>\n",
       "                            <span class=\"djtooltiptext\"></span>\n",
       "                        </div></th><th><div class=\"djtooltip\">\n",
       "                            <p id=\"nonprimary\">session_description</p>\n",
       "                            <span class=\"djtooltiptext\"></span>\n",
       "                        </div></th><th><div class=\"djtooltip\">\n",
       "                            <p id=\"nonprimary\">session_start_time</p>\n",
       "                            <span class=\"djtooltiptext\"></span>\n",
       "                        </div></th><th><div class=\"djtooltip\">\n",
       "                            <p id=\"nonprimary\">timestamps_reference_time</p>\n",
       "                            <span class=\"djtooltiptext\"></span>\n",
       "                        </div></th><th><div class=\"djtooltip\">\n",
       "                            <p id=\"nonprimary\">experiment_description</p>\n",
       "                            <span class=\"djtooltiptext\"></span>\n",
       "                        </div> </th> </tr> </thead>\n",
       "            <tbody> <tr> <td>minirec20230622_.nwb</td>\n",
       "<td>54321</td>\n",
       "<td>UCSF</td>\n",
       "<td>Loren Frank Lab</td>\n",
       "<td>12345</td>\n",
       "<td>test yaml insertion</td>\n",
       "<td>2023-06-22 15:59:58</td>\n",
       "<td>1970-01-01 00:00:00</td>\n",
       "<td>Test Conversion</td> </tr> </tbody>\n",
       "        </table>\n",
       "        \n",
       "        <p>Total: 1</p></div>\n",
       "        "
      ],
      "text/plain": [
       "*nwb_file_name subject_id     institution_na lab_name       session_id     session_descri session_start_ timestamps_ref experiment_des\n",
       "+------------+ +------------+ +------------+ +------------+ +------------+ +------------+ +------------+ +------------+ +------------+\n",
       "minirec2023062 54321          UCSF           Loren Frank La 12345          test yaml inse 2023-06-22 15: 1970-01-01 00: Test Conversio\n",
       " (Total: 1)"
      ]
     },
     "execution_count": 24,
     "metadata": {},
     "output_type": "execute_result"
    }
   ],
   "source": [
    "session_entry = sgc.Session & {\"nwb_file_name\": nwb_copy_file_name}\n",
    "session_entry"
   ]
  },
  {
   "cell_type": "markdown",
   "metadata": {},
   "source": [
    "`Session.Experimenter` is used for permissions checks when deleting. The\n",
    "session will need to have an experimenter in order avoid an error being\n",
    "raised during this check.\n"
   ]
  },
  {
   "cell_type": "code",
   "execution_count": null,
   "metadata": {},
   "outputs": [],
   "source": [
    "sess_key = (sgc.Session & {\"nwb_file_name\": nwb_copy_file_name}).fetch(\n",
    "    \"KEY\", as_dict=True\n",
    ")[0]\n",
    "exp_key = (sgc.LabMember).fetch(\"KEY\", as_dict=True)[0]\n",
    "sgc.Session.Experimenter.insert1(\n",
    "    dict(**sess_key, **exp_key), skip_duplicates=True\n",
    ")"
   ]
  },
  {
   "cell_type": "markdown",
   "metadata": {},
   "source": [
    "Even with the experimenter specified, there are still delete protections\n",
    "in place. To see an example, uncomment the cell below.\n"
   ]
  },
  {
   "cell_type": "code",
   "execution_count": null,
   "metadata": {},
   "outputs": [],
   "source": [
    "# session_entry.delete()"
   ]
  },
  {
   "cell_type": "markdown",
   "metadata": {},
   "source": [
    "To delete, you'll need to share a team with the session experimenter.\n"
   ]
  },
  {
   "cell_type": "code",
   "execution_count": null,
   "metadata": {},
   "outputs": [],
   "source": [
    "your_name = \"YourFirst YourLast\"\n",
    "parts = your_name.split(\" \")\n",
    "sgc.LabMember.insert1([your_name, parts[0], parts[1]])\n",
    "sgc.LabMember.LabMemberInfo.insert1(\n",
    "    [your_name, \"your_gmail\", dj.config[\"database.user\"], 0]\n",
    ")\n",
    "sgc.LabTeam.LabTeamMember.insert1([team_name, your_name])"
   ]
  },
  {
   "cell_type": "markdown",
   "metadata": {},
   "source": [
    "By default, DataJoint is cautious about deletes and will prompt before deleting.\n",
    "To delete, uncomment the cell below and respond `yes` in the prompt.\n"
   ]
  },
  {
   "cell_type": "code",
   "execution_count": 26,
   "metadata": {},
   "outputs": [
    {
     "name": "stderr",
     "output_type": "stream",
     "text": [
      "[2023-09-28 08:29:15,814][INFO]: Deleting 4 rows from `common_behav`.`_raw_position__pos_object`\n",
      "INFO:datajoint:Deleting 4 rows from `common_behav`.`_raw_position__pos_object`\n",
      "[2023-09-28 08:29:15,822][INFO]: Deleting 2 rows from `common_behav`.`_raw_position`\n",
      "INFO:datajoint:Deleting 2 rows from `common_behav`.`_raw_position`\n",
      "[2023-09-28 08:29:15,834][INFO]: Deleting 4 rows from `common_behav`.`position_source__spatial_series`\n",
      "INFO:datajoint:Deleting 4 rows from `common_behav`.`position_source__spatial_series`\n",
      "[2023-09-28 08:29:15,841][INFO]: Deleting 2 rows from `common_behav`.`position_source`\n",
      "INFO:datajoint:Deleting 2 rows from `common_behav`.`position_source`\n",
      "[2023-09-28 08:29:15,851][INFO]: Deleting 7 rows from `common_dio`.`_d_i_o_events`\n",
      "INFO:datajoint:Deleting 7 rows from `common_dio`.`_d_i_o_events`\n",
      "[2023-09-28 08:29:15,871][INFO]: Deleting 128 rows from `common_ephys`.`_electrode`\n",
      "INFO:datajoint:Deleting 128 rows from `common_ephys`.`_electrode`\n",
      "[2023-09-28 08:29:15,879][INFO]: Deleting 1 rows from `common_ephys`.`_electrode_group`\n",
      "INFO:datajoint:Deleting 1 rows from `common_ephys`.`_electrode_group`\n",
      "[2023-09-28 08:29:15,887][INFO]: Deleting 1 rows from `common_ephys`.`_raw`\n",
      "INFO:datajoint:Deleting 1 rows from `common_ephys`.`_raw`\n",
      "[2023-09-28 08:29:15,896][INFO]: Deleting 1 rows from `common_ephys`.`_sample_count`\n",
      "INFO:datajoint:Deleting 1 rows from `common_ephys`.`_sample_count`\n",
      "[2023-09-28 08:29:15,908][INFO]: Deleting 2 rows from `common_behav`.`__position_interval_map`\n",
      "INFO:datajoint:Deleting 2 rows from `common_behav`.`__position_interval_map`\n",
      "[2023-09-28 08:29:15,918][INFO]: Deleting 2 rows from `common_task`.`_task_epoch`\n",
      "INFO:datajoint:Deleting 2 rows from `common_task`.`_task_epoch`\n",
      "[2023-09-28 08:29:15,924][INFO]: Deleting 5 rows from `common_interval`.`interval_list`\n",
      "INFO:datajoint:Deleting 5 rows from `common_interval`.`interval_list`\n",
      "[2023-09-28 08:29:15,931][INFO]: Deleting 1 rows from `common_session`.`_session`\n",
      "INFO:datajoint:Deleting 1 rows from `common_session`.`_session`\n",
      "[2023-09-28 08:29:18,765][INFO]: Deletes committed.\n",
      "INFO:datajoint:Deletes committed.\n"
     ]
    },
    {
     "data": {
      "text/plain": [
       "1"
      ]
     },
     "execution_count": 26,
     "metadata": {},
     "output_type": "execute_result"
    }
   ],
   "source": [
    "# session_entry.delete()"
   ]
  },
  {
   "cell_type": "markdown",
   "metadata": {},
   "source": [
    "We can check that delete worked, both for `Session` and `IntervalList`\n"
   ]
  },
  {
   "cell_type": "code",
   "execution_count": 27,
   "metadata": {},
   "outputs": [
    {
     "data": {
      "text/html": [
       "\n",
       "    \n",
       "    <style type=\"text/css\">\n",
       "        .Table{\n",
       "            border-collapse:collapse;\n",
       "        }\n",
       "        .Table th{\n",
       "            background: #A0A0A0; color: #ffffff; padding:4px; border:#f0e0e0 1px solid;\n",
       "            font-weight: normal; font-family: monospace; font-size: 100%;\n",
       "        }\n",
       "        .Table td{\n",
       "            padding:4px; border:#f0e0e0 1px solid; font-size:100%;\n",
       "        }\n",
       "        .Table tr:nth-child(odd){\n",
       "            background: #ffffff;\n",
       "            color: #000000;\n",
       "        }\n",
       "        .Table tr:nth-child(even){\n",
       "            background: #f3f1ff;\n",
       "            color: #000000;\n",
       "        }\n",
       "        /* Tooltip container */\n",
       "        .djtooltip {\n",
       "        }\n",
       "        /* Tooltip text */\n",
       "        .djtooltip .djtooltiptext {\n",
       "            visibility: hidden;\n",
       "            width: 120px;\n",
       "            background-color: black;\n",
       "            color: #fff;\n",
       "            text-align: center;\n",
       "            padding: 5px 0;\n",
       "            border-radius: 6px;\n",
       "            /* Position the tooltip text - see examples below! */\n",
       "            position: absolute;\n",
       "            z-index: 1;\n",
       "        }\n",
       "        #primary {\n",
       "            font-weight: bold;\n",
       "            color: black;\n",
       "        }\n",
       "        #nonprimary {\n",
       "            font-weight: normal;\n",
       "            color: white;\n",
       "        }\n",
       "\n",
       "        /* Show the tooltip text when you mouse over the tooltip container */\n",
       "        .djtooltip:hover .djtooltiptext {\n",
       "            visibility: visible;\n",
       "        }\n",
       "    </style>\n",
       "    \n",
       "    <b>Table for holding experimental sessions.</b>\n",
       "        <div style=\"max-height:1000px;max-width:1500px;overflow:auto;\">\n",
       "        <table border=\"1\" class=\"Table\">\n",
       "            <thead> <tr style=\"text-align: right;\"> <th> <div class=\"djtooltip\">\n",
       "                            <p id=\"primary\">nwb_file_name</p>\n",
       "                            <span class=\"djtooltiptext\">name of the NWB file</span>\n",
       "                        </div></th><th><div class=\"djtooltip\">\n",
       "                            <p id=\"nonprimary\">subject_id</p>\n",
       "                            <span class=\"djtooltiptext\"></span>\n",
       "                        </div></th><th><div class=\"djtooltip\">\n",
       "                            <p id=\"nonprimary\">institution_name</p>\n",
       "                            <span class=\"djtooltiptext\"></span>\n",
       "                        </div></th><th><div class=\"djtooltip\">\n",
       "                            <p id=\"nonprimary\">lab_name</p>\n",
       "                            <span class=\"djtooltiptext\"></span>\n",
       "                        </div></th><th><div class=\"djtooltip\">\n",
       "                            <p id=\"nonprimary\">session_id</p>\n",
       "                            <span class=\"djtooltiptext\"></span>\n",
       "                        </div></th><th><div class=\"djtooltip\">\n",
       "                            <p id=\"nonprimary\">session_description</p>\n",
       "                            <span class=\"djtooltiptext\"></span>\n",
       "                        </div></th><th><div class=\"djtooltip\">\n",
       "                            <p id=\"nonprimary\">session_start_time</p>\n",
       "                            <span class=\"djtooltiptext\"></span>\n",
       "                        </div></th><th><div class=\"djtooltip\">\n",
       "                            <p id=\"nonprimary\">timestamps_reference_time</p>\n",
       "                            <span class=\"djtooltiptext\"></span>\n",
       "                        </div></th><th><div class=\"djtooltip\">\n",
       "                            <p id=\"nonprimary\">experiment_description</p>\n",
       "                            <span class=\"djtooltiptext\"></span>\n",
       "                        </div> </th> </tr> </thead>\n",
       "            <tbody> <tr>  </tr> </tbody>\n",
       "        </table>\n",
       "        \n",
       "        <p>Total: 0</p></div>\n",
       "        "
      ],
      "text/plain": [
       "*nwb_file_name subject_id     institution_na lab_name     session_id     session_descri session_start_ timestamps_ref experiment_des\n",
       "+------------+ +------------+ +------------+ +----------+ +------------+ +------------+ +------------+ +------------+ +------------+\n",
       "\n",
       " (Total: 0)"
      ]
     },
     "execution_count": 27,
     "metadata": {},
     "output_type": "execute_result"
    }
   ],
   "source": [
    "sgc.Session & {\"nwb_file_name\": nwb_copy_file_name}"
   ]
  },
  {
   "cell_type": "code",
   "execution_count": 28,
   "metadata": {},
   "outputs": [
    {
     "data": {
      "text/html": [
       "\n",
       "    \n",
       "    <style type=\"text/css\">\n",
       "        .Table{\n",
       "            border-collapse:collapse;\n",
       "        }\n",
       "        .Table th{\n",
       "            background: #A0A0A0; color: #ffffff; padding:4px; border:#f0e0e0 1px solid;\n",
       "            font-weight: normal; font-family: monospace; font-size: 100%;\n",
       "        }\n",
       "        .Table td{\n",
       "            padding:4px; border:#f0e0e0 1px solid; font-size:100%;\n",
       "        }\n",
       "        .Table tr:nth-child(odd){\n",
       "            background: #ffffff;\n",
       "            color: #000000;\n",
       "        }\n",
       "        .Table tr:nth-child(even){\n",
       "            background: #f3f1ff;\n",
       "            color: #000000;\n",
       "        }\n",
       "        /* Tooltip container */\n",
       "        .djtooltip {\n",
       "        }\n",
       "        /* Tooltip text */\n",
       "        .djtooltip .djtooltiptext {\n",
       "            visibility: hidden;\n",
       "            width: 120px;\n",
       "            background-color: black;\n",
       "            color: #fff;\n",
       "            text-align: center;\n",
       "            padding: 5px 0;\n",
       "            border-radius: 6px;\n",
       "            /* Position the tooltip text - see examples below! */\n",
       "            position: absolute;\n",
       "            z-index: 1;\n",
       "        }\n",
       "        #primary {\n",
       "            font-weight: bold;\n",
       "            color: black;\n",
       "        }\n",
       "        #nonprimary {\n",
       "            font-weight: normal;\n",
       "            color: white;\n",
       "        }\n",
       "\n",
       "        /* Show the tooltip text when you mouse over the tooltip container */\n",
       "        .djtooltip:hover .djtooltiptext {\n",
       "            visibility: visible;\n",
       "        }\n",
       "    </style>\n",
       "    \n",
       "    <b>Time intervals used for analysis</b>\n",
       "        <div style=\"max-height:1000px;max-width:1500px;overflow:auto;\">\n",
       "        <table border=\"1\" class=\"Table\">\n",
       "            <thead> <tr style=\"text-align: right;\"> <th> <div class=\"djtooltip\">\n",
       "                            <p id=\"primary\">nwb_file_name</p>\n",
       "                            <span class=\"djtooltiptext\">name of the NWB file</span>\n",
       "                        </div></th><th><div class=\"djtooltip\">\n",
       "                            <p id=\"primary\">interval_list_name</p>\n",
       "                            <span class=\"djtooltiptext\">descriptive name of this interval list</span>\n",
       "                        </div></th><th><div class=\"djtooltip\">\n",
       "                            <p id=\"nonprimary\">valid_times</p>\n",
       "                            <span class=\"djtooltiptext\">numpy array with start and end times for each interval</span>\n",
       "                        </div> </th> </tr> </thead>\n",
       "            <tbody> <tr>  </tr> </tbody>\n",
       "        </table>\n",
       "        \n",
       "        <p>Total: 0</p></div>\n",
       "        "
      ],
      "text/plain": [
       "*nwb_file_name *interval_list valid_time\n",
       "+------------+ +------------+ +--------+\n",
       "\n",
       " (Total: 0)"
      ]
     },
     "execution_count": 28,
     "metadata": {},
     "output_type": "execute_result"
    }
   ],
   "source": [
    "sgc.IntervalList & {\"nwb_file_name\": nwb_copy_file_name}"
   ]
  },
  {
   "cell_type": "markdown",
   "metadata": {},
   "source": [
    "`delete` is useful for re-running something. Editing entries is possible, but\n",
    "discouraged because it can lead to\n",
    "[integrity](https://datajoint.com/docs/core/datajoint-python/0.14/design/integrity/)\n",
    "issues. Instead, re-enter and let the automation handle the rest.\n",
    "\n",
    "Spyglass falls short, however, in that deleting from `Session` doesn't also\n",
    "delete the associated entry in `Nwbfile`, which has to be removed separately\n",
    "(for now). This table offers a `cleanup` method to remove the added files (with\n",
    "the `delete_files` argument as `True`).\n",
    "\n",
    "_Note:_ this also applies to deleting files from `AnalysisNwbfile` table.\n"
   ]
  },
  {
   "cell_type": "code",
   "execution_count": 53,
   "metadata": {},
   "outputs": [
    {
     "name": "stderr",
     "output_type": "stream",
     "text": [
      "[2023-07-18 19:01:15,343][INFO]: Deleting 1 rows from `common_nwbfile`.`nwbfile`\n",
      "INFO:datajoint:Deleting 1 rows from `common_nwbfile`.`nwbfile`\n",
      "[2023-07-18 19:01:17,130][INFO]: Deletes committed.\n",
      "INFO:datajoint:Deletes committed.\n"
     ]
    },
    {
     "data": {
      "text/plain": [
       "1"
      ]
     },
     "execution_count": 53,
     "metadata": {},
     "output_type": "execute_result"
    }
   ],
   "source": [
    "# Uncomment to delete\n",
    "# (sgc.Nwbfile & {\"nwb_file_name\": nwb_copy_file_name}).delete()"
   ]
  },
  {
   "cell_type": "markdown",
   "metadata": {},
   "source": [
    "Note that the file (ends with `_.nwb`) has not been deleted, even if the entry\n",
    "was deleted above.\n"
   ]
  },
  {
   "cell_type": "code",
   "execution_count": null,
   "metadata": {},
   "outputs": [
    {
     "name": "stdout",
     "output_type": "stream",
     "text": [
      "minirec20230622.nwb\n",
      "minirec20230622_.nwb\n",
      "montague20200802_tutorial.nwb\n",
      "montague20200802_tutorial_.nwb\n",
      "montague20200802_tutorial__.nwb\n",
      "sub-despereaux_ses-despereaux-08_behavior+ecephys_trim.nwb\n",
      "sub-despereaux_ses-despereaux-08_behavior+ecephys_trim_.nwb\n",
      "tonks20211103_.nwb\n"
     ]
    }
   ],
   "source": [
    "!ls $SPYGLASS_BASE_DIR/raw"
   ]
  },
  {
   "cell_type": "markdown",
   "metadata": {},
   "source": [
    "We can clean these files with the `cleanup` method\n"
   ]
  },
  {
   "cell_type": "code",
   "execution_count": 55,
   "metadata": {},
   "outputs": [
    {
     "name": "stderr",
     "output_type": "stream",
     "text": [
      "100%|██████████| 1/1 [00:00<00:00, 304.24it/s]\n"
     ]
    }
   ],
   "source": [
    "sgc.Nwbfile().cleanup(delete_files=True)"
   ]
  },
  {
   "cell_type": "code",
   "execution_count": 56,
   "metadata": {},
   "outputs": [
    {
     "name": "stdout",
     "output_type": "stream",
     "text": [
      "minirec20230622.nwb\n",
      "montague20200802_tutorial.nwb\n",
      "montague20200802_tutorial_.nwb\n",
      "montague20200802_tutorial__.nwb\n",
      "sub-despereaux_ses-despereaux-08_behavior+ecephys_trim.nwb\n",
      "sub-despereaux_ses-despereaux-08_behavior+ecephys_trim_.nwb\n",
      "tonks20211103_.nwb\n"
     ]
    }
   ],
   "source": [
    "!ls $SPYGLASS_BASE_DIR/raw"
   ]
  },
  {
   "cell_type": "markdown",
   "metadata": {},
   "source": [
    "## Up Next\n"
   ]
  },
  {
   "cell_type": "markdown",
   "metadata": {},
   "source": [
    "In the [next notebook](./02_Data_Sync.ipynb), we'll explore tools for syncing.\n"
   ]
  }
 ],
 "metadata": {
  "kernelspec": {
   "display_name": "spy",
   "language": "python",
   "name": "python3"
  },
  "language_info": {
   "codemirror_mode": {
    "name": "ipython",
    "version": 3
   },
   "file_extension": ".py",
   "mimetype": "text/x-python",
   "name": "python",
   "nbconvert_exporter": "python",
   "pygments_lexer": "ipython3",
   "version": "3.9.16"
  }
 },
 "nbformat": 4,
 "nbformat_minor": 4
}

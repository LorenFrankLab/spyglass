{
 "cells": [
  {
   "cell_type": "markdown",
   "id": "a93a1550-8a67-4346-a4bf-e5a136f3d903",
   "metadata": {},
   "source": [
    "## Position- DeepLabCut from Scratch\n"
   ]
  },
  {
   "cell_type": "markdown",
   "id": "13dd3267",
   "metadata": {},
   "source": [
    "### Overview\n"
   ]
  },
  {
   "cell_type": "markdown",
   "id": "b52aff0d",
   "metadata": {},
   "source": [
    "_Developer Note:_ if you may make a PR in the future, be sure to copy this\n",
    "notebook, and use the `gitignore` prefix `temp` to avoid future conflicts.\n",
    "\n",
    "This is one notebook in a multi-part series on Spyglass.\n",
    "\n",
    "- To set up your Spyglass environment and database, see\n",
    "  [the Setup notebook](./00_Setup.ipynb)\n",
    "- For additional info on DataJoint syntax, including table definitions and\n",
    "  inserts, see\n",
    "  [the Insert Data notebook](./01_Insert_Data.ipynb)\n",
    "\n",
    "This tutorial will extract position via DeepLabCut (DLC). It will walk through...\n",
    "\n",
    "- creating a DLC project\n",
    "- extracting and labeling frames\n",
    "- training your model\n",
    "- executing pose estimation on a novel behavioral video\n",
    "- processing the pose estimation output to extract a centroid and orientation\n",
    "- inserting the resulting information into the `PositionOutput` table\n",
    "\n",
    "**Note 2: Make sure you are running this within the spyglass-dlc Conda environment (instructions for install are in the environment_dlc.yml)**\n"
   ]
  },
  {
   "cell_type": "markdown",
   "id": "a8b531f7",
   "metadata": {},
   "source": [
    "Here is a schematic showing the tables used in this pipeline.\n",
    "\n",
    "![dlc_scratch.png|2000x900](./../notebook-images/dlc_scratch.png)\n"
   ]
  },
  {
   "cell_type": "markdown",
   "id": "0c67d88c-c90e-467b-ae2e-672c49a12f95",
   "metadata": {},
   "source": [
    "### Table of Contents<a id='TableOfContents'></a>\n",
    "\n",
    "[`DLCProject`](#DLCProject1)<br>\n",
    "[`DLCModelTraining`](#DLCModelTraining1)<br>\n",
    "[`DLCModel`](#DLCModel1)<br>\n",
    "[`DLCPoseEstimation`](#DLCPoseEstimation1)<br>\n",
    "[`DLCSmoothInterp`](#DLCSmoothInterp1)<br>\n",
    "[`DLCCentroid`](#DLCCentroid1)<br>\n",
    "[`DLCOrientation`](#DLCOrientation1)<br>\n",
    "[`DLCPosV1`](#DLCPosV1-1)<br>\n",
    "[`DLCPosVideo`](#DLCPosVideo1)<br>\n",
    "[`PositionOutput`](#PositionOutput1)<br>\n"
   ]
  },
  {
   "cell_type": "markdown",
   "id": "70a0a678",
   "metadata": {},
   "source": [
    "**You can click on any header to return to the Table of Contents**\n"
   ]
  },
  {
   "cell_type": "markdown",
   "id": "c9b98c3d",
   "metadata": {},
   "source": [
    "### Imports\n"
   ]
  },
  {
   "cell_type": "code",
   "execution_count": null,
   "id": "968d5189",
   "metadata": {},
   "outputs": [],
   "source": [
    "%load_ext autoreload\n",
    "%autoreload 2"
   ]
  },
  {
   "cell_type": "code",
   "execution_count": null,
   "id": "0f567531",
   "metadata": {},
   "outputs": [],
   "source": [
    "import os\n",
    "import datajoint as dj\n",
    "\n",
    "import spyglass.common as sgc\n",
    "import spyglass.position.v1 as sgp\n",
    "\n",
    "import numpy as np\n",
    "import pandas as pd\n",
    "import pynwb\n",
    "from spyglass.position import PositionOutput\n",
    "\n",
    "# change to the upper level folder to detect dj_local_conf.json\n",
    "if os.path.basename(os.getcwd()) == \"notebooks\":\n",
    "    os.chdir(\"..\")\n",
    "dj.config.load(\"dj_local_conf.json\")  # load config for database connection info\n",
    "\n",
    "# ignore datajoint+jupyter async warnings\n",
    "import warnings\n",
    "\n",
    "warnings.simplefilter(\"ignore\", category=DeprecationWarning)\n",
    "warnings.simplefilter(\"ignore\", category=ResourceWarning)"
   ]
  },
  {
   "cell_type": "markdown",
   "id": "5e6221a3-17e5-45c0-aa40-2fd664b02219",
   "metadata": {},
   "source": [
    "#### [DLCProject](#TableOfContents) <a id=\"DLCProject1\"></a>\n"
   ]
  },
  {
   "cell_type": "markdown",
   "id": "27aed0e1-3af7-4499-bae8-96a64e81041e",
   "metadata": {},
   "source": [
    "<div class=\"alert alert-block alert-info\">\n",
    "    <b>Notes:</b><ul>\n",
    "    <li>\n",
    "        The cells within this <code>DLCProject</code> step need to be performed \n",
    "        in a local Jupyter notebook to allow for use of the frame labeling GUI.\n",
    "    </li>\n",
    "    <li>\n",
    "        Please do not add to the <code>BodyPart</code> table in the production \n",
    "        database unless necessary.\n",
    "    </li>\n",
    "    </ul>\n",
    "</div>\n"
   ]
  },
  {
   "cell_type": "markdown",
   "id": "50c9f1c9",
   "metadata": {},
   "source": [
    "### Body Parts\n"
   ]
  },
  {
   "cell_type": "markdown",
   "id": "96637cb9-519d-41e1-8bfd-69f68dc66b36",
   "metadata": {},
   "source": [
    "We'll begin by looking at the `BodyPart` table, which stores standard names of body parts used in DLC models throughout the lab with a concise description.\n"
   ]
  },
  {
   "cell_type": "code",
   "execution_count": null,
   "id": "b69f829f-9877-48ae-89d1-f876af2b8835",
   "metadata": {},
   "outputs": [],
   "source": [
    "sgp.BodyPart()"
   ]
  },
  {
   "cell_type": "markdown",
   "id": "9616512e",
   "metadata": {},
   "source": [
    "If the bodyparts you plan to use in your model are not yet in the table, here is code to add bodyparts:\n",
    "\n",
    "```python\n",
    "sgp.BodyPart.insert(\n",
    "    [\n",
    "        {\"bodypart\": \"bp_1\", \"bodypart_description\": \"concise descrip\"},\n",
    "        {\"bodypart\": \"bp_2\", \"bodypart_description\": \"concise descrip\"},\n",
    "    ],\n",
    "    skip_duplicates=True,\n",
    ")\n",
    "```\n"
   ]
  },
  {
   "cell_type": "markdown",
   "id": "57b590d3",
   "metadata": {},
   "source": [
    "### Define videos and camera name (optional) for training set\n"
   ]
  },
  {
   "cell_type": "markdown",
   "id": "5d5aae37",
   "metadata": {},
   "source": [
    "To train a model, we'll need to extract frames, which we can label as training data. We can construct a list of videos from which we'll extract frames.\n",
    "\n",
    "The list can either contain dictionaries identifying behavioral videos for NWB files that have already been added to Spyglass, or absolute file paths to the videos (in .h264 format) you want to use.\n",
    "\n",
    "For this tutorial, we'll use two videos for which we already have frames labeled.\n"
   ]
  },
  {
   "cell_type": "markdown",
   "id": "7b5e157b",
   "metadata": {},
   "source": [
    "Defining camera name is optional: it should be done in cases where there are multiple cameras streaming per epoch, but not necessary otherwise. <br>\n",
    "example:\n",
    "`camera_name = \"HomeBox_camera\" \n",
    "   `\n"
   ]
  },
  {
   "cell_type": "markdown",
   "id": "56f45e7f",
   "metadata": {},
   "source": [
    "_NOTE:_ The official release of Spyglass does not yet support multicamera\n",
    "projects. You can monitor progress on the effort to add this feature by checking\n",
    "[this PR](https://github.com/LorenFrankLab/spyglass/pull/684) or use\n",
    "[this experimental branch](https://github.com/dpeg22/spyglass/tree/add-multi-camera),\n",
    "which takes the keys nwb_file_name and epoch, and camera_name in the video_list variable.\n"
   ]
  },
  {
   "cell_type": "code",
   "execution_count": null,
   "id": "15971506",
   "metadata": {},
   "outputs": [],
   "source": [
    "video_list = [\n",
    "    {\"nwb_file_name\": \"J1620210529_.nwb\", \"epoch\": 2},\n",
    "    {\"nwb_file_name\": \"peanut20201103_.nwb\", \"epoch\": 4},\n",
    "]"
   ]
  },
  {
   "cell_type": "markdown",
   "id": "a9f8e43d",
   "metadata": {},
   "source": [
    "### Path variables\n",
    "\n",
    "The position pipeline also keeps track of paths for project, video, and output.\n",
    "Just like we saw in [Setup](./00_Setup.ipynb), you can manage these either with\n",
    "environmental variables...\n",
    "\n",
    "```bash\n",
    "export DLC_PROJECT_DIR=\"/nimbus/deeplabcut/projects\"\n",
    "export DLC_VIDEO_DIR=\"/nimbus/deeplabcut/video\"\n",
    "export DLC_OUTPUT_DIR=\"/nimbus/deeplabcut/output\"\n",
    "```\n",
    "\n",
    "<!-- NOTE: HDF5_USE_FILE_LOCKING now automatically set to 'FALSE' -->\n",
    "\n",
    "Or these can be set in your datajoint config:\n",
    "\n",
    "```json\n",
    "{\n",
    "  \"custom\": {\n",
    "    \"dlc_dirs\": {\n",
    "      \"base\": \"/nimbus/deeplabcut/\",\n",
    "      \"project\": \"/nimbus/deeplabcut/projects\",\n",
    "      \"video\": \"/nimbus/deeplabcut/video\",\n",
    "      \"output\": \"/nimbus/deeplabcut/output\"\n",
    "    }\n",
    "  }\n",
    "}\n",
    "```\n",
    "\n",
    "_NOTE:_ If only `base` is specified as shown above, spyglass will assume the\n",
    "relative directories shown.\n",
    "\n",
    "You can check the result of this setup process with...\n"
   ]
  },
  {
   "cell_type": "code",
   "execution_count": null,
   "id": "49d7d9fc",
   "metadata": {},
   "outputs": [],
   "source": [
    "from spyglass.settings import config\n",
    "\n",
    "config"
   ]
  },
  {
   "cell_type": "markdown",
   "id": "32c023b0-d00d-40b0-9a37-d0d3e4a4ae2a",
   "metadata": {},
   "source": [
    "Before creating our project, we need to define a few variables.\n",
    "\n",
    "- A team name, as shown in `LabTeam` for setting permissions. Here, we'll\n",
    "  use \"LorenLab\".\n",
    "- A `project_name`, as a unique identifier for this DLC project. Here, we'll use\n",
    "  **\"tutorial_scratch_yourinitials\"**\n",
    "- `bodyparts` is a list of body parts for which we want to extract position.\n",
    "  The pre-labeled frames we're using include the bodyparts listed below.\n",
    "- Number of frames to extract/label as `frames_per_video`. Note that the DLC creators recommend having 200 frames as the minimum total number for each project.\n"
   ]
  },
  {
   "cell_type": "code",
   "execution_count": null,
   "id": "347e98f1",
   "metadata": {},
   "outputs": [],
   "source": [
    "team_name = sgc.LabTeam.fetch(\"team_name\")[0]  # If on lab DB, \"LorenLab\"\n",
    "project_name = \"tutorial_scratch_DG\"\n",
    "frames_per_video = 100\n",
    "bodyparts = [\"redLED_C\", \"greenLED\", \"redLED_L\", \"redLED_R\", \"tailBase\"]\n",
    "project_key = sgp.DLCProject.insert_new_project(\n",
    "    project_name=project_name,\n",
    "    bodyparts=bodyparts,\n",
    "    lab_team=team_name,\n",
    "    frames_per_video=frames_per_video,\n",
    "    video_list=video_list,\n",
    "    skip_duplicates=True,\n",
    ")"
   ]
  },
  {
   "cell_type": "markdown",
   "id": "f5d83452-48eb-4669-89eb-a6beb1f2d051",
   "metadata": {},
   "source": [
    "Now that we've initialized our project we'll need to extract frames which we will then label.\n"
   ]
  },
  {
   "cell_type": "code",
   "execution_count": null,
   "id": "7d8b1595",
   "metadata": {},
   "outputs": [],
   "source": [
    "# comment this line out after you finish frame extraction for each project\n",
    "sgp.DLCProject().run_extract_frames(project_key)"
   ]
  },
  {
   "cell_type": "markdown",
   "id": "68110734",
   "metadata": {},
   "source": [
    "This is the line used to label the frames you extracted, if you wish to use the DLC GUI on the computer you are currently using.\n",
    "\n",
    "```#comment this line out after frames are labeled for your project\n",
    "sgp.DLCProject().run_label_frames(project_key)\n",
    "```\n"
   ]
  },
  {
   "cell_type": "markdown",
   "id": "8b241030",
   "metadata": {},
   "source": [
    "Otherwise, it is best/easiest practice to label the frames on your local computer (like a MacBook) that can run DeepLabCut's GUI well. Instructions: <br>\n",
    "\n",
    "1. Install DLC on your local (preferably into a 'Src' folder): https://deeplabcut.github.io/DeepLabCut/docs/installation.html\n",
    "2. Upload frames extracted and saved in nimbus (should be `/nimbus/deeplabcut/<YOUR_PROJECT_NAME>/labeled-data`) AND the project's associated config file (should be `/nimbus/deeplabcut/<YOUR_PROJECT_NAME>/config.yaml`) to Box (we get free with UCSF)\n",
    "3. Download labeled-data and config files on your local from Box\n",
    "4. Create a 'projects' folder where you installed DeepLabCut; create a new folder with your complete project name there; save the downloaded files there.\n",
    "5. Edit the config.yaml file: line 9 defining `project_path` needs to be the file path where it is saved on your local (ex: `/Users/lorenlab/Src/DeepLabCut/projects/tutorial_sratch_DG-LorenLab-2023-08-16`)\n",
    "6. Open the DLC GUI through terminal\n",
    "   <br>(ex: `conda activate miniconda/envs/DEEPLABCUT_M1`\n",
    "   <br>`pythonw -m deeplabcut`)\n",
    "7. Load an existing project; choose the config.yaml file\n",
    "8. Label frames; labeling tutorial: https://www.youtube.com/watch?v=hsA9IB5r73E.\n",
    "9. Once all frames are labeled, you should re-upload labeled-data folder back to Box and overwrite it in the original nimbus location so that your completed frames are ready to be used in the model.\n"
   ]
  },
  {
   "cell_type": "markdown",
   "id": "c12dd229-2f8b-455a-a7b1-a20916cefed9",
   "metadata": {},
   "source": [
    "Now we can check the `DLCProject.File` part table and see all of our training files and videos there!\n"
   ]
  },
  {
   "cell_type": "code",
   "execution_count": null,
   "id": "3d4f3fa6-cce9-4d4a-a252-3424313c6a97",
   "metadata": {},
   "outputs": [],
   "source": [
    "sgp.DLCProject.File & project_key"
   ]
  },
  {
   "cell_type": "markdown",
   "id": "7e2e3eab-60c7-4a3c-bc8f-fd4e8dcf52a2",
   "metadata": {},
   "source": [
    "<div class=\"alert alert-block alert-warning\">\n",
    "    This step and beyond should be run on a GPU-enabled machine.</b>\n",
    "</div>\n"
   ]
  },
  {
   "cell_type": "markdown",
   "id": "0e48ecf0",
   "metadata": {},
   "source": [
    "#### [DLCModelTraining](#ToC)<a id='DLCModelTraining1'></a>\n",
    "\n",
    "Please make sure you're running this notebook on a GPU-enabled machine.\n",
    "\n",
    "Now that we've imported existing frames, we can get ready to train our model.\n",
    "\n",
    "First, we'll need to define a set of parameters for `DLCModelTrainingParams`, which will get used by DeepLabCut during training. Let's start with `gputouse`,\n",
    "which determines which GPU core to use.\n",
    "\n",
    "The cell below determines which core has space and set the `gputouse` variable\n",
    "accordingly.\n"
   ]
  },
  {
   "cell_type": "code",
   "execution_count": null,
   "id": "a8fc5bb7",
   "metadata": {},
   "outputs": [],
   "source": [
    "sgp.dlc_utils.get_gpu_memory()"
   ]
  },
  {
   "cell_type": "markdown",
   "id": "bca035a9",
   "metadata": {},
   "source": [
    "Set GPU core:\n"
   ]
  },
  {
   "cell_type": "code",
   "execution_count": null,
   "id": "1ff0e393",
   "metadata": {},
   "outputs": [],
   "source": [
    "gputouse = 1  # 1-9"
   ]
  },
  {
   "cell_type": "markdown",
   "id": "2b047686",
   "metadata": {},
   "source": [
    "Now we'll define the rest of our parameters and insert the entry.\n",
    "\n",
    "To see all possible parameters, try:\n",
    "\n",
    "```python\n",
    "sgp.DLCModelTrainingParams.get_accepted_params()\n",
    "```\n"
   ]
  },
  {
   "cell_type": "code",
   "execution_count": null,
   "id": "399581ee",
   "metadata": {},
   "outputs": [],
   "source": [
    "training_params_name = \"tutorial\"\n",
    "sgp.DLCModelTrainingParams.insert_new_params(\n",
    "    paramset_name=training_params_name,\n",
    "    params={\n",
    "        \"trainingsetindex\": 0,\n",
    "        \"shuffle\": 1,\n",
    "        \"gputouse\": gputouse,\n",
    "        \"net_type\": \"resnet_50\",\n",
    "        \"augmenter_type\": \"imgaug\",\n",
    "    },\n",
    "    skip_duplicates=True,\n",
    ")"
   ]
  },
  {
   "cell_type": "markdown",
   "id": "6b6cc709",
   "metadata": {},
   "source": [
    "Next we'll modify the `project_key` from above to include the necessary entries for `DLCModelTraining`\n"
   ]
  },
  {
   "cell_type": "code",
   "execution_count": null,
   "id": "7acd150b",
   "metadata": {},
   "outputs": [],
   "source": [
    "# project_key['project_path'] = os.path.dirname(project_key['config_path'])\n",
    "if \"config_path\" in project_key:\n",
    "    del project_key[\"config_path\"]"
   ]
  },
  {
   "cell_type": "markdown",
   "id": "0bc7ddaa",
   "metadata": {},
   "source": [
    "We can insert an entry into `DLCModelTrainingSelection` and populate `DLCModelTraining`.\n",
    "\n",
    "_Note:_ You can stop training at any point using `I + I` or interrupt the Kernel.\n",
    "\n",
    "The maximum total number of training iterations is 1030000; you can end training before this amount if the loss rate (lr) and total loss plateau and are very close to 0.\n"
   ]
  },
  {
   "cell_type": "code",
   "execution_count": null,
   "id": "3c252541",
   "metadata": {},
   "outputs": [],
   "source": [
    "sgp.DLCModelTrainingSelection.heading"
   ]
  },
  {
   "cell_type": "code",
   "execution_count": null,
   "id": "139d2f30",
   "metadata": {
    "tags": []
   },
   "outputs": [],
   "source": [
    "sgp.DLCModelTrainingSelection().insert1(\n",
    "    {\n",
    "        **project_key,\n",
    "        \"dlc_training_params_name\": training_params_name,\n",
    "        \"training_id\": 0,\n",
    "        \"model_prefix\": \"\",\n",
    "    }\n",
    ")\n",
    "model_training_key = (\n",
    "    sgp.DLCModelTrainingSelection\n",
    "    & {\n",
    "        **project_key,\n",
    "        \"dlc_training_params_name\": training_params_name,\n",
    "    }\n",
    ").fetch1(\"KEY\")\n",
    "sgp.DLCModelTraining.populate(model_training_key)"
   ]
  },
  {
   "cell_type": "markdown",
   "id": "da004b3e",
   "metadata": {},
   "source": [
    "Here we'll make sure that the entry made it into the table properly!\n"
   ]
  },
  {
   "cell_type": "code",
   "execution_count": null,
   "id": "e5306fd9",
   "metadata": {
    "scrolled": true
   },
   "outputs": [],
   "source": [
    "sgp.DLCModelTraining() & model_training_key"
   ]
  },
  {
   "cell_type": "markdown",
   "id": "ac5b7687",
   "metadata": {},
   "source": [
    "Populating `DLCModelTraining` automatically inserts the entry into\n",
    "`DLCModelSource`, which is used to select between models trained using Spyglass\n",
    "vs. other tools.\n"
   ]
  },
  {
   "cell_type": "code",
   "execution_count": null,
   "id": "a349dc3d",
   "metadata": {},
   "outputs": [],
   "source": [
    "sgp.DLCModelSource() & model_training_key"
   ]
  },
  {
   "cell_type": "markdown",
   "id": "92cb8969",
   "metadata": {},
   "source": [
    "The `source` field will only accept _\"FromImport\"_ or _\"FromUpstream\"_ as entries. Let's checkout the `FromUpstream` part table attached to `DLCModelSource` below.\n"
   ]
  },
  {
   "cell_type": "code",
   "execution_count": null,
   "id": "b0cc1afa",
   "metadata": {},
   "outputs": [],
   "source": [
    "sgp.DLCModelSource.FromUpstream() & model_training_key"
   ]
  },
  {
   "cell_type": "markdown",
   "id": "67a9b2c6",
   "metadata": {},
   "source": [
    "#### [DLCModel](#TableOfContents) <a id='DLCModel1'></a>\n",
    "\n",
    "Next we'll populate the `DLCModel` table, which holds all the relevant\n",
    "information for all trained models.\n",
    "\n",
    "First, we'll need to determine a set of parameters for our model to select the\n",
    "correct model file. Here is the default:\n"
   ]
  },
  {
   "cell_type": "code",
   "execution_count": null,
   "id": "bb663861",
   "metadata": {},
   "outputs": [],
   "source": [
    "sgp.DLCModelParams.get_default()"
   ]
  },
  {
   "cell_type": "markdown",
   "id": "8b45a6ed",
   "metadata": {},
   "source": [
    "Here is the syntax to add your own parameter set:\n",
    "\n",
    "```python\n",
    "dlc_model_params_name = \"make_this_yours\"\n",
    "params = {\n",
    "    \"params\": {},\n",
    "    \"shuffle\": 1,\n",
    "    \"trainingsetindex\": 0,\n",
    "    \"model_prefix\": \"\",\n",
    "}\n",
    "sgp.DLCModelParams.insert1(\n",
    "    {\"dlc_model_params_name\": dlc_model_params_name, \"params\": params},\n",
    "    skip_duplicates=True,\n",
    ")\n",
    "```\n"
   ]
  },
  {
   "cell_type": "markdown",
   "id": "7bce9696",
   "metadata": {},
   "source": [
    "We can insert sets of parameters into `DLCModelSelection` and populate\n",
    "`DLCModel`.\n"
   ]
  },
  {
   "cell_type": "code",
   "execution_count": null,
   "id": "eaa23fab",
   "metadata": {},
   "outputs": [],
   "source": [
    "temp_model_key = (sgp.DLCModelSource & model_training_key).fetch1(\"KEY\")"
   ]
  },
  {
   "cell_type": "code",
   "execution_count": null,
   "id": "4e418eba",
   "metadata": {},
   "outputs": [],
   "source": [
    "# comment these lines out after successfully inserting, for each project\n",
    "sgp.DLCModelSelection().insert1(\n",
    "    {**temp_model_key, \"dlc_model_params_name\": \"default\"}, skip_duplicates=True\n",
    ")"
   ]
  },
  {
   "cell_type": "code",
   "execution_count": null,
   "id": "ccae03bb",
   "metadata": {},
   "outputs": [],
   "source": [
    "model_key = (sgp.DLCModelSelection & temp_model_key).fetch1(\"KEY\")\n",
    "sgp.DLCModel.populate(model_key)"
   ]
  },
  {
   "cell_type": "markdown",
   "id": "f8f1b839",
   "metadata": {},
   "source": [
    "Again, let's make sure that everything looks correct in `DLCModel`.\n"
   ]
  },
  {
   "cell_type": "code",
   "execution_count": null,
   "id": "c39f72ca",
   "metadata": {},
   "outputs": [],
   "source": [
    "sgp.DLCModel() & model_key"
   ]
  },
  {
   "cell_type": "markdown",
   "id": "53ce4ee4",
   "metadata": {},
   "source": [
    "#### [DLCPoseEstimation](#TableOfContents) <a id='DLCPoseEstimation1'></a>\n",
    "\n",
    "Alright, now that we've trained model and populated the `DLCModel` table, we're ready to set-up Pose Estimation on a behavioral video of your choice.<br><br>For this tutorial, you can choose to use an epoch of your choice, we can also use the one specified below. If you'd like to use your own video, just specify the `nwb_file_name` and `epoch` number and make sure it's in the `VideoFile` table!\n"
   ]
  },
  {
   "cell_type": "code",
   "execution_count": null,
   "id": "fc2a8dab-7caf-4389-8494-9158d2ec5b20",
   "metadata": {},
   "outputs": [],
   "source": [
    "nwb_file_name = \"J1620210604_.nwb\"\n",
    "sgc.VideoFile() & {\"nwb_file_name\": nwb_file_name}"
   ]
  },
  {
   "cell_type": "code",
   "execution_count": null,
   "id": "4140ece8",
   "metadata": {},
   "outputs": [],
   "source": [
    "epoch = 14  # change based on VideoFile entry\n",
    "video_file_num = 0  # change based on VideoFile entry"
   ]
  },
  {
   "cell_type": "markdown",
   "id": "0f26a081-859d-4dff-bb58-84cec2ff4b3f",
   "metadata": {},
   "source": [
    "Using `insert_estimation_task` will convert out video to be in .mp4 format (DLC\n",
    "struggles with .h264) and determine the directory in which we'll store the pose\n",
    "estimation results.\n",
    "\n",
    "- `task_mode` (trigger or load) determines whether or not populating\n",
    "  `DLCPoseEstimation` triggers a new pose estimation, or loads an existing.\n",
    "- `gputouse` was already set during training. It may be a good idea to make sure\n",
    "  that core is still free before moving forward.\n"
   ]
  },
  {
   "cell_type": "markdown",
   "id": "e60eb2fc",
   "metadata": {},
   "source": [
    "The `DLCPoseEstimationSelection` insertion step will convert your .h264 video to an .mp4 first and save it in `/nimbus/deeplabcut/video`. If this video already exists here, the insertion will never complete.\n",
    "\n",
    "We first delete any .mp4 that exists for this video from the nimbus folder.\n",
    "Remove the `#` to run this line. The `!` tells the notebook that this is\n",
    "a system command to be run with a shell script instead of python.\n",
    "Be sure to change the string based on date and rat with which you are training the model\n"
   ]
  },
  {
   "cell_type": "code",
   "execution_count": null,
   "id": "9df5644f-febc-49d7-a60d-6991798c20d7",
   "metadata": {},
   "outputs": [],
   "source": [
    "key = {\"nwb_file_name\": nwb_file_name,\n",
    "       \"epoch\": epoch,\n",
    "       \"video_file_num\": video_file_num,\n",
    "       **model_key,\n",
    "       }\n",
    "        \n",
    "dlc_pose_estimation = sgp.DLCPoseEstimationSelection()  # Create an instance\n",
    "\n",
    "pose_estimation_key = dlc_pose_estimation.insert_estimation_task(\n",
    "    key,\n",
    "    task_mode=\"trigger\", #trigger or load\n",
    "    params={\"gputouse\": gputouse, \"videotype\": \"mp4\"},\n",
    "    )"
   ]
  },
  {
   "cell_type": "markdown",
   "id": "d19390eb",
   "metadata": {},
   "source": [
    "If the above insertion step fails in either trigger or load mode for an epoch, run the following lines:\n",
    "\n",
    "```\n",
    "(pose_estimation_key = dlc_pose_estimation.insert_estimation_task(\n",
    "    key,\n",
    "    task_mode=\"trigger\", #trigger or load\n",
    "    params={\"gputouse\": gputouse, \"videotype\": \"mp4\"},\n",
    "    )).delete()\n",
    "```\n"
   ]
  },
  {
   "cell_type": "markdown",
   "id": "5feb2a26-fae1-41ca-828f-cc6c73ebd24e",
   "metadata": {},
   "source": [
    "And now we populate `DLCPoseEstimation`! This might take some time for full datasets.\n"
   ]
  },
  {
   "cell_type": "code",
   "execution_count": null,
   "id": "88f28ecc-d3a4-40f9-a1fb-afb4bdd04497",
   "metadata": {},
   "outputs": [],
   "source": [
    "sgp.DLCPoseEstimation().populate(pose_estimation_key)"
   ]
  },
  {
   "cell_type": "markdown",
   "id": "88757488-cfa4-4e7c-b965-7dacac43810a",
   "metadata": {},
   "source": [
    "Let's visualize the output from Pose Estimation\n"
   ]
  },
  {
   "cell_type": "code",
   "execution_count": null,
   "id": "45dd4f3b-7bf4-41b7-be5f-820fe3ee9f69",
   "metadata": {},
   "outputs": [],
   "source": [
    "(sgp.DLCPoseEstimation() & pose_estimation_key).fetch_dataframe()"
   ]
  },
  {
   "cell_type": "markdown",
   "id": "52f45ab3-9344-4975-b5ff-f80a5727cdac",
   "metadata": {},
   "source": [
    "#### [DLCSmoothInterp](#TableOfContents) <a id='DLCSmoothInterp1'></a>\n"
   ]
  },
  {
   "cell_type": "markdown",
   "id": "0ccd5dbe-097a-4138-a234-da78a5902684",
   "metadata": {},
   "source": [
    "Now that we've completed pose estimation, it's time to identify NaNs and optionally interpolate over low likelihood periods and smooth the resulting positions.<br>First we need to define some parameters for smoothing and interpolation. We can see the default parameter set below.<br>**Note**: it is recommended to use the `just_nan` parameters here and save interpolation and smoothing for the centroid step as this provides for a better end result.\n"
   ]
  },
  {
   "cell_type": "code",
   "execution_count": null,
   "id": "f6e44a34-8d6d-4206-b02a-9ca38a68f1c0",
   "metadata": {},
   "outputs": [],
   "source": [
    "# The default parameter set to interpolate and smooth over each LED individually\n",
    "print(sgp.DLCSmoothInterpParams.get_default())"
   ]
  },
  {
   "cell_type": "code",
   "execution_count": null,
   "id": "3bc4f13c",
   "metadata": {},
   "outputs": [],
   "source": [
    "# The just_nan parameter set that identifies NaN indices and leaves smoothing and interpolation to the centroid step\n",
    "print(sgp.DLCSmoothInterpParams.get_nan_params())\n",
    "si_params_name = \"just_nan\"  # could also use \"default\""
   ]
  },
  {
   "cell_type": "markdown",
   "id": "a245c9e5-e8f6-4c6f-b9e1-d71ab3e06d59",
   "metadata": {},
   "source": [
    "To change any of these parameters, one would do the following:\n",
    "\n",
    "```python\n",
    "si_params_name = \"your_unique_param_name\"\n",
    "params = {\n",
    "    \"smoothing_params\": {\n",
    "        \"smoothing_duration\": 0.00,\n",
    "        \"smooth_method\": \"moving_avg\",\n",
    "    },\n",
    "    \"interp_params\": {\"likelihood_thresh\": 0.00},\n",
    "    \"max_plausible_speed\": 0,\n",
    "    \"speed_smoothing_std_dev\": 0.000,\n",
    "}\n",
    "sgp.DLCSmoothInterpParams().insert1(\n",
    "    {\"dlc_si_params_name\": si_params_name, \"params\": params},\n",
    "    skip_duplicates=True,\n",
    ")\n",
    "```\n"
   ]
  },
  {
   "cell_type": "markdown",
   "id": "8139036e-ce7e-41ec-be78-aa15a4b0b795",
   "metadata": {},
   "source": [
    "We'll create a dictionary with the correct set of keys for the `DLCSmoothInterpSelection` table\n"
   ]
  },
  {
   "cell_type": "code",
   "execution_count": null,
   "id": "ec730b91-a974-4f54-9d55-35f52e08487f",
   "metadata": {},
   "outputs": [],
   "source": [
    "si_key = pose_estimation_key.copy()\n",
    "fields = list(sgp.DLCSmoothInterpSelection.fetch().dtype.fields.keys())\n",
    "si_key = {key: val for key, val in si_key.items() if key in fields}\n",
    "si_key"
   ]
  },
  {
   "cell_type": "markdown",
   "id": "9a47a6de-51ff-4980-b105-42a75ef7f7a3",
   "metadata": {},
   "source": [
    "We can insert all of the bodyparts we want to process into `DLCSmoothInterpSelection`<br>\n",
    "First lets visualize the bodyparts we have available to us.<br>\n"
   ]
  },
  {
   "cell_type": "code",
   "execution_count": null,
   "id": "6e5fcad0-e211-4bd7-82b1-d69bec0eb3d7",
   "metadata": {},
   "outputs": [],
   "source": [
    "print((sgp.DLCPoseEstimation.BodyPart & pose_estimation_key).fetch(\"bodypart\"))"
   ]
  },
  {
   "cell_type": "markdown",
   "id": "7c6e3ad2-1960-43cd-a223-784c08211013",
   "metadata": {},
   "source": [
    "We can use `insert1` to insert a single bodypart, but would suggest using `insert` to insert a list of keys with different bodyparts.\n"
   ]
  },
  {
   "cell_type": "markdown",
   "id": "1a93ba8d",
   "metadata": {},
   "source": [
    "To insert a single bodypart, one would do the following:\n",
    "\n",
    "```python\n",
    "sgp.DLCSmoothInterpSelection.insert1(\n",
    "    {\n",
    "        **si_key,\n",
    "        'bodypart': 'greenLED',\n",
    "        'dlc_si_params_name': si_params_name,\n",
    "    },\n",
    "    skip_duplicates=True)\n",
    "```\n"
   ]
  },
  {
   "cell_type": "markdown",
   "id": "3e2f73cd-2534-40a2-86e6-948ccd902812",
   "metadata": {},
   "source": [
    "We'll see a list of bodyparts and then insert them into `DLCSmoothInterpSelection`.\n"
   ]
  },
  {
   "cell_type": "code",
   "execution_count": null,
   "id": "819e826d-38ef-4219-8d52-5353c6b4b61a",
   "metadata": {},
   "outputs": [],
   "source": [
    "bodyparts = [\"greenLED\", \"redLED_C\"]\n",
    "sgp.DLCSmoothInterpSelection.insert(\n",
    "    [\n",
    "        {\n",
    "            **si_key,\n",
    "            \"bodypart\": bodypart,\n",
    "            \"dlc_si_params_name\": si_params_name,\n",
    "        }\n",
    "        for bodypart in bodyparts\n",
    "    ],\n",
    "    skip_duplicates=True,\n",
    ")"
   ]
  },
  {
   "cell_type": "markdown",
   "id": "6dca5640-3e9a-42b7-bc61-7f3e1a219619",
   "metadata": {},
   "source": [
    "And verify the entry:\n"
   ]
  },
  {
   "cell_type": "code",
   "execution_count": null,
   "id": "3b347b29-1583-4fbc-9b35-8e062b611d59",
   "metadata": {},
   "outputs": [],
   "source": [
    "sgp.DLCSmoothInterpSelection() & si_key"
   ]
  },
  {
   "cell_type": "markdown",
   "id": "af8f0d26-3879-4f50-a076-e60685028083",
   "metadata": {},
   "source": [
    "Now, we populate `DLCSmoothInterp`, which will perform smoothing and\n",
    "interpolation on all of the bodyparts specified.\n"
   ]
  },
  {
   "cell_type": "code",
   "execution_count": null,
   "id": "9bf16c32-0f5e-4cd2-b814-56745e836599",
   "metadata": {},
   "outputs": [],
   "source": [
    "sgp.DLCSmoothInterp().populate(si_key)"
   ]
  },
  {
   "cell_type": "markdown",
   "id": "3d3af0a2-16cc-43dc-af9c-0ec606cfe1e1",
   "metadata": {},
   "source": [
    "And let's visualize the resulting position data using a scatter plot\n"
   ]
  },
  {
   "cell_type": "code",
   "execution_count": null,
   "id": "ced96b05-e6dc-4771-bfb8-bcbddfb8e494",
   "metadata": {},
   "outputs": [],
   "source": [
    "(\n",
    "    sgp.DLCSmoothInterp() & {**si_key, \"bodypart\": bodyparts[0]}\n",
    ").fetch1_dataframe().plot.scatter(x=\"x\", y=\"y\", s=1, figsize=(5, 5))"
   ]
  },
  {
   "cell_type": "markdown",
   "id": "a838e4c4-8ff9-4b73-aee5-00eb91ea899f",
   "metadata": {},
   "source": [
    "#### [DLCSmoothInterpCohort](#TableOfContents) <a id='DLCSmoothInterpCohort1'></a>\n"
   ]
  },
  {
   "cell_type": "markdown",
   "id": "3cf3d882-2c24-46ca-bfcc-72f21712e47b",
   "metadata": {},
   "source": [
    "After smoothing/interpolation, we need to select bodyparts from which we want to\n",
    "derive a centroid and orientation, which is performed by the\n",
    "`DLCSmoothInterpCohort` table.\n"
   ]
  },
  {
   "cell_type": "markdown",
   "id": "5017fd46-2bb9-4349-981b-f9789ffec338",
   "metadata": {},
   "source": [
    "First, let's make a key that represents the 'cohort', using\n",
    "`dlc_si_cohort_selection_name`. We'll need a bodypart dictionary using bodypart\n",
    "keys and smoothing/interpolation parameters used as value.\n"
   ]
  },
  {
   "cell_type": "code",
   "execution_count": null,
   "id": "92fb1af9-20cf-46d9-a518-a7f551334bc8",
   "metadata": {},
   "outputs": [],
   "source": [
    "cohort_key = si_key.copy()\n",
    "if \"bodypart\" in cohort_key:\n",
    "    del cohort_key[\"bodypart\"]\n",
    "if \"dlc_si_params_name\" in cohort_key:\n",
    "    del cohort_key[\"dlc_si_params_name\"]\n",
    "cohort_key[\"dlc_si_cohort_selection_name\"] = \"green_red_led\"\n",
    "cohort_key[\"bodyparts_params_dict\"] = {\n",
    "    \"greenLED\": si_params_name,\n",
    "    \"redLED_C\": si_params_name,\n",
    "}\n",
    "print(cohort_key)"
   ]
  },
  {
   "cell_type": "markdown",
   "id": "11c6a327-d4b0-4de1-a2c6-10a0443a3f96",
   "metadata": {},
   "source": [
    "We'll insert the cohort into `DLCSmoothInterpCohortSelection` and populate `DLCSmoothInterpCohort`, which collates the separately smoothed and interpolated bodyparts into a single entry.\n"
   ]
  },
  {
   "cell_type": "code",
   "execution_count": null,
   "id": "805f55c1-3c7b-4cf9-bdd7-98743810c671",
   "metadata": {},
   "outputs": [],
   "source": [
    "sgp.DLCSmoothInterpCohortSelection().insert1(cohort_key, skip_duplicates=True)\n",
    "sgp.DLCSmoothInterpCohort.populate(cohort_key)"
   ]
  },
  {
   "cell_type": "markdown",
   "id": "a6b7d361-47c5-4748-ac59-f51b897f7fe6",
   "metadata": {},
   "source": [
    "And verify the entry:\n"
   ]
  },
  {
   "cell_type": "code",
   "execution_count": null,
   "id": "e7672b63-6dfc-46db-b8df-95c1e6730b6c",
   "metadata": {},
   "outputs": [],
   "source": [
    "sgp.DLCSmoothInterpCohort.BodyPart() & cohort_key"
   ]
  },
  {
   "cell_type": "markdown",
   "id": "d871bdca-2278-43ec-a70c-52257ad26170",
   "metadata": {},
   "source": [
    "#### [DLCCentroid](#TableOfContents) <a id='DLCCentroid1'></a>\n"
   ]
  },
  {
   "cell_type": "markdown",
   "id": "4cc37edb-fdd3-4a05-8cd5-91f3c5f7cbbb",
   "metadata": {},
   "source": [
    "With this cohort, we can determine a centroid using another set of parameters.\n"
   ]
  },
  {
   "cell_type": "code",
   "execution_count": null,
   "id": "4e31c8db-0396-475a-af71-ae38433d2b7d",
   "metadata": {},
   "outputs": [],
   "source": [
    "# Here is the default set\n",
    "print(sgp.DLCCentroidParams.get_default())\n",
    "centroid_params_name = \"default\""
   ]
  },
  {
   "cell_type": "markdown",
   "id": "852948f7-e743-4319-be6b-265dadfca713",
   "metadata": {},
   "source": [
    "Here is the syntax to add your own parameters:\n",
    "\n",
    "```python\n",
    "centroid_params = {\n",
    "    \"centroid_method\": \"two_pt_centroid\",\n",
    "    \"points\": {\n",
    "        \"greenLED\": \"greenLED\",\n",
    "        \"redLED_C\": \"redLED_C\",\n",
    "    },\n",
    "    \"speed_smoothing_std_dev\": 0.100,\n",
    "}\n",
    "centroid_params_name = \"your_unique_param_name\"\n",
    "sgp.DLCCentroidParams.insert1(\n",
    "    {\n",
    "        \"dlc_centroid_params_name\": centroid_params_name,\n",
    "        \"params\": centroid_params,\n",
    "    },\n",
    "    skip_duplicates=True,\n",
    ")\n",
    "```\n"
   ]
  },
  {
   "cell_type": "markdown",
   "id": "85ad4e53-43dd-4e05-84c4-7d4504766746",
   "metadata": {},
   "source": [
    "We'll make a key to insert into `DLCCentroidSelection`.\n"
   ]
  },
  {
   "cell_type": "code",
   "execution_count": null,
   "id": "28ac17cb-4bb3-47b2-b1b9-1c4b37797591",
   "metadata": {},
   "outputs": [],
   "source": [
    "centroid_key = cohort_key.copy()\n",
    "fields = list(sgp.DLCCentroidSelection.fetch().dtype.fields.keys())\n",
    "centroid_key = {key: val for key, val in centroid_key.items() if key in fields}\n",
    "centroid_key[\"dlc_centroid_params_name\"] = centroid_params_name\n",
    "print(centroid_key)"
   ]
  },
  {
   "cell_type": "markdown",
   "id": "2674c0d3-d3fd-4cd9-a843-260c442c2d23",
   "metadata": {},
   "source": [
    "After inserting into the selection table, we can populate `DLCCentroid`\n"
   ]
  },
  {
   "cell_type": "code",
   "execution_count": null,
   "id": "47fccef4-2fef-4f74-b7a4-8564328b14d4",
   "metadata": {},
   "outputs": [],
   "source": [
    "sgp.DLCCentroidSelection.insert1(centroid_key, skip_duplicates=True)\n",
    "sgp.DLCCentroid.populate(centroid_key)"
   ]
  },
  {
   "cell_type": "markdown",
   "id": "6e49c5ad-909f-4f1a-a156-f8f8a84fb78a",
   "metadata": {},
   "source": [
    "Here we can visualize the resulting centroid position\n"
   ]
  },
  {
   "cell_type": "code",
   "execution_count": null,
   "id": "29e7e447-fa6f-4f06-9ec9-4b9838b7255e",
   "metadata": {},
   "outputs": [],
   "source": [
    "(sgp.DLCCentroid() & centroid_key).fetch1_dataframe().plot.scatter(\n",
    "    x=\"position_x\",\n",
    "    y=\"position_y\",\n",
    "    c=\"speed\",\n",
    "    colormap=\"viridis\",\n",
    "    alpha=0.5,\n",
    "    s=0.5,\n",
    "    figsize=(10, 10),\n",
    ")"
   ]
  },
  {
   "cell_type": "markdown",
   "id": "cb513a9d-5250-404c-8887-639f785516c7",
   "metadata": {},
   "source": [
    "#### [DLCOrientation](#TableOfContents) <a id='DLCOrientation1'></a>\n"
   ]
  },
  {
   "cell_type": "markdown",
   "id": "509076f0-f0b8-4fd0-8884-32c48ca4a125",
   "metadata": {},
   "source": [
    "We'll now go through a similar process to identify the orientation.\n"
   ]
  },
  {
   "cell_type": "code",
   "execution_count": null,
   "id": "faf244b3-7295-48ed-90ea-cf878e85e122",
   "metadata": {},
   "outputs": [],
   "source": [
    "print(sgp.DLCOrientationParams.get_default())\n",
    "dlc_orientation_params_name = \"default\""
   ]
  },
  {
   "cell_type": "markdown",
   "id": "8ec170be-7a7a-4a20-986c-d055aee1a08b",
   "metadata": {},
   "source": [
    "We'll prune the `cohort_key` we used above and add our `dlc_orientation_params_name` to make it suitable for `DLCOrientationSelection`.\n"
   ]
  },
  {
   "cell_type": "code",
   "execution_count": null,
   "id": "09e4a6cf-472e-43e3-90aa-f7ff7fb9dc72",
   "metadata": {},
   "outputs": [],
   "source": [
    "fields = list(sgp.DLCOrientationSelection.fetch().dtype.fields.keys())\n",
    "orient_key = {key: val for key, val in cohort_key.items() if key in fields}\n",
    "orient_key[\"dlc_orientation_params_name\"] = dlc_orientation_params_name\n",
    "print(orient_key)"
   ]
  },
  {
   "cell_type": "markdown",
   "id": "9406d2de-9b71-4591-82f6-ed53f2d4f220",
   "metadata": {},
   "source": [
    "We'll insert into `DLCOrientationSelection` and populate `DLCOrientation`\n"
   ]
  },
  {
   "cell_type": "code",
   "execution_count": null,
   "id": "f5d23302-02e3-427a-ac35-2f648e3ae674",
   "metadata": {},
   "outputs": [],
   "source": [
    "sgp.DLCOrientationSelection().insert1(orient_key, skip_duplicates=True)\n",
    "sgp.DLCOrientation().populate(orient_key)"
   ]
  },
  {
   "cell_type": "markdown",
   "id": "36f62da0-0cc5-4ffb-b2df-7b68c3f6e268",
   "metadata": {},
   "source": [
    "We can fetch the orientation as a dataframe as quality assurance.\n"
   ]
  },
  {
   "cell_type": "code",
   "execution_count": null,
   "id": "c5eba7f4-0b32-486a-894a-c97404c74d2b",
   "metadata": {},
   "outputs": [],
   "source": [
    "(sgp.DLCOrientation() & orient_key).fetch1_dataframe()"
   ]
  },
  {
   "cell_type": "markdown",
   "id": "dc75aeaf-018a-46ed-83a8-6603ae100791",
   "metadata": {},
   "source": [
    "#### [DLCPosV1](#TableOfContents) <a id='DLCPosV1-1'></a>\n"
   ]
  },
  {
   "cell_type": "markdown",
   "id": "21d3f9ba-dc89-4c32-a125-1fa85cd4132d",
   "metadata": {},
   "source": [
    "After processing the position data, we have to do a few table manipulations to standardize various outputs.\n",
    "\n",
    "To summarize, we brought in a pretrained DLC project, used that model to run pose estimation on a new behavioral video, smoothed and interpolated the result, formed a cohort of bodyparts, and determined the centroid and orientation of this cohort.\n",
    "\n",
    "Now we'll populate `DLCPos` with our centroid/orientation entries above.\n"
   ]
  },
  {
   "cell_type": "code",
   "execution_count": null,
   "id": "2a166dd6-3863-4349-97ac-19d7d6a841b4",
   "metadata": {},
   "outputs": [],
   "source": [
    "fields = list(sgp.DLCPosV1.fetch().dtype.fields.keys())\n",
    "dlc_key = {key: val for key, val in centroid_key.items() if key in fields}\n",
    "dlc_key[\"dlc_si_cohort_centroid\"] = centroid_key[\"dlc_si_cohort_selection_name\"]\n",
    "dlc_key[\"dlc_si_cohort_orientation\"] = orient_key[\n",
    "    \"dlc_si_cohort_selection_name\"\n",
    "]\n",
    "dlc_key[\"dlc_orientation_params_name\"] = orient_key[\n",
    "    \"dlc_orientation_params_name\"\n",
    "]\n",
    "print(dlc_key)"
   ]
  },
  {
   "cell_type": "markdown",
   "id": "551e4c5e-7c32-46b0-a138-80064a212fbe",
   "metadata": {},
   "source": [
    "Now we can insert into `DLCPosSelection` and populate `DLCPos` with our `dlc_key`\n"
   ]
  },
  {
   "cell_type": "code",
   "execution_count": null,
   "id": "7d7badff-0ad7-48cf-aef6-a4f55df8ded9",
   "metadata": {},
   "outputs": [],
   "source": [
    "sgp.DLCPosSelection().insert1(dlc_key, skip_duplicates=True)\n",
    "sgp.DLCPosV1().populate(dlc_key)"
   ]
  },
  {
   "cell_type": "markdown",
   "id": "412f1cff-2ead-4489-8a10-9fa7a5d33292",
   "metadata": {},
   "source": [
    "We can also make sure that all of our data made it through by fetching the dataframe attached to this entry.<br>We should expect 8 columns:\n",
    "\n",
    "> time<br>video_frame_ind<br>position_x<br>position_y<br>orientation<br>velocity_x<br>velocity_y<br>speed\n"
   ]
  },
  {
   "cell_type": "code",
   "execution_count": null,
   "id": "853db96b-1cd4-4ff6-91ea-aca7f7d3851d",
   "metadata": {},
   "outputs": [],
   "source": [
    "(sgp.DLCPosV1() & dlc_key).fetch1_dataframe()"
   ]
  },
  {
   "cell_type": "markdown",
   "id": "2d8623a8-1725-4e02-b1a2-d2f993988102",
   "metadata": {},
   "source": [
    "And even more, we can fetch the `pose_eval_result` that is calculated during this step. This field contains the percentage of frames that each bodypart was below the likelihood threshold of 0.95 as a means of assessing the quality of the pose estimation.\n"
   ]
  },
  {
   "cell_type": "code",
   "execution_count": null,
   "id": "d4f06244-9d59-44d4-bcbb-062809b3ea6e",
   "metadata": {},
   "outputs": [],
   "source": [
    "(sgp.DLCPosV1() & dlc_key).fetch1(\"pose_eval_result\")"
   ]
  },
  {
   "cell_type": "markdown",
   "id": "b2303147-3657-479c-8f72-b3fc6905a596",
   "metadata": {},
   "source": [
    "#### [DLCPosVideo](#TableOfContents) <a id='DLCPosVideo1'></a>\n"
   ]
  },
  {
   "cell_type": "markdown",
   "id": "af0b081d-f619-4c38-ba48-6ae1c0c5ff2b",
   "metadata": {},
   "source": [
    "We can create a video with the centroid and orientation overlaid on the original\n",
    "video. This will also plot the likelihood of each bodypart used in the cohort.\n",
    "This is optional, but a good quality assurance step.\n"
   ]
  },
  {
   "cell_type": "code",
   "execution_count": null,
   "id": "0a725c08-a616-43a0-8925-4a82bf872ba3",
   "metadata": {},
   "outputs": [],
   "source": [
    "sgp.DLCPosVideoParams.insert_default()"
   ]
  },
  {
   "cell_type": "code",
   "execution_count": null,
   "id": "84e2f782-ba45-487a-8e8f-e80dd33d9c31",
   "metadata": {},
   "outputs": [],
   "source": [
    "params = {\n",
    "    \"percent_frames\": 0.05,\n",
    "    \"incl_likelihood\": True,\n",
    "}\n",
    "sgp.DLCPosVideoParams.insert1(\n",
    "    {\"dlc_pos_video_params_name\": \"five_percent\", \"params\": params},\n",
    "    skip_duplicates=True,\n",
    ")"
   ]
  },
  {
   "cell_type": "code",
   "execution_count": null,
   "id": "5758e2fc-13e6-46cb-9a93-ae1b4c1f4741",
   "metadata": {},
   "outputs": [],
   "source": [
    "sgp.DLCPosVideoSelection.insert1(\n",
    "    {**dlc_key, \"dlc_pos_video_params_name\": \"five_percent\"},\n",
    "    skip_duplicates=True,\n",
    ")"
   ]
  },
  {
   "cell_type": "code",
   "execution_count": null,
   "id": "2887c0a5-77c8-421e-935e-0692f3f1fd68",
   "metadata": {},
   "outputs": [],
   "source": [
    "sgp.DLCPosVideo().populate(dlc_key)"
   ]
  },
  {
   "cell_type": "markdown",
   "id": "04d1dca8",
   "metadata": {},
   "source": [
    "<details><summary>On editing parameters</summary>\n",
    "\n",
    "The presence of existing parameters in many tables makes it easy to tweak them \n",
    "for your needs. You can fetch, edit, and re-insert new params - but the process\n",
    "will look a little different if the table has a `=BLOB=` field.\n",
    "\n",
    "(These example assumes only one primary key. If multiple, `{'primary_key': 'x'}`\n",
    "and `['primary_key']` will need to be adjusted accordingly.)\n",
    "\n",
    "No blob means that all parameters are fields in the table.\n",
    "\n",
    "```python\n",
    "existing_params = (MyParamsTable & {'primary_key':'x'}).fetch1()\n",
    "new_params = {**existing_params, 'primary_key': 'y', 'my_variable': 'a', 'other_variable':'b'}\n",
    "MyParamsTable.insert1(new_params)\n",
    "```\n",
    "\n",
    "A blob means that the params are stored as an embedded dictionary. We'll assume\n",
    "this column is called `params`\n",
    "\n",
    "```python\n",
    "existing_params = (MyParamsTable & {'primary_key':'x'}).fetch1()\n",
    "new_params = {**existing_params, 'primary_key': 'y'}\n",
    "print(existing_params['params']) # check existing values\n",
    "new_params['params'] = {**existing_params['params'], 'my_variable': 'a', 'other_variable':'b'}\n",
    "```\n",
    "\n",
    "</details>"
   ]
  },
  {
   "cell_type": "markdown",
   "id": "5a68bba8-9871-40ac-84c9-51ac0e76d44e",
   "metadata": {},
   "source": [
    "#### [PositionOutput](#TableOfContents) <a id='PositionOutput1'></a>\n"
   ]
  },
  {
   "cell_type": "markdown",
   "id": "25325173-bbaf-4b85-aef6-201384d9933b",
   "metadata": {},
   "source": [
    "`PositionOutput` is the final table of the pipeline and is automatically\n",
    "populated when we populate `DLCPosV1`\n"
   ]
  },
  {
   "cell_type": "code",
   "execution_count": null,
   "id": "59ec40c9-78d8-4edd-8158-be91fb15af3e",
   "metadata": {},
   "outputs": [],
   "source": [
    "sgp.PositionOutput.merge_get_part(dlc_key)"
   ]
  },
  {
   "cell_type": "markdown",
   "id": "c414d9e0-e495-42ef-a8b0-1c7d53aed02e",
   "metadata": {},
   "source": [
    "`PositionOutput` also has a part table, similar to the `DLCModelSource` table above. Let's check that out as well.\n"
   ]
  },
  {
   "cell_type": "code",
   "execution_count": null,
   "id": "50760123-7f09-4a94-a1f7-41a037914fd7",
   "metadata": {},
   "outputs": [],
   "source": [
    "PositionOutput.DLCPosV1() & dlc_key"
   ]
  },
  {
   "cell_type": "code",
   "execution_count": null,
   "id": "c96daaa9-5e70-4a2c-b0a4-c2849e3a1440",
   "metadata": {},
   "outputs": [],
   "source": [
    "(PositionOutput.DLCPosV1() & dlc_key).fetch1_dataframe()"
   ]
  },
  {
   "cell_type": "markdown",
   "id": "be097052-3789-4d55-aca1-e44d426c39b4",
   "metadata": {},
   "source": [
    "### _CONGRATULATIONS!!_\n",
    "\n",
    "Please treat yourself to a nice tea break :-)\n"
   ]
  },
  {
   "cell_type": "markdown",
   "id": "c71c90a2",
   "metadata": {},
   "source": [
    "### [Return To Table of Contents](#TableOfContents)<br>\n"
   ]
  }
 ],
 "metadata": {
  "kernelspec": {
   "display_name": "Python 3 (ipykernel)",
   "language": "python",
   "name": "python3"
  },
  "language_info": {
   "codemirror_mode": {
    "name": "ipython",
    "version": 3
   },
   "file_extension": ".py",
   "mimetype": "text/x-python",
   "name": "python",
   "nbconvert_exporter": "python",
   "pygments_lexer": "ipython3",
   "version": "3.9.16"
  }
 },
 "nbformat": 4,
 "nbformat_minor": 5
}

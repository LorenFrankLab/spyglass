{
 "cells": [
  {
   "cell_type": "markdown",
   "metadata": {
    "tags": []
   },
   "source": [
    "# Concepts\n"
   ]
  },
  {
   "cell_type": "markdown",
   "metadata": {},
   "source": [
    "## Intro\n"
   ]
  },
  {
   "cell_type": "markdown",
   "metadata": {},
   "source": [
    "_Developer Note:_ if you may make a PR in the future, be sure to copy this\n",
    "notebook, and use the `gitignore` prefix `temp` to avoid future conflicts.\n",
    "\n",
    "This is one notebook in a multi-part series on Spyglass. To set up your Spyglass environment and database, see\n",
    "[the Setup notebook](./00_Setup.ipynb)\n",
    "\n",
    "This notebook will introduce foundational concepts that will help in\n",
    "understanding how to work with Spyglass pipelines.\n"
   ]
  },
  {
   "cell_type": "markdown",
   "metadata": {},
   "source": [
    "## Other materials\n",
    "\n",
    "DataJoint is an \"Object-relational mapping\" tool, which means that it gives us\n",
    "a Python object for tables that exist on a shared SQL server. Many Spyglass\n",
    "imports are DataJoint tables like this.\n",
    "\n",
    "Any 'introduction to SQL' will give an overview of relational data models as\n",
    "a primer on how DataJoint tables within Spyglass will interact with one-another,\n",
    "and the ways we can interact with them. A quick primer may help with the\n",
    "specifics ahead.\n",
    "\n",
    "For an overview of DataJoint, including table definitions and inserts, see\n",
    "[DataJoint tutorials](https://github.com/datajoint/datajoint-tutorials)."
   ]
  },
  {
   "cell_type": "markdown",
   "metadata": {},
   "source": [
    "## Common Errors\n",
    "\n",
    "Skip this for now, but refer back if you hit issues.\n",
    "\n",
    "\n",
    "### Integrity\n",
    "\n",
    "```console\n",
    "IntegrityError: Cannot add or update a child row: a foreign key constraint fails (`schema`.`_table`, CONSTRAINT `_table_ibfk_1` FOREIGN KEY (`parent_field`) REFERENCES `other_schema`.`parent_name` (`parent_field`) ON DELETE RESTRICT ON UPDATE CASCADE)\n",
    "```\n",
    "\n",
    "`IntegrityError` during `insert` means that some part of the key you're\n",
    "inserting doesn't exist in the parent of the table you're inserting into. You\n",
    "can explore which that may be by doing the following...\n",
    "\n",
    "```python\n",
    "my_key = dict(value=key)  # whatever you're inserting\n",
    "MyTable.insert1(my_key)  # error here\n",
    "parents = MyTable.parents(as_objects=True)  # get the parents as FreeTables\n",
    "for parent in parents:  # iterate through the parents, with only relevant fields\n",
    "    parent_key = {k: v for k, v in my_key.items() if k in parent.heading.names}\n",
    "    print(parent & parent_key)  # restricted parent\n",
    "```\n",
    "\n",
    "If any of the printed tables are empty, you know you need to insert into that\n",
    "table (or another ancestor up the pipeline) first. This code will not work if\n",
    "there are aliases in the table (i.e., `proj` in the definition). In that case,\n",
    "you'll need to modify your `parent_key` to reflect the renaming.\n",
    "\n",
    "The error message itself will tell you which table is the limiting parent. After\n",
    "`REFERENCES` in the error message, you'll see the parent table and the column\n",
    "that is causing the error.\n",
    "\n",
    "### Permission\n",
    "\n",
    "```console\n",
    "('Insufficient privileges.', \"INSERT command denied to user 'username'@'127.0.0.1' for table '_table_name'\", 'INSERT INTO `schema_name`.`table_name`(`field1`,`field2`) VALUES (%s,%s)')\n",
    "```\n",
    "\n",
    "This is a MySQL error that means that either ...\n",
    "\n",
    "- You don't have access to the command you're trying to run (e.g., `INSERT`)\n",
    "- You don't have access to this command on the schema you're trying to run it on\n",
    "\n",
    "To see what permissions you have, you can run the following ...\n",
    "\n",
    "```python\n",
    "dj.conn().query(\"SHOW GRANTS FOR CURRENT_USER();\").fetchall()\n",
    "```\n",
    "\n",
    "If you think you should have access to the command, you contact your database\n",
    "administrator (e.g., Chris in the Frank Lab). Please share the output of the\n",
    "above command with them.\n",
    "\n",
    "### Type\n",
    "\n",
    "```console\n",
    "TypeError: example_function() got an unexpected keyword argument 'this_arg'\n",
    "```\n",
    "\n",
    "This means that you're calling a function with an argument that it doesn't\n",
    "expect (e.g., `example_function(this_arg=5)`). You can check the function's\n",
    "accepted arguments by running `help(example_function)`.\n",
    "\n",
    "```console\n",
    "TypeError: 'NoneType' object is not iterable\n",
    "```\n",
    "\n",
    "This means that some function is trying to do something with an object of an\n",
    "unexpected type. For example, if might by running `for item in variable: ...`\n",
    "when `variable` is `None`. You can check the type of the variable by going into\n",
    "debug mode and running `type(variable)`.\n",
    "\n",
    "### KeyError\n",
    "\n",
    "```console\n",
    "KeyError: 'field_name'\n",
    "```\n",
    "\n",
    "This means that you're trying to access a key in a dictionary that doesn't\n",
    "exist. You can check the keys of the dictionary by running `variable.keys()`. If\n",
    "this is in your custom code, you can get a key and supply a default value if it\n",
    "doesn't exist by running `variable.get('field_name', default_value)`.\n",
    "\n",
    "### DataJoint\n",
    "\n",
    "```console\n",
    "DataJointError(\"Attempt to delete part table {part} before deleting from its master {master} first.\")\n",
    "```\n",
    "\n",
    "This means that DataJoint's delete process found a part table with a foreign key\n",
    "reference to the data you're trying to delete. You need to find the master table\n",
    "listed and delete from that table first.\n"
   ]
  },
  {
   "cell_type": "markdown",
   "metadata": {},
   "source": [
    "## Debug Mode\n",
    "\n",
    "To fix an error, you may want to enter 'debug mode'. VSCode has a dedicated\n",
    "featureful [extension](https://code.visualstudio.com/docs/python/debugging)\n",
    "for making use of the UI, but you can choose to use Python's built-in tool.\n",
    "\n",
    "To enter into debug mode, you can add the following line to your code ...\n",
    "\n",
    "```python\n",
    "__import__(\"pdb\").set_trace()\n",
    "```\n",
    "\n",
    "This will set a breakpoint in your code at that line. When you run your code, it\n",
    "will pause at that line and you can explore the variables in the current frame.\n",
    "Commands in this mode include ...\n",
    "\n",
    "- `u` and `d` to move up and down the stack\n",
    "- `l` to list the code around the current line\n",
    "- `q` to quit the debugger\n",
    "- `c` to continue running the code\n",
    "- `h` for help, which will list all the commands\n",
    "\n",
    "`ipython` and jupyter notebooks can launch a debugger automatically at the last\n",
    "error by running `%debug`.\n",
    "\n"
   ]
  },
  {
   "cell_type": "markdown",
   "metadata": {},
   "source": [
    "## Up Next\n"
   ]
  },
  {
   "cell_type": "markdown",
   "metadata": {},
   "source": [
    "Next, we'll try [inserting data](./01_Insert_Data.ipynb)"
   ]
  }
 ],
 "metadata": {
  "kernelspec": {
   "display_name": "spy",
   "language": "python",
   "name": "python3"
  },
  "language_info": {
   "codemirror_mode": {
    "name": "ipython",
    "version": 3
   },
   "file_extension": ".py",
   "mimetype": "text/x-python",
   "name": "python",
   "nbconvert_exporter": "python",
   "pygments_lexer": "ipython3",
   "version": "3.9.16"
  }
 },
 "nbformat": 4,
 "nbformat_minor": 4
}

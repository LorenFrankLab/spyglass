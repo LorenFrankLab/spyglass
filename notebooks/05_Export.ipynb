{
 "cells": [
  {
   "cell_type": "markdown",
   "metadata": {
    "tags": []
   },
   "source": [
    "# Export\n"
   ]
  },
  {
   "cell_type": "markdown",
   "metadata": {},
   "source": [
    "## Intro\n"
   ]
  },
  {
   "cell_type": "markdown",
   "metadata": {},
   "source": [
    "_Developer Note:_ if you may make a PR in the future, be sure to copy this\n",
    "notebook, and use the `gitignore` prefix `temp` to avoid future conflicts.\n",
    "\n",
    "This is one notebook in a multi-part series on Spyglass.\n",
    "\n",
    "- To set up your Spyglass environment and database, see\n",
    "  [the Setup notebook](./00_Setup.ipynb)\n",
    "- To insert data, see [the Insert Data notebook](./01_Insert_Data.ipynb)\n",
    "- For additional info on DataJoint syntax, including table definitions and\n",
    "  inserts, see\n",
    "  [these additional tutorials](https://github.com/datajoint/datajoint-tutorials)\n",
    "- For information on what's goint on behind the scenes of an export, see\n",
    "  [documentation](https://lorenfranklab.github.io/spyglass/0.5/misc/export/)\n",
    "\n",
    "In short, Spyglass offers the ability to generate exports of one or more subsets\n",
    "of the database required for a specific analysis as long as you do the following:\n",
    "\n",
    "- Inherit `SpyglassMixin` for all custom tables.\n",
    "- Run only one export at a time.\n",
    "- Start and stop each export logging process.\n",
    "- Do not update Spyglass until the export is complete.\n",
    "\n",
    "<details><summary>How to inherit <code>SpyglassMixin</code></summary>\n",
    "\n",
    "DataJoint tables all inherit from one of the built-in table types.\n",
    "\n",
    "```python\n",
    "class MyTable(dj.Manual):\n",
    "    ...\n",
    "```\n",
    "\n",
    "To inherit the mixin, simply add it to the `()` of the class before the\n",
    "DataJoint class. This can be done for existing tables without dropping them,\n",
    "so long as the change has been made prior to export logging.\n",
    "\n",
    "```python\n",
    "from spyglass.utils import SpyglassMixin\n",
    "class MyTable(SpyglassMixin, dj.Manual):\n",
    "    ...\n",
    "```\n",
    "\n",
    "</details>\n",
    "\n",
    "<details><summary>Why these limitations?</summary>\n",
    "\n",
    "`SpyglassMixin` is what makes this process possible. It uses an environmental\n",
    "variable to make sure all tables are on the same page about the export ID.\n",
    "We get this feature by inheriting, but cannot set more that one value for the \n",
    "environmental variable.\n",
    "\n",
    "The export process was designed with reproducibility in mind, and will export\n",
    "your conda environment to match. We want to be sure that the analysis you run\n",
    "is replicable using the same conda environment.\n",
    "\n",
    "</details>\n",
    "\n",
    "**NOTE:** For demonstration purposes, this notebook relies on a more populated\n",
    "database to highlight restriction merging capabilities of the export process.\n",
    "Adjust the restrictions to suit your own dataset.\n"
   ]
  },
  {
   "cell_type": "markdown",
   "metadata": {},
   "source": [
    "## Imports\n"
   ]
  },
  {
   "cell_type": "markdown",
   "metadata": {},
   "source": [
    "Let's start by connecting to the database and importing some tables that might\n",
    "be used in an analysis.\n"
   ]
  },
  {
   "cell_type": "code",
   "execution_count": 1,
   "metadata": {
    "tags": []
   },
   "outputs": [
    {
     "name": "stderr",
     "output_type": "stream",
     "text": [
      "[2024-10-14 16:47:00,520][INFO]: Connecting root@localhost:3308\n",
      "[2024-10-14 16:47:00,529][INFO]: Connected root@localhost:3308\n"
     ]
    }
   ],
   "source": [
    "import os\n",
    "import datajoint as dj\n",
    "\n",
    "# change to the upper level folder to detect dj_local_conf.json\n",
    "if os.path.basename(os.getcwd()) == \"notebooks\":\n",
    "    os.chdir(\"..\")\n",
    "dj.config.load(\"dj_local_conf.json\")  # load config for database connection info\n",
    "\n",
    "from spyglass.common.common_usage import Export, ExportSelection\n",
    "from spyglass.common.common_ephys import Electrode\n",
    "from spyglass.position.v1 import TrodesPosV1\n",
    "from spyglass.spikesorting.v1.curation import CurationV1"
   ]
  },
  {
   "cell_type": "markdown",
   "metadata": {},
   "source": [
    "## Export Tables\n",
    "\n",
    "The `ExportSelection` table will populate while we conduct the analysis. For\n",
    "each file opened and each `fetch` call, an entry will be logged in one of its\n",
    "part tables.\n"
   ]
  },
  {
   "cell_type": "code",
   "execution_count": 2,
   "metadata": {},
   "outputs": [
    {
     "data": {
      "text/html": [
       "\n",
       "    \n",
       "    <style type=\"text/css\">\n",
       "        .Table{\n",
       "            border-collapse:collapse;\n",
       "        }\n",
       "        .Table th{\n",
       "            background: #A0A0A0; color: #ffffff; padding:4px; border:#f0e0e0 1px solid;\n",
       "            font-weight: normal; font-family: monospace; font-size: 100%;\n",
       "        }\n",
       "        .Table td{\n",
       "            padding:4px; border:#f0e0e0 1px solid; font-size:100%;\n",
       "        }\n",
       "        .Table tr:nth-child(odd){\n",
       "            background: #ffffff;\n",
       "            color: #000000;\n",
       "        }\n",
       "        .Table tr:nth-child(even){\n",
       "            background: #f3f1ff;\n",
       "            color: #000000;\n",
       "        }\n",
       "        /* Tooltip container */\n",
       "        .djtooltip {\n",
       "        }\n",
       "        /* Tooltip text */\n",
       "        .djtooltip .djtooltiptext {\n",
       "            visibility: hidden;\n",
       "            width: 120px;\n",
       "            background-color: black;\n",
       "            color: #fff;\n",
       "            text-align: center;\n",
       "            padding: 5px 0;\n",
       "            border-radius: 6px;\n",
       "            /* Position the tooltip text - see examples below! */\n",
       "            position: absolute;\n",
       "            z-index: 1;\n",
       "        }\n",
       "        #primary {\n",
       "            font-weight: bold;\n",
       "            color: black;\n",
       "        }\n",
       "        #nonprimary {\n",
       "            font-weight: normal;\n",
       "            color: white;\n",
       "        }\n",
       "\n",
       "        /* Show the tooltip text when you mouse over the tooltip container */\n",
       "        .djtooltip:hover .djtooltiptext {\n",
       "            visibility: visible;\n",
       "        }\n",
       "    </style>\n",
       "    \n",
       "    <b></b>\n",
       "        <div style=\"max-height:1000px;max-width:1500px;overflow:auto;\">\n",
       "        <table border=\"1\" class=\"Table\">\n",
       "            <thead> <tr style=\"text-align: right;\"> <th> <div class=\"djtooltip\">\n",
       "                            <p id=\"primary\">export_id</p>\n",
       "                            <span class=\"djtooltiptext\"></span>\n",
       "                        </div></th><th><div class=\"djtooltip\">\n",
       "                            <p id=\"nonprimary\">paper_id</p>\n",
       "                            <span class=\"djtooltiptext\"></span>\n",
       "                        </div></th><th><div class=\"djtooltip\">\n",
       "                            <p id=\"nonprimary\">analysis_id</p>\n",
       "                            <span class=\"djtooltiptext\"></span>\n",
       "                        </div></th><th><div class=\"djtooltip\">\n",
       "                            <p id=\"nonprimary\">spyglass_version</p>\n",
       "                            <span class=\"djtooltiptext\"></span>\n",
       "                        </div></th><th><div class=\"djtooltip\">\n",
       "                            <p id=\"nonprimary\">time</p>\n",
       "                            <span class=\"djtooltiptext\"></span>\n",
       "                        </div> </th> </tr> </thead>\n",
       "            <tbody> <tr> <td>1</td>\n",
       "<td>paper1</td>\n",
       "<td>analysis1</td>\n",
       "<td>0.5.1</td>\n",
       "<td>2024-10-14 21:45:22</td></tr><tr><td>2</td>\n",
       "<td>paper1</td>\n",
       "<td>analysis2</td>\n",
       "<td>0.5.1</td>\n",
       "<td>2024-10-14 21:46:18</td> </tr> </tbody>\n",
       "        </table>\n",
       "        \n",
       "        <p>Total: 2</p></div>\n",
       "        "
      ],
      "text/plain": [
       "*export_id    paper_id     analysis_id    spyglass_versi time          \n",
       "+-----------+ +----------+ +------------+ +------------+ +------------+\n",
       "1             paper1       analysis1      0.5.1          2024-10-14 21:\n",
       "2             paper1       analysis2      0.5.1          2024-10-14 21:\n",
       " (Total: 2)"
      ]
     },
     "execution_count": 2,
     "metadata": {},
     "output_type": "execute_result"
    }
   ],
   "source": [
    "ExportSelection()"
   ]
  },
  {
   "cell_type": "code",
   "execution_count": 3,
   "metadata": {},
   "outputs": [
    {
     "data": {
      "text/html": [
       "\n",
       "    \n",
       "    <style type=\"text/css\">\n",
       "        .Table{\n",
       "            border-collapse:collapse;\n",
       "        }\n",
       "        .Table th{\n",
       "            background: #A0A0A0; color: #ffffff; padding:4px; border:#f0e0e0 1px solid;\n",
       "            font-weight: normal; font-family: monospace; font-size: 100%;\n",
       "        }\n",
       "        .Table td{\n",
       "            padding:4px; border:#f0e0e0 1px solid; font-size:100%;\n",
       "        }\n",
       "        .Table tr:nth-child(odd){\n",
       "            background: #ffffff;\n",
       "            color: #000000;\n",
       "        }\n",
       "        .Table tr:nth-child(even){\n",
       "            background: #f3f1ff;\n",
       "            color: #000000;\n",
       "        }\n",
       "        /* Tooltip container */\n",
       "        .djtooltip {\n",
       "        }\n",
       "        /* Tooltip text */\n",
       "        .djtooltip .djtooltiptext {\n",
       "            visibility: hidden;\n",
       "            width: 120px;\n",
       "            background-color: black;\n",
       "            color: #fff;\n",
       "            text-align: center;\n",
       "            padding: 5px 0;\n",
       "            border-radius: 6px;\n",
       "            /* Position the tooltip text - see examples below! */\n",
       "            position: absolute;\n",
       "            z-index: 1;\n",
       "        }\n",
       "        #primary {\n",
       "            font-weight: bold;\n",
       "            color: black;\n",
       "        }\n",
       "        #nonprimary {\n",
       "            font-weight: normal;\n",
       "            color: white;\n",
       "        }\n",
       "\n",
       "        /* Show the tooltip text when you mouse over the tooltip container */\n",
       "        .djtooltip:hover .djtooltiptext {\n",
       "            visibility: visible;\n",
       "        }\n",
       "    </style>\n",
       "    \n",
       "    <b></b>\n",
       "        <div style=\"max-height:1000px;max-width:1500px;overflow:auto;\">\n",
       "        <table border=\"1\" class=\"Table\">\n",
       "            <thead> <tr style=\"text-align: right;\"> <th> <div class=\"djtooltip\">\n",
       "                            <p id=\"primary\">export_id</p>\n",
       "                            <span class=\"djtooltiptext\"></span>\n",
       "                        </div></th><th><div class=\"djtooltip\">\n",
       "                            <p id=\"primary\">table_id</p>\n",
       "                            <span class=\"djtooltiptext\"></span>\n",
       "                        </div></th><th><div class=\"djtooltip\">\n",
       "                            <p id=\"nonprimary\">table_name</p>\n",
       "                            <span class=\"djtooltiptext\"></span>\n",
       "                        </div></th><th><div class=\"djtooltip\">\n",
       "                            <p id=\"nonprimary\">restriction</p>\n",
       "                            <span class=\"djtooltiptext\"></span>\n",
       "                        </div> </th> </tr> </thead>\n",
       "            <tbody> <tr> <td>1</td>\n",
       "<td>1</td>\n",
       "<td>`common_ephys`.`_electrode`</td>\n",
       "<td>((nwb_file_name LIKE 'min%%'))AND((electrode_id=1))</td></tr><tr><td>1</td>\n",
       "<td>2</td>\n",
       "<td>`common_ephys`.`_electrode`</td>\n",
       "<td>(electrode_id > 125)</td></tr><tr><td>2</td>\n",
       "<td>3</td>\n",
       "<td>`spikesorting_v1_curation`.`curation_v1`</td>\n",
       "<td>(curation_id = 1)</td></tr><tr><td>2</td>\n",
       "<td>4</td>\n",
       "<td>`common_nwbfile`.`analysis_nwbfile`</td>\n",
       "<td>(analysis_file_name in ('minirec20230622_JKTSSFUIL3.nwb'))</td></tr><tr><td>2</td>\n",
       "<td>5</td>\n",
       "<td>`position_v1_trodes_position`.`__trodes_pos_v1`</td>\n",
       "<td>(trodes_pos_params_name = 'single_led')</td></tr><tr><td>2</td>\n",
       "<td>6</td>\n",
       "<td>`common_nwbfile`.`analysis_nwbfile`</td>\n",
       "<td>(analysis_file_name='minirec20230622_JKTSSFUIL3.nwb')</td></tr><tr><td>2</td>\n",
       "<td>7</td>\n",
       "<td>`common_nwbfile`.`nwbfile`</td>\n",
       "<td>(nwb_file_name LIKE '%%minirec20230622_.nwb%%')</td> </tr> </tbody>\n",
       "        </table>\n",
       "        \n",
       "        <p>Total: 7</p></div>\n",
       "        "
      ],
      "text/plain": [
       "*export_id    *table_id    table_name     restriction   \n",
       "+-----------+ +----------+ +------------+ +------------+\n",
       "1             1            `common_ephys` ((nwb_file_nam\n",
       "1             2            `common_ephys` (electrode_id \n",
       "2             3            `spikesorting_ (curation_id =\n",
       "2             4            `common_nwbfil (analysis_file\n",
       "2             5            `position_v1_t (trodes_pos_pa\n",
       "2             6            `common_nwbfil (analysis_file\n",
       "2             7            `common_nwbfil (nwb_file_name\n",
       " (Total: 7)"
      ]
     },
     "execution_count": 3,
     "metadata": {},
     "output_type": "execute_result"
    }
   ],
   "source": [
    "ExportSelection.Table()"
   ]
  },
  {
   "cell_type": "code",
   "execution_count": 4,
   "metadata": {},
   "outputs": [
    {
     "data": {
      "text/html": [
       "\n",
       "    \n",
       "    <style type=\"text/css\">\n",
       "        .Table{\n",
       "            border-collapse:collapse;\n",
       "        }\n",
       "        .Table th{\n",
       "            background: #A0A0A0; color: #ffffff; padding:4px; border:#f0e0e0 1px solid;\n",
       "            font-weight: normal; font-family: monospace; font-size: 100%;\n",
       "        }\n",
       "        .Table td{\n",
       "            padding:4px; border:#f0e0e0 1px solid; font-size:100%;\n",
       "        }\n",
       "        .Table tr:nth-child(odd){\n",
       "            background: #ffffff;\n",
       "            color: #000000;\n",
       "        }\n",
       "        .Table tr:nth-child(even){\n",
       "            background: #f3f1ff;\n",
       "            color: #000000;\n",
       "        }\n",
       "        /* Tooltip container */\n",
       "        .djtooltip {\n",
       "        }\n",
       "        /* Tooltip text */\n",
       "        .djtooltip .djtooltiptext {\n",
       "            visibility: hidden;\n",
       "            width: 120px;\n",
       "            background-color: black;\n",
       "            color: #fff;\n",
       "            text-align: center;\n",
       "            padding: 5px 0;\n",
       "            border-radius: 6px;\n",
       "            /* Position the tooltip text - see examples below! */\n",
       "            position: absolute;\n",
       "            z-index: 1;\n",
       "        }\n",
       "        #primary {\n",
       "            font-weight: bold;\n",
       "            color: black;\n",
       "        }\n",
       "        #nonprimary {\n",
       "            font-weight: normal;\n",
       "            color: white;\n",
       "        }\n",
       "\n",
       "        /* Show the tooltip text when you mouse over the tooltip container */\n",
       "        .djtooltip:hover .djtooltiptext {\n",
       "            visibility: visible;\n",
       "        }\n",
       "    </style>\n",
       "    \n",
       "    <b></b>\n",
       "        <div style=\"max-height:1000px;max-width:1500px;overflow:auto;\">\n",
       "        <table border=\"1\" class=\"Table\">\n",
       "            <thead> <tr style=\"text-align: right;\"> <th> <div class=\"djtooltip\">\n",
       "                            <p id=\"primary\">export_id</p>\n",
       "                            <span class=\"djtooltiptext\"></span>\n",
       "                        </div></th><th><div class=\"djtooltip\">\n",
       "                            <p id=\"primary\">analysis_file_name</p>\n",
       "                            <span class=\"djtooltiptext\">name of the file</span>\n",
       "                        </div> </th> </tr> </thead>\n",
       "            <tbody> <tr> <td>2</td>\n",
       "<td>minirec20230622_JKTSSFUIL3.nwb</td> </tr> </tbody>\n",
       "        </table>\n",
       "        \n",
       "        <p>Total: 1</p></div>\n",
       "        "
      ],
      "text/plain": [
       "*export_id    *analysis_file\n",
       "+-----------+ +------------+\n",
       "2             minirec2023062\n",
       " (Total: 1)"
      ]
     },
     "execution_count": 4,
     "metadata": {},
     "output_type": "execute_result"
    }
   ],
   "source": [
    "ExportSelection.File()"
   ]
  },
  {
   "cell_type": "markdown",
   "metadata": {},
   "source": [
    "Exports are organized around paper and analysis IDs. A single export will be\n",
    "generated for each paper, but we can delete/revise logs for each analysis before\n",
    "running the export. When we're ready, we can run the `populate_paper` method\n",
    "of the `Export` table. By default, export logs will ignore all tables in this\n",
    "`common_usage` schema.\n"
   ]
  },
  {
   "cell_type": "markdown",
   "metadata": {},
   "source": [
    "## Logging\n",
    "\n",
    "There are a few restrictions to keep in mind when export logging:\n",
    "\n",
    "- _ONE_ export at a time. \n",
    "- All tables must inherit `SpyglassMixin`. \n",
    "\n",
    "Let's start logging for 'paper1'.\n"
   ]
  },
  {
   "cell_type": "code",
   "execution_count": 5,
   "metadata": {},
   "outputs": [
    {
     "name": "stderr",
     "output_type": "stream",
     "text": [
      "[16:47:01][INFO] Spyglass: Resuming {'export_id': 1}\n"
     ]
    }
   ],
   "source": [
    "paper_key = {\"paper_id\": \"paper1\"}\n",
    "\n",
    "ExportSelection().start_export(**paper_key, analysis_id=\"analysis1\")\n",
    "my_lfp_data = (\n",
    "    Electrode  # Logging this table\n",
    "    & dj.AndList(\n",
    "        [\n",
    "            \"nwb_file_name LIKE 'min%'\",  # using a string restrictionshared\n",
    "            {\"electrode_id\": 1},  # and a dictionary restriction\n",
    "        ]\n",
    "    )\n",
    ").fetch()"
   ]
  },
  {
   "cell_type": "markdown",
   "metadata": {},
   "source": [
    "**Note**: Compound resrictions (e.g., `Table & a & b`) will be logged separately\n",
    "as `Table & a` or `Table & b`. To fully restrict, use strings (e.g.,\n",
    "`Table & 'a AND b'`) or `dj.AndList([a,b])`."
   ]
  },
  {
   "cell_type": "markdown",
   "metadata": {},
   "source": [
    "We can check that it was logged. The syntax of the restriction will look\n",
    "different from what we see in python, but the `preview_tables` will look\n",
    "familiar.\n"
   ]
  },
  {
   "cell_type": "code",
   "execution_count": 6,
   "metadata": {},
   "outputs": [
    {
     "data": {
      "text/html": [
       "\n",
       "    \n",
       "    <style type=\"text/css\">\n",
       "        .Table{\n",
       "            border-collapse:collapse;\n",
       "        }\n",
       "        .Table th{\n",
       "            background: #A0A0A0; color: #ffffff; padding:4px; border:#f0e0e0 1px solid;\n",
       "            font-weight: normal; font-family: monospace; font-size: 100%;\n",
       "        }\n",
       "        .Table td{\n",
       "            padding:4px; border:#f0e0e0 1px solid; font-size:100%;\n",
       "        }\n",
       "        .Table tr:nth-child(odd){\n",
       "            background: #ffffff;\n",
       "            color: #000000;\n",
       "        }\n",
       "        .Table tr:nth-child(even){\n",
       "            background: #f3f1ff;\n",
       "            color: #000000;\n",
       "        }\n",
       "        /* Tooltip container */\n",
       "        .djtooltip {\n",
       "        }\n",
       "        /* Tooltip text */\n",
       "        .djtooltip .djtooltiptext {\n",
       "            visibility: hidden;\n",
       "            width: 120px;\n",
       "            background-color: black;\n",
       "            color: #fff;\n",
       "            text-align: center;\n",
       "            padding: 5px 0;\n",
       "            border-radius: 6px;\n",
       "            /* Position the tooltip text - see examples below! */\n",
       "            position: absolute;\n",
       "            z-index: 1;\n",
       "        }\n",
       "        #primary {\n",
       "            font-weight: bold;\n",
       "            color: black;\n",
       "        }\n",
       "        #nonprimary {\n",
       "            font-weight: normal;\n",
       "            color: white;\n",
       "        }\n",
       "\n",
       "        /* Show the tooltip text when you mouse over the tooltip container */\n",
       "        .djtooltip:hover .djtooltiptext {\n",
       "            visibility: visible;\n",
       "        }\n",
       "    </style>\n",
       "    \n",
       "    <b></b>\n",
       "        <div style=\"max-height:1000px;max-width:1500px;overflow:auto;\">\n",
       "        <table border=\"1\" class=\"Table\">\n",
       "            <thead> <tr style=\"text-align: right;\"> <th> <div class=\"djtooltip\">\n",
       "                            <p id=\"primary\">export_id</p>\n",
       "                            <span class=\"djtooltiptext\"></span>\n",
       "                        </div></th><th><div class=\"djtooltip\">\n",
       "                            <p id=\"primary\">table_id</p>\n",
       "                            <span class=\"djtooltiptext\"></span>\n",
       "                        </div></th><th><div class=\"djtooltip\">\n",
       "                            <p id=\"nonprimary\">table_name</p>\n",
       "                            <span class=\"djtooltiptext\"></span>\n",
       "                        </div></th><th><div class=\"djtooltip\">\n",
       "                            <p id=\"nonprimary\">restriction</p>\n",
       "                            <span class=\"djtooltiptext\"></span>\n",
       "                        </div> </th> </tr> </thead>\n",
       "            <tbody> <tr> <td>1</td>\n",
       "<td>1</td>\n",
       "<td>`common_ephys`.`_electrode`</td>\n",
       "<td>((nwb_file_name LIKE 'min%%'))AND((electrode_id=1))</td></tr><tr><td>1</td>\n",
       "<td>2</td>\n",
       "<td>`common_ephys`.`_electrode`</td>\n",
       "<td>(electrode_id > 125)</td></tr><tr><td>1</td>\n",
       "<td>8</td>\n",
       "<td>`common_ephys`.`_electrode`</td>\n",
       "<td>((nwb_file_name LIKE 'min%%'))AND((electrode_id=1))</td></tr><tr><td>2</td>\n",
       "<td>3</td>\n",
       "<td>`spikesorting_v1_curation`.`curation_v1`</td>\n",
       "<td>(curation_id = 1)</td></tr><tr><td>2</td>\n",
       "<td>4</td>\n",
       "<td>`common_nwbfile`.`analysis_nwbfile`</td>\n",
       "<td>(analysis_file_name in ('minirec20230622_JKTSSFUIL3.nwb'))</td></tr><tr><td>2</td>\n",
       "<td>5</td>\n",
       "<td>`position_v1_trodes_position`.`__trodes_pos_v1`</td>\n",
       "<td>(trodes_pos_params_name = 'single_led')</td></tr><tr><td>2</td>\n",
       "<td>6</td>\n",
       "<td>`common_nwbfile`.`analysis_nwbfile`</td>\n",
       "<td>(analysis_file_name='minirec20230622_JKTSSFUIL3.nwb')</td></tr><tr><td>2</td>\n",
       "<td>7</td>\n",
       "<td>`common_nwbfile`.`nwbfile`</td>\n",
       "<td>(nwb_file_name LIKE '%%minirec20230622_.nwb%%')</td> </tr> </tbody>\n",
       "        </table>\n",
       "        \n",
       "        <p>Total: 8</p></div>\n",
       "        "
      ],
      "text/plain": [
       "*export_id    *table_id    table_name     restriction   \n",
       "+-----------+ +----------+ +------------+ +------------+\n",
       "1             1            `common_ephys` ((nwb_file_nam\n",
       "1             2            `common_ephys` (electrode_id \n",
       "1             8            `common_ephys` ((nwb_file_nam\n",
       "2             3            `spikesorting_ (curation_id =\n",
       "2             4            `common_nwbfil (analysis_file\n",
       "2             5            `position_v1_t (trodes_pos_pa\n",
       "2             6            `common_nwbfil (analysis_file\n",
       "2             7            `common_nwbfil (nwb_file_name\n",
       " (Total: 8)"
      ]
     },
     "execution_count": 6,
     "metadata": {},
     "output_type": "execute_result"
    }
   ],
   "source": [
    "ExportSelection.Table()"
   ]
  },
  {
   "cell_type": "markdown",
   "metadata": {},
   "source": [
    "If there seem to be redundant entries in this part table, we can ignore them. \n",
    "They'll be merged later during `Export.populate`.\n",
    "\n",
    "Let's log more under the same analysis ...\n"
   ]
  },
  {
   "cell_type": "code",
   "execution_count": 7,
   "metadata": {},
   "outputs": [],
   "source": [
    "my_other_lfp_data = (Electrode & \"electrode_id > 125\").fetch()"
   ]
  },
  {
   "cell_type": "markdown",
   "metadata": {},
   "source": [
    "Since these restrictions are mutually exclusive, we can check that the will\n",
    "be combined appropriately by previewing the logged tables...\n"
   ]
  },
  {
   "cell_type": "code",
   "execution_count": 8,
   "metadata": {},
   "outputs": [
    {
     "data": {
      "text/plain": [
       "[FreeTable(`common_ephys`.`_electrode`)\n",
       " *nwb_file_name *electrode_gro *electrode_id  probe_id       probe_shank    probe_electrod region_id     name     original_refer x       y       z       filtering     impedance     bad_channel    x_warped     y_warped     z_warped     contacts    \n",
       " +------------+ +------------+ +------------+ +------------+ +------------+ +------------+ +-----------+ +------+ +------------+ +-----+ +-----+ +-----+ +-----------+ +-----------+ +------------+ +----------+ +----------+ +----------+ +----------+\n",
       " minirec2023062 0              0              tetrode_12.5   0              0              1             0        0              0.0     0.0     0.0     None          0.0           False          0.0          0.0          0.0                      \n",
       " minirec2023062 0              1              tetrode_12.5   0              1              1             1        0              0.0     0.0     0.0     None          0.0           False          0.0          0.0          0.0                      \n",
       " minirec2023062 0              2              tetrode_12.5   0              2              1             2        0              0.0     0.0     0.0     None          0.0           False          0.0          0.0          0.0                      \n",
       " minirec2023062 0              3              tetrode_12.5   0              3              1             3        0              0.0     0.0     0.0     None          0.0           False          0.0          0.0          0.0                      \n",
       " minirec2023062 31             126            tetrode_12.5   0              2              1             126      0              0.0     0.0     0.0     None          0.0           False          0.0          0.0          0.0                      \n",
       " minirec2023062 31             127            tetrode_12.5   0              3              1             127      0              0.0     0.0     0.0     None          0.0           False          0.0          0.0          0.0                      \n",
       "  (Total: 6),\n",
       " FreeTable(`spikesorting_v1_curation`.`curation_v1`)\n",
       " *sorting_id    *curation_id   parent_curatio analysis_file_ object_id      merges_applied description   \n",
       " +------------+ +------------+ +------------+ +------------+ +------------+ +------------+ +------------+\n",
       " 3b909e6b-9cec- 1              0              minirec2023062 9bcad28e-3b7f- 0              after metric c\n",
       "  (Total: 1),\n",
       " FreeTable(`common_nwbfile`.`analysis_nwbfile`)\n",
       " *analysis_file nwb_file_name  analysis_f analysis_file_ analysis_p\n",
       " +------------+ +------------+ +--------+ +------------+ +--------+\n",
       " minirec2023062 minirec2023062 =BLOB=                    =BLOB=    \n",
       " minirec2023062 minirec2023062 =BLOB=                    =BLOB=    \n",
       "  (Total: 2),\n",
       " FreeTable(`position_v1_trodes_position`.`__trodes_pos_v1`)\n",
       " *nwb_file_name *interval_list *trodes_pos_pa analysis_file_ position_objec orientation_ob velocity_objec\n",
       " +------------+ +------------+ +------------+ +------------+ +------------+ +------------+ +------------+\n",
       " minirec2023062 pos 0 valid ti single_led     minirec2023062 5f48f897-2d13- 06d39e03-51cc- 210c92b5-5719-\n",
       "  (Total: 1),\n",
       " FreeTable(`common_nwbfile`.`nwbfile`)\n",
       " *nwb_file_name nwb_file_a\n",
       " +------------+ +--------+\n",
       " minirec2023062 =BLOB=    \n",
       "  (Total: 1)]"
      ]
     },
     "execution_count": 8,
     "metadata": {},
     "output_type": "execute_result"
    }
   ],
   "source": [
    "ExportSelection().preview_tables(**paper_key)"
   ]
  },
  {
   "cell_type": "markdown",
   "metadata": {},
   "source": [
    "For a more comprehensive view of what would be in the export, you can look at\n",
    "`ExportSelection().show_all_tables(**paper_key)`. This may take some time to\n",
    "generate."
   ]
  },
  {
   "cell_type": "markdown",
   "metadata": {},
   "source": [
    "Let's try adding a new analysis with a fetched nwb file. Starting a new export\n",
    "will stop the previous one.\n"
   ]
  },
  {
   "cell_type": "code",
   "execution_count": 9,
   "metadata": {},
   "outputs": [
    {
     "name": "stderr",
     "output_type": "stream",
     "text": [
      "[16:47:02][INFO] Spyglass: Export 1 in progress. Starting new.\n",
      "[16:47:02][INFO] Spyglass: Resuming {'export_id': 2}\n"
     ]
    }
   ],
   "source": [
    "ExportSelection().start_export(**paper_key, analysis_id=\"analysis2\")\n",
    "curation_nwb = (CurationV1 & \"curation_id = 1\").fetch_nwb()\n",
    "trodes_data = (TrodesPosV1 & 'trodes_pos_params_name = \"single_led\"').fetch()"
   ]
  },
  {
   "cell_type": "markdown",
   "metadata": {},
   "source": [
    "We can check that the right files were logged with the following...\n"
   ]
  },
  {
   "cell_type": "code",
   "execution_count": 10,
   "metadata": {},
   "outputs": [
    {
     "data": {
      "text/plain": [
       "[{'file_path': '/home/cb/wrk/spyglass/tests/_data/raw/minirec20230622_.nwb'},\n",
       " {'file_path': '/home/cb/wrk/spyglass/tests/_data/analysis/minirec20230622/minirec20230622_JKTSSFUIL3.nwb'}]"
      ]
     },
     "execution_count": 10,
     "metadata": {},
     "output_type": "execute_result"
    }
   ],
   "source": [
    "ExportSelection().list_file_paths(paper_key)"
   ]
  },
  {
   "cell_type": "markdown",
   "metadata": {},
   "source": [
    "And stop the export with ...\n"
   ]
  },
  {
   "cell_type": "code",
   "execution_count": 11,
   "metadata": {},
   "outputs": [],
   "source": [
    "ExportSelection().stop_export()"
   ]
  },
  {
   "cell_type": "markdown",
   "metadata": {},
   "source": [
    "## Populate\n",
    "\n",
    "The `Export` table has a `populate_paper` method that will generate an export\n",
    "bash script for the tables required by your analysis, including all the upstream\n",
    "tables you didn't directly need, like `Subject` and `Session`.\n",
    "\n",
    "**NOTE:** Populating the export for a given paper will overwrite any previous\n",
    "runs. For example, if you ran an export, and then added a third analysis for the\n",
    "same paper, generating another export will delete any existing bash script and\n",
    "`Export` table entries for the previous run.\n"
   ]
  },
  {
   "cell_type": "code",
   "execution_count": 12,
   "metadata": {},
   "outputs": [
    {
     "name": "stderr",
     "output_type": "stream",
     "text": [
      "[16:32:51][INFO] Spyglass: Export script written to /home/cb/wrk/alt/data/export/paper1/_ExportSQL_paper1.sh\n"
     ]
    }
   ],
   "source": [
    "Export().populate_paper(**paper_key)"
   ]
  },
  {
   "cell_type": "markdown",
   "metadata": {},
   "source": [
    "By default the export script will be located in an `export` folder within your\n",
    "`SPYGLASS_BASE_DIR`. This default can be changed by adjusting your `dj.config`.\n",
    "\n",
    "Depending on your database's configuration, you may need an admin on your team\n",
    "to run the resulting bash script. This is true of the Frank Lab. Doing so will\n",
    "result will be a `.sql` file that anyone can use to replicate the database\n",
    "entries you used in your analysis.\n"
   ]
  },
  {
   "cell_type": "markdown",
   "metadata": {},
   "source": [
    "## Dandi"
   ]
  },
  {
   "cell_type": "markdown",
   "metadata": {},
   "source": [
    "One benefit of the `Export` table is it provides a list of all raw data,\n",
    "intermediate analysis files, and final analysis files needed to generate a set\n",
    "of figures in a work. To aid in data-sharing standards, we have implemented\n",
    "an optional additional export step with \n",
    "tools to compile and upload this set of files as a Dandi dataset, which can then\n",
    "be used by Spyglass to directly read the data from the Dandi database if not\n",
    "available locally. \n",
    "\n",
    "We will walk through the steps to do so here:\n",
    "1. Upload the data\n",
    "2. Export this table alongside the previous export\n",
    "3. Generate a sharable docker container (Coming soon!)"
   ]
  },
  {
   "cell_type": "markdown",
   "metadata": {},
   "source": [
    "<details>\n",
    "   <summary> Dandi data compliance (admins)</summary>\n",
    "\n",
    "   >__WARNING__: The following describes spyglass utilities that require database admin privileges to run. It involves altering database values to correct for metadata format errors generated prior to spyglass insert. As such it has the potential to violate data integrity and should be used with caution.\n",
    "   >\n",
    "   >The Dandi database has specific formatting standards for metadata and nwb files. If there were violations of this standard in the \n",
    "   raw nwbfile, spyglass will propagate them into all generated analysis files. In this case, running the code below will result in a list of error printouts and an error raised within the `validate_dandiset` function.\n",
    "   >\n",
    "   >To aid in correcting common formatting errors identified with changes in dandi standards, we have included the method \n",
    "   ```\n",
    "   Export().prepare_files_for_export(paper_key)\n",
    "   ```\n",
    "   >which will attempt to resolve these issues for a set of paper files. The code is __not__ guaranteed to address all errors found within the file, but can be used as a template for your specific errors\n",
    "</details>\n",
    "\n",
    "\n"
   ]
  },
  {
   "cell_type": "markdown",
   "metadata": {},
   "source": [
    "### Dandiset Upload"
   ]
  },
  {
   "cell_type": "markdown",
   "metadata": {},
   "source": [
    "The first step you will need to do is to [create a Dandi account](https://docs.dandiarchive.org/16_account/). \n",
    "With this account you can then [register a new dandiset](https://dandiarchive.org/dandiset/create) by providing a name and basic metadata. \n",
    "Dandi's instructions for these steps are available [here](https://docs.dandiarchive.org/13_upload/).\n",
    "\n",
    "The key information you will need from your registration is the `dandiset ID` and your account `api_key`, both of which are available from your registered account.\n",
    "\n",
    "Spyglass can then use this information to compile and upload the dandiset for your paper:"
   ]
  },
  {
   "cell_type": "code",
   "execution_count": 5,
   "metadata": {},
   "outputs": [],
   "source": [
    "from spyglass.common.common_dandi import DandiPath\n",
    "\n",
    "dandiset_id = 214304  # use the value for you registered dandiset\n",
    "dandi_api_key = (\n",
    "    \"xxxxxxxxxxxxxxxxxxxxxxxxxxxx\"  # key connected to your Dandi account\n",
    ")\n",
    "\n",
    "DandiPath().compile_dandiset(\n",
    "    paper_key,\n",
    "    dandiset_id=dandiset_id,\n",
    "    dandi_api_key=dandi_api_key,\n",
    "    dandi_instance=\"dandi\",\n",
    ")  # use dandi_instance=\"dandi-staging\" to use dandi's dev server"
   ]
  },
  {
   "cell_type": "markdown",
   "metadata": {},
   "source": [
    "As well as uploading your dandiset, this function will populate the table `DandiPath` which will record the information needed to access a given analysis file from the Dandi server\n"
   ]
  },
  {
   "cell_type": "code",
   "execution_count": 6,
   "metadata": {},
   "outputs": [
    {
     "data": {
      "text/html": [
       "\n",
       "    \n",
       "    <style type=\"text/css\">\n",
       "        .Table{\n",
       "            border-collapse:collapse;\n",
       "        }\n",
       "        .Table th{\n",
       "            background: #A0A0A0; color: #ffffff; padding:4px; border:#f0e0e0 1px solid;\n",
       "            font-weight: normal; font-family: monospace; font-size: 100%;\n",
       "        }\n",
       "        .Table td{\n",
       "            padding:4px; border:#f0e0e0 1px solid; font-size:100%;\n",
       "        }\n",
       "        .Table tr:nth-child(odd){\n",
       "            background: #ffffff;\n",
       "            color: #000000;\n",
       "        }\n",
       "        .Table tr:nth-child(even){\n",
       "            background: #f3f1ff;\n",
       "            color: #000000;\n",
       "        }\n",
       "        /* Tooltip container */\n",
       "        .djtooltip {\n",
       "        }\n",
       "        /* Tooltip text */\n",
       "        .djtooltip .djtooltiptext {\n",
       "            visibility: hidden;\n",
       "            width: 120px;\n",
       "            background-color: black;\n",
       "            color: #fff;\n",
       "            text-align: center;\n",
       "            padding: 5px 0;\n",
       "            border-radius: 6px;\n",
       "            /* Position the tooltip text - see examples below! */\n",
       "            position: absolute;\n",
       "            z-index: 1;\n",
       "        }\n",
       "        #primary {\n",
       "            font-weight: bold;\n",
       "            color: black;\n",
       "        }\n",
       "        #nonprimary {\n",
       "            font-weight: normal;\n",
       "            color: white;\n",
       "        }\n",
       "\n",
       "        /* Show the tooltip text when you mouse over the tooltip container */\n",
       "        .djtooltip:hover .djtooltiptext {\n",
       "            visibility: visible;\n",
       "        }\n",
       "    </style>\n",
       "    \n",
       "    <b></b>\n",
       "        <div style=\"max-height:1000px;max-width:1500px;overflow:auto;\">\n",
       "        <table border=\"1\" class=\"Table\">\n",
       "            <thead> <tr style=\"text-align: right;\"> <th> <div class=\"djtooltip\">\n",
       "                            <p id=\"primary\">export_id</p>\n",
       "                            <span class=\"djtooltiptext\"></span>\n",
       "                        </div></th><th><div class=\"djtooltip\">\n",
       "                            <p id=\"primary\">file_id</p>\n",
       "                            <span class=\"djtooltiptext\"></span>\n",
       "                        </div></th><th><div class=\"djtooltip\">\n",
       "                            <p id=\"nonprimary\">dandiset_id</p>\n",
       "                            <span class=\"djtooltiptext\"></span>\n",
       "                        </div></th><th><div class=\"djtooltip\">\n",
       "                            <p id=\"nonprimary\">filename</p>\n",
       "                            <span class=\"djtooltiptext\"></span>\n",
       "                        </div></th><th><div class=\"djtooltip\">\n",
       "                            <p id=\"nonprimary\">dandi_path</p>\n",
       "                            <span class=\"djtooltiptext\"></span>\n",
       "                        </div></th><th><div class=\"djtooltip\">\n",
       "                            <p id=\"nonprimary\">dandi_instance</p>\n",
       "                            <span class=\"djtooltiptext\"></span>\n",
       "                        </div> </th> </tr> </thead>\n",
       "            <tbody> <tr> <td>14</td>\n",
       "<td>0</td>\n",
       "<td>214304</td>\n",
       "<td>minirec20230622_4W5BCN5Q1O.nwb</td>\n",
       "<td>sub-54321/sub-54321_ecephys.nwb</td>\n",
       "<td>dandi-staging</td> </tr> </tbody>\n",
       "        </table>\n",
       "        \n",
       "        <p>Total: 1</p></div>\n",
       "        "
      ],
      "text/plain": [
       "*export_id    *file_id    dandiset_id    filename       dandi_path     dandi_instance\n",
       "+-----------+ +---------+ +------------+ +------------+ +------------+ +------------+\n",
       "14            0           214304         minirec2023062 sub-54321/sub- dandi-staging \n",
       " (Total: 1)"
      ]
     },
     "execution_count": 6,
     "metadata": {},
     "output_type": "execute_result"
    }
   ],
   "source": [
    "DandiPath() & {\"export_id\": 14}"
   ]
  },
  {
   "cell_type": "markdown",
   "metadata": {},
   "source": [
    "When fetching data with Spyglass, if a file is not available locally, Syglass\n",
    "will automatically use this information to stream the file from Dandi's server\n",
    " if available, providing an additional method for sharing data with\n",
    " collaborators post-publication."
   ]
  },
  {
   "cell_type": "markdown",
   "metadata": {},
   "source": [
    "### Export Dandi Table\n",
    "\n",
    "Because we generated new entries in this process we may want to share alongside\n",
    "our export, we'll run the additional step of exporting this table as well.\n"
   ]
  },
  {
   "cell_type": "code",
   "execution_count": null,
   "metadata": {},
   "outputs": [],
   "source": [
    "DandiPath().write_mysqldump(paper_key)"
   ]
  },
  {
   "cell_type": "markdown",
   "metadata": {},
   "source": [
    "## Sharing the export\n",
    "\n",
    "The steps above will generate several files in this paper's export directory.\n",
    "By default, this is relative to your Spyglass base directory:\n",
    "`{BASE_DIR}/export/{PAPER_ID}`. \n",
    "\n",
    "The `.sh` files should be run by a database administrator who is familiar with\n",
    "running `mysqldump` commands.\n",
    "\n",
    "<details><summary>Note to administrators</summary>\n",
    "\n",
    "The dump process saves the exporter's credentials as a `.my.cnf` file \n",
    "([about these files](https://dev.mysql.com/doc/refman/8.4/en/option-files.html))\n",
    "to allow running `mysqldump` without additional flags for user, password, etc.\n",
    "\n",
    "If database permissions permit running exports from the instance that runs the\n",
    "exports, you can esure you have a similar `.my.cnf` config in place and run the\n",
    "export shell scripts as-is. Some databases, like the one used by the Frank Lab\n",
    "have protections in place that would require these script(s) to be run from the\n",
    "database instance. Resulting `.sql` files should be placed in the same export\n",
    "directory mentioned above.\n",
    "\n",
    "</details>\n",
    "\n",
    "Then, visit the dockerization repository\n",
    "[here](https://github.com/LorenFrankLab/spyglass-export-docker)\n",
    "and follow the instructions in 'Quick Start'."
   ]
  },
  {
   "cell_type": "markdown",
   "metadata": {},
   "source": [
    "## Up Next\n"
   ]
  },
  {
   "cell_type": "markdown",
   "metadata": {},
   "source": [
    "In the [next notebook](./10_Spike_Sorting.ipynb), we'll start working with\n",
    "ephys data with spike sorting.\n"
   ]
  }
 ],
 "metadata": {
  "kernelspec": {
   "display_name": "spy",
   "language": "python",
   "name": "python3"
  },
  "language_info": {
   "codemirror_mode": {
    "name": "ipython",
    "version": 3
   },
   "file_extension": ".py",
   "mimetype": "text/x-python",
   "name": "python",
   "nbconvert_exporter": "python",
   "pygments_lexer": "ipython3",
   "version": "3.9.20"
  }
 },
 "nbformat": 4,
 "nbformat_minor": 4
}

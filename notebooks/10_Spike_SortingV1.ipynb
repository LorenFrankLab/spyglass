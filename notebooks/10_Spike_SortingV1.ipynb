{
 "cells": [
  {
   "cell_type": "markdown",
   "id": "0cb86657",
   "metadata": {},
   "source": [
    "# Spike Sorting: pipeline version 1"
   ]
  },
  {
   "cell_type": "markdown",
   "id": "5fce5c22-caab-473b-a103-5009a2798d12",
   "metadata": {},
   "source": [
    "This is a tutorial for Spyglass spike sorting pipeline version 1 (V1). This pipeline coexists with [version 0](./10_Spike_SortingV0.ipynb) but differs in that:\n",
    "- it stores more of the intermediate results (e.g. filtered and referenced recording) in the NWB format\n",
    "- it has more streamlined curation pipelines\n",
    "- it uses UUIDs as the primary key for important tables (e.g. `SpikeSorting`) to reduce the number of keys that make up the composite primary key\n",
    "\n",
    "The output of both versions of the pipeline are saved in a [merge table](./03_Merge_Tables.ipynb) called `SpikeSortingOutput`. "
   ]
  },
  {
   "cell_type": "markdown",
   "id": "71c80e78",
   "metadata": {},
   "source": [
    "To start, connect to the database. See instructions in [Setup](./00_Setup.ipynb)."
   ]
  },
  {
   "cell_type": "code",
   "execution_count": null,
   "id": "5778bf96-740c-4e4b-a695-ed4385fc9b58",
   "metadata": {
    "tags": []
   },
   "outputs": [],
   "source": [
    "import os\n",
    "import datajoint as dj\n",
    "import numpy as np\n",
    "\n",
    "# change to the upper level folder to detect dj_local_conf.json\n",
    "if os.path.basename(os.getcwd()) == \"notebooks\":\n",
    "    os.chdir(\"..\")\n",
    "dj.config[\"enable_python_native_blobs\"] = True\n",
    "dj.config.load(\"dj_local_conf.json\")  # load config for database connection info"
   ]
  },
  {
   "cell_type": "markdown",
   "id": "344e01b4",
   "metadata": {},
   "source": [
    "## Insert Data and populate pre-requisite tables"
   ]
  },
  {
   "cell_type": "markdown",
   "id": "84e7c0b5-f660-4304-9b87-08f5bbf4dbac",
   "metadata": {},
   "source": [
    "First, import the pipeline and other necessary modules."
   ]
  },
  {
   "cell_type": "code",
   "execution_count": 2,
   "id": "16345184-c012-486c-b0b6-c914168f2449",
   "metadata": {},
   "outputs": [
    {
     "name": "stderr",
     "output_type": "stream",
     "text": [
      "[2024-03-22 09:25:28,835][INFO]: Connecting sambray@lmf-db.cin.ucsf.edu:3306\n",
      "[2024-03-22 09:25:28,874][INFO]: Connected sambray@lmf-db.cin.ucsf.edu:3306\n"
     ]
    }
   ],
   "source": [
    "import spyglass.common as sgc\n",
    "import spyglass.spikesorting.v1 as sgs\n",
    "import spyglass.data_import as sgi"
   ]
  },
  {
   "cell_type": "markdown",
   "id": "48d2c06a-feb6-438c-94b3-4028127e2101",
   "metadata": {},
   "source": [
    "We will be using `minirec20230622.nwb` as our example. As usual, first insert the NWB file into `Session` (can skip if you have already done so)."
   ]
  },
  {
   "cell_type": "code",
   "execution_count": 3,
   "id": "a3a0ecdf-8dad-41d5-9ee2-fa60f80c746d",
   "metadata": {},
   "outputs": [
    {
     "name": "stderr",
     "output_type": "stream",
     "text": [
      "/home/sambray/Documents/spyglass/src/spyglass/data_import/insert_sessions.py:58: UserWarning: Cannot insert data from minirec20230622.nwb: minirec20230622_.nwb is already in Nwbfile table.\n",
      "  warnings.warn(\n"
     ]
    },
    {
     "data": {
      "text/html": [
       "\n",
       "    \n",
       "    <style type=\"text/css\">\n",
       "        .Table{\n",
       "            border-collapse:collapse;\n",
       "        }\n",
       "        .Table th{\n",
       "            background: #A0A0A0; color: #ffffff; padding:4px; border:#f0e0e0 1px solid;\n",
       "            font-weight: normal; font-family: monospace; font-size: 100%;\n",
       "        }\n",
       "        .Table td{\n",
       "            padding:4px; border:#f0e0e0 1px solid; font-size:100%;\n",
       "        }\n",
       "        .Table tr:nth-child(odd){\n",
       "            background: #ffffff;\n",
       "            color: #000000;\n",
       "        }\n",
       "        .Table tr:nth-child(even){\n",
       "            background: #f3f1ff;\n",
       "            color: #000000;\n",
       "        }\n",
       "        /* Tooltip container */\n",
       "        .djtooltip {\n",
       "        }\n",
       "        /* Tooltip text */\n",
       "        .djtooltip .djtooltiptext {\n",
       "            visibility: hidden;\n",
       "            width: 120px;\n",
       "            background-color: black;\n",
       "            color: #fff;\n",
       "            text-align: center;\n",
       "            padding: 5px 0;\n",
       "            border-radius: 6px;\n",
       "            /* Position the tooltip text - see examples below! */\n",
       "            position: absolute;\n",
       "            z-index: 1;\n",
       "        }\n",
       "        #primary {\n",
       "            font-weight: bold;\n",
       "            color: black;\n",
       "        }\n",
       "        #nonprimary {\n",
       "            font-weight: normal;\n",
       "            color: white;\n",
       "        }\n",
       "\n",
       "        /* Show the tooltip text when you mouse over the tooltip container */\n",
       "        .djtooltip:hover .djtooltiptext {\n",
       "            visibility: visible;\n",
       "        }\n",
       "    </style>\n",
       "    \n",
       "    <b>Table for holding experimental sessions.</b>\n",
       "        <div style=\"max-height:1000px;max-width:1500px;overflow:auto;\">\n",
       "        <table border=\"1\" class=\"Table\">\n",
       "            <thead> <tr style=\"text-align: right;\"> <th> <div class=\"djtooltip\">\n",
       "                            <p id=\"primary\">nwb_file_name</p>\n",
       "                            <span class=\"djtooltiptext\">name of the NWB file</span>\n",
       "                        </div></th><th><div class=\"djtooltip\">\n",
       "                            <p id=\"nonprimary\">subject_id</p>\n",
       "                            <span class=\"djtooltiptext\"></span>\n",
       "                        </div></th><th><div class=\"djtooltip\">\n",
       "                            <p id=\"nonprimary\">institution_name</p>\n",
       "                            <span class=\"djtooltiptext\"></span>\n",
       "                        </div></th><th><div class=\"djtooltip\">\n",
       "                            <p id=\"nonprimary\">lab_name</p>\n",
       "                            <span class=\"djtooltiptext\"></span>\n",
       "                        </div></th><th><div class=\"djtooltip\">\n",
       "                            <p id=\"nonprimary\">session_id</p>\n",
       "                            <span class=\"djtooltiptext\"></span>\n",
       "                        </div></th><th><div class=\"djtooltip\">\n",
       "                            <p id=\"nonprimary\">session_description</p>\n",
       "                            <span class=\"djtooltiptext\"></span>\n",
       "                        </div></th><th><div class=\"djtooltip\">\n",
       "                            <p id=\"nonprimary\">session_start_time</p>\n",
       "                            <span class=\"djtooltiptext\"></span>\n",
       "                        </div></th><th><div class=\"djtooltip\">\n",
       "                            <p id=\"nonprimary\">timestamps_reference_time</p>\n",
       "                            <span class=\"djtooltiptext\"></span>\n",
       "                        </div></th><th><div class=\"djtooltip\">\n",
       "                            <p id=\"nonprimary\">experiment_description</p>\n",
       "                            <span class=\"djtooltiptext\"></span>\n",
       "                        </div> </th> </tr> </thead>\n",
       "            <tbody> <tr> <td>minirec20230622_.nwb</td>\n",
       "<td>54321</td>\n",
       "<td>UCSF</td>\n",
       "<td>Loren Frank Lab</td>\n",
       "<td>12345</td>\n",
       "<td>test yaml insertion</td>\n",
       "<td>2023-06-22 15:59:58</td>\n",
       "<td>1970-01-01 00:00:00</td>\n",
       "<td>Test Conversion</td> </tr> </tbody>\n",
       "        </table>\n",
       "        \n",
       "        <p>Total: 1</p></div>\n",
       "        "
      ],
      "text/plain": [
       "*nwb_file_name subject_id     institution_na lab_name       session_id     session_descri session_start_ timestamps_ref experiment_des\n",
       "+------------+ +------------+ +------------+ +------------+ +------------+ +------------+ +------------+ +------------+ +------------+\n",
       "minirec2023062 54321          UCSF           Loren Frank La 12345          test yaml inse 2023-06-22 15: 1970-01-01 00: Test Conversio\n",
       " (Total: 1)"
      ]
     },
     "execution_count": 3,
     "metadata": {},
     "output_type": "execute_result"
    }
   ],
   "source": [
    "nwb_file_name = \"minirec20230622.nwb\"\n",
    "nwb_file_name2 = \"minirec20230622_.nwb\"\n",
    "sgi.insert_sessions(nwb_file_name)\n",
    "sgc.Session() & {\"nwb_file_name\": nwb_file_name2}"
   ]
  },
  {
   "cell_type": "markdown",
   "id": "49ea5ac0",
   "metadata": {},
   "source": [
    "All spikesorting results are linked to a team name from the `LabTeam` table. If you haven't already inserted a team for your project do so here. "
   ]
  },
  {
   "cell_type": "code",
   "execution_count": null,
   "id": "8d659323",
   "metadata": {},
   "outputs": [],
   "source": [
    "# Make a lab team if doesn't already exist, otherwise insert yourself into team\n",
    "team_name = \"My Team\"\n",
    "if not sgc.LabTeam() & {\"team_name\": team_name}:\n",
    "    sgc.LabTeam().create_new_team(\n",
    "        team_name=team_name,  # Should be unique\n",
    "        team_members=[],\n",
    "        team_description=\"test\",  # Optional\n",
    "    )"
   ]
  },
  {
   "cell_type": "markdown",
   "id": "4e390a71",
   "metadata": {},
   "source": [
    "## Define sort groups and extract recordings"
   ]
  },
  {
   "cell_type": "markdown",
   "id": "5f3dfe2d-4645-44f9-b169-479292215afe",
   "metadata": {},
   "source": [
    "Each NWB file will have multiple electrodes we can use for spike sorting. We\n",
    "commonly use multiple electrodes in a `SortGroup` selected by what tetrode or\n",
    "shank of a probe they were on. Electrodes in the same sort group will then be\n",
    "sorted together."
   ]
  },
  {
   "cell_type": "code",
   "execution_count": null,
   "id": "a269f6af-eb16-4551-b511-a264368c9490",
   "metadata": {},
   "outputs": [],
   "source": [
    "sgs.SortGroup.set_group_by_shank(nwb_file_name=nwb_file_name2)"
   ]
  },
  {
   "cell_type": "markdown",
   "id": "1c55792e-f9ba-4e0d-a4d2-8c60bf0e8f34",
   "metadata": {},
   "source": [
    "The next step is to filter and reference the recording so that we isolate the spike band data. This is done by combining the data with the parameters in `SpikeSortingRecordingSelection`. For inserting into this table, use `insert_selection` method. This automatically generates a UUID for a recording.\n"
   ]
  },
  {
   "cell_type": "code",
   "execution_count": null,
   "id": "5b307631-3cc5-4859-9e95-aeedf6a3de56",
   "metadata": {},
   "outputs": [],
   "source": [
    "# define and insert a key for each sort group and interval you want to sort\n",
    "key = {\n",
    "    \"nwb_file_name\": nwb_file_name2,\n",
    "    \"sort_group_id\": 0,\n",
    "    \"preproc_param_name\": \"default\",\n",
    "    \"interval_list_name\": \"01_s1\",\n",
    "    \"team_name\": \"My Team\",\n",
    "}\n",
    "sgs.SpikeSortingRecordingSelection.insert_selection(key)"
   ]
  },
  {
   "cell_type": "markdown",
   "id": "01948666",
   "metadata": {},
   "source": [
    "Next we will call `populate` method of `SpikeSortingRecording`. "
   ]
  },
  {
   "cell_type": "code",
   "execution_count": null,
   "id": "3840f86a-8769-423e-8aeb-4d9ab694f1ef",
   "metadata": {},
   "outputs": [],
   "source": [
    "# Assuming 'key' is a dictionary with fields that you want to include in 'ssr_key'\n",
    "ssr_key = {\n",
    "    \"recording_id\": (sgs.SpikeSortingRecordingSelection() & key).fetch1(\n",
    "        \"recording_id\"\n",
    "    ),\n",
    "} | key\n",
    "\n",
    "ssr_pk = (sgs.SpikeSortingRecordingSelection & key).proj()\n",
    "sgs.SpikeSortingRecording.populate(ssr_pk)\n",
    "sgs.SpikeSortingRecording() & ssr_key"
   ]
  },
  {
   "cell_type": "code",
   "execution_count": null,
   "id": "1c6c7ea3-9538-4fa9-890b-ee16cc18af31",
   "metadata": {},
   "outputs": [],
   "source": [
    "key = (sgs.SpikeSortingRecordingSelection & key).fetch1()"
   ]
  },
  {
   "cell_type": "markdown",
   "id": "348334fa",
   "metadata": {},
   "source": [
    "## Artifact Detection"
   ]
  },
  {
   "cell_type": "markdown",
   "id": "1955ed06-d754-470a-b5b3-94df6c3e03eb",
   "metadata": {},
   "source": [
    "Sometimes the recording may contain artifacts that can confound spike sorting. For example, we often have artifacts when the animal licks the reward well for milk during behavior. These appear as sharp transients across all channels, and sometimes they are not adequately removed by filtering and referencing. We will identify the periods during which this type of artifact appears and set them to zero so that they won't interfere with spike sorting. "
   ]
  },
  {
   "cell_type": "code",
   "execution_count": null,
   "id": "74415172-f2da-4fd3-ab43-01857d682b0d",
   "metadata": {},
   "outputs": [],
   "source": [
    "sgs.ArtifactDetectionSelection.insert_selection(\n",
    "    {\"recording_id\": key[\"recording_id\"], \"artifact_param_name\": \"default\"}\n",
    ")\n",
    "sgs.ArtifactDetection.populate()"
   ]
  },
  {
   "cell_type": "code",
   "execution_count": null,
   "id": "ca9a9f64-0afc-4c83-b22c-0ed120cb87f6",
   "metadata": {},
   "outputs": [],
   "source": [
    "sgs.ArtifactDetection()"
   ]
  },
  {
   "cell_type": "markdown",
   "id": "da2ac6b4",
   "metadata": {},
   "source": [
    "The output of `ArtifactDetection` is actually stored in `IntervalList` because it is another type of interval. The UUID however can be found in both. "
   ]
  },
  {
   "cell_type": "markdown",
   "id": "0ee9ca19",
   "metadata": {},
   "source": [
    "## Run Spike Sorting"
   ]
  },
  {
   "cell_type": "markdown",
   "id": "65ae0f70-2d8d-40d4-86c9-2ab206b28ca9",
   "metadata": {},
   "source": [
    "Now that we have prepared the recording, we will pair this with a spike sorting algorithm and associated parameters. This will be inserted to `SpikeSortingSelection`, again via `insert_selection` method. "
   ]
  },
  {
   "cell_type": "markdown",
   "id": "50fdadbb",
   "metadata": {},
   "source": [
    "The spike sorting pipeline is powered by `spikeinterface`, a community-developed Python package that enables one to easily apply multiple spike sorters to a single recording. Some spike sorters have special requirements, such as GPU. Others need to be installed separately from spyglass. In the Frank lab, we have been using `mountainsort4`, though the pipeline have been tested with `mountainsort5`, `kilosort2_5`, `kilosort3`, and `ironclust` as well.\n",
    "\n",
    "When using `mountainsort5`, make sure to run `pip install mountainsort5`. `kilosort2_5`, `kilosort3`, and `ironclust` are MATLAB-based, but we can run these without having to install MATLAB thanks to `spikeinterface`. It does require downloading additional files (as singularity containers) so make sure to do `pip install spython`. These sorters also require GPU access, so also do ` pip install cuda-python` (and make sure your computer does have a GPU). "
   ]
  },
  {
   "cell_type": "code",
   "execution_count": null,
   "id": "34246883-9dc4-43c5-a438-009215a3a35e",
   "metadata": {},
   "outputs": [],
   "source": [
    "sorter = \"mountainsort4\"\n",
    "\n",
    "common_key = {\n",
    "    \"recording_id\": key[\"recording_id\"],\n",
    "    \"sorter\": sorter,\n",
    "    \"nwb_file_name\": nwb_file_name2,\n",
    "    \"interval_list_name\": str(\n",
    "        (\n",
    "            sgs.ArtifactDetectionSelection\n",
    "            & {\"recording_id\": key[\"recording_id\"]}\n",
    "        ).fetch1(\"artifact_id\")\n",
    "    ),\n",
    "}\n",
    "\n",
    "if sorter == \"mountainsort4\":\n",
    "    key = {\n",
    "        **common_key,\n",
    "        \"sorter_param_name\": \"franklab_tetrode_hippocampus_30KHz\",\n",
    "    }\n",
    "else:\n",
    "    key = {\n",
    "        **common_key,\n",
    "        \"sorter_param_name\": \"default\",\n",
    "    }"
   ]
  },
  {
   "cell_type": "code",
   "execution_count": null,
   "id": "68856fb6-b5c2-4ee4-b300-43a117e453a1",
   "metadata": {},
   "outputs": [],
   "source": [
    "sgs.SpikeSortingSelection.insert_selection(key)\n",
    "sgs.SpikeSortingSelection() & key"
   ]
  },
  {
   "cell_type": "markdown",
   "id": "bb343fb7-04d6-48fc-bf67-9919769a7a52",
   "metadata": {},
   "source": [
    "Once `SpikeSortingSelection` is populated, let's run `SpikeSorting.populate`. "
   ]
  },
  {
   "cell_type": "code",
   "execution_count": null,
   "id": "54ccf059-b1ae-42e8-aede-4af30a61fd2b",
   "metadata": {},
   "outputs": [],
   "source": [
    "sss_pk = (sgs.SpikeSortingSelection & key).proj()\n",
    "\n",
    "sgs.SpikeSorting.populate(sss_pk)"
   ]
  },
  {
   "cell_type": "markdown",
   "id": "f3d1e621",
   "metadata": {},
   "source": [
    "The spike sorting results (spike times of detected units) are saved in an NWB file. We can access this in two ways. First, we can access it via the `fetch_nwb` method, which allows us to directly access the spike times saved in the `units` table of the NWB file. Second, we can access it as a `spikeinterface.NWBSorting` object. This allows us to take advantage of the rich APIs of `spikeinterface` to further analyze the sorting. "
   ]
  },
  {
   "cell_type": "code",
   "execution_count": null,
   "id": "3d41d3ab",
   "metadata": {},
   "outputs": [],
   "source": [
    "sorting_nwb = (sgs.SpikeSorting & key).fetch_nwb()\n",
    "sorting_si = sgs.SpikeSorting.get_sorting(key)"
   ]
  },
  {
   "cell_type": "markdown",
   "id": "db328eb1",
   "metadata": {},
   "source": [
    "Note that the spike times of `fetch_nwb` is in units of seconds aligned with the timestamps of the recording. The spike times of the `spikeinterface.NWBSorting` object is in units of samples (as is generally true for sorting objects in `spikeinterface`)."
   ]
  },
  {
   "cell_type": "markdown",
   "id": "55d6c183",
   "metadata": {},
   "source": [
    "## Automatic Curation"
   ]
  },
  {
   "cell_type": "markdown",
   "id": "ea8fcaa0-9dd7-4870-9f5b-be039e3579cc",
   "metadata": {},
   "source": [
    "Next step is to curate the results of spike sorting. This is often necessary because spike sorting algorithms are not perfect;\n",
    "they often return clusters that are clearly not biological in origin, and sometimes oversplit clusters that should have been merged.\n",
    "We have two main ways of curating spike sorting: by computing quality metrics followed by thresholding, and manually applying curation labels.\n",
    "To do either, we first insert the spike sorting to `CurationV1` using `insert_curation` method.\n"
   ]
  },
  {
   "cell_type": "code",
   "execution_count": null,
   "id": "6245eec9-3fba-4071-b58b-eec6d9345532",
   "metadata": {},
   "outputs": [],
   "source": [
    "sgs.SpikeSortingRecording & key\n",
    "sgs.CurationV1.insert_curation(\n",
    "    sorting_id=(\n",
    "        sgs.SpikeSortingSelection & {\"recording_id\": key[\"recording_id\"]}\n",
    "    ).fetch1(\"sorting_id\"),\n",
    "    description=\"testing sort\",\n",
    ")"
   ]
  },
  {
   "cell_type": "code",
   "execution_count": null,
   "id": "5bec5b97-4e9f-4ee9-a6b5-4f05f4726744",
   "metadata": {},
   "outputs": [],
   "source": [
    "sgs.CurationV1()"
   ]
  },
  {
   "cell_type": "markdown",
   "id": "97317b6f-a40a-4f84-8042-4361064f010a",
   "metadata": {},
   "source": [
    "We will first do an automatic curation based on quality metrics. Under the hood, this part again makes use of `spikeinterface`. Some of the quality metrics that we often compute are the nearest neighbor isolation and noise overlap metrics, as well as SNR and ISI violation rate. For computing some of these metrics, the waveforms must be extracted and projected onto a feature space. Thus here we set the parameters for waveform extraction as well as how to curate the units based on these metrics (e.g. if `nn_noise_overlap` is greater than 0.1, mark as `noise`)."
   ]
  },
  {
   "cell_type": "code",
   "execution_count": null,
   "id": "7207abda-ea84-43af-97d4-e5be3464d28d",
   "metadata": {},
   "outputs": [],
   "source": [
    "key = {\n",
    "    \"sorting_id\": (\n",
    "        sgs.SpikeSortingSelection & {\"recording_id\": key[\"recording_id\"]}\n",
    "    ).fetch1(\"sorting_id\"),\n",
    "    \"curation_id\": 0,\n",
    "    \"waveform_param_name\": \"default_not_whitened\",\n",
    "    \"metric_param_name\": \"franklab_default\",\n",
    "    \"metric_curation_param_name\": \"default\",\n",
    "}"
   ]
  },
  {
   "cell_type": "code",
   "execution_count": null,
   "id": "14c2eacc-cc45-4e61-9919-04785a721079",
   "metadata": {},
   "outputs": [],
   "source": [
    "sgs.MetricCurationSelection.insert_selection(key)\n",
    "sgs.MetricCurationSelection() & key"
   ]
  },
  {
   "cell_type": "code",
   "execution_count": null,
   "id": "d22f5725-4fd1-42ea-a1d4-590bd1353d46",
   "metadata": {},
   "outputs": [],
   "source": [
    "sgs.MetricCuration.populate()\n",
    "sgs.MetricCuration() & key"
   ]
  },
  {
   "cell_type": "markdown",
   "id": "54f354bf-0bfa-4148-9c5d-c5593f3f3915",
   "metadata": {},
   "source": [
    "to do another round of curation, fetch the relevant info and insert back into CurationV1 using `insert_curation`\n"
   ]
  },
  {
   "cell_type": "code",
   "execution_count": null,
   "id": "544ba8c0-560e-471b-9eaf-5924f6051faa",
   "metadata": {},
   "outputs": [],
   "source": [
    "key = {\n",
    "    \"metric_curation_id\": (\n",
    "        sgs.MetricCurationSelection & {\"sorting_id\": key[\"sorting_id\"]}\n",
    "    ).fetch1(\"metric_curation_id\")\n",
    "}\n",
    "labels = sgs.MetricCuration.get_labels(key)\n",
    "merge_groups = sgs.MetricCuration.get_merge_groups(key)\n",
    "metrics = sgs.MetricCuration.get_metrics(key)\n",
    "sgs.CurationV1.insert_curation(\n",
    "    sorting_id=(\n",
    "        sgs.MetricCurationSelection\n",
    "        & {\"metric_curation_id\": key[\"metric_curation_id\"]}\n",
    "    ).fetch1(\"sorting_id\"),\n",
    "    parent_curation_id=0,\n",
    "    labels=labels,\n",
    "    merge_groups=merge_groups,\n",
    "    metrics=metrics,\n",
    "    description=\"after metric curation\",\n",
    ")"
   ]
  },
  {
   "cell_type": "code",
   "execution_count": null,
   "id": "f7c6bfd9-5985-41e1-bf37-8c8874b59191",
   "metadata": {},
   "outputs": [],
   "source": [
    "sgs.CurationV1()"
   ]
  },
  {
   "cell_type": "markdown",
   "id": "a627274b",
   "metadata": {},
   "source": [
    "## Manual Curation"
   ]
  },
  {
   "cell_type": "markdown",
   "id": "cf8708a4-0a55-4309-b3c4-dbf47d61ad31",
   "metadata": {},
   "source": [
    "Next we will do manual curation. this is done with figurl. to incorporate info from other stages of processing (e.g. metrics) we have to store that with kachery cloud and get curation uri referring to it. it can be done with `generate_curation_uri`.\n",
    "\n",
    "_Note_: This step is dependent on setting up a kachery sharing system as described in [02_Data_Sync.ipynb](02_Data_Sync.ipynb)\n",
    "and will likely not work correctly on the spyglass-demo server.\n"
   ]
  },
  {
   "cell_type": "code",
   "execution_count": null,
   "id": "924cdfce-e287-41d7-abf9-872797637777",
   "metadata": {},
   "outputs": [],
   "source": [
    "curation_uri = sgs.FigURLCurationSelection.generate_curation_uri(\n",
    "    {\n",
    "        \"sorting_id\": (\n",
    "            sgs.MetricCurationSelection\n",
    "            & {\"metric_curation_id\": key[\"metric_curation_id\"]}\n",
    "        ).fetch1(\"sorting_id\"),\n",
    "        \"curation_id\": 1,\n",
    "    }\n",
    ")\n",
    "key = {\n",
    "    \"sorting_id\": (\n",
    "        sgs.MetricCurationSelection\n",
    "        & {\"metric_curation_id\": key[\"metric_curation_id\"]}\n",
    "    ).fetch1(\"sorting_id\"),\n",
    "    \"curation_id\": 1,\n",
    "    \"curation_uri\": curation_uri,\n",
    "    \"metrics_figurl\": list(metrics.keys()),\n",
    "}\n",
    "sgs.FigURLCurationSelection()"
   ]
  },
  {
   "cell_type": "code",
   "execution_count": null,
   "id": "ecb9106b-8f92-4725-a68c-d5233453b3a4",
   "metadata": {},
   "outputs": [],
   "source": [
    "sgs.FigURLCurationSelection.insert_selection(key)\n",
    "sgs.FigURLCurationSelection()"
   ]
  },
  {
   "cell_type": "code",
   "execution_count": null,
   "id": "c3b029c6-8dc8-4af3-ad42-8a9443e70023",
   "metadata": {},
   "outputs": [],
   "source": [
    "sgs.FigURLCuration.populate()\n",
    "sgs.FigURLCuration()"
   ]
  },
  {
   "cell_type": "markdown",
   "id": "9ca0d48c-900b-4985-a27a-be1ff82616a4",
   "metadata": {},
   "source": [
    "or you can manually specify it if you already have a `curation.json`\n"
   ]
  },
  {
   "cell_type": "code",
   "execution_count": null,
   "id": "b2e9b018-9a8b-4344-9b8e-9e2141324bfa",
   "metadata": {},
   "outputs": [],
   "source": [
    "gh_curation_uri = (\n",
    "    \"gh://LorenFrankLab/sorting-curations/main/khl02007/test/curation.json\"\n",
    ")\n",
    "\n",
    "key = {\n",
    "    \"sorting_id\": key[\"sorting_id\"],\n",
    "    \"curation_id\": 1,\n",
    "    \"curation_uri\": gh_curation_uri,\n",
    "    \"metrics_figurl\": [],\n",
    "}\n",
    "sgs.FigURLCurationSelection.insert_selection(key)"
   ]
  },
  {
   "cell_type": "code",
   "execution_count": null,
   "id": "ad86c81e-1424-4fa2-a022-7cc0a3425fc0",
   "metadata": {},
   "outputs": [],
   "source": [
    "sgs.FigURLCuration.populate()\n",
    "sgs.FigURLCuration()"
   ]
  },
  {
   "cell_type": "markdown",
   "id": "6d68f93e-1586-4d3b-b680-0fe2115c0ab4",
   "metadata": {},
   "source": [
    "once you apply manual curation (curation labels and merge groups) you can store them as nwb by inserting another row in CurationV1. And then you can do more rounds of curation if you want.\n"
   ]
  },
  {
   "cell_type": "code",
   "execution_count": null,
   "id": "15694ca0-3ec1-49a8-9ac4-66cf6d6f49ee",
   "metadata": {},
   "outputs": [],
   "source": [
    "labels = sgs.FigURLCuration.get_labels(gh_curation_uri)\n",
    "merge_groups = sgs.FigURLCuration.get_merge_groups(gh_curation_uri)\n",
    "sgs.CurationV1.insert_curation(\n",
    "    sorting_id=key[\"sorting_id\"],\n",
    "    parent_curation_id=1,\n",
    "    labels=labels,\n",
    "    merge_groups=merge_groups,\n",
    "    metrics=metrics,\n",
    "    description=\"after figurl curation\",\n",
    ")"
   ]
  },
  {
   "cell_type": "code",
   "execution_count": null,
   "id": "1d40eb3a-34c5-4771-8fc0-730fafb5cb8a",
   "metadata": {},
   "outputs": [],
   "source": [
    "sgs.CurationV1()"
   ]
  },
  {
   "cell_type": "markdown",
   "id": "9ff6aff5-7020-40d6-832f-006d66d54a7e",
   "metadata": {},
   "source": [
    "We now insert the curated spike sorting to a `Merge` table for feeding into downstream processing pipelines.\n"
   ]
  },
  {
   "cell_type": "code",
   "execution_count": null,
   "id": "511ecb19-7d8d-4db6-be71-c0ed66e2b0f2",
   "metadata": {},
   "outputs": [],
   "source": [
    "from spyglass.spikesorting.spikesorting_merge import SpikeSortingOutput\n",
    "\n",
    "SpikeSortingOutput()"
   ]
  },
  {
   "cell_type": "code",
   "execution_count": null,
   "id": "b20c2c9e-0c97-4669-b45d-4b1c50fd2fcc",
   "metadata": {},
   "outputs": [],
   "source": [
    "SpikeSortingOutput.insert([key], part_name=\"CurationV1\")\n",
    "SpikeSortingOutput.merge_view()"
   ]
  },
  {
   "cell_type": "code",
   "execution_count": null,
   "id": "184c3401-8df3-46f0-9dd0-c9fa98395c34",
   "metadata": {},
   "outputs": [],
   "source": [
    "SpikeSortingOutput.CurationV1()"
   ]
  }
 ],
 "metadata": {
  "kernelspec": {
   "display_name": "spyglass",
   "language": "python",
   "name": "python3"
  },
  "language_info": {
   "codemirror_mode": {
    "name": "ipython",
    "version": 3
   },
   "file_extension": ".py",
   "mimetype": "text/x-python",
   "name": "python",
   "nbconvert_exporter": "python",
   "pygments_lexer": "ipython3",
   "version": "3.9.16"
  }
 },
 "nbformat": 4,
 "nbformat_minor": 5
}

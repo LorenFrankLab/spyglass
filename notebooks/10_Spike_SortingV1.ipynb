{
 "cells": [
  {
   "cell_type": "markdown",
   "id": "0cb86657",
   "metadata": {},
   "source": [
    "# Spike Sorting: pipeline version 1"
   ]
  },
  {
   "cell_type": "markdown",
   "id": "5fce5c22-caab-473b-a103-5009a2798d12",
   "metadata": {},
   "source": [
    "This is a tutorial for Spyglass spike sorting pipeline version 1 (V1). This pipeline coexists with [version 0](./10_Spike_SortingV0.ipynb) but differs in that:\n",
    "- it stores more of the intermediate results (e.g. filtered and referenced recording) in the NWB format\n",
    "- it has more streamlined curation pipelines\n",
    "- it uses UUIDs as the primary key for important tables (e.g. `SpikeSorting`) to reduce the number of keys that make up the composite primary key\n",
    "\n",
    "The output of both versions of the pipeline are saved in a [merge table](./03_Merge_Tables.ipynb) called `SpikeSortingOutput`. "
   ]
  },
  {
   "cell_type": "markdown",
   "id": "71c80e78",
   "metadata": {},
   "source": [
    "To start, connect to the database. See instructions in [Setup](./00_Setup.ipynb)."
   ]
  },
  {
   "cell_type": "code",
   "execution_count": 1,
   "id": "5778bf96-740c-4e4b-a695-ed4385fc9b58",
   "metadata": {
    "tags": []
   },
   "outputs": [],
   "source": [
    "import os\n",
    "import datajoint as dj\n",
    "import numpy as np\n",
    "\n",
    "# change to the upper level folder to detect dj_local_conf.json\n",
    "if os.path.basename(os.getcwd()) == \"notebooks\":\n",
    "    os.chdir(\"..\")\n",
    "dj.config[\"enable_python_native_blobs\"] = True\n",
    "dj.config.load(\"dj_local_conf.json\")  # load config for database connection info"
   ]
  },
  {
   "cell_type": "markdown",
   "id": "344e01b4",
   "metadata": {},
   "source": [
    "## Insert Data and populate pre-requisite tables"
   ]
  },
  {
   "cell_type": "markdown",
   "id": "84e7c0b5-f660-4304-9b87-08f5bbf4dbac",
   "metadata": {},
   "source": [
    "First, import the pipeline and other necessary modules."
   ]
  },
  {
   "cell_type": "code",
   "execution_count": 2,
   "id": "16345184-c012-486c-b0b6-c914168f2449",
   "metadata": {},
   "outputs": [
    {
     "name": "stderr",
     "output_type": "stream",
     "text": [
      "[2024-04-19 10:57:17,965][INFO]: Connecting sambray@lmf-db.cin.ucsf.edu:3306\n",
      "[2024-04-19 10:57:17,985][INFO]: Connected sambray@lmf-db.cin.ucsf.edu:3306\n"
     ]
    }
   ],
   "source": [
    "import spyglass.common as sgc\n",
    "import spyglass.spikesorting.v1 as sgs\n",
    "import spyglass.data_import as sgi"
   ]
  },
  {
   "cell_type": "markdown",
   "id": "48d2c06a-feb6-438c-94b3-4028127e2101",
   "metadata": {},
   "source": [
    "We will be using `minirec20230622.nwb` as our example. As usual, first insert the NWB file into `Session` (can skip if you have already done so)."
   ]
  },
  {
   "cell_type": "code",
   "execution_count": 3,
   "id": "a3a0ecdf-8dad-41d5-9ee2-fa60f80c746d",
   "metadata": {},
   "outputs": [
    {
     "name": "stderr",
     "output_type": "stream",
     "text": [
      "/home/sambray/Documents/spyglass/src/spyglass/data_import/insert_sessions.py:58: UserWarning: Cannot insert data from minirec20230622.nwb: minirec20230622_.nwb is already in Nwbfile table.\n",
      "  warnings.warn(\n"
     ]
    },
    {
     "data": {
      "text/html": [
       "\n",
       "    \n",
       "    <style type=\"text/css\">\n",
       "        .Table{\n",
       "            border-collapse:collapse;\n",
       "        }\n",
       "        .Table th{\n",
       "            background: #A0A0A0; color: #ffffff; padding:4px; border:#f0e0e0 1px solid;\n",
       "            font-weight: normal; font-family: monospace; font-size: 100%;\n",
       "        }\n",
       "        .Table td{\n",
       "            padding:4px; border:#f0e0e0 1px solid; font-size:100%;\n",
       "        }\n",
       "        .Table tr:nth-child(odd){\n",
       "            background: #ffffff;\n",
       "            color: #000000;\n",
       "        }\n",
       "        .Table tr:nth-child(even){\n",
       "            background: #f3f1ff;\n",
       "            color: #000000;\n",
       "        }\n",
       "        /* Tooltip container */\n",
       "        .djtooltip {\n",
       "        }\n",
       "        /* Tooltip text */\n",
       "        .djtooltip .djtooltiptext {\n",
       "            visibility: hidden;\n",
       "            width: 120px;\n",
       "            background-color: black;\n",
       "            color: #fff;\n",
       "            text-align: center;\n",
       "            padding: 5px 0;\n",
       "            border-radius: 6px;\n",
       "            /* Position the tooltip text - see examples below! */\n",
       "            position: absolute;\n",
       "            z-index: 1;\n",
       "        }\n",
       "        #primary {\n",
       "            font-weight: bold;\n",
       "            color: black;\n",
       "        }\n",
       "        #nonprimary {\n",
       "            font-weight: normal;\n",
       "            color: white;\n",
       "        }\n",
       "\n",
       "        /* Show the tooltip text when you mouse over the tooltip container */\n",
       "        .djtooltip:hover .djtooltiptext {\n",
       "            visibility: visible;\n",
       "        }\n",
       "    </style>\n",
       "    \n",
       "    <b>Table for holding experimental sessions.</b>\n",
       "        <div style=\"max-height:1000px;max-width:1500px;overflow:auto;\">\n",
       "        <table border=\"1\" class=\"Table\">\n",
       "            <thead> <tr style=\"text-align: right;\"> <th> <div class=\"djtooltip\">\n",
       "                            <p id=\"primary\">nwb_file_name</p>\n",
       "                            <span class=\"djtooltiptext\">name of the NWB file</span>\n",
       "                        </div></th><th><div class=\"djtooltip\">\n",
       "                            <p id=\"nonprimary\">subject_id</p>\n",
       "                            <span class=\"djtooltiptext\"></span>\n",
       "                        </div></th><th><div class=\"djtooltip\">\n",
       "                            <p id=\"nonprimary\">institution_name</p>\n",
       "                            <span class=\"djtooltiptext\"></span>\n",
       "                        </div></th><th><div class=\"djtooltip\">\n",
       "                            <p id=\"nonprimary\">lab_name</p>\n",
       "                            <span class=\"djtooltiptext\"></span>\n",
       "                        </div></th><th><div class=\"djtooltip\">\n",
       "                            <p id=\"nonprimary\">session_id</p>\n",
       "                            <span class=\"djtooltiptext\"></span>\n",
       "                        </div></th><th><div class=\"djtooltip\">\n",
       "                            <p id=\"nonprimary\">session_description</p>\n",
       "                            <span class=\"djtooltiptext\"></span>\n",
       "                        </div></th><th><div class=\"djtooltip\">\n",
       "                            <p id=\"nonprimary\">session_start_time</p>\n",
       "                            <span class=\"djtooltiptext\"></span>\n",
       "                        </div></th><th><div class=\"djtooltip\">\n",
       "                            <p id=\"nonprimary\">timestamps_reference_time</p>\n",
       "                            <span class=\"djtooltiptext\"></span>\n",
       "                        </div></th><th><div class=\"djtooltip\">\n",
       "                            <p id=\"nonprimary\">experiment_description</p>\n",
       "                            <span class=\"djtooltiptext\"></span>\n",
       "                        </div> </th> </tr> </thead>\n",
       "            <tbody> <tr> <td>minirec20230622_.nwb</td>\n",
       "<td>54321</td>\n",
       "<td>UCSF</td>\n",
       "<td>Loren Frank Lab</td>\n",
       "<td>12345</td>\n",
       "<td>test yaml insertion</td>\n",
       "<td>2023-06-22 15:59:58</td>\n",
       "<td>1970-01-01 00:00:00</td>\n",
       "<td>Test Conversion</td> </tr> </tbody>\n",
       "        </table>\n",
       "        \n",
       "        <p>Total: 1</p></div>\n",
       "        "
      ],
      "text/plain": [
       "*nwb_file_name subject_id     institution_na lab_name       session_id     session_descri session_start_ timestamps_ref experiment_des\n",
       "+------------+ +------------+ +------------+ +------------+ +------------+ +------------+ +------------+ +------------+ +------------+\n",
       "minirec2023062 54321          UCSF           Loren Frank La 12345          test yaml inse 2023-06-22 15: 1970-01-01 00: Test Conversio\n",
       " (Total: 1)"
      ]
     },
     "execution_count": 3,
     "metadata": {},
     "output_type": "execute_result"
    }
   ],
   "source": [
    "nwb_file_name = \"minirec20230622.nwb\"\n",
    "nwb_file_name2 = \"minirec20230622_.nwb\"\n",
    "sgi.insert_sessions(nwb_file_name)\n",
    "sgc.Session() & {\"nwb_file_name\": nwb_file_name2}"
   ]
  },
  {
   "cell_type": "markdown",
   "id": "49ea5ac0",
   "metadata": {},
   "source": [
    "All spikesorting results are linked to a team name from the `LabTeam` table. If you haven't already inserted a team for your project do so here. "
   ]
  },
  {
   "cell_type": "code",
   "execution_count": 4,
   "id": "8d659323",
   "metadata": {},
   "outputs": [],
   "source": [
    "# Make a lab team if doesn't already exist, otherwise insert yourself into team\n",
    "team_name = \"My Team\"\n",
    "if not sgc.LabTeam() & {\"team_name\": team_name}:\n",
    "    sgc.LabTeam().create_new_team(\n",
    "        team_name=team_name,  # Should be unique\n",
    "        team_members=[],\n",
    "        team_description=\"test\",  # Optional\n",
    "    )"
   ]
  },
  {
   "cell_type": "markdown",
   "id": "4e390a71",
   "metadata": {},
   "source": [
    "## Define sort groups and extract recordings"
   ]
  },
  {
   "cell_type": "markdown",
   "id": "5f3dfe2d-4645-44f9-b169-479292215afe",
   "metadata": {},
   "source": [
    "Each NWB file will have multiple electrodes we can use for spike sorting. We\n",
    "commonly use multiple electrodes in a `SortGroup` selected by what tetrode or\n",
    "shank of a probe they were on. Electrodes in the same sort group will then be\n",
    "sorted together."
   ]
  },
  {
   "cell_type": "code",
   "execution_count": 5,
   "id": "a269f6af-eb16-4551-b511-a264368c9490",
   "metadata": {},
   "outputs": [],
   "source": [
    "sgs.SortGroup.set_group_by_shank(nwb_file_name=nwb_file_name2)"
   ]
  },
  {
   "cell_type": "markdown",
   "id": "1c55792e-f9ba-4e0d-a4d2-8c60bf0e8f34",
   "metadata": {},
   "source": [
    "The next step is to filter and reference the recording so that we isolate the spike band data. This is done by combining the data with the parameters in `SpikeSortingRecordingSelection`. For inserting into this table, use `insert_selection` method. This automatically generates a UUID for a recording.\n"
   ]
  },
  {
   "cell_type": "code",
   "execution_count": 6,
   "id": "5b307631-3cc5-4859-9e95-aeedf6a3de56",
   "metadata": {},
   "outputs": [
    {
     "data": {
      "text/plain": [
       "{'nwb_file_name': 'minirec20230622_.nwb',\n",
       " 'sort_group_id': 0,\n",
       " 'preproc_param_name': 'default',\n",
       " 'interval_list_name': '01_s1',\n",
       " 'team_name': 'My Team',\n",
       " 'recording_id': UUID('3450db49-28d5-4942-aa37-7c19126d16db')}"
      ]
     },
     "execution_count": 6,
     "metadata": {},
     "output_type": "execute_result"
    }
   ],
   "source": [
    "# define and insert a key for each sort group and interval you want to sort\n",
    "key = {\n",
    "    \"nwb_file_name\": nwb_file_name2,\n",
    "    \"sort_group_id\": 0,\n",
    "    \"preproc_param_name\": \"default\",\n",
    "    \"interval_list_name\": \"01_s1\",\n",
    "    \"team_name\": \"My Team\",\n",
    "}\n",
    "sgs.SpikeSortingRecordingSelection.insert_selection(key)"
   ]
  },
  {
   "cell_type": "markdown",
   "id": "01948666",
   "metadata": {},
   "source": [
    "Next we will call `populate` method of `SpikeSortingRecording`. "
   ]
  },
  {
   "cell_type": "code",
   "execution_count": 7,
   "id": "3840f86a-8769-423e-8aeb-4d9ab694f1ef",
   "metadata": {},
   "outputs": [
    {
     "name": "stderr",
     "output_type": "stream",
     "text": [
      "[10:57:43][INFO] Spyglass: Writing new NWB file minirec20230622_PTCFX77XOI.nwb\n",
      "/home/sambray/mambaforge-pypy3/envs/spyglass/lib/python3.9/site-packages/hdmf/build/objectmapper.py:668: MissingRequiredBuildWarning: NWBFile 'root' is missing required value for attribute 'source_script_file_name'.\n",
      "  warnings.warn(msg, MissingRequiredBuildWarning)\n"
     ]
    },
    {
     "data": {
      "text/html": [
       "\n",
       "    \n",
       "    <style type=\"text/css\">\n",
       "        .Table{\n",
       "            border-collapse:collapse;\n",
       "        }\n",
       "        .Table th{\n",
       "            background: #A0A0A0; color: #ffffff; padding:4px; border:#f0e0e0 1px solid;\n",
       "            font-weight: normal; font-family: monospace; font-size: 100%;\n",
       "        }\n",
       "        .Table td{\n",
       "            padding:4px; border:#f0e0e0 1px solid; font-size:100%;\n",
       "        }\n",
       "        .Table tr:nth-child(odd){\n",
       "            background: #ffffff;\n",
       "            color: #000000;\n",
       "        }\n",
       "        .Table tr:nth-child(even){\n",
       "            background: #f3f1ff;\n",
       "            color: #000000;\n",
       "        }\n",
       "        /* Tooltip container */\n",
       "        .djtooltip {\n",
       "        }\n",
       "        /* Tooltip text */\n",
       "        .djtooltip .djtooltiptext {\n",
       "            visibility: hidden;\n",
       "            width: 120px;\n",
       "            background-color: black;\n",
       "            color: #fff;\n",
       "            text-align: center;\n",
       "            padding: 5px 0;\n",
       "            border-radius: 6px;\n",
       "            /* Position the tooltip text - see examples below! */\n",
       "            position: absolute;\n",
       "            z-index: 1;\n",
       "        }\n",
       "        #primary {\n",
       "            font-weight: bold;\n",
       "            color: black;\n",
       "        }\n",
       "        #nonprimary {\n",
       "            font-weight: normal;\n",
       "            color: white;\n",
       "        }\n",
       "\n",
       "        /* Show the tooltip text when you mouse over the tooltip container */\n",
       "        .djtooltip:hover .djtooltiptext {\n",
       "            visibility: visible;\n",
       "        }\n",
       "    </style>\n",
       "    \n",
       "    <b>Processed recording.</b>\n",
       "        <div style=\"max-height:1000px;max-width:1500px;overflow:auto;\">\n",
       "        <table border=\"1\" class=\"Table\">\n",
       "            <thead> <tr style=\"text-align: right;\"> <th> <div class=\"djtooltip\">\n",
       "                            <p id=\"primary\">recording_id</p>\n",
       "                            <span class=\"djtooltiptext\"></span>\n",
       "                        </div></th><th><div class=\"djtooltip\">\n",
       "                            <p id=\"nonprimary\">analysis_file_name</p>\n",
       "                            <span class=\"djtooltiptext\">name of the file</span>\n",
       "                        </div></th><th><div class=\"djtooltip\">\n",
       "                            <p id=\"nonprimary\">object_id</p>\n",
       "                            <span class=\"djtooltiptext\">Object ID for the processed recording in NWB file</span>\n",
       "                        </div> </th> </tr> </thead>\n",
       "            <tbody> <tr> <td>3450db49-28d5-4942-aa37-7c19126d16db</td>\n",
       "<td>minirec20230622_PTCFX77XOI.nwb</td>\n",
       "<td>15592178-c317-4112-bfa6-b0943542e507</td> </tr> </tbody>\n",
       "        </table>\n",
       "        \n",
       "        <p>Total: 1</p></div>\n",
       "        "
      ],
      "text/plain": [
       "*recording_id  analysis_file_ object_id     \n",
       "+------------+ +------------+ +------------+\n",
       "3450db49-28d5- minirec2023062 15592178-c317-\n",
       " (Total: 1)"
      ]
     },
     "execution_count": 7,
     "metadata": {},
     "output_type": "execute_result"
    }
   ],
   "source": [
    "# Assuming 'key' is a dictionary with fields that you want to include in 'ssr_key'\n",
    "ssr_key = {\n",
    "    \"recording_id\": (sgs.SpikeSortingRecordingSelection() & key).fetch1(\n",
    "        \"recording_id\"\n",
    "    ),\n",
    "} | key\n",
    "\n",
    "ssr_pk = (sgs.SpikeSortingRecordingSelection & key).proj()\n",
    "sgs.SpikeSortingRecording.populate(ssr_pk)\n",
    "sgs.SpikeSortingRecording() & ssr_key"
   ]
  },
  {
   "cell_type": "code",
   "execution_count": 8,
   "id": "1c6c7ea3-9538-4fa9-890b-ee16cc18af31",
   "metadata": {},
   "outputs": [],
   "source": [
    "key = (sgs.SpikeSortingRecordingSelection & key).fetch1()"
   ]
  },
  {
   "cell_type": "markdown",
   "id": "348334fa",
   "metadata": {},
   "source": [
    "## Artifact Detection"
   ]
  },
  {
   "cell_type": "markdown",
   "id": "1955ed06-d754-470a-b5b3-94df6c3e03eb",
   "metadata": {},
   "source": [
    "Sometimes the recording may contain artifacts that can confound spike sorting. For example, we often have artifacts when the animal licks the reward well for milk during behavior. These appear as sharp transients across all channels, and sometimes they are not adequately removed by filtering and referencing. We will identify the periods during which this type of artifact appears and set them to zero so that they won't interfere with spike sorting. "
   ]
  },
  {
   "cell_type": "code",
   "execution_count": 9,
   "id": "74415172-f2da-4fd3-ab43-01857d682b0d",
   "metadata": {},
   "outputs": [
    {
     "name": "stderr",
     "output_type": "stream",
     "text": [
      "[10:57:52][INFO] Spyglass: Using 4 jobs...\n"
     ]
    },
    {
     "data": {
      "application/vnd.jupyter.widget-view+json": {
       "model_id": "461383a7fb194d79b603244c4e371a98",
       "version_major": 2,
       "version_minor": 0
      },
      "text/plain": [
       "detect_artifact_frames:   0%|          | 0/2 [00:00<?, ?it/s]"
      ]
     },
     "metadata": {},
     "output_type": "display_data"
    },
    {
     "name": "stderr",
     "output_type": "stream",
     "text": [
      "[10:57:53][WARNING] Spyglass: No artifacts detected.\n"
     ]
    }
   ],
   "source": [
    "sgs.ArtifactDetectionSelection.insert_selection(\n",
    "    {\"recording_id\": key[\"recording_id\"], \"artifact_param_name\": \"default\"}\n",
    ")\n",
    "sgs.ArtifactDetection.populate()"
   ]
  },
  {
   "cell_type": "code",
   "execution_count": 10,
   "id": "ca9a9f64-0afc-4c83-b22c-0ed120cb87f6",
   "metadata": {},
   "outputs": [
    {
     "data": {
      "text/html": [
       "\n",
       "    \n",
       "    <style type=\"text/css\">\n",
       "        .Table{\n",
       "            border-collapse:collapse;\n",
       "        }\n",
       "        .Table th{\n",
       "            background: #A0A0A0; color: #ffffff; padding:4px; border:#f0e0e0 1px solid;\n",
       "            font-weight: normal; font-family: monospace; font-size: 100%;\n",
       "        }\n",
       "        .Table td{\n",
       "            padding:4px; border:#f0e0e0 1px solid; font-size:100%;\n",
       "        }\n",
       "        .Table tr:nth-child(odd){\n",
       "            background: #ffffff;\n",
       "            color: #000000;\n",
       "        }\n",
       "        .Table tr:nth-child(even){\n",
       "            background: #f3f1ff;\n",
       "            color: #000000;\n",
       "        }\n",
       "        /* Tooltip container */\n",
       "        .djtooltip {\n",
       "        }\n",
       "        /* Tooltip text */\n",
       "        .djtooltip .djtooltiptext {\n",
       "            visibility: hidden;\n",
       "            width: 120px;\n",
       "            background-color: black;\n",
       "            color: #fff;\n",
       "            text-align: center;\n",
       "            padding: 5px 0;\n",
       "            border-radius: 6px;\n",
       "            /* Position the tooltip text - see examples below! */\n",
       "            position: absolute;\n",
       "            z-index: 1;\n",
       "        }\n",
       "        #primary {\n",
       "            font-weight: bold;\n",
       "            color: black;\n",
       "        }\n",
       "        #nonprimary {\n",
       "            font-weight: normal;\n",
       "            color: white;\n",
       "        }\n",
       "\n",
       "        /* Show the tooltip text when you mouse over the tooltip container */\n",
       "        .djtooltip:hover .djtooltiptext {\n",
       "            visibility: visible;\n",
       "        }\n",
       "    </style>\n",
       "    \n",
       "    <b>Detected artifacts (e.g. large transients from movement).</b>\n",
       "        <div style=\"max-height:1000px;max-width:1500px;overflow:auto;\">\n",
       "        <table border=\"1\" class=\"Table\">\n",
       "            <thead> <tr style=\"text-align: right;\"> <th> <div class=\"djtooltip\">\n",
       "                            <p id=\"primary\">artifact_id</p>\n",
       "                            <span class=\"djtooltiptext\"></span>\n",
       "                        </div> </th> </tr> </thead>\n",
       "            <tbody> <tr> <td>0058dab4-41c1-42b1-91f4-5773f2ad36cc</td></tr><tr><td>01b39d37-3ff8-4907-9da6-9fec9baf87b5</td></tr><tr><td>035f0bae-80b3-4ce9-a767-94d336f36283</td></tr><tr><td>038ee778-6cf1-4e99-ab80-e354db5170c9</td></tr><tr><td>03e9768d-d101-4f56-abf9-5b0e3e1803b7</td></tr><tr><td>0490c820-c381-43b6-857e-f463147723ff</td></tr><tr><td>04a289c6-9e19-486a-a4cb-7e9638af225a</td></tr><tr><td>06dd7922-7042-4023-bebf-da1dacb0b6c7</td></tr><tr><td>07036486-e9f5-4dba-8662-7fb5ff2a6711</td></tr><tr><td>070ed448-a52d-478e-9102-0d04a6ed0b96</td></tr><tr><td>07a65788-bb89-48f3-90ea-4ab1add06eae</td></tr><tr><td>0a6611b3-c593-4900-a715-66bb1396940e</td> </tr> </tbody>\n",
       "        </table>\n",
       "        <p>...</p>\n",
       "        <p>Total: 151</p></div>\n",
       "        "
      ],
      "text/plain": [
       "*artifact_id  \n",
       "+------------+\n",
       "0058dab4-41c1-\n",
       "01b39d37-3ff8-\n",
       "035f0bae-80b3-\n",
       "038ee778-6cf1-\n",
       "03e9768d-d101-\n",
       "0490c820-c381-\n",
       "04a289c6-9e19-\n",
       "06dd7922-7042-\n",
       "07036486-e9f5-\n",
       "070ed448-a52d-\n",
       "07a65788-bb89-\n",
       "0a6611b3-c593-\n",
       "   ...\n",
       " (Total: 151)"
      ]
     },
     "execution_count": 10,
     "metadata": {},
     "output_type": "execute_result"
    }
   ],
   "source": [
    "sgs.ArtifactDetection()"
   ]
  },
  {
   "cell_type": "markdown",
   "id": "da2ac6b4",
   "metadata": {},
   "source": [
    "The output of `ArtifactDetection` is actually stored in `IntervalList` because it is another type of interval. The UUID however can be found in both. "
   ]
  },
  {
   "cell_type": "markdown",
   "id": "0ee9ca19",
   "metadata": {},
   "source": [
    "## Run Spike Sorting"
   ]
  },
  {
   "cell_type": "markdown",
   "id": "65ae0f70-2d8d-40d4-86c9-2ab206b28ca9",
   "metadata": {},
   "source": [
    "Now that we have prepared the recording, we will pair this with a spike sorting algorithm and associated parameters. This will be inserted to `SpikeSortingSelection`, again via `insert_selection` method. "
   ]
  },
  {
   "cell_type": "markdown",
   "id": "50fdadbb",
   "metadata": {},
   "source": [
    "The spike sorting pipeline is powered by `spikeinterface`, a community-developed Python package that enables one to easily apply multiple spike sorters to a single recording. Some spike sorters have special requirements, such as GPU. Others need to be installed separately from spyglass. In the Frank lab, we have been using `mountainsort4`, though the pipeline have been tested with `mountainsort5`, `kilosort2_5`, `kilosort3`, and `ironclust` as well.\n",
    "\n",
    "When using `mountainsort5`, make sure to run `pip install mountainsort5`. `kilosort2_5`, `kilosort3`, and `ironclust` are MATLAB-based, but we can run these without having to install MATLAB thanks to `spikeinterface`. It does require downloading additional files (as singularity containers) so make sure to do `pip install spython`. These sorters also require GPU access, so also do ` pip install cuda-python` (and make sure your computer does have a GPU). "
   ]
  },
  {
   "cell_type": "code",
   "execution_count": 11,
   "id": "34246883-9dc4-43c5-a438-009215a3a35e",
   "metadata": {},
   "outputs": [],
   "source": [
    "sorter = \"mountainsort4\"\n",
    "\n",
    "common_key = {\n",
    "    \"recording_id\": key[\"recording_id\"],\n",
    "    \"sorter\": sorter,\n",
    "    \"nwb_file_name\": nwb_file_name2,\n",
    "    \"interval_list_name\": str(\n",
    "        (\n",
    "            sgs.ArtifactDetectionSelection\n",
    "            & {\"recording_id\": key[\"recording_id\"]}\n",
    "        ).fetch1(\"artifact_id\")\n",
    "    ),\n",
    "}\n",
    "\n",
    "if sorter == \"mountainsort4\":\n",
    "    key = {\n",
    "        **common_key,\n",
    "        \"sorter_param_name\": \"franklab_tetrode_hippocampus_30KHz\",\n",
    "    }\n",
    "else:\n",
    "    key = {\n",
    "        **common_key,\n",
    "        \"sorter_param_name\": \"default\",\n",
    "    }"
   ]
  },
  {
   "cell_type": "code",
   "execution_count": 12,
   "id": "68856fb6-b5c2-4ee4-b300-43a117e453a1",
   "metadata": {},
   "outputs": [
    {
     "data": {
      "text/html": [
       "\n",
       "    \n",
       "    <style type=\"text/css\">\n",
       "        .Table{\n",
       "            border-collapse:collapse;\n",
       "        }\n",
       "        .Table th{\n",
       "            background: #A0A0A0; color: #ffffff; padding:4px; border:#f0e0e0 1px solid;\n",
       "            font-weight: normal; font-family: monospace; font-size: 100%;\n",
       "        }\n",
       "        .Table td{\n",
       "            padding:4px; border:#f0e0e0 1px solid; font-size:100%;\n",
       "        }\n",
       "        .Table tr:nth-child(odd){\n",
       "            background: #ffffff;\n",
       "            color: #000000;\n",
       "        }\n",
       "        .Table tr:nth-child(even){\n",
       "            background: #f3f1ff;\n",
       "            color: #000000;\n",
       "        }\n",
       "        /* Tooltip container */\n",
       "        .djtooltip {\n",
       "        }\n",
       "        /* Tooltip text */\n",
       "        .djtooltip .djtooltiptext {\n",
       "            visibility: hidden;\n",
       "            width: 120px;\n",
       "            background-color: black;\n",
       "            color: #fff;\n",
       "            text-align: center;\n",
       "            padding: 5px 0;\n",
       "            border-radius: 6px;\n",
       "            /* Position the tooltip text - see examples below! */\n",
       "            position: absolute;\n",
       "            z-index: 1;\n",
       "        }\n",
       "        #primary {\n",
       "            font-weight: bold;\n",
       "            color: black;\n",
       "        }\n",
       "        #nonprimary {\n",
       "            font-weight: normal;\n",
       "            color: white;\n",
       "        }\n",
       "\n",
       "        /* Show the tooltip text when you mouse over the tooltip container */\n",
       "        .djtooltip:hover .djtooltiptext {\n",
       "            visibility: visible;\n",
       "        }\n",
       "    </style>\n",
       "    \n",
       "    <b>Processed recording and spike sorting parameters. Use `insert_selection` method to insert rows.</b>\n",
       "        <div style=\"max-height:1000px;max-width:1500px;overflow:auto;\">\n",
       "        <table border=\"1\" class=\"Table\">\n",
       "            <thead> <tr style=\"text-align: right;\"> <th> <div class=\"djtooltip\">\n",
       "                            <p id=\"primary\">sorting_id</p>\n",
       "                            <span class=\"djtooltiptext\"></span>\n",
       "                        </div></th><th><div class=\"djtooltip\">\n",
       "                            <p id=\"nonprimary\">recording_id</p>\n",
       "                            <span class=\"djtooltiptext\"></span>\n",
       "                        </div></th><th><div class=\"djtooltip\">\n",
       "                            <p id=\"nonprimary\">sorter</p>\n",
       "                            <span class=\"djtooltiptext\"></span>\n",
       "                        </div></th><th><div class=\"djtooltip\">\n",
       "                            <p id=\"nonprimary\">sorter_param_name</p>\n",
       "                            <span class=\"djtooltiptext\"></span>\n",
       "                        </div></th><th><div class=\"djtooltip\">\n",
       "                            <p id=\"nonprimary\">nwb_file_name</p>\n",
       "                            <span class=\"djtooltiptext\">name of the NWB file</span>\n",
       "                        </div></th><th><div class=\"djtooltip\">\n",
       "                            <p id=\"nonprimary\">interval_list_name</p>\n",
       "                            <span class=\"djtooltiptext\">descriptive name of this interval list</span>\n",
       "                        </div> </th> </tr> </thead>\n",
       "            <tbody> <tr> <td>16cbb873-052f-44f3-9f4d-89af3544915e</td>\n",
       "<td>3450db49-28d5-4942-aa37-7c19126d16db</td>\n",
       "<td>mountainsort4</td>\n",
       "<td>franklab_tetrode_hippocampus_30KHz</td>\n",
       "<td>minirec20230622_.nwb</td>\n",
       "<td>f03513af-bff8-4732-a6ab-e53f0550e7b0</td> </tr> </tbody>\n",
       "        </table>\n",
       "        \n",
       "        <p>Total: 1</p></div>\n",
       "        "
      ],
      "text/plain": [
       "*sorting_id    recording_id   sorter         sorter_param_n nwb_file_name  interval_list_\n",
       "+------------+ +------------+ +------------+ +------------+ +------------+ +------------+\n",
       "16cbb873-052f- 3450db49-28d5- mountainsort4  franklab_tetro minirec2023062 f03513af-bff8-\n",
       " (Total: 1)"
      ]
     },
     "execution_count": 12,
     "metadata": {},
     "output_type": "execute_result"
    }
   ],
   "source": [
    "sgs.SpikeSortingSelection.insert_selection(key)\n",
    "sgs.SpikeSortingSelection() & key"
   ]
  },
  {
   "cell_type": "markdown",
   "id": "bb343fb7-04d6-48fc-bf67-9919769a7a52",
   "metadata": {},
   "source": [
    "Once `SpikeSortingSelection` is populated, let's run `SpikeSorting.populate`. "
   ]
  },
  {
   "cell_type": "code",
   "execution_count": 13,
   "id": "54ccf059-b1ae-42e8-aede-4af30a61fd2b",
   "metadata": {},
   "outputs": [
    {
     "name": "stdout",
     "output_type": "stream",
     "text": [
      "Mountainsort4 use the OLD spikeextractors mapped with NewToOldRecording\n"
     ]
    },
    {
     "name": "stderr",
     "output_type": "stream",
     "text": [
      "[10:58:17][INFO] Spyglass: Writing new NWB file minirec20230622_PP6Y10VW0V.nwb\n",
      "/home/sambray/mambaforge-pypy3/envs/spyglass/lib/python3.9/site-packages/hdmf/build/objectmapper.py:668: MissingRequiredBuildWarning: NWBFile 'root' is missing required value for attribute 'source_script_file_name'.\n",
      "  warnings.warn(msg, MissingRequiredBuildWarning)\n",
      "/home/sambray/mambaforge-pypy3/envs/spyglass/lib/python3.9/site-packages/datajoint/hash.py:39: ResourceWarning: unclosed file <_io.BufferedReader name='/stelmo/nwb/analysis/minirec20230622/minirec20230622_PP6Y10VW0V.nwb'>\n",
      "  return uuid_from_stream(Path(filepath).open(\"rb\"), init_string=init_string)\n",
      "ResourceWarning: Enable tracemalloc to get the object allocation traceback\n",
      "/home/sambray/mambaforge-pypy3/envs/spyglass/lib/python3.9/site-packages/datajoint/external.py:276: DeprecationWarning: The truth value of an empty array is ambiguous. Returning False, but in future this will result in an error. Use `array.size > 0` to check that an array is not empty.\n",
      "  if check_hash:\n",
      "/home/sambray/mambaforge-pypy3/envs/spyglass/lib/python3.9/tempfile.py:821: ResourceWarning: Implicitly cleaning up <TemporaryDirectory '/stelmo/nwb/tmp/tmpa7_uli3g'>\n",
      "  _warnings.warn(warn_message, ResourceWarning)\n"
     ]
    }
   ],
   "source": [
    "sss_pk = (sgs.SpikeSortingSelection & key).proj()\n",
    "\n",
    "sgs.SpikeSorting.populate(sss_pk)"
   ]
  },
  {
   "cell_type": "markdown",
   "id": "f3d1e621",
   "metadata": {},
   "source": [
    "The spike sorting results (spike times of detected units) are saved in an NWB file. We can access this in two ways. First, we can access it via the `fetch_nwb` method, which allows us to directly access the spike times saved in the `units` table of the NWB file. Second, we can access it as a `spikeinterface.NWBSorting` object. This allows us to take advantage of the rich APIs of `spikeinterface` to further analyze the sorting. "
   ]
  },
  {
   "cell_type": "code",
   "execution_count": 14,
   "id": "3d41d3ab",
   "metadata": {},
   "outputs": [
    {
     "name": "stderr",
     "output_type": "stream",
     "text": [
      "/home/sambray/mambaforge-pypy3/envs/spyglass/lib/python3.9/site-packages/datajoint/hash.py:39: ResourceWarning: unclosed file <_io.BufferedReader name='/stelmo/nwb/analysis/minirec20230622/minirec20230622_PP6Y10VW0V.nwb'>\n",
      "  return uuid_from_stream(Path(filepath).open(\"rb\"), init_string=init_string)\n",
      "ResourceWarning: Enable tracemalloc to get the object allocation traceback\n"
     ]
    }
   ],
   "source": [
    "sorting_nwb = (sgs.SpikeSorting & key).fetch_nwb()\n",
    "sorting_si = sgs.SpikeSorting.get_sorting(key)"
   ]
  },
  {
   "cell_type": "markdown",
   "id": "db328eb1",
   "metadata": {},
   "source": [
    "Note that the spike times of `fetch_nwb` is in units of seconds aligned with the timestamps of the recording. The spike times of the `spikeinterface.NWBSorting` object is in units of samples (as is generally true for sorting objects in `spikeinterface`)."
   ]
  },
  {
   "cell_type": "markdown",
   "id": "55d6c183",
   "metadata": {},
   "source": [
    "## Automatic Curation"
   ]
  },
  {
   "cell_type": "markdown",
   "id": "ea8fcaa0-9dd7-4870-9f5b-be039e3579cc",
   "metadata": {},
   "source": [
    "Next step is to curate the results of spike sorting. This is often necessary because spike sorting algorithms are not perfect;\n",
    "they often return clusters that are clearly not biological in origin, and sometimes oversplit clusters that should have been merged.\n",
    "We have two main ways of curating spike sorting: by computing quality metrics followed by thresholding, and manually applying curation labels.\n",
    "To do either, we first insert the spike sorting to `CurationV1` using `insert_curation` method.\n"
   ]
  },
  {
   "cell_type": "code",
   "execution_count": 15,
   "id": "6245eec9-3fba-4071-b58b-eec6d9345532",
   "metadata": {},
   "outputs": [
    {
     "name": "stderr",
     "output_type": "stream",
     "text": [
      "[10:58:32][INFO] Spyglass: Writing new NWB file minirec20230622_SYPH1SYT75.nwb\n",
      "/home/sambray/mambaforge-pypy3/envs/spyglass/lib/python3.9/site-packages/hdmf/build/objectmapper.py:668: MissingRequiredBuildWarning: NWBFile 'root' is missing required value for attribute 'source_script_file_name'.\n",
      "  warnings.warn(msg, MissingRequiredBuildWarning)\n",
      "/home/sambray/mambaforge-pypy3/envs/spyglass/lib/python3.9/site-packages/datajoint/hash.py:39: ResourceWarning: unclosed file <_io.BufferedReader name='/stelmo/nwb/analysis/minirec20230622/minirec20230622_SYPH1SYT75.nwb'>\n",
      "  return uuid_from_stream(Path(filepath).open(\"rb\"), init_string=init_string)\n",
      "ResourceWarning: Enable tracemalloc to get the object allocation traceback\n",
      "/home/sambray/mambaforge-pypy3/envs/spyglass/lib/python3.9/site-packages/datajoint/external.py:276: DeprecationWarning: The truth value of an empty array is ambiguous. Returning False, but in future this will result in an error. Use `array.size > 0` to check that an array is not empty.\n",
      "  if check_hash:\n"
     ]
    },
    {
     "data": {
      "text/plain": [
       "{'sorting_id': UUID('16cbb873-052f-44f3-9f4d-89af3544915e'),\n",
       " 'curation_id': 0,\n",
       " 'parent_curation_id': -1,\n",
       " 'analysis_file_name': 'minirec20230622_SYPH1SYT75.nwb',\n",
       " 'object_id': '3e4f927b-716f-4dd8-9c98-acd132d758fb',\n",
       " 'merges_applied': False,\n",
       " 'description': 'testing sort'}"
      ]
     },
     "execution_count": 15,
     "metadata": {},
     "output_type": "execute_result"
    }
   ],
   "source": [
    "sgs.SpikeSortingRecording & key\n",
    "sgs.CurationV1.insert_curation(\n",
    "    sorting_id=(\n",
    "        sgs.SpikeSortingSelection & {\"recording_id\": key[\"recording_id\"]}\n",
    "    ).fetch1(\"sorting_id\"),\n",
    "    description=\"testing sort\",\n",
    ")"
   ]
  },
  {
   "cell_type": "code",
   "execution_count": 16,
   "id": "5bec5b97-4e9f-4ee9-a6b5-4f05f4726744",
   "metadata": {},
   "outputs": [
    {
     "data": {
      "text/html": [
       "\n",
       "    \n",
       "    <style type=\"text/css\">\n",
       "        .Table{\n",
       "            border-collapse:collapse;\n",
       "        }\n",
       "        .Table th{\n",
       "            background: #A0A0A0; color: #ffffff; padding:4px; border:#f0e0e0 1px solid;\n",
       "            font-weight: normal; font-family: monospace; font-size: 100%;\n",
       "        }\n",
       "        .Table td{\n",
       "            padding:4px; border:#f0e0e0 1px solid; font-size:100%;\n",
       "        }\n",
       "        .Table tr:nth-child(odd){\n",
       "            background: #ffffff;\n",
       "            color: #000000;\n",
       "        }\n",
       "        .Table tr:nth-child(even){\n",
       "            background: #f3f1ff;\n",
       "            color: #000000;\n",
       "        }\n",
       "        /* Tooltip container */\n",
       "        .djtooltip {\n",
       "        }\n",
       "        /* Tooltip text */\n",
       "        .djtooltip .djtooltiptext {\n",
       "            visibility: hidden;\n",
       "            width: 120px;\n",
       "            background-color: black;\n",
       "            color: #fff;\n",
       "            text-align: center;\n",
       "            padding: 5px 0;\n",
       "            border-radius: 6px;\n",
       "            /* Position the tooltip text - see examples below! */\n",
       "            position: absolute;\n",
       "            z-index: 1;\n",
       "        }\n",
       "        #primary {\n",
       "            font-weight: bold;\n",
       "            color: black;\n",
       "        }\n",
       "        #nonprimary {\n",
       "            font-weight: normal;\n",
       "            color: white;\n",
       "        }\n",
       "\n",
       "        /* Show the tooltip text when you mouse over the tooltip container */\n",
       "        .djtooltip:hover .djtooltiptext {\n",
       "            visibility: visible;\n",
       "        }\n",
       "    </style>\n",
       "    \n",
       "    <b>Curation of a SpikeSorting. Use `insert_curation` to insert rows.</b>\n",
       "        <div style=\"max-height:1000px;max-width:1500px;overflow:auto;\">\n",
       "        <table border=\"1\" class=\"Table\">\n",
       "            <thead> <tr style=\"text-align: right;\"> <th> <div class=\"djtooltip\">\n",
       "                            <p id=\"primary\">sorting_id</p>\n",
       "                            <span class=\"djtooltiptext\"></span>\n",
       "                        </div></th><th><div class=\"djtooltip\">\n",
       "                            <p id=\"primary\">curation_id</p>\n",
       "                            <span class=\"djtooltiptext\"></span>\n",
       "                        </div></th><th><div class=\"djtooltip\">\n",
       "                            <p id=\"nonprimary\">parent_curation_id</p>\n",
       "                            <span class=\"djtooltiptext\"></span>\n",
       "                        </div></th><th><div class=\"djtooltip\">\n",
       "                            <p id=\"nonprimary\">analysis_file_name</p>\n",
       "                            <span class=\"djtooltiptext\">name of the file</span>\n",
       "                        </div></th><th><div class=\"djtooltip\">\n",
       "                            <p id=\"nonprimary\">object_id</p>\n",
       "                            <span class=\"djtooltiptext\"></span>\n",
       "                        </div></th><th><div class=\"djtooltip\">\n",
       "                            <p id=\"nonprimary\">merges_applied</p>\n",
       "                            <span class=\"djtooltiptext\"></span>\n",
       "                        </div></th><th><div class=\"djtooltip\">\n",
       "                            <p id=\"nonprimary\">description</p>\n",
       "                            <span class=\"djtooltiptext\"></span>\n",
       "                        </div> </th> </tr> </thead>\n",
       "            <tbody> <tr> <td>021fb85a-992f-4360-99c7-e2da32c5b9cb</td>\n",
       "<td>0</td>\n",
       "<td>-1</td>\n",
       "<td>BS2820231107_8Z8CLG184Z.nwb</td>\n",
       "<td>37ee7365-028f-46e1-8351-1cd402a7b36c</td>\n",
       "<td>0</td>\n",
       "<td>testing sort</td></tr><tr><td>021fb85a-992f-4360-99c7-e2da32c5b9cb</td>\n",
       "<td>1</td>\n",
       "<td>0</td>\n",
       "<td>BS2820231107_HPIQR9LZWU.nwb</td>\n",
       "<td>538032a5-5d29-4cb8-b0a2-7224fee6d8ce</td>\n",
       "<td>0</td>\n",
       "<td>after metric curation</td></tr><tr><td>021fb85a-992f-4360-99c7-e2da32c5b9cb</td>\n",
       "<td>2</td>\n",
       "<td>0</td>\n",
       "<td>BS2820231107_SVW8YK84IP.nwb</td>\n",
       "<td>ed440315-7302-4217-be15-087c7efeda7e</td>\n",
       "<td>0</td>\n",
       "<td>after metric curation</td></tr><tr><td>021fb85a-992f-4360-99c7-e2da32c5b9cb</td>\n",
       "<td>3</td>\n",
       "<td>0</td>\n",
       "<td>BS2820231107_7CWR2JR68B.nwb</td>\n",
       "<td>0d8be667-2831-4e99-8c9b-54102de48e85</td>\n",
       "<td>0</td>\n",
       "<td>after metric curation</td></tr><tr><td>021fb85a-992f-4360-99c7-e2da32c5b9cb</td>\n",
       "<td>4</td>\n",
       "<td>0</td>\n",
       "<td>BS2820231107_1PCRTB2UZ2.nwb</td>\n",
       "<td>9f9e9a1e-9be3-405c-9c66-4bf6dc54d4d9</td>\n",
       "<td>0</td>\n",
       "<td>after metric curation</td></tr><tr><td>021fb85a-992f-4360-99c7-e2da32c5b9cb</td>\n",
       "<td>5</td>\n",
       "<td>0</td>\n",
       "<td>BS2820231107_4NPZ4YTASV.nwb</td>\n",
       "<td>89170a28-487a-4787-83dd-18009c446700</td>\n",
       "<td>0</td>\n",
       "<td>after metric curation</td></tr><tr><td>021fb85a-992f-4360-99c7-e2da32c5b9cb</td>\n",
       "<td>6</td>\n",
       "<td>0</td>\n",
       "<td>BS2820231107_MMSIJ8YQ54.nwb</td>\n",
       "<td>c9fb8c88-6449-4d9a-a40a-cd10dcdc193f</td>\n",
       "<td>0</td>\n",
       "<td>after metric curation</td></tr><tr><td>021fb85a-992f-4360-99c7-e2da32c5b9cb</td>\n",
       "<td>7</td>\n",
       "<td>0</td>\n",
       "<td>BS2820231107_LZJWQPP1YW.nwb</td>\n",
       "<td>f078e3bb-92fc-4e7f-b3a8-32936a90e057</td>\n",
       "<td>0</td>\n",
       "<td>after metric curation</td></tr><tr><td>021fb85a-992f-4360-99c7-e2da32c5b9cb</td>\n",
       "<td>8</td>\n",
       "<td>0</td>\n",
       "<td>BS2820231107_RJ7DLUKOIG.nwb</td>\n",
       "<td>c311fbfb-cd3d-4d92-b535-b5da3d4a6ec3</td>\n",
       "<td>0</td>\n",
       "<td>after metric curation</td></tr><tr><td>021fb85a-992f-4360-99c7-e2da32c5b9cb</td>\n",
       "<td>9</td>\n",
       "<td>0</td>\n",
       "<td>BS2820231107_6ZJP5NRCX9.nwb</td>\n",
       "<td>a54ee3f8-851a-4dca-bb46-7673e2807462</td>\n",
       "<td>0</td>\n",
       "<td>after metric curation</td></tr><tr><td>03dc29a5-febe-4a59-ab61-21a25dea3625</td>\n",
       "<td>0</td>\n",
       "<td>-1</td>\n",
       "<td>j1620210710_EOE1VZ4YAX.nwb</td>\n",
       "<td>52889e86-c249-4916-9576-a9ccf7f48dbe</td>\n",
       "<td>0</td>\n",
       "<td></td></tr><tr><td>061ba57b-d2cb-4052-b375-42ba13684e41</td>\n",
       "<td>0</td>\n",
       "<td>-1</td>\n",
       "<td>BS2820231107_S21IIVRCZA.nwb</td>\n",
       "<td>5d71500d-1065-4610-b3a6-746821d0f438</td>\n",
       "<td>0</td>\n",
       "<td>testing sort</td> </tr> </tbody>\n",
       "        </table>\n",
       "        <p>...</p>\n",
       "        <p>Total: 626</p></div>\n",
       "        "
      ],
      "text/plain": [
       "*sorting_id    *curation_id   parent_curatio analysis_file_ object_id      merges_applied description   \n",
       "+------------+ +------------+ +------------+ +------------+ +------------+ +------------+ +------------+\n",
       "021fb85a-992f- 0              -1             BS2820231107_8 37ee7365-028f- 0              testing sort  \n",
       "021fb85a-992f- 1              0              BS2820231107_H 538032a5-5d29- 0              after metric c\n",
       "021fb85a-992f- 2              0              BS2820231107_S ed440315-7302- 0              after metric c\n",
       "021fb85a-992f- 3              0              BS2820231107_7 0d8be667-2831- 0              after metric c\n",
       "021fb85a-992f- 4              0              BS2820231107_1 9f9e9a1e-9be3- 0              after metric c\n",
       "021fb85a-992f- 5              0              BS2820231107_4 89170a28-487a- 0              after metric c\n",
       "021fb85a-992f- 6              0              BS2820231107_M c9fb8c88-6449- 0              after metric c\n",
       "021fb85a-992f- 7              0              BS2820231107_L f078e3bb-92fc- 0              after metric c\n",
       "021fb85a-992f- 8              0              BS2820231107_R c311fbfb-cd3d- 0              after metric c\n",
       "021fb85a-992f- 9              0              BS2820231107_6 a54ee3f8-851a- 0              after metric c\n",
       "03dc29a5-febe- 0              -1             j1620210710_EO 52889e86-c249- 0                            \n",
       "061ba57b-d2cb- 0              -1             BS2820231107_S 5d71500d-1065- 0              testing sort  \n",
       "   ...\n",
       " (Total: 626)"
      ]
     },
     "execution_count": 16,
     "metadata": {},
     "output_type": "execute_result"
    }
   ],
   "source": [
    "sgs.CurationV1()"
   ]
  },
  {
   "cell_type": "markdown",
   "id": "97317b6f-a40a-4f84-8042-4361064f010a",
   "metadata": {},
   "source": [
    "We will first do an automatic curation based on quality metrics. Under the hood, this part again makes use of `spikeinterface`. Some of the quality metrics that we often compute are the nearest neighbor isolation and noise overlap metrics, as well as SNR and ISI violation rate. For computing some of these metrics, the waveforms must be extracted and projected onto a feature space. Thus here we set the parameters for waveform extraction as well as how to curate the units based on these metrics (e.g. if `nn_noise_overlap` is greater than 0.1, mark as `noise`)."
   ]
  },
  {
   "cell_type": "code",
   "execution_count": 17,
   "id": "7207abda-ea84-43af-97d4-e5be3464d28d",
   "metadata": {},
   "outputs": [],
   "source": [
    "key = {\n",
    "    \"sorting_id\": (\n",
    "        sgs.SpikeSortingSelection & {\"recording_id\": key[\"recording_id\"]}\n",
    "    ).fetch1(\"sorting_id\"),\n",
    "    \"curation_id\": 0,\n",
    "    \"waveform_param_name\": \"default_not_whitened\",\n",
    "    \"metric_param_name\": \"franklab_default\",\n",
    "    \"metric_curation_param_name\": \"default\",\n",
    "}"
   ]
  },
  {
   "cell_type": "code",
   "execution_count": 18,
   "id": "14c2eacc-cc45-4e61-9919-04785a721079",
   "metadata": {},
   "outputs": [
    {
     "data": {
      "text/html": [
       "\n",
       "    \n",
       "    <style type=\"text/css\">\n",
       "        .Table{\n",
       "            border-collapse:collapse;\n",
       "        }\n",
       "        .Table th{\n",
       "            background: #A0A0A0; color: #ffffff; padding:4px; border:#f0e0e0 1px solid;\n",
       "            font-weight: normal; font-family: monospace; font-size: 100%;\n",
       "        }\n",
       "        .Table td{\n",
       "            padding:4px; border:#f0e0e0 1px solid; font-size:100%;\n",
       "        }\n",
       "        .Table tr:nth-child(odd){\n",
       "            background: #ffffff;\n",
       "            color: #000000;\n",
       "        }\n",
       "        .Table tr:nth-child(even){\n",
       "            background: #f3f1ff;\n",
       "            color: #000000;\n",
       "        }\n",
       "        /* Tooltip container */\n",
       "        .djtooltip {\n",
       "        }\n",
       "        /* Tooltip text */\n",
       "        .djtooltip .djtooltiptext {\n",
       "            visibility: hidden;\n",
       "            width: 120px;\n",
       "            background-color: black;\n",
       "            color: #fff;\n",
       "            text-align: center;\n",
       "            padding: 5px 0;\n",
       "            border-radius: 6px;\n",
       "            /* Position the tooltip text - see examples below! */\n",
       "            position: absolute;\n",
       "            z-index: 1;\n",
       "        }\n",
       "        #primary {\n",
       "            font-weight: bold;\n",
       "            color: black;\n",
       "        }\n",
       "        #nonprimary {\n",
       "            font-weight: normal;\n",
       "            color: white;\n",
       "        }\n",
       "\n",
       "        /* Show the tooltip text when you mouse over the tooltip container */\n",
       "        .djtooltip:hover .djtooltiptext {\n",
       "            visibility: visible;\n",
       "        }\n",
       "    </style>\n",
       "    \n",
       "    <b>Spike sorting and parameters for metric curation. Use `insert_selection` to insert a row into this table.</b>\n",
       "        <div style=\"max-height:1000px;max-width:1500px;overflow:auto;\">\n",
       "        <table border=\"1\" class=\"Table\">\n",
       "            <thead> <tr style=\"text-align: right;\"> <th> <div class=\"djtooltip\">\n",
       "                            <p id=\"primary\">metric_curation_id</p>\n",
       "                            <span class=\"djtooltiptext\"></span>\n",
       "                        </div></th><th><div class=\"djtooltip\">\n",
       "                            <p id=\"nonprimary\">sorting_id</p>\n",
       "                            <span class=\"djtooltiptext\"></span>\n",
       "                        </div></th><th><div class=\"djtooltip\">\n",
       "                            <p id=\"nonprimary\">curation_id</p>\n",
       "                            <span class=\"djtooltiptext\"></span>\n",
       "                        </div></th><th><div class=\"djtooltip\">\n",
       "                            <p id=\"nonprimary\">waveform_param_name</p>\n",
       "                            <span class=\"djtooltiptext\">name of waveform extraction parameters</span>\n",
       "                        </div></th><th><div class=\"djtooltip\">\n",
       "                            <p id=\"nonprimary\">metric_param_name</p>\n",
       "                            <span class=\"djtooltiptext\"></span>\n",
       "                        </div></th><th><div class=\"djtooltip\">\n",
       "                            <p id=\"nonprimary\">metric_curation_param_name</p>\n",
       "                            <span class=\"djtooltiptext\"></span>\n",
       "                        </div> </th> </tr> </thead>\n",
       "            <tbody> <tr> <td>5bd75cd5-cc2e-41dd-9056-5d62fa46021a</td>\n",
       "<td>16cbb873-052f-44f3-9f4d-89af3544915e</td>\n",
       "<td>0</td>\n",
       "<td>default_not_whitened</td>\n",
       "<td>franklab_default</td>\n",
       "<td>default</td> </tr> </tbody>\n",
       "        </table>\n",
       "        \n",
       "        <p>Total: 1</p></div>\n",
       "        "
      ],
      "text/plain": [
       "*metric_curati sorting_id     curation_id    waveform_param metric_param_n metric_curatio\n",
       "+------------+ +------------+ +------------+ +------------+ +------------+ +------------+\n",
       "5bd75cd5-cc2e- 16cbb873-052f- 0              default_not_wh franklab_defau default       \n",
       " (Total: 1)"
      ]
     },
     "execution_count": 18,
     "metadata": {},
     "output_type": "execute_result"
    }
   ],
   "source": [
    "sgs.MetricCurationSelection.insert_selection(key)\n",
    "sgs.MetricCurationSelection() & key"
   ]
  },
  {
   "cell_type": "code",
   "execution_count": 27,
   "id": "d22f5725-4fd1-42ea-a1d4-590bd1353d46",
   "metadata": {},
   "outputs": [
    {
     "data": {
      "text/html": [
       "\n",
       "    \n",
       "    <style type=\"text/css\">\n",
       "        .Table{\n",
       "            border-collapse:collapse;\n",
       "        }\n",
       "        .Table th{\n",
       "            background: #A0A0A0; color: #ffffff; padding:4px; border:#f0e0e0 1px solid;\n",
       "            font-weight: normal; font-family: monospace; font-size: 100%;\n",
       "        }\n",
       "        .Table td{\n",
       "            padding:4px; border:#f0e0e0 1px solid; font-size:100%;\n",
       "        }\n",
       "        .Table tr:nth-child(odd){\n",
       "            background: #ffffff;\n",
       "            color: #000000;\n",
       "        }\n",
       "        .Table tr:nth-child(even){\n",
       "            background: #f3f1ff;\n",
       "            color: #000000;\n",
       "        }\n",
       "        /* Tooltip container */\n",
       "        .djtooltip {\n",
       "        }\n",
       "        /* Tooltip text */\n",
       "        .djtooltip .djtooltiptext {\n",
       "            visibility: hidden;\n",
       "            width: 120px;\n",
       "            background-color: black;\n",
       "            color: #fff;\n",
       "            text-align: center;\n",
       "            padding: 5px 0;\n",
       "            border-radius: 6px;\n",
       "            /* Position the tooltip text - see examples below! */\n",
       "            position: absolute;\n",
       "            z-index: 1;\n",
       "        }\n",
       "        #primary {\n",
       "            font-weight: bold;\n",
       "            color: black;\n",
       "        }\n",
       "        #nonprimary {\n",
       "            font-weight: normal;\n",
       "            color: white;\n",
       "        }\n",
       "\n",
       "        /* Show the tooltip text when you mouse over the tooltip container */\n",
       "        .djtooltip:hover .djtooltiptext {\n",
       "            visibility: visible;\n",
       "        }\n",
       "    </style>\n",
       "    \n",
       "    <b>Results of applying curation based on quality metrics. To do additional curation, insert another row in `CurationV1`</b>\n",
       "        <div style=\"max-height:1000px;max-width:1500px;overflow:auto;\">\n",
       "        <table border=\"1\" class=\"Table\">\n",
       "            <thead> <tr style=\"text-align: right;\"> <th> <div class=\"djtooltip\">\n",
       "                            <p id=\"primary\">metric_curation_id</p>\n",
       "                            <span class=\"djtooltiptext\"></span>\n",
       "                        </div></th><th><div class=\"djtooltip\">\n",
       "                            <p id=\"nonprimary\">analysis_file_name</p>\n",
       "                            <span class=\"djtooltiptext\">name of the file</span>\n",
       "                        </div></th><th><div class=\"djtooltip\">\n",
       "                            <p id=\"nonprimary\">object_id</p>\n",
       "                            <span class=\"djtooltiptext\">Object ID for the metrics in NWB file</span>\n",
       "                        </div> </th> </tr> </thead>\n",
       "            <tbody> <tr> <td>5bd75cd5-cc2e-41dd-9056-5d62fa46021a</td>\n",
       "<td>minirec20230622_PVSMM7XHHJ.nwb</td>\n",
       "<td>01b58a59-1b49-4bd1-a204-16fb09d67b2a</td> </tr> </tbody>\n",
       "        </table>\n",
       "        \n",
       "        <p>Total: 1</p></div>\n",
       "        "
      ],
      "text/plain": [
       "*metric_curati analysis_file_ object_id     \n",
       "+------------+ +------------+ +------------+\n",
       "5bd75cd5-cc2e- minirec2023062 01b58a59-1b49-\n",
       " (Total: 1)"
      ]
     },
     "execution_count": 27,
     "metadata": {},
     "output_type": "execute_result"
    }
   ],
   "source": [
    "sgs.MetricCuration.populate(key)\n",
    "sgs.MetricCuration() & key"
   ]
  },
  {
   "cell_type": "markdown",
   "id": "54f354bf-0bfa-4148-9c5d-c5593f3f3915",
   "metadata": {},
   "source": [
    "to do another round of curation, fetch the relevant info and insert back into CurationV1 using `insert_curation`\n"
   ]
  },
  {
   "cell_type": "code",
   "execution_count": 28,
   "id": "544ba8c0-560e-471b-9eaf-5924f6051faa",
   "metadata": {},
   "outputs": [
    {
     "name": "stderr",
     "output_type": "stream",
     "text": [
      "[11:08:29][INFO] Spyglass: Writing new NWB file minirec20230622_ZCMODPF1NM.nwb\n",
      "/home/sambray/mambaforge-pypy3/envs/spyglass/lib/python3.9/site-packages/hdmf/build/objectmapper.py:668: MissingRequiredBuildWarning: NWBFile 'root' is missing required value for attribute 'source_script_file_name'.\n",
      "  warnings.warn(msg, MissingRequiredBuildWarning)\n",
      "/home/sambray/mambaforge-pypy3/envs/spyglass/lib/python3.9/site-packages/datajoint/hash.py:39: ResourceWarning: unclosed file <_io.BufferedReader name='/stelmo/nwb/analysis/minirec20230622/minirec20230622_ZCMODPF1NM.nwb'>\n",
      "  return uuid_from_stream(Path(filepath).open(\"rb\"), init_string=init_string)\n",
      "ResourceWarning: Enable tracemalloc to get the object allocation traceback\n",
      "/home/sambray/mambaforge-pypy3/envs/spyglass/lib/python3.9/site-packages/datajoint/external.py:276: DeprecationWarning: The truth value of an empty array is ambiguous. Returning False, but in future this will result in an error. Use `array.size > 0` to check that an array is not empty.\n",
      "  if check_hash:\n"
     ]
    },
    {
     "data": {
      "text/plain": [
       "{'sorting_id': UUID('16cbb873-052f-44f3-9f4d-89af3544915e'),\n",
       " 'curation_id': 1,\n",
       " 'parent_curation_id': 0,\n",
       " 'analysis_file_name': 'minirec20230622_ZCMODPF1NM.nwb',\n",
       " 'object_id': 'c43cd7ab-e5bd-4528-a0e5-0ca7c337a72d',\n",
       " 'merges_applied': False,\n",
       " 'description': 'after metric curation'}"
      ]
     },
     "execution_count": 28,
     "metadata": {},
     "output_type": "execute_result"
    }
   ],
   "source": [
    "key = {\n",
    "    \"metric_curation_id\": (\n",
    "        sgs.MetricCurationSelection & {\"sorting_id\": key[\"sorting_id\"]}\n",
    "    ).fetch1(\"metric_curation_id\")\n",
    "}\n",
    "labels = sgs.MetricCuration.get_labels(key)\n",
    "merge_groups = sgs.MetricCuration.get_merge_groups(key)\n",
    "metrics = sgs.MetricCuration.get_metrics(key)\n",
    "sgs.CurationV1.insert_curation(\n",
    "    sorting_id=(\n",
    "        sgs.MetricCurationSelection\n",
    "        & {\"metric_curation_id\": key[\"metric_curation_id\"]}\n",
    "    ).fetch1(\"sorting_id\"),\n",
    "    parent_curation_id=0,\n",
    "    labels=labels,\n",
    "    merge_groups=merge_groups,\n",
    "    metrics=metrics,\n",
    "    description=\"after metric curation\",\n",
    ")"
   ]
  },
  {
   "cell_type": "code",
   "execution_count": 29,
   "id": "f7c6bfd9-5985-41e1-bf37-8c8874b59191",
   "metadata": {},
   "outputs": [
    {
     "data": {
      "text/html": [
       "\n",
       "    \n",
       "    <style type=\"text/css\">\n",
       "        .Table{\n",
       "            border-collapse:collapse;\n",
       "        }\n",
       "        .Table th{\n",
       "            background: #A0A0A0; color: #ffffff; padding:4px; border:#f0e0e0 1px solid;\n",
       "            font-weight: normal; font-family: monospace; font-size: 100%;\n",
       "        }\n",
       "        .Table td{\n",
       "            padding:4px; border:#f0e0e0 1px solid; font-size:100%;\n",
       "        }\n",
       "        .Table tr:nth-child(odd){\n",
       "            background: #ffffff;\n",
       "            color: #000000;\n",
       "        }\n",
       "        .Table tr:nth-child(even){\n",
       "            background: #f3f1ff;\n",
       "            color: #000000;\n",
       "        }\n",
       "        /* Tooltip container */\n",
       "        .djtooltip {\n",
       "        }\n",
       "        /* Tooltip text */\n",
       "        .djtooltip .djtooltiptext {\n",
       "            visibility: hidden;\n",
       "            width: 120px;\n",
       "            background-color: black;\n",
       "            color: #fff;\n",
       "            text-align: center;\n",
       "            padding: 5px 0;\n",
       "            border-radius: 6px;\n",
       "            /* Position the tooltip text - see examples below! */\n",
       "            position: absolute;\n",
       "            z-index: 1;\n",
       "        }\n",
       "        #primary {\n",
       "            font-weight: bold;\n",
       "            color: black;\n",
       "        }\n",
       "        #nonprimary {\n",
       "            font-weight: normal;\n",
       "            color: white;\n",
       "        }\n",
       "\n",
       "        /* Show the tooltip text when you mouse over the tooltip container */\n",
       "        .djtooltip:hover .djtooltiptext {\n",
       "            visibility: visible;\n",
       "        }\n",
       "    </style>\n",
       "    \n",
       "    <b>Curation of a SpikeSorting. Use `insert_curation` to insert rows.</b>\n",
       "        <div style=\"max-height:1000px;max-width:1500px;overflow:auto;\">\n",
       "        <table border=\"1\" class=\"Table\">\n",
       "            <thead> <tr style=\"text-align: right;\"> <th> <div class=\"djtooltip\">\n",
       "                            <p id=\"primary\">sorting_id</p>\n",
       "                            <span class=\"djtooltiptext\"></span>\n",
       "                        </div></th><th><div class=\"djtooltip\">\n",
       "                            <p id=\"primary\">curation_id</p>\n",
       "                            <span class=\"djtooltiptext\"></span>\n",
       "                        </div></th><th><div class=\"djtooltip\">\n",
       "                            <p id=\"nonprimary\">parent_curation_id</p>\n",
       "                            <span class=\"djtooltiptext\"></span>\n",
       "                        </div></th><th><div class=\"djtooltip\">\n",
       "                            <p id=\"nonprimary\">analysis_file_name</p>\n",
       "                            <span class=\"djtooltiptext\">name of the file</span>\n",
       "                        </div></th><th><div class=\"djtooltip\">\n",
       "                            <p id=\"nonprimary\">object_id</p>\n",
       "                            <span class=\"djtooltiptext\"></span>\n",
       "                        </div></th><th><div class=\"djtooltip\">\n",
       "                            <p id=\"nonprimary\">merges_applied</p>\n",
       "                            <span class=\"djtooltiptext\"></span>\n",
       "                        </div></th><th><div class=\"djtooltip\">\n",
       "                            <p id=\"nonprimary\">description</p>\n",
       "                            <span class=\"djtooltiptext\"></span>\n",
       "                        </div> </th> </tr> </thead>\n",
       "            <tbody> <tr> <td>021fb85a-992f-4360-99c7-e2da32c5b9cb</td>\n",
       "<td>0</td>\n",
       "<td>-1</td>\n",
       "<td>BS2820231107_8Z8CLG184Z.nwb</td>\n",
       "<td>37ee7365-028f-46e1-8351-1cd402a7b36c</td>\n",
       "<td>0</td>\n",
       "<td>testing sort</td></tr><tr><td>021fb85a-992f-4360-99c7-e2da32c5b9cb</td>\n",
       "<td>1</td>\n",
       "<td>0</td>\n",
       "<td>BS2820231107_HPIQR9LZWU.nwb</td>\n",
       "<td>538032a5-5d29-4cb8-b0a2-7224fee6d8ce</td>\n",
       "<td>0</td>\n",
       "<td>after metric curation</td></tr><tr><td>021fb85a-992f-4360-99c7-e2da32c5b9cb</td>\n",
       "<td>2</td>\n",
       "<td>0</td>\n",
       "<td>BS2820231107_SVW8YK84IP.nwb</td>\n",
       "<td>ed440315-7302-4217-be15-087c7efeda7e</td>\n",
       "<td>0</td>\n",
       "<td>after metric curation</td></tr><tr><td>021fb85a-992f-4360-99c7-e2da32c5b9cb</td>\n",
       "<td>3</td>\n",
       "<td>0</td>\n",
       "<td>BS2820231107_7CWR2JR68B.nwb</td>\n",
       "<td>0d8be667-2831-4e99-8c9b-54102de48e85</td>\n",
       "<td>0</td>\n",
       "<td>after metric curation</td></tr><tr><td>021fb85a-992f-4360-99c7-e2da32c5b9cb</td>\n",
       "<td>4</td>\n",
       "<td>0</td>\n",
       "<td>BS2820231107_1PCRTB2UZ2.nwb</td>\n",
       "<td>9f9e9a1e-9be3-405c-9c66-4bf6dc54d4d9</td>\n",
       "<td>0</td>\n",
       "<td>after metric curation</td></tr><tr><td>021fb85a-992f-4360-99c7-e2da32c5b9cb</td>\n",
       "<td>5</td>\n",
       "<td>0</td>\n",
       "<td>BS2820231107_4NPZ4YTASV.nwb</td>\n",
       "<td>89170a28-487a-4787-83dd-18009c446700</td>\n",
       "<td>0</td>\n",
       "<td>after metric curation</td></tr><tr><td>021fb85a-992f-4360-99c7-e2da32c5b9cb</td>\n",
       "<td>6</td>\n",
       "<td>0</td>\n",
       "<td>BS2820231107_MMSIJ8YQ54.nwb</td>\n",
       "<td>c9fb8c88-6449-4d9a-a40a-cd10dcdc193f</td>\n",
       "<td>0</td>\n",
       "<td>after metric curation</td></tr><tr><td>021fb85a-992f-4360-99c7-e2da32c5b9cb</td>\n",
       "<td>7</td>\n",
       "<td>0</td>\n",
       "<td>BS2820231107_LZJWQPP1YW.nwb</td>\n",
       "<td>f078e3bb-92fc-4e7f-b3a8-32936a90e057</td>\n",
       "<td>0</td>\n",
       "<td>after metric curation</td></tr><tr><td>021fb85a-992f-4360-99c7-e2da32c5b9cb</td>\n",
       "<td>8</td>\n",
       "<td>0</td>\n",
       "<td>BS2820231107_RJ7DLUKOIG.nwb</td>\n",
       "<td>c311fbfb-cd3d-4d92-b535-b5da3d4a6ec3</td>\n",
       "<td>0</td>\n",
       "<td>after metric curation</td></tr><tr><td>021fb85a-992f-4360-99c7-e2da32c5b9cb</td>\n",
       "<td>9</td>\n",
       "<td>0</td>\n",
       "<td>BS2820231107_6ZJP5NRCX9.nwb</td>\n",
       "<td>a54ee3f8-851a-4dca-bb46-7673e2807462</td>\n",
       "<td>0</td>\n",
       "<td>after metric curation</td></tr><tr><td>03dc29a5-febe-4a59-ab61-21a25dea3625</td>\n",
       "<td>0</td>\n",
       "<td>-1</td>\n",
       "<td>j1620210710_EOE1VZ4YAX.nwb</td>\n",
       "<td>52889e86-c249-4916-9576-a9ccf7f48dbe</td>\n",
       "<td>0</td>\n",
       "<td></td></tr><tr><td>061ba57b-d2cb-4052-b375-42ba13684e41</td>\n",
       "<td>0</td>\n",
       "<td>-1</td>\n",
       "<td>BS2820231107_S21IIVRCZA.nwb</td>\n",
       "<td>5d71500d-1065-4610-b3a6-746821d0f438</td>\n",
       "<td>0</td>\n",
       "<td>testing sort</td> </tr> </tbody>\n",
       "        </table>\n",
       "        <p>...</p>\n",
       "        <p>Total: 627</p></div>\n",
       "        "
      ],
      "text/plain": [
       "*sorting_id    *curation_id   parent_curatio analysis_file_ object_id      merges_applied description   \n",
       "+------------+ +------------+ +------------+ +------------+ +------------+ +------------+ +------------+\n",
       "021fb85a-992f- 0              -1             BS2820231107_8 37ee7365-028f- 0              testing sort  \n",
       "021fb85a-992f- 1              0              BS2820231107_H 538032a5-5d29- 0              after metric c\n",
       "021fb85a-992f- 2              0              BS2820231107_S ed440315-7302- 0              after metric c\n",
       "021fb85a-992f- 3              0              BS2820231107_7 0d8be667-2831- 0              after metric c\n",
       "021fb85a-992f- 4              0              BS2820231107_1 9f9e9a1e-9be3- 0              after metric c\n",
       "021fb85a-992f- 5              0              BS2820231107_4 89170a28-487a- 0              after metric c\n",
       "021fb85a-992f- 6              0              BS2820231107_M c9fb8c88-6449- 0              after metric c\n",
       "021fb85a-992f- 7              0              BS2820231107_L f078e3bb-92fc- 0              after metric c\n",
       "021fb85a-992f- 8              0              BS2820231107_R c311fbfb-cd3d- 0              after metric c\n",
       "021fb85a-992f- 9              0              BS2820231107_6 a54ee3f8-851a- 0              after metric c\n",
       "03dc29a5-febe- 0              -1             j1620210710_EO 52889e86-c249- 0                            \n",
       "061ba57b-d2cb- 0              -1             BS2820231107_S 5d71500d-1065- 0              testing sort  \n",
       "   ...\n",
       " (Total: 627)"
      ]
     },
     "execution_count": 29,
     "metadata": {},
     "output_type": "execute_result"
    }
   ],
   "source": [
    "sgs.CurationV1()"
   ]
  },
  {
   "cell_type": "markdown",
   "id": "a627274b",
   "metadata": {},
   "source": [
    "## Manual Curation (Optional)"
   ]
  },
  {
   "cell_type": "markdown",
   "id": "cf8708a4-0a55-4309-b3c4-dbf47d61ad31",
   "metadata": {},
   "source": [
    "Next we will do manual curation. this is done with figurl. to incorporate info from other stages of processing (e.g. metrics) we have to store that with kachery cloud and get curation uri referring to it. it can be done with `generate_curation_uri`.\n",
    "\n",
    "_Note_: This step is dependent on setting up a kachery sharing system as described in [02_Data_Sync.ipynb](02_Data_Sync.ipynb)\n",
    "and will likely not work correctly on the spyglass-demo server.\n"
   ]
  },
  {
   "cell_type": "code",
   "execution_count": null,
   "id": "924cdfce-e287-41d7-abf9-872797637777",
   "metadata": {},
   "outputs": [],
   "source": [
    "curation_uri = sgs.FigURLCurationSelection.generate_curation_uri(\n",
    "    {\n",
    "        \"sorting_id\": (\n",
    "            sgs.MetricCurationSelection\n",
    "            & {\"metric_curation_id\": key[\"metric_curation_id\"]}\n",
    "        ).fetch1(\"sorting_id\"),\n",
    "        \"curation_id\": 1,\n",
    "    }\n",
    ")\n",
    "key = {\n",
    "    \"sorting_id\": (\n",
    "        sgs.MetricCurationSelection\n",
    "        & {\"metric_curation_id\": key[\"metric_curation_id\"]}\n",
    "    ).fetch1(\"sorting_id\"),\n",
    "    \"curation_id\": 1,\n",
    "    \"curation_uri\": curation_uri,\n",
    "    \"metrics_figurl\": list(metrics.keys()),\n",
    "}\n",
    "sgs.FigURLCurationSelection()"
   ]
  },
  {
   "cell_type": "code",
   "execution_count": null,
   "id": "ecb9106b-8f92-4725-a68c-d5233453b3a4",
   "metadata": {},
   "outputs": [],
   "source": [
    "sgs.FigURLCurationSelection.insert_selection(key)\n",
    "sgs.FigURLCurationSelection()"
   ]
  },
  {
   "cell_type": "code",
   "execution_count": null,
   "id": "c3b029c6-8dc8-4af3-ad42-8a9443e70023",
   "metadata": {},
   "outputs": [],
   "source": [
    "sgs.FigURLCuration.populate()\n",
    "sgs.FigURLCuration()"
   ]
  },
  {
   "cell_type": "markdown",
   "id": "9ca0d48c-900b-4985-a27a-be1ff82616a4",
   "metadata": {},
   "source": [
    "or you can manually specify it if you already have a `curation.json`\n"
   ]
  },
  {
   "cell_type": "code",
   "execution_count": null,
   "id": "b2e9b018-9a8b-4344-9b8e-9e2141324bfa",
   "metadata": {},
   "outputs": [],
   "source": [
    "gh_curation_uri = (\n",
    "    \"gh://LorenFrankLab/sorting-curations/main/khl02007/test/curation.json\"\n",
    ")\n",
    "\n",
    "key = {\n",
    "    \"sorting_id\": key[\"sorting_id\"],\n",
    "    \"curation_id\": 1,\n",
    "    \"curation_uri\": gh_curation_uri,\n",
    "    \"metrics_figurl\": [],\n",
    "}\n",
    "sgs.FigURLCurationSelection.insert_selection(key)"
   ]
  },
  {
   "cell_type": "code",
   "execution_count": null,
   "id": "ad86c81e-1424-4fa2-a022-7cc0a3425fc0",
   "metadata": {},
   "outputs": [],
   "source": [
    "sgs.FigURLCuration.populate()\n",
    "sgs.FigURLCuration()"
   ]
  },
  {
   "cell_type": "markdown",
   "id": "6d68f93e-1586-4d3b-b680-0fe2115c0ab4",
   "metadata": {},
   "source": [
    "once you apply manual curation (curation labels and merge groups) you can store them as nwb by inserting another row in CurationV1. And then you can do more rounds of curation if you want.\n"
   ]
  },
  {
   "cell_type": "code",
   "execution_count": null,
   "id": "15694ca0-3ec1-49a8-9ac4-66cf6d6f49ee",
   "metadata": {},
   "outputs": [],
   "source": [
    "labels = sgs.FigURLCuration.get_labels(gh_curation_uri)\n",
    "merge_groups = sgs.FigURLCuration.get_merge_groups(gh_curation_uri)\n",
    "sgs.CurationV1.insert_curation(\n",
    "    sorting_id=key[\"sorting_id\"],\n",
    "    parent_curation_id=1,\n",
    "    labels=labels,\n",
    "    merge_groups=merge_groups,\n",
    "    metrics=metrics,\n",
    "    description=\"after figurl curation\",\n",
    ")"
   ]
  },
  {
   "cell_type": "code",
   "execution_count": null,
   "id": "1d40eb3a-34c5-4771-8fc0-730fafb5cb8a",
   "metadata": {},
   "outputs": [],
   "source": [
    "sgs.CurationV1()"
   ]
  },
  {
   "cell_type": "markdown",
   "id": "9ff6aff5-7020-40d6-832f-006d66d54a7e",
   "metadata": {},
   "source": [
    "## Downstream usage (Merge table)\n",
    "\n",
    "Regardless of Curation method used, to make use of spikeorting results in downstream pipelines like Decoding, we will need to insert it into the `SpikeSortingOutput` merge table. "
   ]
  },
  {
   "cell_type": "code",
   "execution_count": 30,
   "id": "511ecb19-7d8d-4db6-be71-c0ed66e2b0f2",
   "metadata": {},
   "outputs": [
    {
     "data": {
      "text/html": [
       "\n",
       "    \n",
       "    <style type=\"text/css\">\n",
       "        .Table{\n",
       "            border-collapse:collapse;\n",
       "        }\n",
       "        .Table th{\n",
       "            background: #A0A0A0; color: #ffffff; padding:4px; border:#f0e0e0 1px solid;\n",
       "            font-weight: normal; font-family: monospace; font-size: 100%;\n",
       "        }\n",
       "        .Table td{\n",
       "            padding:4px; border:#f0e0e0 1px solid; font-size:100%;\n",
       "        }\n",
       "        .Table tr:nth-child(odd){\n",
       "            background: #ffffff;\n",
       "            color: #000000;\n",
       "        }\n",
       "        .Table tr:nth-child(even){\n",
       "            background: #f3f1ff;\n",
       "            color: #000000;\n",
       "        }\n",
       "        /* Tooltip container */\n",
       "        .djtooltip {\n",
       "        }\n",
       "        /* Tooltip text */\n",
       "        .djtooltip .djtooltiptext {\n",
       "            visibility: hidden;\n",
       "            width: 120px;\n",
       "            background-color: black;\n",
       "            color: #fff;\n",
       "            text-align: center;\n",
       "            padding: 5px 0;\n",
       "            border-radius: 6px;\n",
       "            /* Position the tooltip text - see examples below! */\n",
       "            position: absolute;\n",
       "            z-index: 1;\n",
       "        }\n",
       "        #primary {\n",
       "            font-weight: bold;\n",
       "            color: black;\n",
       "        }\n",
       "        #nonprimary {\n",
       "            font-weight: normal;\n",
       "            color: white;\n",
       "        }\n",
       "\n",
       "        /* Show the tooltip text when you mouse over the tooltip container */\n",
       "        .djtooltip:hover .djtooltiptext {\n",
       "            visibility: visible;\n",
       "        }\n",
       "    </style>\n",
       "    \n",
       "    <b>Output of spike sorting pipelines.</b>\n",
       "        <div style=\"max-height:1000px;max-width:1500px;overflow:auto;\">\n",
       "        <table border=\"1\" class=\"Table\">\n",
       "            <thead> <tr style=\"text-align: right;\"> <th> <div class=\"djtooltip\">\n",
       "                            <p id=\"primary\">merge_id</p>\n",
       "                            <span class=\"djtooltiptext\"></span>\n",
       "                        </div></th><th><div class=\"djtooltip\">\n",
       "                            <p id=\"nonprimary\">source</p>\n",
       "                            <span class=\"djtooltiptext\"></span>\n",
       "                        </div> </th> </tr> </thead>\n",
       "            <tbody> <tr> <td>0001a1ab-7c2b-1085-2062-53c0338ffe22</td>\n",
       "<td>CuratedSpikeSorting</td></tr><tr><td>000c5d0b-1c4c-55d1-ccf6-5808f57152d3</td>\n",
       "<td>CuratedSpikeSorting</td></tr><tr><td>0015e01d-0dc0-ca2c-1f5c-2178fa2c7f1e</td>\n",
       "<td>CuratedSpikeSorting</td></tr><tr><td>001628b1-0af1-7c74-a211-0e5c158ba10f</td>\n",
       "<td>CuratedSpikeSorting</td></tr><tr><td>001783f0-c5da-98c2-5b2a-63f1334c0a43</td>\n",
       "<td>CuratedSpikeSorting</td></tr><tr><td>0020b039-6a2d-1d68-6585-4866fb7ea266</td>\n",
       "<td>CuratedSpikeSorting</td></tr><tr><td>002be77b-38a6-fff8-cb48-a81e20ccb51b</td>\n",
       "<td>CuratedSpikeSorting</td></tr><tr><td>002da11c-2d16-a6dc-0468-980674ca12b0</td>\n",
       "<td>CuratedSpikeSorting</td></tr><tr><td>003bf29a-fa09-05be-5cac-b7ea70a48c0c</td>\n",
       "<td>CuratedSpikeSorting</td></tr><tr><td>003cabf2-c471-972a-4b18-63d4ab7e1b8b</td>\n",
       "<td>CuratedSpikeSorting</td></tr><tr><td>004d99c6-1b2e-1696-fc85-e78ac5cc7e6b</td>\n",
       "<td>CuratedSpikeSorting</td></tr><tr><td>004faf9a-72cb-4416-ae13-3f85d538604f</td>\n",
       "<td>CuratedSpikeSorting</td> </tr> </tbody>\n",
       "        </table>\n",
       "        <p>...</p>\n",
       "        <p>Total: 8684</p></div>\n",
       "        "
      ],
      "text/plain": [
       "*merge_id      source        \n",
       "+------------+ +------------+\n",
       "0001a1ab-7c2b- CuratedSpikeSo\n",
       "000c5d0b-1c4c- CuratedSpikeSo\n",
       "0015e01d-0dc0- CuratedSpikeSo\n",
       "001628b1-0af1- CuratedSpikeSo\n",
       "001783f0-c5da- CuratedSpikeSo\n",
       "0020b039-6a2d- CuratedSpikeSo\n",
       "002be77b-38a6- CuratedSpikeSo\n",
       "002da11c-2d16- CuratedSpikeSo\n",
       "003bf29a-fa09- CuratedSpikeSo\n",
       "003cabf2-c471- CuratedSpikeSo\n",
       "004d99c6-1b2e- CuratedSpikeSo\n",
       "004faf9a-72cb- CuratedSpikeSo\n",
       "   ...\n",
       " (Total: 8684)"
      ]
     },
     "execution_count": 30,
     "metadata": {},
     "output_type": "execute_result"
    }
   ],
   "source": [
    "from spyglass.spikesorting.spikesorting_merge import SpikeSortingOutput\n",
    "\n",
    "SpikeSortingOutput()"
   ]
  },
  {
   "cell_type": "code",
   "execution_count": 52,
   "id": "b20c2c9e-0c97-4669-b45d-4b1c50fd2fcc",
   "metadata": {},
   "outputs": [
    {
     "name": "stdout",
     "output_type": "stream",
     "text": [
      "*merge_id      *source        *sorting_id    *curation_id   *nwb_file_name *sort_group_id *sort_interval *preproc_param *team_name    *sorter    *sorter_params *artifact_remo\n",
      "+------------+ +------------+ +------------+ +------------+ +------------+ +------------+ +------------+ +------------+ +-----------+ +--------+ +------------+ +------------+\n",
      "d76584f8-0969- CurationV1     03dc29a5-febe- 0              None           0              None           None           None          None       None           None          \n",
      "33d71671-63e5- CurationV1     090377fb-72b7- 0              None           0              None           None           None          None       None           None          \n",
      "dfa87e8e-c5cf- CurationV1     0cf93833-6a14- 0              None           0              None           None           None          None       None           None          \n",
      "a6cc0a23-7e29- CurationV1     110e27f6-5ffa- 0              None           0              None           None           None          None       None           None          \n",
      "7f8841a6-5e27- CurationV1     16cbb873-052f- 1              None           0              None           None           None          None       None           None          \n",
      "91e8e8d8-1568- CurationV1     21bea0ea-3084- 0              None           0              None           None           None          None       None           None          \n",
      "218c17c7-8a4c- CurationV1     21bea0ea-3084- 1              None           0              None           None           None          None       None           None          \n",
      "25823222-85ed- CurationV1     2484ee5d-0819- 0              None           0              None           None           None          None       None           None          \n",
      "5ae79d97-6a99- CurationV1     3046a016-1613- 0              None           0              None           None           None          None       None           None          \n",
      "869072e1-76d6- CurationV1     41a13836-e128- 0              None           0              None           None           None          None       None           None          \n",
      "a0771d6c-fc9d- CurationV1     4bc61e94-5bf9- 0              None           0              None           None           None          None       None           None          \n",
      "ed70dacb-a637- CurationV1     5d15f94e-d53d- 0              None           0              None           None           None          None       None           None          \n",
      "   ...\n",
      " (Total: 0)\n",
      "\n"
     ]
    }
   ],
   "source": [
    "# insert the automatic curation spikesorting results\n",
    "curation_key = sss_pk.fetch1(\"KEY\")\n",
    "curation_key[\"curation_id\"] = 1\n",
    "merge_insert_key = (sgs.CurationV1 & curation_key).fetch(\"KEY\", as_dict=True)\n",
    "SpikeSortingOutput.insert(merge_insert_key, part_name=\"CurationV1\")\n",
    "SpikeSortingOutput.merge_view()"
   ]
  },
  {
   "cell_type": "markdown",
   "id": "a8ab3ed2",
   "metadata": {},
   "source": [
    "Finding the merge id's corresponding to an interpretable restriction such as `merge_id` or `interval_list` can require several join steps with upstream tables.  To simplify this process we can use the included helper function `SpikeSortingOutput().get_restricted_merge_ids()` to perform the necessary joins and return the matching merge id's"
   ]
  },
  {
   "cell_type": "code",
   "execution_count": 6,
   "id": "3925b5de",
   "metadata": {},
   "outputs": [
    {
     "name": "stderr",
     "output_type": "stream",
     "text": [
      "[13:34:12][WARNING] Spyglass: V0 requires artifact restrict. Ignoring \"restrict_by_artifact\" flag.\n"
     ]
    },
    {
     "data": {
      "text/plain": [
       "[{'merge_id': UUID('74c006e8-dcfe-e994-7b40-73f8d9f75b85')}]"
      ]
     },
     "execution_count": 6,
     "metadata": {},
     "output_type": "execute_result"
    }
   ],
   "source": [
    "selection_key = {\n",
    "    \"nwb_file_name\": nwb_file_name2,\n",
    "    \"sorter\": \"mountainsort4\",\n",
    "    \"interval_list_name\": \"01_s1\",\n",
    "    \"curation_id\": 0,\n",
    "}  # this function can use restrictions from throughout the spikesorting pipeline\n",
    "spikesorting_merge_ids = SpikeSortingOutput().get_restricted_merge_ids(\n",
    "    selection_key, as_dict=True\n",
    ")\n",
    "spikesorting_merge_ids"
   ]
  },
  {
   "cell_type": "markdown",
   "id": "007fbb60",
   "metadata": {},
   "source": [
    "With the spikesorting merge_ids we want we can also use the method `get_sort_group_info` to get a table linking the merge id to the electrode group it is sourced from.  This can be helpful for restricting to just electrodes from a brain area of interest"
   ]
  },
  {
   "cell_type": "code",
   "execution_count": 60,
   "id": "696345db",
   "metadata": {},
   "outputs": [
    {
     "data": {
      "text/html": [
       "\n",
       "    \n",
       "    <style type=\"text/css\">\n",
       "        .Table{\n",
       "            border-collapse:collapse;\n",
       "        }\n",
       "        .Table th{\n",
       "            background: #A0A0A0; color: #ffffff; padding:4px; border:#f0e0e0 1px solid;\n",
       "            font-weight: normal; font-family: monospace; font-size: 100%;\n",
       "        }\n",
       "        .Table td{\n",
       "            padding:4px; border:#f0e0e0 1px solid; font-size:100%;\n",
       "        }\n",
       "        .Table tr:nth-child(odd){\n",
       "            background: #ffffff;\n",
       "            color: #000000;\n",
       "        }\n",
       "        .Table tr:nth-child(even){\n",
       "            background: #f3f1ff;\n",
       "            color: #000000;\n",
       "        }\n",
       "        /* Tooltip container */\n",
       "        .djtooltip {\n",
       "        }\n",
       "        /* Tooltip text */\n",
       "        .djtooltip .djtooltiptext {\n",
       "            visibility: hidden;\n",
       "            width: 120px;\n",
       "            background-color: black;\n",
       "            color: #fff;\n",
       "            text-align: center;\n",
       "            padding: 5px 0;\n",
       "            border-radius: 6px;\n",
       "            /* Position the tooltip text - see examples below! */\n",
       "            position: absolute;\n",
       "            z-index: 1;\n",
       "        }\n",
       "        #primary {\n",
       "            font-weight: bold;\n",
       "            color: black;\n",
       "        }\n",
       "        #nonprimary {\n",
       "            font-weight: normal;\n",
       "            color: white;\n",
       "        }\n",
       "\n",
       "        /* Show the tooltip text when you mouse over the tooltip container */\n",
       "        .djtooltip:hover .djtooltiptext {\n",
       "            visibility: visible;\n",
       "        }\n",
       "    </style>\n",
       "    \n",
       "    \n",
       "        <div style=\"max-height:1000px;max-width:1500px;overflow:auto;\">\n",
       "        <table border=\"1\" class=\"Table\">\n",
       "            <thead> <tr style=\"text-align: right;\"> <th> <div class=\"djtooltip\">\n",
       "                            <p id=\"primary\">merge_id</p>\n",
       "                            <span class=\"djtooltiptext\"></span>\n",
       "                        </div></th><th><div class=\"djtooltip\">\n",
       "                            <p id=\"primary\">nwb_file_name</p>\n",
       "                            <span class=\"djtooltiptext\">name of the NWB file</span>\n",
       "                        </div></th><th><div class=\"djtooltip\">\n",
       "                            <p id=\"primary\">electrode_group_name</p>\n",
       "                            <span class=\"djtooltiptext\">electrode group name from NWBFile</span>\n",
       "                        </div></th><th><div class=\"djtooltip\">\n",
       "                            <p id=\"primary\">electrode_id</p>\n",
       "                            <span class=\"djtooltiptext\">the unique number for this electrode</span>\n",
       "                        </div></th><th><div class=\"djtooltip\">\n",
       "                            <p id=\"primary\">curation_id</p>\n",
       "                            <span class=\"djtooltiptext\">a number correponding to the index of this curation</span>\n",
       "                        </div></th><th><div class=\"djtooltip\">\n",
       "                            <p id=\"primary\">sort_group_id</p>\n",
       "                            <span class=\"djtooltiptext\">identifier for a group of electrodes</span>\n",
       "                        </div></th><th><div class=\"djtooltip\">\n",
       "                            <p id=\"primary\">sort_interval_name</p>\n",
       "                            <span class=\"djtooltiptext\">name for this interval</span>\n",
       "                        </div></th><th><div class=\"djtooltip\">\n",
       "                            <p id=\"primary\">preproc_params_name</p>\n",
       "                            <span class=\"djtooltiptext\"></span>\n",
       "                        </div></th><th><div class=\"djtooltip\">\n",
       "                            <p id=\"primary\">team_name</p>\n",
       "                            <span class=\"djtooltiptext\"></span>\n",
       "                        </div></th><th><div class=\"djtooltip\">\n",
       "                            <p id=\"primary\">sorter</p>\n",
       "                            <span class=\"djtooltiptext\"></span>\n",
       "                        </div></th><th><div class=\"djtooltip\">\n",
       "                            <p id=\"primary\">sorter_params_name</p>\n",
       "                            <span class=\"djtooltiptext\"></span>\n",
       "                        </div></th><th><div class=\"djtooltip\">\n",
       "                            <p id=\"primary\">artifact_removed_interval_list_name</p>\n",
       "                            <span class=\"djtooltiptext\"></span>\n",
       "                        </div></th><th><div class=\"djtooltip\">\n",
       "                            <p id=\"primary\">region_id</p>\n",
       "                            <span class=\"djtooltiptext\"></span>\n",
       "                        </div></th><th><div class=\"djtooltip\">\n",
       "                            <p id=\"nonprimary\">probe_id</p>\n",
       "                            <span class=\"djtooltiptext\"></span>\n",
       "                        </div></th><th><div class=\"djtooltip\">\n",
       "                            <p id=\"nonprimary\">probe_shank</p>\n",
       "                            <span class=\"djtooltiptext\">shank number within probe</span>\n",
       "                        </div></th><th><div class=\"djtooltip\">\n",
       "                            <p id=\"nonprimary\">probe_electrode</p>\n",
       "                            <span class=\"djtooltiptext\">electrode</span>\n",
       "                        </div></th><th><div class=\"djtooltip\">\n",
       "                            <p id=\"nonprimary\">name</p>\n",
       "                            <span class=\"djtooltiptext\">unique label for each contact</span>\n",
       "                        </div></th><th><div class=\"djtooltip\">\n",
       "                            <p id=\"nonprimary\">original_reference_electrode</p>\n",
       "                            <span class=\"djtooltiptext\">the configured reference electrode for this electrode</span>\n",
       "                        </div></th><th><div class=\"djtooltip\">\n",
       "                            <p id=\"nonprimary\">x</p>\n",
       "                            <span class=\"djtooltiptext\">the x coordinate of the electrode position in the brain</span>\n",
       "                        </div></th><th><div class=\"djtooltip\">\n",
       "                            <p id=\"nonprimary\">y</p>\n",
       "                            <span class=\"djtooltiptext\">the y coordinate of the electrode position in the brain</span>\n",
       "                        </div></th><th><div class=\"djtooltip\">\n",
       "                            <p id=\"nonprimary\">z</p>\n",
       "                            <span class=\"djtooltiptext\">the z coordinate of the electrode position in the brain</span>\n",
       "                        </div></th><th><div class=\"djtooltip\">\n",
       "                            <p id=\"nonprimary\">filtering</p>\n",
       "                            <span class=\"djtooltiptext\">description of the signal filtering</span>\n",
       "                        </div></th><th><div class=\"djtooltip\">\n",
       "                            <p id=\"nonprimary\">impedance</p>\n",
       "                            <span class=\"djtooltiptext\">electrode impedance</span>\n",
       "                        </div></th><th><div class=\"djtooltip\">\n",
       "                            <p id=\"nonprimary\">bad_channel</p>\n",
       "                            <span class=\"djtooltiptext\">if electrode is \"good\" or \"bad\" as observed during recording</span>\n",
       "                        </div></th><th><div class=\"djtooltip\">\n",
       "                            <p id=\"nonprimary\">x_warped</p>\n",
       "                            <span class=\"djtooltiptext\">x coordinate of electrode position warped to common template brain</span>\n",
       "                        </div></th><th><div class=\"djtooltip\">\n",
       "                            <p id=\"nonprimary\">y_warped</p>\n",
       "                            <span class=\"djtooltiptext\">y coordinate of electrode position warped to common template brain</span>\n",
       "                        </div></th><th><div class=\"djtooltip\">\n",
       "                            <p id=\"nonprimary\">z_warped</p>\n",
       "                            <span class=\"djtooltiptext\">z coordinate of electrode position warped to common template brain</span>\n",
       "                        </div></th><th><div class=\"djtooltip\">\n",
       "                            <p id=\"nonprimary\">contacts</p>\n",
       "                            <span class=\"djtooltiptext\">label of electrode contacts used for a bipolar signal - current workaround</span>\n",
       "                        </div></th><th><div class=\"djtooltip\">\n",
       "                            <p id=\"nonprimary\">analysis_file_name</p>\n",
       "                            <span class=\"djtooltiptext\">name of the file</span>\n",
       "                        </div></th><th><div class=\"djtooltip\">\n",
       "                            <p id=\"nonprimary\">units_object_id</p>\n",
       "                            <span class=\"djtooltiptext\"></span>\n",
       "                        </div></th><th><div class=\"djtooltip\">\n",
       "                            <p id=\"nonprimary\">region_name</p>\n",
       "                            <span class=\"djtooltiptext\">the name of the brain region</span>\n",
       "                        </div></th><th><div class=\"djtooltip\">\n",
       "                            <p id=\"nonprimary\">subregion_name</p>\n",
       "                            <span class=\"djtooltiptext\">subregion name</span>\n",
       "                        </div></th><th><div class=\"djtooltip\">\n",
       "                            <p id=\"nonprimary\">subsubregion_name</p>\n",
       "                            <span class=\"djtooltiptext\">subregion within subregion</span>\n",
       "                        </div> </th> </tr> </thead>\n",
       "            <tbody> <tr> <td>662f3e35-c81e-546c-69c3-b3a2f5ed2776</td>\n",
       "<td>minirec20230622_.nwb</td>\n",
       "<td>0</td>\n",
       "<td>0</td>\n",
       "<td>1</td>\n",
       "<td>0</td>\n",
       "<td>01_s1_first9</td>\n",
       "<td>default_hippocampus</td>\n",
       "<td>My Team</td>\n",
       "<td>mountainsort4</td>\n",
       "<td>hippocampus_tutorial</td>\n",
       "<td>minirec20230622_.nwb_01_s1_first9_0_default_hippocampus_none_artifact_removed_valid_times</td>\n",
       "<td>35</td>\n",
       "<td>tetrode_12.5</td>\n",
       "<td>0</td>\n",
       "<td>0</td>\n",
       "<td>0</td>\n",
       "<td>0</td>\n",
       "<td>0.0</td>\n",
       "<td>0.0</td>\n",
       "<td>0.0</td>\n",
       "<td>None</td>\n",
       "<td>0.0</td>\n",
       "<td>False</td>\n",
       "<td>0.0</td>\n",
       "<td>0.0</td>\n",
       "<td>0.0</td>\n",
       "<td></td>\n",
       "<td>minirec20230622_RXRSAFCGVJ.nwb</td>\n",
       "<td></td>\n",
       "<td>corpus callosum and associated subcortical white matter (cc-ec-cing-dwm)</td>\n",
       "<td>None</td>\n",
       "<td>None</td> </tr> </tbody>\n",
       "        </table>\n",
       "        \n",
       "        <p>Total: 1</p></div>\n",
       "        "
      ],
      "text/plain": [
       "*merge_id      *nwb_file_name *electrode_gro *electrode_id  *curation_id   *sort_group_id *sort_interval *preproc_param *team_name    *sorter        *sorter_params *artifact_remo *region_id    probe_id       probe_shank    probe_electrod name     original_refer x       y       z       filtering     impedance     bad_channel    x_warped     y_warped     z_warped     contacts     analysis_file_ units_object_i region_name    subregion_name subsubregion_n\n",
       "+------------+ +------------+ +------------+ +------------+ +------------+ +------------+ +------------+ +------------+ +-----------+ +------------+ +------------+ +------------+ +-----------+ +------------+ +------------+ +------------+ +------+ +------------+ +-----+ +-----+ +-----+ +-----------+ +-----------+ +------------+ +----------+ +----------+ +----------+ +----------+ +------------+ +------------+ +------------+ +------------+ +------------+\n",
       "662f3e35-c81e- minirec2023062 0              0              1              0              01_s1_first9   default_hippoc My Team       mountainsort4  hippocampus_tu minirec2023062 35            tetrode_12.5   0              0              0        0              0.0     0.0     0.0     None          0.0           False          0.0          0.0          0.0                       minirec2023062                corpus callosu None           None          \n",
       " (Total: 1)"
      ]
     },
     "execution_count": 60,
     "metadata": {},
     "output_type": "execute_result"
    }
   ],
   "source": [
    "merge_keys = [{\"merge_id\": str(id)} for id in spikesorting_merge_ids]\n",
    "SpikeSortingOutput().get_sort_group_info(merge_keys)"
   ]
  }
 ],
 "metadata": {
  "kernelspec": {
   "display_name": "spyglass",
   "language": "python",
   "name": "python3"
  },
  "language_info": {
   "codemirror_mode": {
    "name": "ipython",
    "version": 3
   },
   "file_extension": ".py",
   "mimetype": "text/x-python",
   "name": "python",
   "nbconvert_exporter": "python",
   "pygments_lexer": "ipython3",
   "version": "3.9.16"
  }
 },
 "nbformat": 4,
 "nbformat_minor": 5
}
